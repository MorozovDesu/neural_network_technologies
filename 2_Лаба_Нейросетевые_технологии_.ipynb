{
  "cells": [
    {
      "cell_type": "markdown",
      "metadata": {
        "id": "view-in-github",
        "colab_type": "text"
      },
      "source": [
        "<a href=\"https://colab.research.google.com/github/MorozovDesu/neural_network_technologies/blob/main/2_%D0%9B%D0%B0%D0%B1%D0%B0_%D0%9D%D0%B5%D0%B9%D1%80%D0%BE%D1%81%D0%B5%D1%82%D0%B5%D0%B2%D1%8B%D0%B5_%D1%82%D0%B5%D1%85%D0%BD%D0%BE%D0%BB%D0%BE%D0%B3%D0%B8%D0%B8_.ipynb\" target=\"_parent\"><img src=\"https://colab.research.google.com/assets/colab-badge.svg\" alt=\"Open In Colab\"/></a>"
      ]
    },
    {
      "cell_type": "code",
      "execution_count": 67,
      "metadata": {
        "id": "Bca8tubdkkFG"
      },
      "outputs": [],
      "source": [
        "import sys\n",
        "import seaborn as sns\n",
        "import numpy as np\n",
        "np.set_printoptions(threshold=sys.maxsize)\n",
        "import pandas as pd\n",
        "import os\n",
        "import h5py\n",
        "import PIL\n",
        "import cv2\n",
        "import tensorflow as tf\n",
        "import tensorflow.keras as keras\n",
        "\n",
        "from PIL import Image\n",
        "\n",
        "from sklearn.model_selection import train_test_split\n",
        "from sklearn.metrics import accuracy_score, confusion_matrix\n",
        "\n",
        "from tensorflow.keras.preprocessing import image\n",
        "from tensorflow.keras.optimizers import RMSprop\n",
        "from tensorflow.keras.callbacks import ReduceLROnPlateau\n",
        "from tensorflow.keras.callbacks import EarlyStopping\n",
        "from tensorflow.keras.callbacks import ModelCheckpoint\n",
        "from tensorflow.keras.models import load_model\n",
        "\n",
        "from tensorflow.keras.models import Sequential\n",
        "from tensorflow.keras.layers import Dense, Conv2D, Flatten, Dropout, MaxPooling2D\n",
        "from tensorflow.keras.preprocessing.image import ImageDataGenerator\n",
        "\n",
        "import matplotlib.pylab as plt\n",
        "from matplotlib import cm\n",
        "%matplotlib inline\n",
        "import matplotlib.pylab as pylab\n",
        "pylab.rcParams[\"figure.figsize\"] = (14,8)"
      ]
    },
    {
      "cell_type": "markdown",
      "metadata": {
        "id": "-CXIh6Ze4d71"
      },
      "source": [
        "#Создание многослойной сети для работы с датасетом"
      ]
    },
    {
      "cell_type": "code",
      "execution_count": 68,
      "metadata": {
        "id": "cityK9CivlKj"
      },
      "outputs": [],
      "source": [
        "class Network(object): # используется для описания нейронной сети\n",
        "    def __init__(self, sizes): # конструктор класса\n",
        "# self – указатель на объект класса\n",
        "# sizes – список размеров слоев нейронной сети\n",
        "        self.num_layers = len(sizes) # задаем количество слоев нейронной сети\n",
        "        self.sizes = sizes # задаем список размеров слоев нейронной сети\n",
        "        self.biases = [np.random.randn(y, 1) for y in sizes[1:]] # задаем случайные начальные смещения\n",
        "        self.weights = [np.random.randn(y, x) for x, y in zip(sizes[:-1], sizes[1:])] # задаем случайные начальные веса связей\n",
        "\n",
        "    def sigmoid(self,z): # определение сигмоидальной функции активации\n",
        "        return 1.0/(1.0+np.exp(-z))\n",
        "\n",
        "    def feedforward(self, a):\n",
        "        for b, w in zip(self.biases, self.weights):\n",
        "            a = self.sigmoid(np.dot(w, a)+b)\n",
        "        return a\n",
        "\n",
        "    def SGD( # Стохастический градиентный спуск\n",
        "        self # указатель на объект класса\n",
        "        , training_data # обучающая выборка\n",
        "        , epochs # количество эпох обучения\n",
        "        , mini_batch_size # размер подвыборки\n",
        "        , eta # скорость обучения\n",
        "        , test_data # тестирующая выборка\n",
        "        ):\n",
        "        test_data = list(test_data) # создаем список объектов тестирующей выборки\n",
        "        n_test = len(test_data) # вычисляем длину тестирующей выборки\n",
        "        training_data = list(training_data) # создаем список объектов обучающей выборки\n",
        "        n = len(training_data) # вычисляем размер обучающей выборки\n",
        "        for j in range(epochs): # цикл по эпохам\n",
        "            random.shuffle(training_data) # перемешиваем элементы обучающей выборки\n",
        "            mini_batches = [training_data[k:k+mini_batch_size] for k in range(0, n, mini_batch_size)] # создаем подвыборки\n",
        "            for mini_batch in mini_batches: # цикл по подвыборкам\n",
        "              #print(len(mini_batch[0][0]))\n",
        "              self.update_mini_batch(mini_batch, eta) # один шаг градиентного спуска\n",
        "            print (\"Epoch {0}: {1} / {2}\".format(j, self.evaluate(test_data), n_test)) # смотрим прогресс в обучении\n",
        "\n",
        "    def update_mini_batch( # Шаг градиентного спуска\n",
        "        self # указатель на объект класса\n",
        "        , mini_batch # подвыборка\n",
        "        , eta # скорость обучения\n",
        "        ):\n",
        "        nabla_b = [np.zeros(b.shape) for b in self.biases] # список градиентов dC/db для каждого слоя (первоначально заполняются нулями)\n",
        "        nabla_w = [np.zeros(w.shape) for w in self.weights] # список градиентов dC/dw для каждого слоя (первоначально заполняются нулями)\n",
        "        for x, y in mini_batch:\n",
        "            delta_nabla_b, delta_nabla_w = self.backprop(x, y) # послойно вычисляем градиенты dC/db и dC/dw для текущего прецедента (x, y)\n",
        "            nabla_b = [nb+dnb for nb, dnb in zip(nabla_b, delta_nabla_b)] # суммируем градиенты dC/db для различных прецедентов текущей подвыборки\n",
        "            nabla_w = [nw+dnw for nw, dnw in zip(nabla_w, delta_nabla_w)] # суммируем градиенты dC/dw для различных прецедентов текущей подвыборки\n",
        "        self.weights = [w-(eta/len(mini_batch))*nw for w, nw in zip(self.weights, nabla_w)] # обновляем все веса w нейронной сети\n",
        "        self.biases = [b-(eta/len(mini_batch))*nb for b, nb in zip(self.biases, nabla_b)] # обновляем все смещения b нейронной сети\n",
        "\n",
        "    def backprop( # Алгоритм обратного распространения\n",
        "        self # указатель на объект класса\n",
        "      ,x # вектор входных сигналов ,\n",
        "      ,y # ожидаемый вектор выходных сигналов\n",
        "      ):\n",
        "        nabla_b = [np.zeros(b.shape) for b in self.biases] # список градиентов dC/db для каждого слоя (первоначально заполняются нулями)\n",
        "        nabla_w = [np.zeros(w.shape) for w in self.weights] # список градиентов dC/dw для каждого слоя (первоначально заполняются нулями)\n",
        "        # определение переменных\n",
        "        activation = x # выходные сигналы слоя (первоначально соответствует выходным сигналам 1-го слоя или входным сигналам сети)\n",
        "        activations = [x] # список выходных сигналов по всем слоям (первоначально содержит только выходные сигналы 1-го слоя)\n",
        "        zs = [] # список активационных потенциалов по всем слоям (первоначально пуст)\n",
        "        # прямое распространение\n",
        "        for b, w in zip(self.biases, self.weights):\n",
        "            z = np.dot(w, activation)+b # считаем активационные потенциалы текущего слоя\n",
        "            zs.append(z) # добавляем элемент (активационные потенциалы слоя) в конец списка\n",
        "            activation = self.sigmoid(z) # считаем выходные сигналы текущего слоя, применяя сигмоидальную функцию активации к активационным потенциалам слоя\n",
        "            activations.append(activation) # добавляем элемент (выходные сигналы слоя) в конец списка\n",
        "  # обратное распространение\n",
        "        delta = self.cost_derivative(activations[-1], y) * self.sigmoid_prime(zs[-1]) # считаем меру влияния нейронов выходного слоя L на величину ошибки (BP1)\n",
        "        nabla_b[-1] = delta # градиент dC/db для слоя L (BP3)\n",
        "        nabla_w[-1] = np.dot(delta, activations[-2].transpose()) # градиент dC/dw для слоя L (BP4)\n",
        "        for l in range(2, self.num_layers):\n",
        "          z = zs[-l] # активационные потенциалы l-го слоя (двигаемся по списку справа налево)\n",
        "          sp = self.sigmoid_prime(z) # считаем сигмоидальную функцию от активационных потенциалов l-го слоя\n",
        "          delta = np.dot(self.weights[-l+1].transpose(), delta) * sp # считаем меру влияния нейронов l-го слоя на величину ошибки (BP2)\n",
        "          nabla_b[-l] = delta # градиент dC/db для l-го слоя (BP3)\n",
        "          nabla_w[-l] = np.dot(delta, activations[-l-1].transpose())# градиент dC/dw для l-го слоя (BP4)\n",
        "        return (nabla_b, nabla_w)\n",
        "\n",
        "    def evaluate(self, test_data): # Оценка прогресса в обучении\n",
        "        test_results = [(np.argmax(self.feedforward(x)), y) for (x, y) in test_data]\n",
        "        return sum(int(x == y) for (x, y) in test_results)\n",
        "\n",
        "    def cost_derivative(self, output_activations, y): # Вычисление частных производных стоимостной функции по выходным сигналам последнего слоя\n",
        "      return (output_activations-y)\n",
        "\n",
        "    def sigmoid_prime(self,z):# Производная сигмоидальной функции\n",
        "      return self.sigmoid(z)*(1-self.sigmoid(z))\n"
      ]
    },
    {
      "cell_type": "code",
      "execution_count": 69,
      "metadata": {
        "colab": {
          "base_uri": "https://localhost:8080/"
        },
        "id": "EeDJyj1rv3BP",
        "outputId": "0c767381-284a-4fd1-c451-dd25c5184a9b"
      },
      "outputs": [
        {
          "output_type": "execute_result",
          "data": {
            "text/plain": [
              "14190"
            ]
          },
          "metadata": {},
          "execution_count": 69
        }
      ],
      "source": [
        "input_folder = 'drive/MyDrive/archive/all_letters_image/all_letters_image/'\n",
        "all_letters_filename = os.listdir(input_folder)\n",
        "len(all_letters_filename)"
      ]
    },
    {
      "cell_type": "code",
      "execution_count": 70,
      "metadata": {
        "colab": {
          "base_uri": "https://localhost:8080/",
          "height": 49
        },
        "id": "J2rcRj7Oa9q6",
        "outputId": "75637f25-a9a7-4536-dd14-8c97b1871b8f"
      },
      "outputs": [
        {
          "output_type": "execute_result",
          "data": {
            "text/plain": [
              "<PIL.PngImagePlugin.PngImageFile image mode=RGBA size=32x32>"
            ],
            "image/png": "[encoded data removed]"
          },
          "metadata": {},
          "execution_count": 70
        }
      ],
      "source": [
        "#Это одно из наших изображений. Размер каждого изображения составляет 32 на 32 пикселя.\n",
        "#Затем мы преобразуем каждое изображение в 3d-массив numpy.\n",
        "i = Image.open(\"drive/MyDrive/archive/all_letters_image/all_letters_image/20_102.png\")\n",
        "i"
      ]
    },
    {
      "cell_type": "code",
      "execution_count": 71,
      "metadata": {
        "id": "vOD7rNubbUWn"
      },
      "outputs": [],
      "source": [
        "i_arr = np.array(i)\n",
        "# i_arr\n",
        "# Все 32 матрицы внутри этого массива представляют собой одно изображение.\n",
        "# Каждая матрица представляет собой 1 строку этого изображения.\n",
        "# Длина одной строки изображения составляет 32 пикселя, поэтому каждая матрица имеет 32 строки.\n",
        "# Каждая строка матрицы имеет 4 столбца и представляет собой 1 пиксель. Для этого пикселя каждый столбец представляет собой значения цвета - насколько он красный, зеленый и синий - плюс непрозрачность цветов (последний столбец).\n",
        "# Поэтому каждая матрица имеет размер 32 на 4. Общее количество пикселей в одном изображении составляет 32 * 32 = 1024.\n",
        "\n",
        "# Каждое значение цвета находится в диапазоне [0:255].\n",
        "# Это означает, что для каждого цвета существует 256 оттенков. В сумме все комбинации этих цветов дают нам 256ˆ3 = 16 777 216 возможных цветов.\n",
        "\n"
      ]
    },
    {
      "cell_type": "code",
      "execution_count": 72,
      "metadata": {
        "id": "0BKFVqtxbyNI"
      },
      "outputs": [],
      "source": [
        "from keras.preprocessing import image\n",
        "import numpy as np\n",
        "\n",
        "# Функция для преобразования изображения в тензор\n",
        "# Параметры:\n",
        "# - img_name: Имя файла изображения\n",
        "# - input_folder: Путь к папке, где находится изображение\n",
        "# Возвращает:\n",
        "# - Тензорное представление изображения\n",
        "def img_to_array(img_name, input_folder):\n",
        "    # Загрузка изображения из указанной папки и изменение его размера до 32x32 пикселей\n",
        "    img = image.load_img(input_folder + img_name, target_size=(32, 32))\n",
        "\n",
        "    # Преобразование изображения в массив NumPy\n",
        "    x = image.img_to_array(img)\n",
        "\n",
        "    # Расширение размерности массива для подготовки его к обработке нейронной сетью\n",
        "    return np.expand_dims(x, axis=0)\n",
        "\n",
        "# Функция для преобразования списка имен изображений в тензор\n",
        "# Параметры:\n",
        "# - img_names: Список имен файлов изображений\n",
        "# - input_folder: Путь к папке, где находятся изображения\n",
        "# Возвращает:\n",
        "# - Массив NumPy, содержащий тензоры всех изображений из списка\n",
        "def data_to_tensor(img_names, input_folder):\n",
        "    # Создание списка тензоров путем применения функции img_to_array к каждому имени изображения\n",
        "    list_of_tensors = [img_to_array(img_name, input_folder) for img_name in img_names]\n",
        "\n",
        "    # Стекирование отдельных тензоров вертикально для создания одного массива NumPy\n",
        "    return np.vstack(list_of_tensors)\n"
      ]
    },
    {
      "cell_type": "code",
      "execution_count": 73,
      "metadata": {
        "id": "00BocQQzceSU"
      },
      "outputs": [],
      "source": [
        "# Загрузка данных из CSV-файла в переменную \"data\"\n",
        "data = pd.read_csv(\"drive/MyDrive/archive/all_letters_info.csv\")\n",
        "# Извлечение имен файлов изображений из столбца \"file\"\n",
        "image_names = data['file']\n",
        "letters = data[ 'letter']\n",
        "backgrounds = data['background'].values\n",
        "targets = data['label'].values\n",
        "tensors = data_to_tensor(image_names, input_folder)\n",
        "# tensors[0]\n"
      ]
    },
    {
      "cell_type": "code",
      "execution_count": 74,
      "metadata": {
        "colab": {
          "base_uri": "https://localhost:8080/"
        },
        "id": "i3skQmT0czqP",
        "outputId": "7c0297c2-66f4-4966-d593-e08fe0ee5059"
      },
      "outputs": [
        {
          "output_type": "stream",
          "name": "stdout",
          "text": [
            "Форма тензоров: (14190, 32, 32, 3)\n",
            "Форма меток (целевых значений): (14190,)\n"
          ]
        }
      ],
      "source": [
        "# Вывод размера (формы) массива тензоров\n",
        "print('Форма тензоров:', tensors.shape)\n",
        "# Вывод размера (формы) массива меток (целевых значений)\n",
        "print('Форма меток (целевых значений):', targets.shape)"
      ]
    },
    {
      "cell_type": "code",
      "execution_count": 75,
      "metadata": {
        "colab": {
          "base_uri": "https://localhost:8080/",
          "height": 367
        },
        "id": "XRXTtoOKdECI",
        "outputId": "9d432fa2-0604-4bf8-98ab-4e153cbe478d"
      },
      "outputs": [
        {
          "output_type": "display_data",
          "data": {
            "text/plain": [
              "<Figure size 1600x400 with 12 Axes>"
            ],
            "image/png": "[encoded data removed]"
          },
          "metadata": {}
        }
      ],
      "source": [
        "# Функция для отображения изображений из файлов с использованием OpenCV\n",
        "# Параметры:\n",
        "# - img_path: Путь к файлу изображения\n",
        "# - ax: Объект для отображения изображения (область на графике)\n",
        "def display_images(img_path, ax):\n",
        "    # Загрузка изображения из указанного пути\n",
        "    img = cv2.imread(input_folder + img_path)\n",
        "\n",
        "    # Отображение изображения, преобразовав его из формата BGR в RGB\n",
        "    ax.imshow(cv2.cvtColor(img, cv2.COLOR_BGR2RGB))\n",
        "\n",
        "# Создание графического окна с определенными размерами\n",
        "fig = plt.figure(figsize=(16, 4))\n",
        "\n",
        "# Цикл для отображения 12 изображений\n",
        "for i in range(12):\n",
        "    # Создание области для каждого изображения внутри графического окна\n",
        "    ax = fig.add_subplot(2, 6, i + 1, xticks=[], yticks=[], title=letters[i * 50])\n",
        "\n",
        "    # Вызов функции для отображения изображения с указанным именем файла и заданной областью (ax)\n",
        "    display_images(image_names[i * 50], ax)"
      ]
    },
    {
      "cell_type": "code",
      "execution_count": 76,
      "metadata": {
        "colab": {
          "base_uri": "https://localhost:8080/",
          "height": 681
        },
        "id": "eccsqbKSdne-",
        "outputId": "332ee785-14d8-477c-8684-cd0034cc8234"
      },
      "outputs": [
        {
          "output_type": "display_data",
          "data": {
            "text/plain": [
              "<Figure size 1400x800 with 1 Axes>"
            ],
            "image/png": "[encoded data removed]"
          },
          "metadata": {}
        }
      ],
      "source": [
        "# Создание графика countplot\n",
        "sns.set(style=\"darkgrid\")\n",
        "ax = sns.countplot(x=targets)\n",
        "\n",
        "# Отображение графика\n",
        "plt.show()"
      ]
    },
    {
      "cell_type": "code",
      "execution_count": 77,
      "metadata": {
        "id": "htCaopw9dtoU"
      },
      "outputs": [],
      "source": [
        "# Классы идеально сбалансированы, что очень важно для классификационной модели.\n",
        "# Если классы несбалансированы, то модель будет пытаться максимизировать точность\n",
        "# для большинства классов, оставляя без внимания другие классы, что приведет к менее точным прогнозам для меньшинств."
      ]
    },
    {
      "cell_type": "code",
      "execution_count": 78,
      "metadata": {
        "id": "m0nKikWRvl-g"
      },
      "outputs": [],
      "source": [
        "# Нормализация\n",
        "# Для уменьшения влияния перепадов освещенности мы проводим нормализацию.\n",
        "X = tensors.astype(\"float32\")/255\n",
        "# Кроме того, CNN быстрее сходится на данных [0...1], чем на [0...255]. Преобразуем входные данные к типу float, а затем разделим на 255 (максимальная яркость для каждого цвета)."
      ]
    },
    {
      "cell_type": "code",
      "execution_count": 79,
      "metadata": {
        "colab": {
          "base_uri": "https://localhost:8080/",
          "height": 681
        },
        "id": "7lrawJzWvtOd",
        "outputId": "0f8e697a-eca0-4870-8031-e5ce1d9288c7"
      },
      "outputs": [
        {
          "output_type": "display_data",
          "data": {
            "text/plain": [
              "<Figure size 1400x800 with 1 Axes>"
            ],
            "image/png": "[encoded data removed]"
          },
          "metadata": {}
        }
      ],
      "source": [
        "arr = X[2]\n",
        "arr_ = np.squeeze(arr)\n",
        "plt.imshow(arr_)\n",
        "plt.show()"
      ]
    },
    {
      "cell_type": "code",
      "execution_count": 80,
      "metadata": {
        "colab": {
          "base_uri": "https://localhost:8080/"
        },
        "id": "iOg3NqZavwsr",
        "outputId": "0a2637e5-e34f-4bb4-ba63-58de94e28091"
      },
      "outputs": [
        {
          "output_type": "execute_result",
          "data": {
            "text/plain": [
              "1"
            ]
          },
          "metadata": {},
          "execution_count": 80
        }
      ],
      "source": [
        "targets[0]"
      ]
    },
    {
      "cell_type": "code",
      "execution_count": 81,
      "metadata": {
        "id": "bkmURolRvzod"
      },
      "outputs": [],
      "source": [
        "y = targets\n",
        "\n",
        "img_rows, img_cols = 32, 32 # потому что наши картинки имеют размер 32 на 32 пикселя\n",
        "num_classes = 33 # потому что в русинском алфавите 33 буквы\n",
        "\n",
        "y = keras.utils.to_categorical(y-1, num_classes) # targets-1, потому что наш список начинается с 1, а не с 0, как ожидает keras"
      ]
    },
    {
      "cell_type": "code",
      "execution_count": 82,
      "metadata": {
        "colab": {
          "base_uri": "https://localhost:8080/"
        },
        "id": "oQQA1ng73OYB",
        "outputId": "7beee84a-ce9a-4c58-85df-6ffc8a63ebd4"
      },
      "outputs": [
        {
          "output_type": "stream",
          "name": "stdout",
          "text": [
            "(14190, 32, 32, 3)\n",
            "(14190, 33)\n"
          ]
        }
      ],
      "source": [
        "print(X.shape)\n",
        "print(y.shape)"
      ]
    },
    {
      "cell_type": "code",
      "execution_count": 83,
      "metadata": {
        "id": "np7h33OY3YVn"
      },
      "outputs": [],
      "source": [
        "def captch_ex(file_name):\n",
        "    img = cv2.imread(file_name)\n",
        "    img_final = cv2.imread(file_name)\n",
        "    img2gray = cv2.cvtColor(img, cv2.COLOR_BGR2GRAY)\n",
        "    ret, mask = cv2.threshold(img2gray, 180, 255, cv2.THRESH_BINARY)\n",
        "    image_final = cv2.bitwise_and(img2gray, img2gray, mask=mask)\n",
        "    ret, new_img = cv2.threshold(image_final, 180, 255, cv2.THRESH_BINARY)  # for black text , cv.THRESH_BINARY_INV\n",
        "\n",
        "    '''\n",
        "            line  8 to 12  : Remove noisy portion\n",
        "    '''\n",
        "    kernel = cv2.getStructuringElement(cv2.MORPH_CROSS, (3,\n",
        "                                                         3))  # to manipulate the orientation of dilution , large x means horizonatally dilating  more, large y means vertically dilating more\n",
        "    dilated = cv2.dilate(new_img, kernel, iterations=9)  # dilate , more the iteration more the dilation\n",
        "\n",
        "    # for cv2.x.x\n",
        "\n",
        "    contours, hierarchy = cv2.findContours(new_img, cv2.RETR_EXTERNAL, cv2.CHAIN_APPROX_NONE)  # findContours returns 3 variables for getting contours\n",
        "\n",
        "    for contour in contours:\n",
        "        # get rectangle bounding contour\n",
        "        [x, y, w, h] = cv2.boundingRect(contour)\n",
        "\n",
        "        # Don't plot small false positives that aren't text\n",
        "        if w < 35 and h < 35:\n",
        "            continue\n",
        "\n",
        "        # draw rectangle around contour on original image\n",
        "        cv2.rectangle(img, (x, y), (x + w, y + h), (255, 0, 255), 2)\n",
        "\n",
        "        '''\n",
        "        #you can crop image and send to OCR  , false detected will return no text :)\n",
        "        cropped = img_final[y :y +  h , x : x + w]\n",
        "\n",
        "        s = file_name + '/crop_' + str(index) + '.png'\n",
        "        cv2.imwrite(s , cropped)\n",
        "        index = index + 1\n",
        "\n",
        "        '''\n",
        "    # write original image with added contours to disk\n",
        "    cv2.imshow('captcha_result', img)\n",
        "    cv2.waitKey()"
      ]
    },
    {
      "cell_type": "code",
      "execution_count": 84,
      "metadata": {
        "id": "Ke0iZ8gl3Z7B"
      },
      "outputs": [],
      "source": [
        "file_name = 'drive/MyDrive/archive/all_letters_image/all_letters_image/04_100.png'\n",
        "# captch_ex(file_name)"
      ]
    },
    {
      "cell_type": "code",
      "execution_count": 85,
      "metadata": {
        "colab": {
          "base_uri": "https://localhost:8080/"
        },
        "id": "IFutMioy33eQ",
        "outputId": "786552a2-d867-4ce2-f785-568fce079895"
      },
      "outputs": [
        {
          "output_type": "stream",
          "name": "stdout",
          "text": [
            "Grayscaled Tensor shape: (14190, 32, 32)\n"
          ]
        }
      ],
      "source": [
        "# Grayscaled tensors\n",
        "X_grey = np.dot(X[...,:3], [0.299, 0.587, 0.114])\n",
        "# X_grey = tf.expand_dims(X_grey, axis=3)\n",
        "print ('Grayscaled Tensor shape:', X_grey.shape)"
      ]
    },
    {
      "cell_type": "code",
      "execution_count": 86,
      "metadata": {
        "colab": {
          "base_uri": "https://localhost:8080/",
          "height": 699
        },
        "id": "B8plGytP355m",
        "outputId": "4dfd6783-36c9-4b3b-b32f-696567fe9528"
      },
      "outputs": [
        {
          "output_type": "execute_result",
          "data": {
            "text/plain": [
              "<matplotlib.image.AxesImage at 0x7def16d3b760>"
            ]
          },
          "metadata": {},
          "execution_count": 86
        },
        {
          "output_type": "display_data",
          "data": {
            "text/plain": [
              "<Figure size 1400x800 with 1 Axes>"
            ],
            "image/png": "[encoded data removed]"
          },
          "metadata": {}
        }
      ],
      "source": [
        "plt.imshow(X_grey[3], cmap=plt.get_cmap(\"gray\"))"
      ]
    },
    {
      "cell_type": "code",
      "execution_count": 87,
      "metadata": {
        "id": "wvQIw2hK3-9k"
      },
      "outputs": [],
      "source": [
        "# Split the data into train, validation and test sets.\n",
        "\n",
        "X_train_whole, X_test, y_train_whole, y_test = train_test_split(X, y, test_size=0.1, random_state=1)\n",
        "\n",
        "X_train, X_val, y_train, y_val = train_test_split(X_train_whole, y_train_whole, test_size=0.1, random_state=1)"
      ]
    },
    {
      "cell_type": "code",
      "execution_count": 88,
      "metadata": {
        "id": "MRl5ueKy4kOw"
      },
      "outputs": [],
      "source": [
        "datagen = ImageDataGenerator(\n",
        "        featurewise_center=False,  # set input mean to 0 over the dataset\n",
        "        samplewise_center=False,  # set each sample/image mean to 0\n",
        "        featurewise_std_normalization=False,  # divide inputs by std of the dataset\n",
        "        samplewise_std_normalization=False,  # divide each input by its std\n",
        "        zca_whitening=False,  # apply ZCA whitening\n",
        "        rotation_range=10,  # randomly rotate images in the range (degrees, 0 to 180)\n",
        "        zoom_range = 0.1, # Randomly zoom image\n",
        "        width_shift_range=0.1,  # randomly shift images horizontally (fraction of total width)\n",
        "        height_shift_range=0.1,  # randomly shift images vertically (fraction of total height)\n",
        "        horizontal_flip=False,  # randomly flip images\n",
        "        vertical_flip=False)  # randomly flip images\n",
        "\n",
        "# grey_X_train = tf.expand_dims(X_train, axis=3)\n",
        "# grey_X_val = tf.expand_dims(X_val, axis=3)\n",
        "# grey_X_test = tf.expand_dims(X_test, axis=3)\n",
        "\n",
        "datagen.fit(X_train)"
      ]
    },
    {
      "cell_type": "code",
      "execution_count": 89,
      "metadata": {
        "id": "way1577P4oEc"
      },
      "outputs": [],
      "source": [
        "# Define the model architecture\n",
        "\n",
        "deep_RU_model = Sequential()\n",
        "\n",
        "deep_RU_model.add(Conv2D(filters = 32, kernel_size = (5,5),padding = 'Same',\n",
        "                 activation ='relu', input_shape = (img_rows,img_cols,3)))\n",
        "deep_RU_model.add(Conv2D(filters = 32, kernel_size = (5,5),padding = 'Same',\n",
        "                 activation ='relu'))\n",
        "deep_RU_model.add(MaxPooling2D(pool_size=(2,2)))\n",
        "deep_RU_model.add(Dropout(0.25))\n",
        "\n",
        "\n",
        "deep_RU_model.add(Conv2D(filters = 64, kernel_size = (3,3),padding = 'Same',\n",
        "                 activation ='relu'))\n",
        "deep_RU_model.add(Conv2D(filters = 64, kernel_size = (3,3),padding = 'Same',\n",
        "                 activation ='relu'))\n",
        "deep_RU_model.add(MaxPooling2D(pool_size=(2,2), strides=(2,2)))\n",
        "deep_RU_model.add(Dropout(0.25))\n",
        "\n",
        "\n",
        "deep_RU_model.add(Flatten())\n",
        "deep_RU_model.add(Dense(256, activation = \"relu\"))\n",
        "deep_RU_model.add(Dropout(0.5))\n",
        "deep_RU_model.add(Dense(33, activation = \"softmax\"))"
      ]
    },
    {
      "cell_type": "code",
      "execution_count": 90,
      "metadata": {
        "id": "Tty3ypG14qTj"
      },
      "outputs": [],
      "source": [
        "# Define the optimizer\n",
        "optimizer = RMSprop(learning_rate=0.001, rho=0.9, epsilon=1e-08)"
      ]
    },
    {
      "cell_type": "code",
      "execution_count": 91,
      "metadata": {
        "id": "vPtPgoI64wQa"
      },
      "outputs": [],
      "source": [
        "# Compile the model:\n",
        "deep_RU_model.compile(loss=\"categorical_crossentropy\", optimizer = optimizer,metrics=[\"accuracy\"])"
      ]
    },
    {
      "cell_type": "code",
      "execution_count": 92,
      "metadata": {
        "id": "hb5cTZX25HGw"
      },
      "outputs": [],
      "source": [
        "# Set a learning rate annealer\n",
        "learning_rate_reduction = ReduceLROnPlateau(monitor='val_acc',\n",
        "                                            patience=3,\n",
        "                                            verbose=1,\n",
        "                                            factor=0.5,\n",
        "                                            min_lr=0.00001)"
      ]
    },
    {
      "cell_type": "code",
      "execution_count": 93,
      "metadata": {
        "id": "GzweDFHf5JB9"
      },
      "outputs": [],
      "source": [
        "es = EarlyStopping(monitor='val_accuracy', mode='max', verbose=1, patience=50)\n",
        "mc = ModelCheckpoint('best_model.h5', monitor='val_accuracy', mode='max', verbose=1, save_best_only=True)"
      ]
    },
    {
      "cell_type": "code",
      "execution_count": 94,
      "metadata": {
        "colab": {
          "base_uri": "https://localhost:8080/"
        },
        "id": "GV60XduN5K9m",
        "outputId": "bf74267f-84a0-46a6-d73e-6dfaf3314161"
      },
      "outputs": [
        {
          "output_type": "stream",
          "name": "stdout",
          "text": [
            "Epoch 1/139\n",
            "128/128 [==============================] - ETA: 0s - loss: 3.5032 - accuracy: 0.0305"
          ]
        },
        {
          "output_type": "stream",
          "name": "stderr",
          "text": [
            "WARNING:tensorflow:Learning rate reduction is conditioned on metric `val_acc` which is not available. Available metrics are: loss,accuracy,val_loss,val_accuracy,lr\n"
          ]
        },
        {
          "output_type": "stream",
          "name": "stdout",
          "text": [
            "\n",
            "Epoch 1: val_accuracy improved from -inf to 0.02660, saving model to best_model.h5\n",
            "128/128 [==============================] - 98s 759ms/step - loss: 3.5032 - accuracy: 0.0305 - val_loss: 3.4953 - val_accuracy: 0.0266 - lr: 0.0010\n",
            "Epoch 2/139\n"
          ]
        },
        {
          "output_type": "stream",
          "name": "stderr",
          "text": [
            "/usr/local/lib/python3.10/dist-packages/keras/src/engine/training.py:3079: UserWarning: You are saving your model as an HDF5 file via `model.save()`. This file format is considered legacy. We recommend using instead the native Keras format, e.g. `model.save('my_model.keras')`.\n",
            "  saving_api.save_model(\n"
          ]
        },
        {
          "output_type": "stream",
          "name": "stdout",
          "text": [
            "128/128 [==============================] - ETA: 0s - loss: 3.4706 - accuracy: 0.0399"
          ]
        },
        {
          "output_type": "stream",
          "name": "stderr",
          "text": [
            "WARNING:tensorflow:Learning rate reduction is conditioned on metric `val_acc` which is not available. Available metrics are: loss,accuracy,val_loss,val_accuracy,lr\n"
          ]
        },
        {
          "output_type": "stream",
          "name": "stdout",
          "text": [
            "\n",
            "Epoch 2: val_accuracy improved from 0.02660 to 0.03912, saving model to best_model.h5\n",
            "128/128 [==============================] - 95s 744ms/step - loss: 3.4706 - accuracy: 0.0399 - val_loss: 3.4443 - val_accuracy: 0.0391 - lr: 0.0010\n",
            "Epoch 3/139\n",
            "128/128 [==============================] - ETA: 0s - loss: 3.4137 - accuracy: 0.0512"
          ]
        },
        {
          "output_type": "stream",
          "name": "stderr",
          "text": [
            "WARNING:tensorflow:Learning rate reduction is conditioned on metric `val_acc` which is not available. Available metrics are: loss,accuracy,val_loss,val_accuracy,lr\n"
          ]
        },
        {
          "output_type": "stream",
          "name": "stdout",
          "text": [
            "\n",
            "Epoch 3: val_accuracy improved from 0.03912 to 0.06495, saving model to best_model.h5\n",
            "128/128 [==============================] - 112s 875ms/step - loss: 3.4137 - accuracy: 0.0512 - val_loss: 3.3648 - val_accuracy: 0.0649 - lr: 0.0010\n",
            "Epoch 4/139\n",
            "128/128 [==============================] - ETA: 0s - loss: 3.3902 - accuracy: 0.0593"
          ]
        },
        {
          "output_type": "stream",
          "name": "stderr",
          "text": [
            "WARNING:tensorflow:Learning rate reduction is conditioned on metric `val_acc` which is not available. Available metrics are: loss,accuracy,val_loss,val_accuracy,lr\n"
          ]
        },
        {
          "output_type": "stream",
          "name": "stdout",
          "text": [
            "\n",
            "Epoch 4: val_accuracy improved from 0.06495 to 0.07433, saving model to best_model.h5\n",
            "128/128 [==============================] - 96s 751ms/step - loss: 3.3902 - accuracy: 0.0593 - val_loss: 3.3317 - val_accuracy: 0.0743 - lr: 0.0010\n",
            "Epoch 5/139\n",
            "128/128 [==============================] - ETA: 0s - loss: 3.3500 - accuracy: 0.0638"
          ]
        },
        {
          "output_type": "stream",
          "name": "stderr",
          "text": [
            "WARNING:tensorflow:Learning rate reduction is conditioned on metric `val_acc` which is not available. Available metrics are: loss,accuracy,val_loss,val_accuracy,lr\n"
          ]
        },
        {
          "output_type": "stream",
          "name": "stdout",
          "text": [
            "\n",
            "Epoch 5: val_accuracy did not improve from 0.07433\n",
            "128/128 [==============================] - 99s 771ms/step - loss: 3.3500 - accuracy: 0.0638 - val_loss: 3.4536 - val_accuracy: 0.0516 - lr: 0.0010\n",
            "Epoch 6/139\n",
            "128/128 [==============================] - ETA: 0s - loss: 3.3090 - accuracy: 0.0742"
          ]
        },
        {
          "output_type": "stream",
          "name": "stderr",
          "text": [
            "WARNING:tensorflow:Learning rate reduction is conditioned on metric `val_acc` which is not available. Available metrics are: loss,accuracy,val_loss,val_accuracy,lr\n"
          ]
        },
        {
          "output_type": "stream",
          "name": "stdout",
          "text": [
            "\n",
            "Epoch 6: val_accuracy improved from 0.07433 to 0.10563, saving model to best_model.h5\n",
            "128/128 [==============================] - 97s 760ms/step - loss: 3.3090 - accuracy: 0.0742 - val_loss: 3.1873 - val_accuracy: 0.1056 - lr: 0.0010\n",
            "Epoch 7/139\n",
            "128/128 [==============================] - ETA: 0s - loss: 3.2505 - accuracy: 0.0852"
          ]
        },
        {
          "output_type": "stream",
          "name": "stderr",
          "text": [
            "WARNING:tensorflow:Learning rate reduction is conditioned on metric `val_acc` which is not available. Available metrics are: loss,accuracy,val_loss,val_accuracy,lr\n"
          ]
        },
        {
          "output_type": "stream",
          "name": "stdout",
          "text": [
            "\n",
            "Epoch 7: val_accuracy improved from 0.10563 to 0.16432, saving model to best_model.h5\n",
            "128/128 [==============================] - 97s 758ms/step - loss: 3.2505 - accuracy: 0.0852 - val_loss: 2.9972 - val_accuracy: 0.1643 - lr: 0.0010\n",
            "Epoch 8/139\n",
            "128/128 [==============================] - ETA: 0s - loss: 3.1002 - accuracy: 0.1293"
          ]
        },
        {
          "output_type": "stream",
          "name": "stderr",
          "text": [
            "WARNING:tensorflow:Learning rate reduction is conditioned on metric `val_acc` which is not available. Available metrics are: loss,accuracy,val_loss,val_accuracy,lr\n"
          ]
        },
        {
          "output_type": "stream",
          "name": "stdout",
          "text": [
            "\n",
            "Epoch 8: val_accuracy improved from 0.16432 to 0.28873, saving model to best_model.h5\n",
            "128/128 [==============================] - 95s 742ms/step - loss: 3.1002 - accuracy: 0.1293 - val_loss: 2.6316 - val_accuracy: 0.2887 - lr: 0.0010\n",
            "Epoch 9/139\n",
            "128/128 [==============================] - ETA: 0s - loss: 2.8906 - accuracy: 0.1793"
          ]
        },
        {
          "output_type": "stream",
          "name": "stderr",
          "text": [
            "WARNING:tensorflow:Learning rate reduction is conditioned on metric `val_acc` which is not available. Available metrics are: loss,accuracy,val_loss,val_accuracy,lr\n"
          ]
        },
        {
          "output_type": "stream",
          "name": "stdout",
          "text": [
            "\n",
            "Epoch 9: val_accuracy did not improve from 0.28873\n",
            "128/128 [==============================] - 98s 766ms/step - loss: 2.8906 - accuracy: 0.1793 - val_loss: 2.6690 - val_accuracy: 0.2457 - lr: 0.0010\n",
            "Epoch 10/139\n",
            "128/128 [==============================] - ETA: 0s - loss: 2.6627 - accuracy: 0.2376"
          ]
        },
        {
          "output_type": "stream",
          "name": "stderr",
          "text": [
            "WARNING:tensorflow:Learning rate reduction is conditioned on metric `val_acc` which is not available. Available metrics are: loss,accuracy,val_loss,val_accuracy,lr\n"
          ]
        },
        {
          "output_type": "stream",
          "name": "stdout",
          "text": [
            "\n",
            "Epoch 10: val_accuracy improved from 0.28873 to 0.45931, saving model to best_model.h5\n",
            "128/128 [==============================] - 96s 745ms/step - loss: 2.6627 - accuracy: 0.2376 - val_loss: 2.0287 - val_accuracy: 0.4593 - lr: 0.0010\n",
            "Epoch 11/139\n",
            "128/128 [==============================] - ETA: 0s - loss: 2.4899 - accuracy: 0.2867"
          ]
        },
        {
          "output_type": "stream",
          "name": "stderr",
          "text": [
            "WARNING:tensorflow:Learning rate reduction is conditioned on metric `val_acc` which is not available. Available metrics are: loss,accuracy,val_loss,val_accuracy,lr\n"
          ]
        },
        {
          "output_type": "stream",
          "name": "stdout",
          "text": [
            "\n",
            "Epoch 11: val_accuracy improved from 0.45931 to 0.49374, saving model to best_model.h5\n",
            "128/128 [==============================] - 94s 738ms/step - loss: 2.4899 - accuracy: 0.2867 - val_loss: 1.8421 - val_accuracy: 0.4937 - lr: 0.0010\n",
            "Epoch 12/139\n",
            "128/128 [==============================] - ETA: 0s - loss: 2.2951 - accuracy: 0.3369"
          ]
        },
        {
          "output_type": "stream",
          "name": "stderr",
          "text": [
            "WARNING:tensorflow:Learning rate reduction is conditioned on metric `val_acc` which is not available. Available metrics are: loss,accuracy,val_loss,val_accuracy,lr\n"
          ]
        },
        {
          "output_type": "stream",
          "name": "stdout",
          "text": [
            "\n",
            "Epoch 12: val_accuracy improved from 0.49374 to 0.58685, saving model to best_model.h5\n",
            "128/128 [==============================] - 98s 762ms/step - loss: 2.2951 - accuracy: 0.3369 - val_loss: 1.5421 - val_accuracy: 0.5869 - lr: 0.0010\n",
            "Epoch 13/139\n",
            "128/128 [==============================] - ETA: 0s - loss: 2.1135 - accuracy: 0.3887"
          ]
        },
        {
          "output_type": "stream",
          "name": "stderr",
          "text": [
            "WARNING:tensorflow:Learning rate reduction is conditioned on metric `val_acc` which is not available. Available metrics are: loss,accuracy,val_loss,val_accuracy,lr\n"
          ]
        },
        {
          "output_type": "stream",
          "name": "stdout",
          "text": [
            "\n",
            "Epoch 13: val_accuracy improved from 0.58685 to 0.65258, saving model to best_model.h5\n",
            "128/128 [==============================] - 94s 738ms/step - loss: 2.1135 - accuracy: 0.3887 - val_loss: 1.3961 - val_accuracy: 0.6526 - lr: 0.0010\n",
            "Epoch 14/139\n",
            "128/128 [==============================] - ETA: 0s - loss: 1.9394 - accuracy: 0.4341"
          ]
        },
        {
          "output_type": "stream",
          "name": "stderr",
          "text": [
            "WARNING:tensorflow:Learning rate reduction is conditioned on metric `val_acc` which is not available. Available metrics are: loss,accuracy,val_loss,val_accuracy,lr\n"
          ]
        },
        {
          "output_type": "stream",
          "name": "stdout",
          "text": [
            "\n",
            "Epoch 14: val_accuracy improved from 0.65258 to 0.65571, saving model to best_model.h5\n",
            "128/128 [==============================] - 99s 772ms/step - loss: 1.9394 - accuracy: 0.4341 - val_loss: 1.2670 - val_accuracy: 0.6557 - lr: 0.0010\n",
            "Epoch 15/139\n",
            "128/128 [==============================] - ETA: 0s - loss: 1.8121 - accuracy: 0.4728"
          ]
        },
        {
          "output_type": "stream",
          "name": "stderr",
          "text": [
            "WARNING:tensorflow:Learning rate reduction is conditioned on metric `val_acc` which is not available. Available metrics are: loss,accuracy,val_loss,val_accuracy,lr\n"
          ]
        },
        {
          "output_type": "stream",
          "name": "stdout",
          "text": [
            "\n",
            "Epoch 15: val_accuracy improved from 0.65571 to 0.66432, saving model to best_model.h5\n",
            "128/128 [==============================] - 95s 744ms/step - loss: 1.8121 - accuracy: 0.4728 - val_loss: 1.1992 - val_accuracy: 0.6643 - lr: 0.0010\n",
            "Epoch 16/139\n",
            "128/128 [==============================] - ETA: 0s - loss: 1.6368 - accuracy: 0.5227"
          ]
        },
        {
          "output_type": "stream",
          "name": "stderr",
          "text": [
            "WARNING:tensorflow:Learning rate reduction is conditioned on metric `val_acc` which is not available. Available metrics are: loss,accuracy,val_loss,val_accuracy,lr\n"
          ]
        },
        {
          "output_type": "stream",
          "name": "stdout",
          "text": [
            "\n",
            "Epoch 16: val_accuracy improved from 0.66432 to 0.69171, saving model to best_model.h5\n",
            "128/128 [==============================] - 97s 756ms/step - loss: 1.6368 - accuracy: 0.5227 - val_loss: 1.1381 - val_accuracy: 0.6917 - lr: 0.0010\n",
            "Epoch 17/139\n",
            "128/128 [==============================] - ETA: 0s - loss: 1.5207 - accuracy: 0.5522"
          ]
        },
        {
          "output_type": "stream",
          "name": "stderr",
          "text": [
            "WARNING:tensorflow:Learning rate reduction is conditioned on metric `val_acc` which is not available. Available metrics are: loss,accuracy,val_loss,val_accuracy,lr\n"
          ]
        },
        {
          "output_type": "stream",
          "name": "stdout",
          "text": [
            "\n",
            "Epoch 17: val_accuracy improved from 0.69171 to 0.76839, saving model to best_model.h5\n",
            "128/128 [==============================] - 100s 785ms/step - loss: 1.5207 - accuracy: 0.5522 - val_loss: 0.8382 - val_accuracy: 0.7684 - lr: 0.0010\n",
            "Epoch 18/139\n",
            "128/128 [==============================] - ETA: 0s - loss: 1.4003 - accuracy: 0.5947"
          ]
        },
        {
          "output_type": "stream",
          "name": "stderr",
          "text": [
            "WARNING:tensorflow:Learning rate reduction is conditioned on metric `val_acc` which is not available. Available metrics are: loss,accuracy,val_loss,val_accuracy,lr\n"
          ]
        },
        {
          "output_type": "stream",
          "name": "stdout",
          "text": [
            "\n",
            "Epoch 18: val_accuracy improved from 0.76839 to 0.79969, saving model to best_model.h5\n",
            "128/128 [==============================] - 95s 742ms/step - loss: 1.4003 - accuracy: 0.5947 - val_loss: 0.7419 - val_accuracy: 0.7997 - lr: 0.0010\n",
            "Epoch 19/139\n",
            "128/128 [==============================] - ETA: 0s - loss: 1.3328 - accuracy: 0.6114"
          ]
        },
        {
          "output_type": "stream",
          "name": "stderr",
          "text": [
            "WARNING:tensorflow:Learning rate reduction is conditioned on metric `val_acc` which is not available. Available metrics are: loss,accuracy,val_loss,val_accuracy,lr\n"
          ]
        },
        {
          "output_type": "stream",
          "name": "stdout",
          "text": [
            "\n",
            "Epoch 19: val_accuracy improved from 0.79969 to 0.82551, saving model to best_model.h5\n",
            "128/128 [==============================] - 97s 761ms/step - loss: 1.3328 - accuracy: 0.6114 - val_loss: 0.6103 - val_accuracy: 0.8255 - lr: 0.0010\n",
            "Epoch 20/139\n",
            "128/128 [==============================] - ETA: 0s - loss: 1.2488 - accuracy: 0.6300"
          ]
        },
        {
          "output_type": "stream",
          "name": "stderr",
          "text": [
            "WARNING:tensorflow:Learning rate reduction is conditioned on metric `val_acc` which is not available. Available metrics are: loss,accuracy,val_loss,val_accuracy,lr\n"
          ]
        },
        {
          "output_type": "stream",
          "name": "stdout",
          "text": [
            "\n",
            "Epoch 20: val_accuracy did not improve from 0.82551\n",
            "128/128 [==============================] - 96s 746ms/step - loss: 1.2488 - accuracy: 0.6300 - val_loss: 0.6325 - val_accuracy: 0.8239 - lr: 0.0010\n",
            "Epoch 21/139\n",
            "128/128 [==============================] - ETA: 0s - loss: 1.1869 - accuracy: 0.6523"
          ]
        },
        {
          "output_type": "stream",
          "name": "stderr",
          "text": [
            "WARNING:tensorflow:Learning rate reduction is conditioned on metric `val_acc` which is not available. Available metrics are: loss,accuracy,val_loss,val_accuracy,lr\n"
          ]
        },
        {
          "output_type": "stream",
          "name": "stdout",
          "text": [
            "\n",
            "Epoch 21: val_accuracy improved from 0.82551 to 0.84351, saving model to best_model.h5\n",
            "128/128 [==============================] - 98s 762ms/step - loss: 1.1869 - accuracy: 0.6523 - val_loss: 0.5242 - val_accuracy: 0.8435 - lr: 0.0010\n",
            "Epoch 22/139\n",
            "128/128 [==============================] - ETA: 0s - loss: 1.1368 - accuracy: 0.6650"
          ]
        },
        {
          "output_type": "stream",
          "name": "stderr",
          "text": [
            "WARNING:tensorflow:Learning rate reduction is conditioned on metric `val_acc` which is not available. Available metrics are: loss,accuracy,val_loss,val_accuracy,lr\n"
          ]
        },
        {
          "output_type": "stream",
          "name": "stdout",
          "text": [
            "\n",
            "Epoch 22: val_accuracy did not improve from 0.84351\n",
            "128/128 [==============================] - 94s 736ms/step - loss: 1.1368 - accuracy: 0.6650 - val_loss: 0.6294 - val_accuracy: 0.8263 - lr: 0.0010\n",
            "Epoch 23/139\n",
            "128/128 [==============================] - ETA: 0s - loss: 1.0839 - accuracy: 0.6762"
          ]
        },
        {
          "output_type": "stream",
          "name": "stderr",
          "text": [
            "WARNING:tensorflow:Learning rate reduction is conditioned on metric `val_acc` which is not available. Available metrics are: loss,accuracy,val_loss,val_accuracy,lr\n"
          ]
        },
        {
          "output_type": "stream",
          "name": "stdout",
          "text": [
            "\n",
            "Epoch 23: val_accuracy improved from 0.84351 to 0.86854, saving model to best_model.h5\n",
            "128/128 [==============================] - 99s 770ms/step - loss: 1.0839 - accuracy: 0.6762 - val_loss: 0.4531 - val_accuracy: 0.8685 - lr: 0.0010\n",
            "Epoch 24/139\n",
            "128/128 [==============================] - ETA: 0s - loss: 1.0233 - accuracy: 0.6941"
          ]
        },
        {
          "output_type": "stream",
          "name": "stderr",
          "text": [
            "WARNING:tensorflow:Learning rate reduction is conditioned on metric `val_acc` which is not available. Available metrics are: loss,accuracy,val_loss,val_accuracy,lr\n"
          ]
        },
        {
          "output_type": "stream",
          "name": "stdout",
          "text": [
            "\n",
            "Epoch 24: val_accuracy improved from 0.86854 to 0.86933, saving model to best_model.h5\n",
            "128/128 [==============================] - 97s 754ms/step - loss: 1.0233 - accuracy: 0.6941 - val_loss: 0.4240 - val_accuracy: 0.8693 - lr: 0.0010\n",
            "Epoch 25/139\n",
            "128/128 [==============================] - ETA: 0s - loss: 0.9797 - accuracy: 0.7101"
          ]
        },
        {
          "output_type": "stream",
          "name": "stderr",
          "text": [
            "WARNING:tensorflow:Learning rate reduction is conditioned on metric `val_acc` which is not available. Available metrics are: loss,accuracy,val_loss,val_accuracy,lr\n"
          ]
        },
        {
          "output_type": "stream",
          "name": "stdout",
          "text": [
            "\n",
            "Epoch 25: val_accuracy improved from 0.86933 to 0.87793, saving model to best_model.h5\n",
            "128/128 [==============================] - 95s 743ms/step - loss: 0.9797 - accuracy: 0.7101 - val_loss: 0.4126 - val_accuracy: 0.8779 - lr: 0.0010\n",
            "Epoch 26/139\n",
            "128/128 [==============================] - ETA: 0s - loss: 0.9378 - accuracy: 0.7227"
          ]
        },
        {
          "output_type": "stream",
          "name": "stderr",
          "text": [
            "WARNING:tensorflow:Learning rate reduction is conditioned on metric `val_acc` which is not available. Available metrics are: loss,accuracy,val_loss,val_accuracy,lr\n"
          ]
        },
        {
          "output_type": "stream",
          "name": "stdout",
          "text": [
            "\n",
            "Epoch 26: val_accuracy did not improve from 0.87793\n",
            "128/128 [==============================] - 97s 758ms/step - loss: 0.9378 - accuracy: 0.7227 - val_loss: 0.4248 - val_accuracy: 0.8748 - lr: 0.0010\n",
            "Epoch 27/139\n",
            "128/128 [==============================] - ETA: 0s - loss: 0.9221 - accuracy: 0.7246"
          ]
        },
        {
          "output_type": "stream",
          "name": "stderr",
          "text": [
            "WARNING:tensorflow:Learning rate reduction is conditioned on metric `val_acc` which is not available. Available metrics are: loss,accuracy,val_loss,val_accuracy,lr\n"
          ]
        },
        {
          "output_type": "stream",
          "name": "stdout",
          "text": [
            "\n",
            "Epoch 27: val_accuracy improved from 0.87793 to 0.88263, saving model to best_model.h5\n",
            "128/128 [==============================] - 95s 739ms/step - loss: 0.9221 - accuracy: 0.7246 - val_loss: 0.3832 - val_accuracy: 0.8826 - lr: 0.0010\n",
            "Epoch 28/139\n",
            "128/128 [==============================] - ETA: 0s - loss: 0.8689 - accuracy: 0.7404"
          ]
        },
        {
          "output_type": "stream",
          "name": "stderr",
          "text": [
            "WARNING:tensorflow:Learning rate reduction is conditioned on metric `val_acc` which is not available. Available metrics are: loss,accuracy,val_loss,val_accuracy,lr\n"
          ]
        },
        {
          "output_type": "stream",
          "name": "stdout",
          "text": [
            "\n",
            "Epoch 28: val_accuracy did not improve from 0.88263\n",
            "128/128 [==============================] - 101s 789ms/step - loss: 0.8689 - accuracy: 0.7404 - val_loss: 0.5185 - val_accuracy: 0.8505 - lr: 0.0010\n",
            "Epoch 29/139\n",
            "128/128 [==============================] - ETA: 0s - loss: 0.8484 - accuracy: 0.7423"
          ]
        },
        {
          "output_type": "stream",
          "name": "stderr",
          "text": [
            "WARNING:tensorflow:Learning rate reduction is conditioned on metric `val_acc` which is not available. Available metrics are: loss,accuracy,val_loss,val_accuracy,lr\n"
          ]
        },
        {
          "output_type": "stream",
          "name": "stdout",
          "text": [
            "\n",
            "Epoch 29: val_accuracy improved from 0.88263 to 0.89593, saving model to best_model.h5\n",
            "128/128 [==============================] - 95s 740ms/step - loss: 0.8484 - accuracy: 0.7423 - val_loss: 0.3907 - val_accuracy: 0.8959 - lr: 0.0010\n",
            "Epoch 30/139\n",
            "128/128 [==============================] - ETA: 0s - loss: 0.8045 - accuracy: 0.7600"
          ]
        },
        {
          "output_type": "stream",
          "name": "stderr",
          "text": [
            "WARNING:tensorflow:Learning rate reduction is conditioned on metric `val_acc` which is not available. Available metrics are: loss,accuracy,val_loss,val_accuracy,lr\n"
          ]
        },
        {
          "output_type": "stream",
          "name": "stdout",
          "text": [
            "\n",
            "Epoch 30: val_accuracy improved from 0.89593 to 0.89906, saving model to best_model.h5\n",
            "128/128 [==============================] - 96s 747ms/step - loss: 0.8045 - accuracy: 0.7600 - val_loss: 0.3395 - val_accuracy: 0.8991 - lr: 0.0010\n",
            "Epoch 31/139\n",
            "128/128 [==============================] - ETA: 0s - loss: 0.7882 - accuracy: 0.7657"
          ]
        },
        {
          "output_type": "stream",
          "name": "stderr",
          "text": [
            "WARNING:tensorflow:Learning rate reduction is conditioned on metric `val_acc` which is not available. Available metrics are: loss,accuracy,val_loss,val_accuracy,lr\n"
          ]
        },
        {
          "output_type": "stream",
          "name": "stdout",
          "text": [
            "\n",
            "Epoch 31: val_accuracy did not improve from 0.89906\n",
            "128/128 [==============================] - 95s 741ms/step - loss: 0.7882 - accuracy: 0.7657 - val_loss: 0.3508 - val_accuracy: 0.8983 - lr: 0.0010\n",
            "Epoch 32/139\n",
            "128/128 [==============================] - ETA: 0s - loss: 0.7670 - accuracy: 0.7718"
          ]
        },
        {
          "output_type": "stream",
          "name": "stderr",
          "text": [
            "WARNING:tensorflow:Learning rate reduction is conditioned on metric `val_acc` which is not available. Available metrics are: loss,accuracy,val_loss,val_accuracy,lr\n"
          ]
        },
        {
          "output_type": "stream",
          "name": "stdout",
          "text": [
            "\n",
            "Epoch 32: val_accuracy improved from 0.89906 to 0.90063, saving model to best_model.h5\n",
            "128/128 [==============================] - 98s 761ms/step - loss: 0.7670 - accuracy: 0.7718 - val_loss: 0.3336 - val_accuracy: 0.9006 - lr: 0.0010\n",
            "Epoch 33/139\n",
            "128/128 [==============================] - ETA: 0s - loss: 0.7674 - accuracy: 0.7693"
          ]
        },
        {
          "output_type": "stream",
          "name": "stderr",
          "text": [
            "WARNING:tensorflow:Learning rate reduction is conditioned on metric `val_acc` which is not available. Available metrics are: loss,accuracy,val_loss,val_accuracy,lr\n"
          ]
        },
        {
          "output_type": "stream",
          "name": "stdout",
          "text": [
            "\n",
            "Epoch 33: val_accuracy did not improve from 0.90063\n",
            "128/128 [==============================] - 97s 759ms/step - loss: 0.7674 - accuracy: 0.7693 - val_loss: 0.3336 - val_accuracy: 0.8951 - lr: 0.0010\n",
            "Epoch 34/139\n",
            "128/128 [==============================] - ETA: 0s - loss: 0.7360 - accuracy: 0.7800"
          ]
        },
        {
          "output_type": "stream",
          "name": "stderr",
          "text": [
            "WARNING:tensorflow:Learning rate reduction is conditioned on metric `val_acc` which is not available. Available metrics are: loss,accuracy,val_loss,val_accuracy,lr\n"
          ]
        },
        {
          "output_type": "stream",
          "name": "stdout",
          "text": [
            "\n",
            "Epoch 34: val_accuracy did not improve from 0.90063\n",
            "128/128 [==============================] - 97s 759ms/step - loss: 0.7360 - accuracy: 0.7800 - val_loss: 0.3348 - val_accuracy: 0.8959 - lr: 0.0010\n",
            "Epoch 35/139\n",
            "128/128 [==============================] - ETA: 0s - loss: 0.7230 - accuracy: 0.7836"
          ]
        },
        {
          "output_type": "stream",
          "name": "stderr",
          "text": [
            "WARNING:tensorflow:Learning rate reduction is conditioned on metric `val_acc` which is not available. Available metrics are: loss,accuracy,val_loss,val_accuracy,lr\n"
          ]
        },
        {
          "output_type": "stream",
          "name": "stdout",
          "text": [
            "\n",
            "Epoch 35: val_accuracy did not improve from 0.90063\n",
            "128/128 [==============================] - 95s 739ms/step - loss: 0.7230 - accuracy: 0.7836 - val_loss: 0.3362 - val_accuracy: 0.8967 - lr: 0.0010\n",
            "Epoch 36/139\n",
            "128/128 [==============================] - ETA: 0s - loss: 0.6962 - accuracy: 0.7922"
          ]
        },
        {
          "output_type": "stream",
          "name": "stderr",
          "text": [
            "WARNING:tensorflow:Learning rate reduction is conditioned on metric `val_acc` which is not available. Available metrics are: loss,accuracy,val_loss,val_accuracy,lr\n"
          ]
        },
        {
          "output_type": "stream",
          "name": "stdout",
          "text": [
            "\n",
            "Epoch 36: val_accuracy did not improve from 0.90063\n",
            "128/128 [==============================] - 97s 759ms/step - loss: 0.6962 - accuracy: 0.7922 - val_loss: 0.4131 - val_accuracy: 0.8740 - lr: 0.0010\n",
            "Epoch 37/139\n",
            "128/128 [==============================] - ETA: 0s - loss: 0.6939 - accuracy: 0.7956"
          ]
        },
        {
          "output_type": "stream",
          "name": "stderr",
          "text": [
            "WARNING:tensorflow:Learning rate reduction is conditioned on metric `val_acc` which is not available. Available metrics are: loss,accuracy,val_loss,val_accuracy,lr\n"
          ]
        },
        {
          "output_type": "stream",
          "name": "stdout",
          "text": [
            "\n",
            "Epoch 37: val_accuracy improved from 0.90063 to 0.90376, saving model to best_model.h5\n",
            "128/128 [==============================] - 97s 759ms/step - loss: 0.6939 - accuracy: 0.7956 - val_loss: 0.3106 - val_accuracy: 0.9038 - lr: 0.0010\n",
            "Epoch 38/139\n",
            "128/128 [==============================] - ETA: 0s - loss: 0.6996 - accuracy: 0.7914"
          ]
        },
        {
          "output_type": "stream",
          "name": "stderr",
          "text": [
            "WARNING:tensorflow:Learning rate reduction is conditioned on metric `val_acc` which is not available. Available metrics are: loss,accuracy,val_loss,val_accuracy,lr\n"
          ]
        },
        {
          "output_type": "stream",
          "name": "stdout",
          "text": [
            "\n",
            "Epoch 38: val_accuracy improved from 0.90376 to 0.91236, saving model to best_model.h5\n",
            "128/128 [==============================] - 97s 751ms/step - loss: 0.6996 - accuracy: 0.7914 - val_loss: 0.3086 - val_accuracy: 0.9124 - lr: 0.0010\n",
            "Epoch 39/139\n",
            "128/128 [==============================] - ETA: 0s - loss: 0.6823 - accuracy: 0.7974"
          ]
        },
        {
          "output_type": "stream",
          "name": "stderr",
          "text": [
            "WARNING:tensorflow:Learning rate reduction is conditioned on metric `val_acc` which is not available. Available metrics are: loss,accuracy,val_loss,val_accuracy,lr\n"
          ]
        },
        {
          "output_type": "stream",
          "name": "stdout",
          "text": [
            "\n",
            "Epoch 39: val_accuracy improved from 0.91236 to 0.92332, saving model to best_model.h5\n",
            "128/128 [==============================] - 99s 770ms/step - loss: 0.6823 - accuracy: 0.7974 - val_loss: 0.2541 - val_accuracy: 0.9233 - lr: 0.0010\n",
            "Epoch 40/139\n",
            "128/128 [==============================] - ETA: 0s - loss: 0.6596 - accuracy: 0.8053"
          ]
        },
        {
          "output_type": "stream",
          "name": "stderr",
          "text": [
            "WARNING:tensorflow:Learning rate reduction is conditioned on metric `val_acc` which is not available. Available metrics are: loss,accuracy,val_loss,val_accuracy,lr\n"
          ]
        },
        {
          "output_type": "stream",
          "name": "stdout",
          "text": [
            "\n",
            "Epoch 40: val_accuracy did not improve from 0.92332\n",
            "128/128 [==============================] - 95s 740ms/step - loss: 0.6596 - accuracy: 0.8053 - val_loss: 0.2784 - val_accuracy: 0.9163 - lr: 0.0010\n",
            "Epoch 41/139\n",
            "128/128 [==============================] - ETA: 0s - loss: 0.6373 - accuracy: 0.8056"
          ]
        },
        {
          "output_type": "stream",
          "name": "stderr",
          "text": [
            "WARNING:tensorflow:Learning rate reduction is conditioned on metric `val_acc` which is not available. Available metrics are: loss,accuracy,val_loss,val_accuracy,lr\n"
          ]
        },
        {
          "output_type": "stream",
          "name": "stdout",
          "text": [
            "\n",
            "Epoch 41: val_accuracy improved from 0.92332 to 0.92410, saving model to best_model.h5\n",
            "128/128 [==============================] - 97s 759ms/step - loss: 0.6373 - accuracy: 0.8056 - val_loss: 0.2659 - val_accuracy: 0.9241 - lr: 0.0010\n",
            "Epoch 42/139\n",
            "128/128 [==============================] - ETA: 0s - loss: 0.6348 - accuracy: 0.8140"
          ]
        },
        {
          "output_type": "stream",
          "name": "stderr",
          "text": [
            "WARNING:tensorflow:Learning rate reduction is conditioned on metric `val_acc` which is not available. Available metrics are: loss,accuracy,val_loss,val_accuracy,lr\n"
          ]
        },
        {
          "output_type": "stream",
          "name": "stdout",
          "text": [
            "\n",
            "Epoch 42: val_accuracy improved from 0.92410 to 0.92567, saving model to best_model.h5\n",
            "128/128 [==============================] - 95s 740ms/step - loss: 0.6348 - accuracy: 0.8140 - val_loss: 0.2558 - val_accuracy: 0.9257 - lr: 0.0010\n",
            "Epoch 43/139\n",
            "128/128 [==============================] - ETA: 0s - loss: 0.6203 - accuracy: 0.8129"
          ]
        },
        {
          "output_type": "stream",
          "name": "stderr",
          "text": [
            "WARNING:tensorflow:Learning rate reduction is conditioned on metric `val_acc` which is not available. Available metrics are: loss,accuracy,val_loss,val_accuracy,lr\n"
          ]
        },
        {
          "output_type": "stream",
          "name": "stdout",
          "text": [
            "\n",
            "Epoch 43: val_accuracy did not improve from 0.92567\n",
            "128/128 [==============================] - 97s 760ms/step - loss: 0.6203 - accuracy: 0.8129 - val_loss: 0.3206 - val_accuracy: 0.9155 - lr: 0.0010\n",
            "Epoch 44/139\n",
            "128/128 [==============================] - ETA: 0s - loss: 0.6257 - accuracy: 0.8139"
          ]
        },
        {
          "output_type": "stream",
          "name": "stderr",
          "text": [
            "WARNING:tensorflow:Learning rate reduction is conditioned on metric `val_acc` which is not available. Available metrics are: loss,accuracy,val_loss,val_accuracy,lr\n"
          ]
        },
        {
          "output_type": "stream",
          "name": "stdout",
          "text": [
            "\n",
            "Epoch 44: val_accuracy improved from 0.92567 to 0.93192, saving model to best_model.h5\n",
            "128/128 [==============================] - 95s 741ms/step - loss: 0.6257 - accuracy: 0.8139 - val_loss: 0.2344 - val_accuracy: 0.9319 - lr: 0.0010\n",
            "Epoch 45/139\n",
            "128/128 [==============================] - ETA: 0s - loss: 0.5995 - accuracy: 0.8205"
          ]
        },
        {
          "output_type": "stream",
          "name": "stderr",
          "text": [
            "WARNING:tensorflow:Learning rate reduction is conditioned on metric `val_acc` which is not available. Available metrics are: loss,accuracy,val_loss,val_accuracy,lr\n"
          ]
        },
        {
          "output_type": "stream",
          "name": "stdout",
          "text": [
            "\n",
            "Epoch 45: val_accuracy did not improve from 0.93192\n",
            "128/128 [==============================] - 99s 772ms/step - loss: 0.5995 - accuracy: 0.8205 - val_loss: 0.2341 - val_accuracy: 0.9311 - lr: 0.0010\n",
            "Epoch 46/139\n",
            "128/128 [==============================] - ETA: 0s - loss: 0.6021 - accuracy: 0.8249"
          ]
        },
        {
          "output_type": "stream",
          "name": "stderr",
          "text": [
            "WARNING:tensorflow:Learning rate reduction is conditioned on metric `val_acc` which is not available. Available metrics are: loss,accuracy,val_loss,val_accuracy,lr\n"
          ]
        },
        {
          "output_type": "stream",
          "name": "stdout",
          "text": [
            "\n",
            "Epoch 46: val_accuracy did not improve from 0.93192\n",
            "128/128 [==============================] - 95s 742ms/step - loss: 0.6021 - accuracy: 0.8249 - val_loss: 0.3421 - val_accuracy: 0.8951 - lr: 0.0010\n",
            "Epoch 47/139\n",
            "128/128 [==============================] - ETA: 0s - loss: 0.5930 - accuracy: 0.8259"
          ]
        },
        {
          "output_type": "stream",
          "name": "stderr",
          "text": [
            "WARNING:tensorflow:Learning rate reduction is conditioned on metric `val_acc` which is not available. Available metrics are: loss,accuracy,val_loss,val_accuracy,lr\n"
          ]
        },
        {
          "output_type": "stream",
          "name": "stdout",
          "text": [
            "\n",
            "Epoch 47: val_accuracy did not improve from 0.93192\n",
            "128/128 [==============================] - 98s 764ms/step - loss: 0.5930 - accuracy: 0.8259 - val_loss: 0.2651 - val_accuracy: 0.9264 - lr: 0.0010\n",
            "Epoch 48/139\n",
            "128/128 [==============================] - ETA: 0s - loss: 0.5850 - accuracy: 0.8239"
          ]
        },
        {
          "output_type": "stream",
          "name": "stderr",
          "text": [
            "WARNING:tensorflow:Learning rate reduction is conditioned on metric `val_acc` which is not available. Available metrics are: loss,accuracy,val_loss,val_accuracy,lr\n"
          ]
        },
        {
          "output_type": "stream",
          "name": "stdout",
          "text": [
            "\n",
            "Epoch 48: val_accuracy improved from 0.93192 to 0.94210, saving model to best_model.h5\n",
            "128/128 [==============================] - 97s 760ms/step - loss: 0.5850 - accuracy: 0.8239 - val_loss: 0.2181 - val_accuracy: 0.9421 - lr: 0.0010\n",
            "Epoch 49/139\n",
            "128/128 [==============================] - ETA: 0s - loss: 0.5907 - accuracy: 0.8317"
          ]
        },
        {
          "output_type": "stream",
          "name": "stderr",
          "text": [
            "WARNING:tensorflow:Learning rate reduction is conditioned on metric `val_acc` which is not available. Available metrics are: loss,accuracy,val_loss,val_accuracy,lr\n"
          ]
        },
        {
          "output_type": "stream",
          "name": "stdout",
          "text": [
            "\n",
            "Epoch 49: val_accuracy did not improve from 0.94210\n",
            "128/128 [==============================] - 95s 740ms/step - loss: 0.5907 - accuracy: 0.8317 - val_loss: 0.2803 - val_accuracy: 0.9131 - lr: 0.0010\n",
            "Epoch 50/139\n",
            "128/128 [==============================] - ETA: 0s - loss: 0.5826 - accuracy: 0.8269"
          ]
        },
        {
          "output_type": "stream",
          "name": "stderr",
          "text": [
            "WARNING:tensorflow:Learning rate reduction is conditioned on metric `val_acc` which is not available. Available metrics are: loss,accuracy,val_loss,val_accuracy,lr\n"
          ]
        },
        {
          "output_type": "stream",
          "name": "stdout",
          "text": [
            "\n",
            "Epoch 50: val_accuracy did not improve from 0.94210\n",
            "128/128 [==============================] - 100s 779ms/step - loss: 0.5826 - accuracy: 0.8269 - val_loss: 0.2232 - val_accuracy: 0.9311 - lr: 0.0010\n",
            "Epoch 51/139\n",
            "128/128 [==============================] - ETA: 0s - loss: 0.5872 - accuracy: 0.8281"
          ]
        },
        {
          "output_type": "stream",
          "name": "stderr",
          "text": [
            "WARNING:tensorflow:Learning rate reduction is conditioned on metric `val_acc` which is not available. Available metrics are: loss,accuracy,val_loss,val_accuracy,lr\n"
          ]
        },
        {
          "output_type": "stream",
          "name": "stdout",
          "text": [
            "\n",
            "Epoch 51: val_accuracy did not improve from 0.94210\n",
            "128/128 [==============================] - 95s 741ms/step - loss: 0.5872 - accuracy: 0.8281 - val_loss: 0.2411 - val_accuracy: 0.9304 - lr: 0.0010\n",
            "Epoch 52/139\n",
            "128/128 [==============================] - ETA: 0s - loss: 0.5697 - accuracy: 0.8333"
          ]
        },
        {
          "output_type": "stream",
          "name": "stderr",
          "text": [
            "WARNING:tensorflow:Learning rate reduction is conditioned on metric `val_acc` which is not available. Available metrics are: loss,accuracy,val_loss,val_accuracy,lr\n"
          ]
        },
        {
          "output_type": "stream",
          "name": "stdout",
          "text": [
            "\n",
            "Epoch 52: val_accuracy did not improve from 0.94210\n",
            "128/128 [==============================] - 95s 739ms/step - loss: 0.5697 - accuracy: 0.8333 - val_loss: 0.2329 - val_accuracy: 0.9335 - lr: 0.0010\n",
            "Epoch 53/139\n",
            "128/128 [==============================] - ETA: 0s - loss: 0.5647 - accuracy: 0.8322"
          ]
        },
        {
          "output_type": "stream",
          "name": "stderr",
          "text": [
            "WARNING:tensorflow:Learning rate reduction is conditioned on metric `val_acc` which is not available. Available metrics are: loss,accuracy,val_loss,val_accuracy,lr\n"
          ]
        },
        {
          "output_type": "stream",
          "name": "stdout",
          "text": [
            "\n",
            "Epoch 53: val_accuracy did not improve from 0.94210\n",
            "128/128 [==============================] - 96s 748ms/step - loss: 0.5647 - accuracy: 0.8322 - val_loss: 0.2457 - val_accuracy: 0.9280 - lr: 0.0010\n",
            "Epoch 54/139\n",
            "128/128 [==============================] - ETA: 0s - loss: 0.5792 - accuracy: 0.8273"
          ]
        },
        {
          "output_type": "stream",
          "name": "stderr",
          "text": [
            "WARNING:tensorflow:Learning rate reduction is conditioned on metric `val_acc` which is not available. Available metrics are: loss,accuracy,val_loss,val_accuracy,lr\n"
          ]
        },
        {
          "output_type": "stream",
          "name": "stdout",
          "text": [
            "\n",
            "Epoch 54: val_accuracy did not improve from 0.94210\n",
            "128/128 [==============================] - 99s 770ms/step - loss: 0.5792 - accuracy: 0.8273 - val_loss: 0.2269 - val_accuracy: 0.9296 - lr: 0.0010\n",
            "Epoch 55/139\n",
            "128/128 [==============================] - ETA: 0s - loss: 0.5620 - accuracy: 0.8395"
          ]
        },
        {
          "output_type": "stream",
          "name": "stderr",
          "text": [
            "WARNING:tensorflow:Learning rate reduction is conditioned on metric `val_acc` which is not available. Available metrics are: loss,accuracy,val_loss,val_accuracy,lr\n"
          ]
        },
        {
          "output_type": "stream",
          "name": "stdout",
          "text": [
            "\n",
            "Epoch 55: val_accuracy did not improve from 0.94210\n",
            "128/128 [==============================] - 97s 759ms/step - loss: 0.5620 - accuracy: 0.8395 - val_loss: 0.2557 - val_accuracy: 0.9327 - lr: 0.0010\n",
            "Epoch 56/139\n",
            "128/128 [==============================] - ETA: 0s - loss: 0.5606 - accuracy: 0.8367"
          ]
        },
        {
          "output_type": "stream",
          "name": "stderr",
          "text": [
            "WARNING:tensorflow:Learning rate reduction is conditioned on metric `val_acc` which is not available. Available metrics are: loss,accuracy,val_loss,val_accuracy,lr\n"
          ]
        },
        {
          "output_type": "stream",
          "name": "stdout",
          "text": [
            "\n",
            "Epoch 56: val_accuracy did not improve from 0.94210\n",
            "128/128 [==============================] - 97s 757ms/step - loss: 0.5606 - accuracy: 0.8367 - val_loss: 0.2269 - val_accuracy: 0.9374 - lr: 0.0010\n",
            "Epoch 57/139\n",
            "128/128 [==============================] - ETA: 0s - loss: 0.5648 - accuracy: 0.8358"
          ]
        },
        {
          "output_type": "stream",
          "name": "stderr",
          "text": [
            "WARNING:tensorflow:Learning rate reduction is conditioned on metric `val_acc` which is not available. Available metrics are: loss,accuracy,val_loss,val_accuracy,lr\n"
          ]
        },
        {
          "output_type": "stream",
          "name": "stdout",
          "text": [
            "\n",
            "Epoch 57: val_accuracy did not improve from 0.94210\n",
            "128/128 [==============================] - 96s 753ms/step - loss: 0.5648 - accuracy: 0.8358 - val_loss: 0.2073 - val_accuracy: 0.9413 - lr: 0.0010\n",
            "Epoch 58/139\n",
            "128/128 [==============================] - ETA: 0s - loss: 0.5564 - accuracy: 0.8390"
          ]
        },
        {
          "output_type": "stream",
          "name": "stderr",
          "text": [
            "WARNING:tensorflow:Learning rate reduction is conditioned on metric `val_acc` which is not available. Available metrics are: loss,accuracy,val_loss,val_accuracy,lr\n"
          ]
        },
        {
          "output_type": "stream",
          "name": "stdout",
          "text": [
            "\n",
            "Epoch 58: val_accuracy did not improve from 0.94210\n",
            "128/128 [==============================] - 96s 754ms/step - loss: 0.5564 - accuracy: 0.8390 - val_loss: 0.2276 - val_accuracy: 0.9335 - lr: 0.0010\n",
            "Epoch 59/139\n",
            "128/128 [==============================] - ETA: 0s - loss: 0.5438 - accuracy: 0.8390"
          ]
        },
        {
          "output_type": "stream",
          "name": "stderr",
          "text": [
            "WARNING:tensorflow:Learning rate reduction is conditioned on metric `val_acc` which is not available. Available metrics are: loss,accuracy,val_loss,val_accuracy,lr\n"
          ]
        },
        {
          "output_type": "stream",
          "name": "stdout",
          "text": [
            "\n",
            "Epoch 59: val_accuracy did not improve from 0.94210\n",
            "128/128 [==============================] - 99s 769ms/step - loss: 0.5438 - accuracy: 0.8390 - val_loss: 0.2310 - val_accuracy: 0.9311 - lr: 0.0010\n",
            "Epoch 60/139\n",
            "128/128 [==============================] - ETA: 0s - loss: 0.5425 - accuracy: 0.8416"
          ]
        },
        {
          "output_type": "stream",
          "name": "stderr",
          "text": [
            "WARNING:tensorflow:Learning rate reduction is conditioned on metric `val_acc` which is not available. Available metrics are: loss,accuracy,val_loss,val_accuracy,lr\n"
          ]
        },
        {
          "output_type": "stream",
          "name": "stdout",
          "text": [
            "\n",
            "Epoch 60: val_accuracy did not improve from 0.94210\n",
            "128/128 [==============================] - 95s 736ms/step - loss: 0.5425 - accuracy: 0.8416 - val_loss: 0.2197 - val_accuracy: 0.9343 - lr: 0.0010\n",
            "Epoch 61/139\n",
            "128/128 [==============================] - ETA: 0s - loss: 0.5405 - accuracy: 0.8411"
          ]
        },
        {
          "output_type": "stream",
          "name": "stderr",
          "text": [
            "WARNING:tensorflow:Learning rate reduction is conditioned on metric `val_acc` which is not available. Available metrics are: loss,accuracy,val_loss,val_accuracy,lr\n"
          ]
        },
        {
          "output_type": "stream",
          "name": "stdout",
          "text": [
            "\n",
            "Epoch 61: val_accuracy did not improve from 0.94210\n",
            "128/128 [==============================] - 101s 791ms/step - loss: 0.5405 - accuracy: 0.8411 - val_loss: 0.2086 - val_accuracy: 0.9374 - lr: 0.0010\n",
            "Epoch 62/139\n",
            "128/128 [==============================] - ETA: 0s - loss: 0.5300 - accuracy: 0.8443"
          ]
        },
        {
          "output_type": "stream",
          "name": "stderr",
          "text": [
            "WARNING:tensorflow:Learning rate reduction is conditioned on metric `val_acc` which is not available. Available metrics are: loss,accuracy,val_loss,val_accuracy,lr\n"
          ]
        },
        {
          "output_type": "stream",
          "name": "stdout",
          "text": [
            "\n",
            "Epoch 62: val_accuracy did not improve from 0.94210\n",
            "128/128 [==============================] - 95s 741ms/step - loss: 0.5300 - accuracy: 0.8443 - val_loss: 0.2154 - val_accuracy: 0.9390 - lr: 0.0010\n",
            "Epoch 63/139\n",
            "128/128 [==============================] - ETA: 0s - loss: 0.5329 - accuracy: 0.8453"
          ]
        },
        {
          "output_type": "stream",
          "name": "stderr",
          "text": [
            "WARNING:tensorflow:Learning rate reduction is conditioned on metric `val_acc` which is not available. Available metrics are: loss,accuracy,val_loss,val_accuracy,lr\n"
          ]
        },
        {
          "output_type": "stream",
          "name": "stdout",
          "text": [
            "\n",
            "Epoch 63: val_accuracy did not improve from 0.94210\n",
            "128/128 [==============================] - 97s 754ms/step - loss: 0.5329 - accuracy: 0.8453 - val_loss: 0.2024 - val_accuracy: 0.9382 - lr: 0.0010\n",
            "Epoch 64/139\n",
            "128/128 [==============================] - ETA: 0s - loss: 0.5379 - accuracy: 0.8474"
          ]
        },
        {
          "output_type": "stream",
          "name": "stderr",
          "text": [
            "WARNING:tensorflow:Learning rate reduction is conditioned on metric `val_acc` which is not available. Available metrics are: loss,accuracy,val_loss,val_accuracy,lr\n"
          ]
        },
        {
          "output_type": "stream",
          "name": "stdout",
          "text": [
            "\n",
            "Epoch 64: val_accuracy did not improve from 0.94210\n",
            "128/128 [==============================] - 98s 766ms/step - loss: 0.5379 - accuracy: 0.8474 - val_loss: 0.2072 - val_accuracy: 0.9421 - lr: 0.0010\n",
            "Epoch 65/139\n",
            "128/128 [==============================] - ETA: 0s - loss: 0.5259 - accuracy: 0.8476"
          ]
        },
        {
          "output_type": "stream",
          "name": "stderr",
          "text": [
            "WARNING:tensorflow:Learning rate reduction is conditioned on metric `val_acc` which is not available. Available metrics are: loss,accuracy,val_loss,val_accuracy,lr\n"
          ]
        },
        {
          "output_type": "stream",
          "name": "stdout",
          "text": [
            "\n",
            "Epoch 65: val_accuracy did not improve from 0.94210\n",
            "128/128 [==============================] - 97s 755ms/step - loss: 0.5259 - accuracy: 0.8476 - val_loss: 0.2258 - val_accuracy: 0.9351 - lr: 0.0010\n",
            "Epoch 66/139\n",
            "128/128 [==============================] - ETA: 0s - loss: 0.5394 - accuracy: 0.8485"
          ]
        },
        {
          "output_type": "stream",
          "name": "stderr",
          "text": [
            "WARNING:tensorflow:Learning rate reduction is conditioned on metric `val_acc` which is not available. Available metrics are: loss,accuracy,val_loss,val_accuracy,lr\n"
          ]
        },
        {
          "output_type": "stream",
          "name": "stdout",
          "text": [
            "\n",
            "Epoch 66: val_accuracy did not improve from 0.94210\n",
            "128/128 [==============================] - 97s 759ms/step - loss: 0.5394 - accuracy: 0.8485 - val_loss: 0.2223 - val_accuracy: 0.9374 - lr: 0.0010\n",
            "Epoch 67/139\n",
            "128/128 [==============================] - ETA: 0s - loss: 0.5177 - accuracy: 0.8517"
          ]
        },
        {
          "output_type": "stream",
          "name": "stderr",
          "text": [
            "WARNING:tensorflow:Learning rate reduction is conditioned on metric `val_acc` which is not available. Available metrics are: loss,accuracy,val_loss,val_accuracy,lr\n"
          ]
        },
        {
          "output_type": "stream",
          "name": "stdout",
          "text": [
            "\n",
            "Epoch 67: val_accuracy improved from 0.94210 to 0.94757, saving model to best_model.h5\n",
            "128/128 [==============================] - 98s 770ms/step - loss: 0.5177 - accuracy: 0.8517 - val_loss: 0.2091 - val_accuracy: 0.9476 - lr: 0.0010\n",
            "Epoch 68/139\n",
            "128/128 [==============================] - ETA: 0s - loss: 0.5321 - accuracy: 0.8480"
          ]
        },
        {
          "output_type": "stream",
          "name": "stderr",
          "text": [
            "WARNING:tensorflow:Learning rate reduction is conditioned on metric `val_acc` which is not available. Available metrics are: loss,accuracy,val_loss,val_accuracy,lr\n"
          ]
        },
        {
          "output_type": "stream",
          "name": "stdout",
          "text": [
            "\n",
            "Epoch 68: val_accuracy did not improve from 0.94757\n",
            "128/128 [==============================] - 94s 738ms/step - loss: 0.5321 - accuracy: 0.8480 - val_loss: 0.1974 - val_accuracy: 0.9405 - lr: 0.0010\n",
            "Epoch 69/139\n",
            "128/128 [==============================] - ETA: 0s - loss: 0.5244 - accuracy: 0.8501"
          ]
        },
        {
          "output_type": "stream",
          "name": "stderr",
          "text": [
            "WARNING:tensorflow:Learning rate reduction is conditioned on metric `val_acc` which is not available. Available metrics are: loss,accuracy,val_loss,val_accuracy,lr\n"
          ]
        },
        {
          "output_type": "stream",
          "name": "stdout",
          "text": [
            "\n",
            "Epoch 69: val_accuracy did not improve from 0.94757\n",
            "128/128 [==============================] - 95s 742ms/step - loss: 0.5244 - accuracy: 0.8501 - val_loss: 0.2447 - val_accuracy: 0.9264 - lr: 0.0010\n",
            "Epoch 70/139\n",
            "128/128 [==============================] - ETA: 0s - loss: 0.5330 - accuracy: 0.8489"
          ]
        },
        {
          "output_type": "stream",
          "name": "stderr",
          "text": [
            "WARNING:tensorflow:Learning rate reduction is conditioned on metric `val_acc` which is not available. Available metrics are: loss,accuracy,val_loss,val_accuracy,lr\n"
          ]
        },
        {
          "output_type": "stream",
          "name": "stdout",
          "text": [
            "\n",
            "Epoch 70: val_accuracy did not improve from 0.94757\n",
            "128/128 [==============================] - 96s 746ms/step - loss: 0.5330 - accuracy: 0.8489 - val_loss: 0.1947 - val_accuracy: 0.9444 - lr: 0.0010\n",
            "Epoch 71/139\n",
            "128/128 [==============================] - ETA: 0s - loss: 0.5294 - accuracy: 0.8531"
          ]
        },
        {
          "output_type": "stream",
          "name": "stderr",
          "text": [
            "WARNING:tensorflow:Learning rate reduction is conditioned on metric `val_acc` which is not available. Available metrics are: loss,accuracy,val_loss,val_accuracy,lr\n"
          ]
        },
        {
          "output_type": "stream",
          "name": "stdout",
          "text": [
            "\n",
            "Epoch 71: val_accuracy did not improve from 0.94757\n",
            "128/128 [==============================] - 98s 762ms/step - loss: 0.5294 - accuracy: 0.8531 - val_loss: 0.3032 - val_accuracy: 0.9053 - lr: 0.0010\n",
            "Epoch 72/139\n",
            "128/128 [==============================] - ETA: 0s - loss: 0.5178 - accuracy: 0.8539"
          ]
        },
        {
          "output_type": "stream",
          "name": "stderr",
          "text": [
            "WARNING:tensorflow:Learning rate reduction is conditioned on metric `val_acc` which is not available. Available metrics are: loss,accuracy,val_loss,val_accuracy,lr\n"
          ]
        },
        {
          "output_type": "stream",
          "name": "stdout",
          "text": [
            "\n",
            "Epoch 72: val_accuracy did not improve from 0.94757\n",
            "128/128 [==============================] - 95s 739ms/step - loss: 0.5178 - accuracy: 0.8539 - val_loss: 0.2065 - val_accuracy: 0.9366 - lr: 0.0010\n",
            "Epoch 73/139\n",
            "128/128 [==============================] - ETA: 0s - loss: 0.5175 - accuracy: 0.8503"
          ]
        },
        {
          "output_type": "stream",
          "name": "stderr",
          "text": [
            "WARNING:tensorflow:Learning rate reduction is conditioned on metric `val_acc` which is not available. Available metrics are: loss,accuracy,val_loss,val_accuracy,lr\n"
          ]
        },
        {
          "output_type": "stream",
          "name": "stdout",
          "text": [
            "\n",
            "Epoch 73: val_accuracy did not improve from 0.94757\n",
            "128/128 [==============================] - 96s 749ms/step - loss: 0.5175 - accuracy: 0.8503 - val_loss: 0.2914 - val_accuracy: 0.9194 - lr: 0.0010\n",
            "Epoch 74/139\n",
            "128/128 [==============================] - ETA: 0s - loss: 0.5307 - accuracy: 0.8496"
          ]
        },
        {
          "output_type": "stream",
          "name": "stderr",
          "text": [
            "WARNING:tensorflow:Learning rate reduction is conditioned on metric `val_acc` which is not available. Available metrics are: loss,accuracy,val_loss,val_accuracy,lr\n"
          ]
        },
        {
          "output_type": "stream",
          "name": "stdout",
          "text": [
            "\n",
            "Epoch 74: val_accuracy did not improve from 0.94757\n",
            "128/128 [==============================] - 99s 772ms/step - loss: 0.5307 - accuracy: 0.8496 - val_loss: 0.2070 - val_accuracy: 0.9390 - lr: 0.0010\n",
            "Epoch 75/139\n",
            "128/128 [==============================] - ETA: 0s - loss: 0.5317 - accuracy: 0.8502"
          ]
        },
        {
          "output_type": "stream",
          "name": "stderr",
          "text": [
            "WARNING:tensorflow:Learning rate reduction is conditioned on metric `val_acc` which is not available. Available metrics are: loss,accuracy,val_loss,val_accuracy,lr\n"
          ]
        },
        {
          "output_type": "stream",
          "name": "stdout",
          "text": [
            "\n",
            "Epoch 75: val_accuracy did not improve from 0.94757\n",
            "128/128 [==============================] - 95s 739ms/step - loss: 0.5317 - accuracy: 0.8502 - val_loss: 0.2344 - val_accuracy: 0.9405 - lr: 0.0010\n",
            "Epoch 76/139\n",
            "128/128 [==============================] - ETA: 0s - loss: 0.5260 - accuracy: 0.8517"
          ]
        },
        {
          "output_type": "stream",
          "name": "stderr",
          "text": [
            "WARNING:tensorflow:Learning rate reduction is conditioned on metric `val_acc` which is not available. Available metrics are: loss,accuracy,val_loss,val_accuracy,lr\n"
          ]
        },
        {
          "output_type": "stream",
          "name": "stdout",
          "text": [
            "\n",
            "Epoch 76: val_accuracy did not improve from 0.94757\n",
            "128/128 [==============================] - 95s 739ms/step - loss: 0.5260 - accuracy: 0.8517 - val_loss: 0.2883 - val_accuracy: 0.9131 - lr: 0.0010\n",
            "Epoch 77/139\n",
            "128/128 [==============================] - ETA: 0s - loss: 0.5120 - accuracy: 0.8535"
          ]
        },
        {
          "output_type": "stream",
          "name": "stderr",
          "text": [
            "WARNING:tensorflow:Learning rate reduction is conditioned on metric `val_acc` which is not available. Available metrics are: loss,accuracy,val_loss,val_accuracy,lr\n"
          ]
        },
        {
          "output_type": "stream",
          "name": "stdout",
          "text": [
            "\n",
            "Epoch 77: val_accuracy did not improve from 0.94757\n",
            "128/128 [==============================] - 102s 798ms/step - loss: 0.5120 - accuracy: 0.8535 - val_loss: 0.1803 - val_accuracy: 0.9476 - lr: 0.0010\n",
            "Epoch 78/139\n",
            "128/128 [==============================] - ETA: 0s - loss: 0.4961 - accuracy: 0.8603"
          ]
        },
        {
          "output_type": "stream",
          "name": "stderr",
          "text": [
            "WARNING:tensorflow:Learning rate reduction is conditioned on metric `val_acc` which is not available. Available metrics are: loss,accuracy,val_loss,val_accuracy,lr\n"
          ]
        },
        {
          "output_type": "stream",
          "name": "stdout",
          "text": [
            "\n",
            "Epoch 78: val_accuracy did not improve from 0.94757\n",
            "128/128 [==============================] - 97s 758ms/step - loss: 0.4961 - accuracy: 0.8603 - val_loss: 0.1918 - val_accuracy: 0.9437 - lr: 0.0010\n",
            "Epoch 79/139\n",
            "128/128 [==============================] - ETA: 0s - loss: 0.5040 - accuracy: 0.8587"
          ]
        },
        {
          "output_type": "stream",
          "name": "stderr",
          "text": [
            "WARNING:tensorflow:Learning rate reduction is conditioned on metric `val_acc` which is not available. Available metrics are: loss,accuracy,val_loss,val_accuracy,lr\n"
          ]
        },
        {
          "output_type": "stream",
          "name": "stdout",
          "text": [
            "\n",
            "Epoch 79: val_accuracy did not improve from 0.94757\n",
            "128/128 [==============================] - 95s 741ms/step - loss: 0.5040 - accuracy: 0.8587 - val_loss: 0.2152 - val_accuracy: 0.9366 - lr: 0.0010\n",
            "Epoch 80/139\n",
            "128/128 [==============================] - ETA: 0s - loss: 0.5309 - accuracy: 0.8540"
          ]
        },
        {
          "output_type": "stream",
          "name": "stderr",
          "text": [
            "WARNING:tensorflow:Learning rate reduction is conditioned on metric `val_acc` which is not available. Available metrics are: loss,accuracy,val_loss,val_accuracy,lr\n"
          ]
        },
        {
          "output_type": "stream",
          "name": "stdout",
          "text": [
            "\n",
            "Epoch 80: val_accuracy did not improve from 0.94757\n",
            "128/128 [==============================] - 97s 762ms/step - loss: 0.5309 - accuracy: 0.8540 - val_loss: 0.1995 - val_accuracy: 0.9405 - lr: 0.0010\n",
            "Epoch 81/139\n",
            "128/128 [==============================] - ETA: 0s - loss: 0.5077 - accuracy: 0.8616"
          ]
        },
        {
          "output_type": "stream",
          "name": "stderr",
          "text": [
            "WARNING:tensorflow:Learning rate reduction is conditioned on metric `val_acc` which is not available. Available metrics are: loss,accuracy,val_loss,val_accuracy,lr\n"
          ]
        },
        {
          "output_type": "stream",
          "name": "stdout",
          "text": [
            "\n",
            "Epoch 81: val_accuracy did not improve from 0.94757\n",
            "128/128 [==============================] - 96s 745ms/step - loss: 0.5077 - accuracy: 0.8616 - val_loss: 0.2143 - val_accuracy: 0.9343 - lr: 0.0010\n",
            "Epoch 82/139\n",
            "128/128 [==============================] - ETA: 0s - loss: 0.4964 - accuracy: 0.8633"
          ]
        },
        {
          "output_type": "stream",
          "name": "stderr",
          "text": [
            "WARNING:tensorflow:Learning rate reduction is conditioned on metric `val_acc` which is not available. Available metrics are: loss,accuracy,val_loss,val_accuracy,lr\n"
          ]
        },
        {
          "output_type": "stream",
          "name": "stdout",
          "text": [
            "\n",
            "Epoch 82: val_accuracy did not improve from 0.94757\n",
            "128/128 [==============================] - 94s 735ms/step - loss: 0.4964 - accuracy: 0.8633 - val_loss: 0.2357 - val_accuracy: 0.9304 - lr: 0.0010\n",
            "Epoch 83/139\n",
            "128/128 [==============================] - ETA: 0s - loss: 0.5185 - accuracy: 0.8584"
          ]
        },
        {
          "output_type": "stream",
          "name": "stderr",
          "text": [
            "WARNING:tensorflow:Learning rate reduction is conditioned on metric `val_acc` which is not available. Available metrics are: loss,accuracy,val_loss,val_accuracy,lr\n"
          ]
        },
        {
          "output_type": "stream",
          "name": "stdout",
          "text": [
            "\n",
            "Epoch 83: val_accuracy did not improve from 0.94757\n",
            "128/128 [==============================] - 99s 771ms/step - loss: 0.5185 - accuracy: 0.8584 - val_loss: 0.2690 - val_accuracy: 0.9233 - lr: 0.0010\n",
            "Epoch 84/139\n",
            "128/128 [==============================] - ETA: 0s - loss: 0.5144 - accuracy: 0.8585"
          ]
        },
        {
          "output_type": "stream",
          "name": "stderr",
          "text": [
            "WARNING:tensorflow:Learning rate reduction is conditioned on metric `val_acc` which is not available. Available metrics are: loss,accuracy,val_loss,val_accuracy,lr\n"
          ]
        },
        {
          "output_type": "stream",
          "name": "stdout",
          "text": [
            "\n",
            "Epoch 84: val_accuracy did not improve from 0.94757\n",
            "128/128 [==============================] - 95s 741ms/step - loss: 0.5144 - accuracy: 0.8585 - val_loss: 0.2240 - val_accuracy: 0.9327 - lr: 0.0010\n",
            "Epoch 85/139\n",
            "128/128 [==============================] - ETA: 0s - loss: 0.5107 - accuracy: 0.8570"
          ]
        },
        {
          "output_type": "stream",
          "name": "stderr",
          "text": [
            "WARNING:tensorflow:Learning rate reduction is conditioned on metric `val_acc` which is not available. Available metrics are: loss,accuracy,val_loss,val_accuracy,lr\n"
          ]
        },
        {
          "output_type": "stream",
          "name": "stdout",
          "text": [
            "\n",
            "Epoch 85: val_accuracy did not improve from 0.94757\n",
            "128/128 [==============================] - 96s 747ms/step - loss: 0.5107 - accuracy: 0.8570 - val_loss: 0.2324 - val_accuracy: 0.9233 - lr: 0.0010\n",
            "Epoch 86/139\n",
            "128/128 [==============================] - ETA: 0s - loss: 0.5105 - accuracy: 0.8584"
          ]
        },
        {
          "output_type": "stream",
          "name": "stderr",
          "text": [
            "WARNING:tensorflow:Learning rate reduction is conditioned on metric `val_acc` which is not available. Available metrics are: loss,accuracy,val_loss,val_accuracy,lr\n"
          ]
        },
        {
          "output_type": "stream",
          "name": "stdout",
          "text": [
            "\n",
            "Epoch 86: val_accuracy did not improve from 0.94757\n",
            "128/128 [==============================] - 95s 740ms/step - loss: 0.5105 - accuracy: 0.8584 - val_loss: 0.2163 - val_accuracy: 0.9397 - lr: 0.0010\n",
            "Epoch 87/139\n",
            "128/128 [==============================] - ETA: 0s - loss: 0.5084 - accuracy: 0.8586"
          ]
        },
        {
          "output_type": "stream",
          "name": "stderr",
          "text": [
            "WARNING:tensorflow:Learning rate reduction is conditioned on metric `val_acc` which is not available. Available metrics are: loss,accuracy,val_loss,val_accuracy,lr\n"
          ]
        },
        {
          "output_type": "stream",
          "name": "stdout",
          "text": [
            "\n",
            "Epoch 87: val_accuracy did not improve from 0.94757\n",
            "128/128 [==============================] - 96s 752ms/step - loss: 0.5084 - accuracy: 0.8586 - val_loss: 0.1803 - val_accuracy: 0.9437 - lr: 0.0010\n",
            "Epoch 88/139\n",
            "128/128 [==============================] - ETA: 0s - loss: 0.5191 - accuracy: 0.8556"
          ]
        },
        {
          "output_type": "stream",
          "name": "stderr",
          "text": [
            "WARNING:tensorflow:Learning rate reduction is conditioned on metric `val_acc` which is not available. Available metrics are: loss,accuracy,val_loss,val_accuracy,lr\n"
          ]
        },
        {
          "output_type": "stream",
          "name": "stdout",
          "text": [
            "\n",
            "Epoch 88: val_accuracy did not improve from 0.94757\n",
            "128/128 [==============================] - 97s 758ms/step - loss: 0.5191 - accuracy: 0.8556 - val_loss: 0.2013 - val_accuracy: 0.9397 - lr: 0.0010\n",
            "Epoch 89/139\n",
            "128/128 [==============================] - ETA: 0s - loss: 0.5132 - accuracy: 0.8550"
          ]
        },
        {
          "output_type": "stream",
          "name": "stderr",
          "text": [
            "WARNING:tensorflow:Learning rate reduction is conditioned on metric `val_acc` which is not available. Available metrics are: loss,accuracy,val_loss,val_accuracy,lr\n"
          ]
        },
        {
          "output_type": "stream",
          "name": "stdout",
          "text": [
            "\n",
            "Epoch 89: val_accuracy did not improve from 0.94757\n",
            "128/128 [==============================] - 97s 757ms/step - loss: 0.5132 - accuracy: 0.8550 - val_loss: 0.2128 - val_accuracy: 0.9374 - lr: 0.0010\n",
            "Epoch 90/139\n",
            "128/128 [==============================] - ETA: 0s - loss: 0.5042 - accuracy: 0.8603"
          ]
        },
        {
          "output_type": "stream",
          "name": "stderr",
          "text": [
            "WARNING:tensorflow:Learning rate reduction is conditioned on metric `val_acc` which is not available. Available metrics are: loss,accuracy,val_loss,val_accuracy,lr\n"
          ]
        },
        {
          "output_type": "stream",
          "name": "stdout",
          "text": [
            "\n",
            "Epoch 90: val_accuracy did not improve from 0.94757\n",
            "128/128 [==============================] - 94s 738ms/step - loss: 0.5042 - accuracy: 0.8603 - val_loss: 0.5260 - val_accuracy: 0.8873 - lr: 0.0010\n",
            "Epoch 91/139\n",
            "128/128 [==============================] - ETA: 0s - loss: 0.4935 - accuracy: 0.8599"
          ]
        },
        {
          "output_type": "stream",
          "name": "stderr",
          "text": [
            "WARNING:tensorflow:Learning rate reduction is conditioned on metric `val_acc` which is not available. Available metrics are: loss,accuracy,val_loss,val_accuracy,lr\n"
          ]
        },
        {
          "output_type": "stream",
          "name": "stdout",
          "text": [
            "\n",
            "Epoch 91: val_accuracy did not improve from 0.94757\n",
            "128/128 [==============================] - 95s 742ms/step - loss: 0.4935 - accuracy: 0.8599 - val_loss: 0.2165 - val_accuracy: 0.9366 - lr: 0.0010\n",
            "Epoch 92/139\n",
            "128/128 [==============================] - ETA: 0s - loss: 0.4909 - accuracy: 0.8644"
          ]
        },
        {
          "output_type": "stream",
          "name": "stderr",
          "text": [
            "WARNING:tensorflow:Learning rate reduction is conditioned on metric `val_acc` which is not available. Available metrics are: loss,accuracy,val_loss,val_accuracy,lr\n"
          ]
        },
        {
          "output_type": "stream",
          "name": "stdout",
          "text": [
            "\n",
            "Epoch 92: val_accuracy did not improve from 0.94757\n",
            "128/128 [==============================] - 97s 759ms/step - loss: 0.4909 - accuracy: 0.8644 - val_loss: 0.2007 - val_accuracy: 0.9405 - lr: 0.0010\n",
            "Epoch 93/139\n",
            "128/128 [==============================] - ETA: 0s - loss: 0.4952 - accuracy: 0.8630"
          ]
        },
        {
          "output_type": "stream",
          "name": "stderr",
          "text": [
            "WARNING:tensorflow:Learning rate reduction is conditioned on metric `val_acc` which is not available. Available metrics are: loss,accuracy,val_loss,val_accuracy,lr\n"
          ]
        },
        {
          "output_type": "stream",
          "name": "stdout",
          "text": [
            "\n",
            "Epoch 93: val_accuracy did not improve from 0.94757\n",
            "128/128 [==============================] - 95s 741ms/step - loss: 0.4952 - accuracy: 0.8630 - val_loss: 0.1831 - val_accuracy: 0.9476 - lr: 0.0010\n",
            "Epoch 94/139\n",
            "128/128 [==============================] - ETA: 0s - loss: 0.4897 - accuracy: 0.8664"
          ]
        },
        {
          "output_type": "stream",
          "name": "stderr",
          "text": [
            "WARNING:tensorflow:Learning rate reduction is conditioned on metric `val_acc` which is not available. Available metrics are: loss,accuracy,val_loss,val_accuracy,lr\n"
          ]
        },
        {
          "output_type": "stream",
          "name": "stdout",
          "text": [
            "\n",
            "Epoch 94: val_accuracy did not improve from 0.94757\n",
            "128/128 [==============================] - 97s 757ms/step - loss: 0.4897 - accuracy: 0.8664 - val_loss: 0.2316 - val_accuracy: 0.9280 - lr: 0.0010\n",
            "Epoch 95/139\n",
            "128/128 [==============================] - ETA: 0s - loss: 0.4816 - accuracy: 0.8682"
          ]
        },
        {
          "output_type": "stream",
          "name": "stderr",
          "text": [
            "WARNING:tensorflow:Learning rate reduction is conditioned on metric `val_acc` which is not available. Available metrics are: loss,accuracy,val_loss,val_accuracy,lr\n"
          ]
        },
        {
          "output_type": "stream",
          "name": "stdout",
          "text": [
            "\n",
            "Epoch 95: val_accuracy did not improve from 0.94757\n",
            "128/128 [==============================] - 95s 740ms/step - loss: 0.4816 - accuracy: 0.8682 - val_loss: 0.2218 - val_accuracy: 0.9296 - lr: 0.0010\n",
            "Epoch 96/139\n",
            "128/128 [==============================] - ETA: 0s - loss: 0.4934 - accuracy: 0.8613"
          ]
        },
        {
          "output_type": "stream",
          "name": "stderr",
          "text": [
            "WARNING:tensorflow:Learning rate reduction is conditioned on metric `val_acc` which is not available. Available metrics are: loss,accuracy,val_loss,val_accuracy,lr\n"
          ]
        },
        {
          "output_type": "stream",
          "name": "stdout",
          "text": [
            "\n",
            "Epoch 96: val_accuracy did not improve from 0.94757\n",
            "128/128 [==============================] - 95s 742ms/step - loss: 0.4934 - accuracy: 0.8613 - val_loss: 0.1859 - val_accuracy: 0.9405 - lr: 0.0010\n",
            "Epoch 97/139\n",
            "128/128 [==============================] - ETA: 0s - loss: 0.5096 - accuracy: 0.8624"
          ]
        },
        {
          "output_type": "stream",
          "name": "stderr",
          "text": [
            "WARNING:tensorflow:Learning rate reduction is conditioned on metric `val_acc` which is not available. Available metrics are: loss,accuracy,val_loss,val_accuracy,lr\n"
          ]
        },
        {
          "output_type": "stream",
          "name": "stdout",
          "text": [
            "\n",
            "Epoch 97: val_accuracy did not improve from 0.94757\n",
            "128/128 [==============================] - 97s 751ms/step - loss: 0.5096 - accuracy: 0.8624 - val_loss: 0.1860 - val_accuracy: 0.9452 - lr: 0.0010\n",
            "Epoch 98/139\n",
            "128/128 [==============================] - ETA: 0s - loss: 0.4930 - accuracy: 0.8650"
          ]
        },
        {
          "output_type": "stream",
          "name": "stderr",
          "text": [
            "WARNING:tensorflow:Learning rate reduction is conditioned on metric `val_acc` which is not available. Available metrics are: loss,accuracy,val_loss,val_accuracy,lr\n"
          ]
        },
        {
          "output_type": "stream",
          "name": "stdout",
          "text": [
            "\n",
            "Epoch 98: val_accuracy did not improve from 0.94757\n",
            "128/128 [==============================] - 101s 786ms/step - loss: 0.4930 - accuracy: 0.8650 - val_loss: 0.2061 - val_accuracy: 0.9421 - lr: 0.0010\n",
            "Epoch 99/139\n",
            "128/128 [==============================] - ETA: 0s - loss: 0.5152 - accuracy: 0.8548"
          ]
        },
        {
          "output_type": "stream",
          "name": "stderr",
          "text": [
            "WARNING:tensorflow:Learning rate reduction is conditioned on metric `val_acc` which is not available. Available metrics are: loss,accuracy,val_loss,val_accuracy,lr\n"
          ]
        },
        {
          "output_type": "stream",
          "name": "stdout",
          "text": [
            "\n",
            "Epoch 99: val_accuracy did not improve from 0.94757\n",
            "128/128 [==============================] - 95s 741ms/step - loss: 0.5152 - accuracy: 0.8548 - val_loss: 0.2291 - val_accuracy: 0.9460 - lr: 0.0010\n",
            "Epoch 100/139\n",
            "128/128 [==============================] - ETA: 0s - loss: 0.4900 - accuracy: 0.8630"
          ]
        },
        {
          "output_type": "stream",
          "name": "stderr",
          "text": [
            "WARNING:tensorflow:Learning rate reduction is conditioned on metric `val_acc` which is not available. Available metrics are: loss,accuracy,val_loss,val_accuracy,lr\n"
          ]
        },
        {
          "output_type": "stream",
          "name": "stdout",
          "text": [
            "\n",
            "Epoch 100: val_accuracy did not improve from 0.94757\n",
            "128/128 [==============================] - 97s 758ms/step - loss: 0.4900 - accuracy: 0.8630 - val_loss: 0.2011 - val_accuracy: 0.9460 - lr: 0.0010\n",
            "Epoch 101/139\n",
            "128/128 [==============================] - ETA: 0s - loss: 0.4871 - accuracy: 0.8641"
          ]
        },
        {
          "output_type": "stream",
          "name": "stderr",
          "text": [
            "WARNING:tensorflow:Learning rate reduction is conditioned on metric `val_acc` which is not available. Available metrics are: loss,accuracy,val_loss,val_accuracy,lr\n"
          ]
        },
        {
          "output_type": "stream",
          "name": "stdout",
          "text": [
            "\n",
            "Epoch 101: val_accuracy did not improve from 0.94757\n",
            "128/128 [==============================] - 96s 749ms/step - loss: 0.4871 - accuracy: 0.8641 - val_loss: 0.2721 - val_accuracy: 0.9296 - lr: 0.0010\n",
            "Epoch 102/139\n",
            "128/128 [==============================] - ETA: 0s - loss: 0.4980 - accuracy: 0.8668"
          ]
        },
        {
          "output_type": "stream",
          "name": "stderr",
          "text": [
            "WARNING:tensorflow:Learning rate reduction is conditioned on metric `val_acc` which is not available. Available metrics are: loss,accuracy,val_loss,val_accuracy,lr\n"
          ]
        },
        {
          "output_type": "stream",
          "name": "stdout",
          "text": [
            "\n",
            "Epoch 102: val_accuracy did not improve from 0.94757\n",
            "128/128 [==============================] - 97s 753ms/step - loss: 0.4980 - accuracy: 0.8668 - val_loss: 0.2051 - val_accuracy: 0.9319 - lr: 0.0010\n",
            "Epoch 103/139\n",
            "128/128 [==============================] - ETA: 0s - loss: 0.4903 - accuracy: 0.8650"
          ]
        },
        {
          "output_type": "stream",
          "name": "stderr",
          "text": [
            "WARNING:tensorflow:Learning rate reduction is conditioned on metric `val_acc` which is not available. Available metrics are: loss,accuracy,val_loss,val_accuracy,lr\n"
          ]
        },
        {
          "output_type": "stream",
          "name": "stdout",
          "text": [
            "\n",
            "Epoch 103: val_accuracy did not improve from 0.94757\n",
            "128/128 [==============================] - 96s 752ms/step - loss: 0.4903 - accuracy: 0.8650 - val_loss: 0.2025 - val_accuracy: 0.9429 - lr: 0.0010\n",
            "Epoch 104/139\n",
            "128/128 [==============================] - ETA: 0s - loss: 0.5128 - accuracy: 0.8609"
          ]
        },
        {
          "output_type": "stream",
          "name": "stderr",
          "text": [
            "WARNING:tensorflow:Learning rate reduction is conditioned on metric `val_acc` which is not available. Available metrics are: loss,accuracy,val_loss,val_accuracy,lr\n"
          ]
        },
        {
          "output_type": "stream",
          "name": "stdout",
          "text": [
            "\n",
            "Epoch 104: val_accuracy did not improve from 0.94757\n",
            "128/128 [==============================] - 96s 753ms/step - loss: 0.5128 - accuracy: 0.8609 - val_loss: 0.2367 - val_accuracy: 0.9437 - lr: 0.0010\n",
            "Epoch 105/139\n",
            "128/128 [==============================] - ETA: 0s - loss: 0.4980 - accuracy: 0.8666"
          ]
        },
        {
          "output_type": "stream",
          "name": "stderr",
          "text": [
            "WARNING:tensorflow:Learning rate reduction is conditioned on metric `val_acc` which is not available. Available metrics are: loss,accuracy,val_loss,val_accuracy,lr\n"
          ]
        },
        {
          "output_type": "stream",
          "name": "stdout",
          "text": [
            "\n",
            "Epoch 105: val_accuracy improved from 0.94757 to 0.94992, saving model to best_model.h5\n",
            "128/128 [==============================] - 95s 740ms/step - loss: 0.4980 - accuracy: 0.8666 - val_loss: 0.2128 - val_accuracy: 0.9499 - lr: 0.0010\n",
            "Epoch 106/139\n",
            "128/128 [==============================] - ETA: 0s - loss: 0.4853 - accuracy: 0.8670"
          ]
        },
        {
          "output_type": "stream",
          "name": "stderr",
          "text": [
            "WARNING:tensorflow:Learning rate reduction is conditioned on metric `val_acc` which is not available. Available metrics are: loss,accuracy,val_loss,val_accuracy,lr\n"
          ]
        },
        {
          "output_type": "stream",
          "name": "stdout",
          "text": [
            "\n",
            "Epoch 106: val_accuracy did not improve from 0.94992\n",
            "128/128 [==============================] - 96s 749ms/step - loss: 0.4853 - accuracy: 0.8670 - val_loss: 0.2848 - val_accuracy: 0.9327 - lr: 0.0010\n",
            "Epoch 107/139\n",
            "128/128 [==============================] - ETA: 0s - loss: 0.4974 - accuracy: 0.8638"
          ]
        },
        {
          "output_type": "stream",
          "name": "stderr",
          "text": [
            "WARNING:tensorflow:Learning rate reduction is conditioned on metric `val_acc` which is not available. Available metrics are: loss,accuracy,val_loss,val_accuracy,lr\n"
          ]
        },
        {
          "output_type": "stream",
          "name": "stdout",
          "text": [
            "\n",
            "Epoch 107: val_accuracy did not improve from 0.94992\n",
            "128/128 [==============================] - 99s 772ms/step - loss: 0.4974 - accuracy: 0.8638 - val_loss: 0.1946 - val_accuracy: 0.9460 - lr: 0.0010\n",
            "Epoch 108/139\n",
            "128/128 [==============================] - ETA: 0s - loss: 0.4883 - accuracy: 0.8627"
          ]
        },
        {
          "output_type": "stream",
          "name": "stderr",
          "text": [
            "WARNING:tensorflow:Learning rate reduction is conditioned on metric `val_acc` which is not available. Available metrics are: loss,accuracy,val_loss,val_accuracy,lr\n"
          ]
        },
        {
          "output_type": "stream",
          "name": "stdout",
          "text": [
            "\n",
            "Epoch 108: val_accuracy did not improve from 0.94992\n",
            "128/128 [==============================] - 97s 760ms/step - loss: 0.4883 - accuracy: 0.8627 - val_loss: 0.2302 - val_accuracy: 0.9452 - lr: 0.0010\n",
            "Epoch 109/139\n",
            "128/128 [==============================] - ETA: 0s - loss: 0.4860 - accuracy: 0.8657"
          ]
        },
        {
          "output_type": "stream",
          "name": "stderr",
          "text": [
            "WARNING:tensorflow:Learning rate reduction is conditioned on metric `val_acc` which is not available. Available metrics are: loss,accuracy,val_loss,val_accuracy,lr\n"
          ]
        },
        {
          "output_type": "stream",
          "name": "stdout",
          "text": [
            "\n",
            "Epoch 109: val_accuracy did not improve from 0.94992\n",
            "128/128 [==============================] - 96s 748ms/step - loss: 0.4860 - accuracy: 0.8657 - val_loss: 0.2800 - val_accuracy: 0.9257 - lr: 0.0010\n",
            "Epoch 110/139\n",
            "128/128 [==============================] - ETA: 0s - loss: 0.4818 - accuracy: 0.8670"
          ]
        },
        {
          "output_type": "stream",
          "name": "stderr",
          "text": [
            "WARNING:tensorflow:Learning rate reduction is conditioned on metric `val_acc` which is not available. Available metrics are: loss,accuracy,val_loss,val_accuracy,lr\n"
          ]
        },
        {
          "output_type": "stream",
          "name": "stdout",
          "text": [
            "\n",
            "Epoch 110: val_accuracy did not improve from 0.94992\n",
            "128/128 [==============================] - 97s 761ms/step - loss: 0.4818 - accuracy: 0.8670 - val_loss: 0.1777 - val_accuracy: 0.9476 - lr: 0.0010\n",
            "Epoch 111/139\n",
            "128/128 [==============================] - ETA: 0s - loss: 0.4995 - accuracy: 0.8643"
          ]
        },
        {
          "output_type": "stream",
          "name": "stderr",
          "text": [
            "WARNING:tensorflow:Learning rate reduction is conditioned on metric `val_acc` which is not available. Available metrics are: loss,accuracy,val_loss,val_accuracy,lr\n"
          ]
        },
        {
          "output_type": "stream",
          "name": "stdout",
          "text": [
            "\n",
            "Epoch 111: val_accuracy did not improve from 0.94992\n",
            "128/128 [==============================] - 99s 772ms/step - loss: 0.4995 - accuracy: 0.8643 - val_loss: 0.1812 - val_accuracy: 0.9460 - lr: 0.0010\n",
            "Epoch 112/139\n",
            "128/128 [==============================] - ETA: 0s - loss: 0.4949 - accuracy: 0.8657"
          ]
        },
        {
          "output_type": "stream",
          "name": "stderr",
          "text": [
            "WARNING:tensorflow:Learning rate reduction is conditioned on metric `val_acc` which is not available. Available metrics are: loss,accuracy,val_loss,val_accuracy,lr\n"
          ]
        },
        {
          "output_type": "stream",
          "name": "stdout",
          "text": [
            "\n",
            "Epoch 112: val_accuracy did not improve from 0.94992\n",
            "128/128 [==============================] - 95s 739ms/step - loss: 0.4949 - accuracy: 0.8657 - val_loss: 0.1972 - val_accuracy: 0.9452 - lr: 0.0010\n",
            "Epoch 113/139\n",
            "128/128 [==============================] - ETA: 0s - loss: 0.4821 - accuracy: 0.8676"
          ]
        },
        {
          "output_type": "stream",
          "name": "stderr",
          "text": [
            "WARNING:tensorflow:Learning rate reduction is conditioned on metric `val_acc` which is not available. Available metrics are: loss,accuracy,val_loss,val_accuracy,lr\n"
          ]
        },
        {
          "output_type": "stream",
          "name": "stdout",
          "text": [
            "\n",
            "Epoch 113: val_accuracy did not improve from 0.94992\n",
            "128/128 [==============================] - 99s 776ms/step - loss: 0.4821 - accuracy: 0.8676 - val_loss: 0.1944 - val_accuracy: 0.9421 - lr: 0.0010\n",
            "Epoch 114/139\n",
            "128/128 [==============================] - ETA: 0s - loss: 0.4817 - accuracy: 0.8704"
          ]
        },
        {
          "output_type": "stream",
          "name": "stderr",
          "text": [
            "WARNING:tensorflow:Learning rate reduction is conditioned on metric `val_acc` which is not available. Available metrics are: loss,accuracy,val_loss,val_accuracy,lr\n"
          ]
        },
        {
          "output_type": "stream",
          "name": "stdout",
          "text": [
            "\n",
            "Epoch 114: val_accuracy did not improve from 0.94992\n",
            "128/128 [==============================] - 95s 740ms/step - loss: 0.4817 - accuracy: 0.8704 - val_loss: 0.2159 - val_accuracy: 0.9405 - lr: 0.0010\n",
            "Epoch 115/139\n",
            "128/128 [==============================] - ETA: 0s - loss: 0.5034 - accuracy: 0.8644"
          ]
        },
        {
          "output_type": "stream",
          "name": "stderr",
          "text": [
            "WARNING:tensorflow:Learning rate reduction is conditioned on metric `val_acc` which is not available. Available metrics are: loss,accuracy,val_loss,val_accuracy,lr\n"
          ]
        },
        {
          "output_type": "stream",
          "name": "stdout",
          "text": [
            "\n",
            "Epoch 115: val_accuracy improved from 0.94992 to 0.95149, saving model to best_model.h5\n",
            "128/128 [==============================] - 98s 763ms/step - loss: 0.5034 - accuracy: 0.8644 - val_loss: 0.1630 - val_accuracy: 0.9515 - lr: 0.0010\n",
            "Epoch 116/139\n",
            "128/128 [==============================] - ETA: 0s - loss: 0.4785 - accuracy: 0.8710"
          ]
        },
        {
          "output_type": "stream",
          "name": "stderr",
          "text": [
            "WARNING:tensorflow:Learning rate reduction is conditioned on metric `val_acc` which is not available. Available metrics are: loss,accuracy,val_loss,val_accuracy,lr\n"
          ]
        },
        {
          "output_type": "stream",
          "name": "stdout",
          "text": [
            "\n",
            "Epoch 116: val_accuracy did not improve from 0.95149\n",
            "128/128 [==============================] - 98s 762ms/step - loss: 0.4785 - accuracy: 0.8710 - val_loss: 0.2395 - val_accuracy: 0.9366 - lr: 0.0010\n",
            "Epoch 117/139\n",
            "128/128 [==============================] - ETA: 0s - loss: 0.4877 - accuracy: 0.8657"
          ]
        },
        {
          "output_type": "stream",
          "name": "stderr",
          "text": [
            "WARNING:tensorflow:Learning rate reduction is conditioned on metric `val_acc` which is not available. Available metrics are: loss,accuracy,val_loss,val_accuracy,lr\n"
          ]
        },
        {
          "output_type": "stream",
          "name": "stdout",
          "text": [
            "\n",
            "Epoch 117: val_accuracy did not improve from 0.95149\n",
            "128/128 [==============================] - 95s 741ms/step - loss: 0.4877 - accuracy: 0.8657 - val_loss: 0.2583 - val_accuracy: 0.9421 - lr: 0.0010\n",
            "Epoch 118/139\n",
            "128/128 [==============================] - ETA: 0s - loss: 0.4804 - accuracy: 0.8708"
          ]
        },
        {
          "output_type": "stream",
          "name": "stderr",
          "text": [
            "WARNING:tensorflow:Learning rate reduction is conditioned on metric `val_acc` which is not available. Available metrics are: loss,accuracy,val_loss,val_accuracy,lr\n"
          ]
        },
        {
          "output_type": "stream",
          "name": "stdout",
          "text": [
            "\n",
            "Epoch 118: val_accuracy did not improve from 0.95149\n",
            "128/128 [==============================] - 97s 758ms/step - loss: 0.4804 - accuracy: 0.8708 - val_loss: 0.1804 - val_accuracy: 0.9421 - lr: 0.0010\n",
            "Epoch 119/139\n",
            "128/128 [==============================] - ETA: 0s - loss: 0.4808 - accuracy: 0.8665"
          ]
        },
        {
          "output_type": "stream",
          "name": "stderr",
          "text": [
            "WARNING:tensorflow:Learning rate reduction is conditioned on metric `val_acc` which is not available. Available metrics are: loss,accuracy,val_loss,val_accuracy,lr\n"
          ]
        },
        {
          "output_type": "stream",
          "name": "stdout",
          "text": [
            "\n",
            "Epoch 119: val_accuracy did not improve from 0.95149\n",
            "128/128 [==============================] - 94s 737ms/step - loss: 0.4808 - accuracy: 0.8665 - val_loss: 0.2494 - val_accuracy: 0.9460 - lr: 0.0010\n",
            "Epoch 120/139\n",
            "128/128 [==============================] - ETA: 0s - loss: 0.5147 - accuracy: 0.8627"
          ]
        },
        {
          "output_type": "stream",
          "name": "stderr",
          "text": [
            "WARNING:tensorflow:Learning rate reduction is conditioned on metric `val_acc` which is not available. Available metrics are: loss,accuracy,val_loss,val_accuracy,lr\n"
          ]
        },
        {
          "output_type": "stream",
          "name": "stdout",
          "text": [
            "\n",
            "Epoch 120: val_accuracy did not improve from 0.95149\n",
            "128/128 [==============================] - 98s 769ms/step - loss: 0.5147 - accuracy: 0.8627 - val_loss: 0.2665 - val_accuracy: 0.9288 - lr: 0.0010\n",
            "Epoch 121/139\n",
            "128/128 [==============================] - ETA: 0s - loss: 0.5059 - accuracy: 0.8629"
          ]
        },
        {
          "output_type": "stream",
          "name": "stderr",
          "text": [
            "WARNING:tensorflow:Learning rate reduction is conditioned on metric `val_acc` which is not available. Available metrics are: loss,accuracy,val_loss,val_accuracy,lr\n"
          ]
        },
        {
          "output_type": "stream",
          "name": "stdout",
          "text": [
            "\n",
            "Epoch 121: val_accuracy improved from 0.95149 to 0.95227, saving model to best_model.h5\n",
            "128/128 [==============================] - 97s 757ms/step - loss: 0.5059 - accuracy: 0.8629 - val_loss: 0.1777 - val_accuracy: 0.9523 - lr: 0.0010\n",
            "Epoch 122/139\n",
            "128/128 [==============================] - ETA: 0s - loss: 0.5096 - accuracy: 0.8635"
          ]
        },
        {
          "output_type": "stream",
          "name": "stderr",
          "text": [
            "WARNING:tensorflow:Learning rate reduction is conditioned on metric `val_acc` which is not available. Available metrics are: loss,accuracy,val_loss,val_accuracy,lr\n"
          ]
        },
        {
          "output_type": "stream",
          "name": "stdout",
          "text": [
            "\n",
            "Epoch 122: val_accuracy did not improve from 0.95227\n",
            "128/128 [==============================] - 95s 739ms/step - loss: 0.5096 - accuracy: 0.8635 - val_loss: 0.1891 - val_accuracy: 0.9460 - lr: 0.0010\n",
            "Epoch 123/139\n",
            "128/128 [==============================] - ETA: 0s - loss: 0.4951 - accuracy: 0.8650"
          ]
        },
        {
          "output_type": "stream",
          "name": "stderr",
          "text": [
            "WARNING:tensorflow:Learning rate reduction is conditioned on metric `val_acc` which is not available. Available metrics are: loss,accuracy,val_loss,val_accuracy,lr\n"
          ]
        },
        {
          "output_type": "stream",
          "name": "stdout",
          "text": [
            "\n",
            "Epoch 123: val_accuracy did not improve from 0.95227\n",
            "128/128 [==============================] - 96s 753ms/step - loss: 0.4951 - accuracy: 0.8650 - val_loss: 0.1663 - val_accuracy: 0.9507 - lr: 0.0010\n",
            "Epoch 124/139\n",
            "128/128 [==============================] - ETA: 0s - loss: 0.5166 - accuracy: 0.8608"
          ]
        },
        {
          "output_type": "stream",
          "name": "stderr",
          "text": [
            "WARNING:tensorflow:Learning rate reduction is conditioned on metric `val_acc` which is not available. Available metrics are: loss,accuracy,val_loss,val_accuracy,lr\n"
          ]
        },
        {
          "output_type": "stream",
          "name": "stdout",
          "text": [
            "\n",
            "Epoch 124: val_accuracy did not improve from 0.95227\n",
            "128/128 [==============================] - 99s 774ms/step - loss: 0.5166 - accuracy: 0.8608 - val_loss: 0.1864 - val_accuracy: 0.9390 - lr: 0.0010\n",
            "Epoch 125/139\n",
            "128/128 [==============================] - ETA: 0s - loss: 0.5032 - accuracy: 0.8694"
          ]
        },
        {
          "output_type": "stream",
          "name": "stderr",
          "text": [
            "WARNING:tensorflow:Learning rate reduction is conditioned on metric `val_acc` which is not available. Available metrics are: loss,accuracy,val_loss,val_accuracy,lr\n"
          ]
        },
        {
          "output_type": "stream",
          "name": "stdout",
          "text": [
            "\n",
            "Epoch 125: val_accuracy did not improve from 0.95227\n",
            "128/128 [==============================] - 95s 742ms/step - loss: 0.5032 - accuracy: 0.8694 - val_loss: 0.1727 - val_accuracy: 0.9523 - lr: 0.0010\n",
            "Epoch 126/139\n",
            "128/128 [==============================] - ETA: 0s - loss: 0.4980 - accuracy: 0.8637"
          ]
        },
        {
          "output_type": "stream",
          "name": "stderr",
          "text": [
            "WARNING:tensorflow:Learning rate reduction is conditioned on metric `val_acc` which is not available. Available metrics are: loss,accuracy,val_loss,val_accuracy,lr\n"
          ]
        },
        {
          "output_type": "stream",
          "name": "stdout",
          "text": [
            "\n",
            "Epoch 126: val_accuracy did not improve from 0.95227\n",
            "128/128 [==============================] - 99s 776ms/step - loss: 0.4980 - accuracy: 0.8637 - val_loss: 0.1815 - val_accuracy: 0.9429 - lr: 0.0010\n",
            "Epoch 127/139\n",
            "128/128 [==============================] - ETA: 0s - loss: 0.4813 - accuracy: 0.8702"
          ]
        },
        {
          "output_type": "stream",
          "name": "stderr",
          "text": [
            "WARNING:tensorflow:Learning rate reduction is conditioned on metric `val_acc` which is not available. Available metrics are: loss,accuracy,val_loss,val_accuracy,lr\n"
          ]
        },
        {
          "output_type": "stream",
          "name": "stdout",
          "text": [
            "\n",
            "Epoch 127: val_accuracy improved from 0.95227 to 0.95540, saving model to best_model.h5\n",
            "128/128 [==============================] - 95s 741ms/step - loss: 0.4813 - accuracy: 0.8702 - val_loss: 0.1596 - val_accuracy: 0.9554 - lr: 0.0010\n",
            "Epoch 128/139\n",
            "128/128 [==============================] - ETA: 0s - loss: 0.4986 - accuracy: 0.8650"
          ]
        },
        {
          "output_type": "stream",
          "name": "stderr",
          "text": [
            "WARNING:tensorflow:Learning rate reduction is conditioned on metric `val_acc` which is not available. Available metrics are: loss,accuracy,val_loss,val_accuracy,lr\n"
          ]
        },
        {
          "output_type": "stream",
          "name": "stdout",
          "text": [
            "\n",
            "Epoch 128: val_accuracy did not improve from 0.95540\n",
            "128/128 [==============================] - 97s 752ms/step - loss: 0.4986 - accuracy: 0.8650 - val_loss: 0.1912 - val_accuracy: 0.9499 - lr: 0.0010\n",
            "Epoch 129/139\n",
            "128/128 [==============================] - ETA: 0s - loss: 0.4992 - accuracy: 0.8689"
          ]
        },
        {
          "output_type": "stream",
          "name": "stderr",
          "text": [
            "WARNING:tensorflow:Learning rate reduction is conditioned on metric `val_acc` which is not available. Available metrics are: loss,accuracy,val_loss,val_accuracy,lr\n"
          ]
        },
        {
          "output_type": "stream",
          "name": "stdout",
          "text": [
            "\n",
            "Epoch 129: val_accuracy did not improve from 0.95540\n",
            "128/128 [==============================] - 97s 755ms/step - loss: 0.4992 - accuracy: 0.8689 - val_loss: 0.2432 - val_accuracy: 0.9366 - lr: 0.0010\n",
            "Epoch 130/139\n",
            "128/128 [==============================] - ETA: 0s - loss: 0.5003 - accuracy: 0.8626"
          ]
        },
        {
          "output_type": "stream",
          "name": "stderr",
          "text": [
            "WARNING:tensorflow:Learning rate reduction is conditioned on metric `val_acc` which is not available. Available metrics are: loss,accuracy,val_loss,val_accuracy,lr\n"
          ]
        },
        {
          "output_type": "stream",
          "name": "stdout",
          "text": [
            "\n",
            "Epoch 130: val_accuracy did not improve from 0.95540\n",
            "128/128 [==============================] - 95s 739ms/step - loss: 0.5003 - accuracy: 0.8626 - val_loss: 0.1713 - val_accuracy: 0.9499 - lr: 0.0010\n",
            "Epoch 131/139\n",
            "128/128 [==============================] - ETA: 0s - loss: 0.4790 - accuracy: 0.8717"
          ]
        },
        {
          "output_type": "stream",
          "name": "stderr",
          "text": [
            "WARNING:tensorflow:Learning rate reduction is conditioned on metric `val_acc` which is not available. Available metrics are: loss,accuracy,val_loss,val_accuracy,lr\n"
          ]
        },
        {
          "output_type": "stream",
          "name": "stdout",
          "text": [
            "\n",
            "Epoch 131: val_accuracy did not improve from 0.95540\n",
            "128/128 [==============================] - 97s 760ms/step - loss: 0.4790 - accuracy: 0.8717 - val_loss: 0.2225 - val_accuracy: 0.9358 - lr: 0.0010\n",
            "Epoch 132/139\n",
            "128/128 [==============================] - ETA: 0s - loss: 0.4954 - accuracy: 0.8676"
          ]
        },
        {
          "output_type": "stream",
          "name": "stderr",
          "text": [
            "WARNING:tensorflow:Learning rate reduction is conditioned on metric `val_acc` which is not available. Available metrics are: loss,accuracy,val_loss,val_accuracy,lr\n"
          ]
        },
        {
          "output_type": "stream",
          "name": "stdout",
          "text": [
            "\n",
            "Epoch 132: val_accuracy did not improve from 0.95540\n",
            "128/128 [==============================] - 96s 750ms/step - loss: 0.4954 - accuracy: 0.8676 - val_loss: 0.3292 - val_accuracy: 0.9100 - lr: 0.0010\n",
            "Epoch 133/139\n",
            "128/128 [==============================] - ETA: 0s - loss: 0.4961 - accuracy: 0.8688"
          ]
        },
        {
          "output_type": "stream",
          "name": "stderr",
          "text": [
            "WARNING:tensorflow:Learning rate reduction is conditioned on metric `val_acc` which is not available. Available metrics are: loss,accuracy,val_loss,val_accuracy,lr\n"
          ]
        },
        {
          "output_type": "stream",
          "name": "stdout",
          "text": [
            "\n",
            "Epoch 133: val_accuracy did not improve from 0.95540\n",
            "128/128 [==============================] - 97s 760ms/step - loss: 0.4961 - accuracy: 0.8688 - val_loss: 0.2062 - val_accuracy: 0.9452 - lr: 0.0010\n",
            "Epoch 134/139\n",
            "128/128 [==============================] - ETA: 0s - loss: 0.4959 - accuracy: 0.8684"
          ]
        },
        {
          "output_type": "stream",
          "name": "stderr",
          "text": [
            "WARNING:tensorflow:Learning rate reduction is conditioned on metric `val_acc` which is not available. Available metrics are: loss,accuracy,val_loss,val_accuracy,lr\n"
          ]
        },
        {
          "output_type": "stream",
          "name": "stdout",
          "text": [
            "\n",
            "Epoch 134: val_accuracy did not improve from 0.95540\n",
            "128/128 [==============================] - 97s 756ms/step - loss: 0.4959 - accuracy: 0.8684 - val_loss: 0.1897 - val_accuracy: 0.9452 - lr: 0.0010\n",
            "Epoch 135/139\n",
            "128/128 [==============================] - ETA: 0s - loss: 0.5013 - accuracy: 0.8659"
          ]
        },
        {
          "output_type": "stream",
          "name": "stderr",
          "text": [
            "WARNING:tensorflow:Learning rate reduction is conditioned on metric `val_acc` which is not available. Available metrics are: loss,accuracy,val_loss,val_accuracy,lr\n"
          ]
        },
        {
          "output_type": "stream",
          "name": "stdout",
          "text": [
            "\n",
            "Epoch 135: val_accuracy did not improve from 0.95540\n",
            "128/128 [==============================] - 97s 756ms/step - loss: 0.5013 - accuracy: 0.8659 - val_loss: 0.1852 - val_accuracy: 0.9437 - lr: 0.0010\n",
            "Epoch 136/139\n",
            "128/128 [==============================] - ETA: 0s - loss: 0.5104 - accuracy: 0.8691"
          ]
        },
        {
          "output_type": "stream",
          "name": "stderr",
          "text": [
            "WARNING:tensorflow:Learning rate reduction is conditioned on metric `val_acc` which is not available. Available metrics are: loss,accuracy,val_loss,val_accuracy,lr\n"
          ]
        },
        {
          "output_type": "stream",
          "name": "stdout",
          "text": [
            "\n",
            "Epoch 136: val_accuracy did not improve from 0.95540\n",
            "128/128 [==============================] - 94s 735ms/step - loss: 0.5104 - accuracy: 0.8691 - val_loss: 0.3076 - val_accuracy: 0.9147 - lr: 0.0010\n",
            "Epoch 137/139\n",
            "128/128 [==============================] - ETA: 0s - loss: 0.5287 - accuracy: 0.8638"
          ]
        },
        {
          "output_type": "stream",
          "name": "stderr",
          "text": [
            "WARNING:tensorflow:Learning rate reduction is conditioned on metric `val_acc` which is not available. Available metrics are: loss,accuracy,val_loss,val_accuracy,lr\n"
          ]
        },
        {
          "output_type": "stream",
          "name": "stdout",
          "text": [
            "\n",
            "Epoch 137: val_accuracy did not improve from 0.95540\n",
            "128/128 [==============================] - 99s 776ms/step - loss: 0.5287 - accuracy: 0.8638 - val_loss: 0.1972 - val_accuracy: 0.9413 - lr: 0.0010\n",
            "Epoch 138/139\n",
            "128/128 [==============================] - ETA: 0s - loss: 0.4947 - accuracy: 0.8699"
          ]
        },
        {
          "output_type": "stream",
          "name": "stderr",
          "text": [
            "WARNING:tensorflow:Learning rate reduction is conditioned on metric `val_acc` which is not available. Available metrics are: loss,accuracy,val_loss,val_accuracy,lr\n"
          ]
        },
        {
          "output_type": "stream",
          "name": "stdout",
          "text": [
            "\n",
            "Epoch 138: val_accuracy did not improve from 0.95540\n",
            "128/128 [==============================] - 95s 739ms/step - loss: 0.4947 - accuracy: 0.8699 - val_loss: 0.1870 - val_accuracy: 0.9452 - lr: 0.0010\n",
            "Epoch 139/139\n",
            "128/128 [==============================] - ETA: 0s - loss: 0.5112 - accuracy: 0.8648"
          ]
        },
        {
          "output_type": "stream",
          "name": "stderr",
          "text": [
            "WARNING:tensorflow:Learning rate reduction is conditioned on metric `val_acc` which is not available. Available metrics are: loss,accuracy,val_loss,val_accuracy,lr\n"
          ]
        },
        {
          "output_type": "stream",
          "name": "stdout",
          "text": [
            "\n",
            "Epoch 139: val_accuracy did not improve from 0.95540\n",
            "128/128 [==============================] - 97s 759ms/step - loss: 0.5112 - accuracy: 0.8648 - val_loss: 0.2092 - val_accuracy: 0.9429 - lr: 0.0010\n"
          ]
        }
      ],
      "source": [
        "history = deep_RU_model.fit(datagen.flow(X_train,y_train, batch_size=90), validation_data = (X_val, y_val),\n",
        "                            epochs=139, callbacks=[learning_rate_reduction, es, mc])# сделать epochs=139"
      ]
    },
    {
      "cell_type": "code",
      "execution_count": 95,
      "metadata": {
        "colab": {
          "base_uri": "https://localhost:8080/"
        },
        "id": "e7c48M555T-K",
        "outputId": "12e012ce-e3bb-4ea0-aaee-95ab2113bcc6"
      },
      "outputs": [
        {
          "output_type": "stream",
          "name": "stdout",
          "text": [
            "Train: 0.978, Valid: 0.955\n"
          ]
        }
      ],
      "source": [
        "# load the saved model\n",
        "# saved_model = load_model('/kaggle/input/deep-ru-letters-cnn-tutorial/best_model.h5') удалить\n",
        "saved_model = load_model('best_model.h5')\n",
        "\n",
        "# evaluate the model\n",
        "_, train_acc = saved_model.evaluate(X_train, y_train, verbose=0)\n",
        "_, valid_acc = saved_model.evaluate(X_val, y_val, verbose=0)\n",
        "\n",
        "print('Train: %.3f, Valid: %.3f' % (train_acc, valid_acc))"
      ]
    },
    {
      "cell_type": "code",
      "execution_count": 96,
      "metadata": {
        "colab": {
          "base_uri": "https://localhost:8080/",
          "height": 681
        },
        "id": "0iuhPwAf53sN",
        "outputId": "744debcd-8bfc-4b65-9307-278178225e07"
      },
      "outputs": [
        {
          "output_type": "display_data",
          "data": {
            "text/plain": [
              "<Figure size 1400x800 with 2 Axes>"
            ],
            "image/png": "[encoded data removed]"
          },
          "metadata": {}
        }
      ],
      "source": [
        "# Plot the loss and accuracy curves for training and validation\n",
        "fig, ax = plt.subplots(2,1)\n",
        "ax[0].plot(history.history['loss'], color='b', label=\"Training loss\")\n",
        "ax[0].plot(history.history['val_loss'], color='r', label=\"validation loss\",axes =ax[0])\n",
        "legend = ax[0].legend(loc='best', shadow=True)\n",
        "\n",
        "ax[1].plot(history.history['accuracy'], color='b', label=\"Training accuracy\")\n",
        "ax[1].plot(history.history['val_accuracy'], color='r',label=\"Validation accuracy\")\n",
        "legend = ax[1].legend(loc='best', shadow=True)"
      ]
    },
    {
      "cell_type": "code",
      "execution_count": 97,
      "metadata": {
        "colab": {
          "base_uri": "https://localhost:8080/"
        },
        "id": "yEzq5BO68bFH",
        "outputId": "10f23c57-1fde-4f0c-d7ae-3dc00f39aaf9"
      },
      "outputs": [
        {
          "output_type": "stream",
          "name": "stdout",
          "text": [
            "Test: 0.958\n"
          ]
        }
      ],
      "source": [
        "_, test_acc = saved_model.evaluate(X_test, y_test, verbose=0)\n",
        "print('Test: %.3f' % (test_acc))"
      ]
    },
    {
      "cell_type": "code",
      "execution_count": 98,
      "metadata": {
        "id": "Gb5pyZ2P8dJH",
        "colab": {
          "base_uri": "https://localhost:8080/",
          "height": 723
        },
        "outputId": "06ea4504-0251-4b28-af04-63a70d6ed25e"
      },
      "outputs": [
        {
          "output_type": "stream",
          "name": "stdout",
          "text": [
            "45/45 [==============================] - 3s 58ms/step\n"
          ]
        },
        {
          "output_type": "execute_result",
          "data": {
            "text/plain": [
              "<Axes: >"
            ]
          },
          "metadata": {},
          "execution_count": 98
        },
        {
          "output_type": "display_data",
          "data": {
            "text/plain": [
              "<Figure size 1400x800 with 2 Axes>"
            ],
            "image/png": "[encoded data removed]"
          },
          "metadata": {}
        }
      ],
      "source": [
        "y_pred = deep_RU_model.predict(X_test)\n",
        "y_pred = np.argmax(y_pred, axis=1)\n",
        "y_test = np.argmax(y_test, axis=1)\n",
        "confusion_mtx = confusion_matrix(y_test, y_pred)\n",
        "sns.heatmap(confusion_mtx, annot=True, fmt='d')"
      ]
    },
    {
      "cell_type": "code",
      "execution_count": 99,
      "metadata": {
        "id": "dYUIPcLb8mtv",
        "colab": {
          "base_uri": "https://localhost:8080/",
          "height": 742
        },
        "outputId": "c5be96f0-106d-4133-9f9d-b88155bf43cc"
      },
      "outputs": [
        {
          "output_type": "stream",
          "name": "stdout",
          "text": [
            "45/45 [==============================] - 3s 58ms/step\n"
          ]
        },
        {
          "output_type": "display_data",
          "data": {
            "text/plain": [
              "<Figure size 1400x800 with 6 Axes>"
            ],
            "image/png": "[encoded data removed]"
          },
          "metadata": {}
        }
      ],
      "source": [
        "# Display some error results\n",
        "\n",
        "# Convert one-hot vector to labels\n",
        "Y_true = y_test\n",
        "\n",
        "# Predict the values from the test dataset\n",
        "Y_pred = saved_model.predict(X_test)\n",
        "# Convert predictions from one-hot vectors to labels\n",
        "Y_pred_classes = np.argmax(Y_pred,axis = 1)\n",
        "\n",
        "# Errors are difference between predicted labels and true labels\n",
        "errors = (Y_pred_classes - Y_true != 0)\n",
        "\n",
        "Y_pred_classes_errors = Y_pred_classes[errors]\n",
        "Y_pred_errors = Y_pred[errors]\n",
        "Y_true_errors = Y_true[errors]\n",
        "X_val_errors = X_test[errors]\n",
        "\n",
        "def display_errors(errors_index,img_errors,pred_errors, obs_errors):\n",
        "    \"\"\" This function shows 6 images with their predicted and real labels\"\"\"\n",
        "    n = 0\n",
        "    nrows = 2\n",
        "    ncols = 3\n",
        "    fig, ax = plt.subplots(nrows,ncols,sharex=True,sharey=True)\n",
        "    for row in range(nrows):\n",
        "        for col in range(ncols):\n",
        "            error = errors_index[n]\n",
        "            ax[row,col].imshow((img_errors[error]))\n",
        "            ax[row,col].set_title(\"Predicted label :{}\\nTrue label :{}\".format(pred_errors[error],obs_errors[error]))\n",
        "            n += 1\n",
        "\n",
        "# Probabilities of the wrongly predicted letters\n",
        "Y_pred_errors_prob = np.max(Y_pred_errors,axis = 1)\n",
        "\n",
        "# Predicted probabilities of the true values in the error set\n",
        "true_prob_errors = np.diagonal(np.take(Y_pred_errors, Y_true_errors, axis=1))\n",
        "\n",
        "# Difference between the probability of the predicted label and the true label\n",
        "delta_pred_true_errors = Y_pred_errors_prob - true_prob_errors\n",
        "\n",
        "# Sorted list of the delta prob errors\n",
        "sorted_delta_errors = np.argsort(delta_pred_true_errors)\n",
        "\n",
        "# Top 6 errors\n",
        "most_important_errors = sorted_delta_errors[-6:]\n",
        "\n",
        "# Show the top 6 errors\n",
        "display_errors(most_important_errors, X_val_errors, Y_pred_classes_errors, Y_true_errors)"
      ]
    }
  ],
  "metadata": {
    "colab": {
      "provenance": [],
      "mount_file_id": "1g4kRP-9lLFRwx7O_hionyhGmCFn6ZIOl",
      "authorship_tag": "ABX9TyN5eONwNtpg3dox7eI6+O0R",
      "include_colab_link": true
    },
    "kernelspec": {
      "display_name": "Python 3",
      "name": "python3"
    },
    "language_info": {
      "name": "python"
    }
  },
  "nbformat": 4,
  "nbformat_minor": 0
}