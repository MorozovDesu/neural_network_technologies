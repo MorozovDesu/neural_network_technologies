{
  "cells": [
    {
      "cell_type": "markdown",
      "metadata": {
        "id": "view-in-github",
        "colab_type": "text"
      },
      "source": [
        "<a href=\"https://colab.research.google.com/github/MorozovDesu/neural_network_technologies/blob/main/2_%D0%9B%D0%B0%D0%B1%D0%B0_%D0%9D%D0%B5%D0%B9%D1%80%D0%BE%D1%81%D0%B5%D1%82%D0%B5%D0%B2%D1%8B%D0%B5_%D1%82%D0%B5%D1%85%D0%BD%D0%BE%D0%BB%D0%BE%D0%B3%D0%B8%D0%B8_.ipynb\" target=\"_parent\"><img src=\"https://colab.research.google.com/assets/colab-badge.svg\" alt=\"Open In Colab\"/></a>"
      ]
    },
    {
      "cell_type": "code",
      "execution_count": null,
      "metadata": {
        "id": "Bca8tubdkkFG"
      },
      "outputs": [],
      "source": [
        "import sys\n",
        "import seaborn as sns\n",
        "import numpy as np\n",
        "np.set_printoptions(threshold=sys.maxsize)\n",
        "import pandas as pd\n",
        "import os\n",
        "import h5py\n",
        "import PIL\n",
        "import cv2\n",
        "import tensorflow as tf\n",
        "import tensorflow.keras as keras\n",
        "\n",
        "from PIL import Image\n",
        "\n",
        "from sklearn.model_selection import train_test_split\n",
        "from sklearn.metrics import accuracy_score, confusion_matrix\n",
        "\n",
        "from tensorflow.keras.preprocessing import image\n",
        "from tensorflow.keras.optimizers import RMSprop\n",
        "from tensorflow.keras.callbacks import ReduceLROnPlateau\n",
        "from tensorflow.keras.callbacks import EarlyStopping\n",
        "from tensorflow.keras.callbacks import ModelCheckpoint\n",
        "from tensorflow.keras.models import load_model\n",
        "\n",
        "from tensorflow.keras.models import Sequential\n",
        "from tensorflow.keras.layers import Dense, Conv2D, Flatten, Dropout, MaxPooling2D\n",
        "from tensorflow.keras.preprocessing.image import ImageDataGenerator\n",
        "\n",
        "import matplotlib.pylab as plt\n",
        "from matplotlib import cm\n",
        "%matplotlib inline\n",
        "import matplotlib.pylab as pylab\n",
        "pylab.rcParams[\"figure.figsize\"] = (14,8)"
      ]
    },
    {
      "cell_type": "markdown",
      "source": [
        "# Обучение нейросети с использованием keras\n",
        "Желаемый результат\n",
        "\n",
        "а=>1, б=>2, в=>3, г=>4, д=>5, е=>6, ё=>7, ж=>8, з=>9, и=>10, й=>11, к=>12, л=>13, м=>14, н=>15, о=>16, п=>17, р=>18, с=>19, т=>20, у=>21, ф=>22, х=>23, ц=>24, ч=>25, ш=>26, щ=>27, ъ=>28, ы=>29, ь=>30, э=>31, ю=>32, я=>33"
      ],
      "metadata": {
        "id": "zDwAeMTgq2Nu"
      }
    },
    {
      "cell_type": "code",
      "execution_count": null,
      "metadata": {
        "colab": {
          "base_uri": "https://localhost:8080/"
        },
        "id": "EeDJyj1rv3BP",
        "outputId": "ac5f418a-4368-4578-bd98-47e587c7bccf"
      },
      "outputs": [
        {
          "output_type": "execute_result",
          "data": {
            "text/plain": [
              "14190"
            ]
          },
          "metadata": {},
          "execution_count": 24
        }
      ],
      "source": [
        "input_folder = 'drive/MyDrive/archive/all_letters_image/all_letters_image/'\n",
        "all_letters_filename = os.listdir(input_folder)\n",
        "len(all_letters_filename)"
      ]
    },
    {
      "cell_type": "code",
      "execution_count": null,
      "metadata": {
        "colab": {
          "base_uri": "https://localhost:8080/",
          "height": 49
        },
        "id": "J2rcRj7Oa9q6",
        "outputId": "2399241b-18e4-4ed3-a839-c5355130ab6a"
      },
      "outputs": [
        {
          "output_type": "execute_result",
          "data": {
            "text/plain": [
              "<PIL.PngImagePlugin.PngImageFile image mode=RGBA size=32x32>"
            ],
            "image/png": "[encoded data removed]"
          },
          "metadata": {},
          "execution_count": 25
        }
      ],
      "source": [
        "#Это одно из наших изображений. Размер каждого изображения составляет 32 на 32 пикселя.\n",
        "#Затем мы преобразуем каждое изображение в 3d-массив numpy.\n",
        "i = Image.open(\"drive/MyDrive/archive/all_letters_image/all_letters_image/20_102.png\")\n",
        "i"
      ]
    },
    {
      "cell_type": "code",
      "execution_count": null,
      "metadata": {
        "id": "vOD7rNubbUWn"
      },
      "outputs": [],
      "source": [
        "i_arr = np.array(i)\n",
        "# i_arr\n",
        "# Все 32 матрицы внутри этого массива представляют собой одно изображение.\n",
        "# Каждая матрица представляет собой 1 строку этого изображения.\n",
        "# Длина одной строки изображения составляет 32 пикселя, поэтому каждая матрица имеет 32 строки.\n",
        "# Каждая строка матрицы имеет 4 столбца и представляет собой 1 пиксель. Для этого пикселя каждый столбец представляет собой значения цвета - насколько он красный, зеленый и синий - плюс непрозрачность цветов (последний столбец).\n",
        "# Поэтому каждая матрица имеет размер 32 на 4. Общее количество пикселей в одном изображении составляет 32 * 32 = 1024.\n",
        "\n",
        "# Каждое значение цвета находится в диапазоне [0:255].\n",
        "# Это означает, что для каждого цвета существует 256 оттенков. В сумме все комбинации этих цветов дают нам 256ˆ3 = 16 777 216 возможных цветов.\n",
        "\n"
      ]
    },
    {
      "cell_type": "code",
      "execution_count": null,
      "metadata": {
        "id": "0BKFVqtxbyNI"
      },
      "outputs": [],
      "source": [
        "from keras.preprocessing import image\n",
        "import numpy as np\n",
        "\n",
        "# Функция для преобразования изображения в тензор\n",
        "# Параметры:\n",
        "# - img_name: Имя файла изображения\n",
        "# - input_folder: Путь к папке, где находится изображение\n",
        "# Возвращает:\n",
        "# - Тензорное представление изображения\n",
        "def img_to_array(img_name, input_folder):\n",
        "    # Загрузка изображения из указанной папки и изменение его размера до 32x32 пикселей\n",
        "    img = image.load_img(input_folder + img_name, target_size=(32, 32))\n",
        "\n",
        "    # Преобразование изображения в массив NumPy\n",
        "    x = image.img_to_array(img)\n",
        "\n",
        "    # Расширение размерности массива для подготовки его к обработке нейронной сетью\n",
        "    return np.expand_dims(x, axis=0)\n",
        "\n",
        "# Функция для преобразования списка имен изображений в тензор\n",
        "# Параметры:\n",
        "# - img_names: Список имен файлов изображений\n",
        "# - input_folder: Путь к папке, где находятся изображения\n",
        "# Возвращает:\n",
        "# - Массив NumPy, содержащий тензоры всех изображений из списка\n",
        "def data_to_tensor(img_names, input_folder):\n",
        "    # Создание списка тензоров путем применения функции img_to_array к каждому имени изображения\n",
        "    list_of_tensors = [img_to_array(img_name, input_folder) for img_name in img_names]\n",
        "\n",
        "    # Стекирование отдельных тензоров вертикально для создания одного массива NumPy\n",
        "    return np.vstack(list_of_tensors)\n"
      ]
    },
    {
      "cell_type": "code",
      "execution_count": null,
      "metadata": {
        "id": "00BocQQzceSU"
      },
      "outputs": [],
      "source": [
        "# Загрузка данных из CSV-файла в переменную \"data\"\n",
        "data = pd.read_csv(\"drive/MyDrive/archive/all_letters_info.csv\")\n",
        "# Извлечение имен файлов изображений из столбца \"file\"\n",
        "image_names = data['file']\n",
        "letters = data[ 'letter']\n",
        "backgrounds = data['background'].values\n",
        "targets = data['label'].values\n",
        "tensors = data_to_tensor(image_names, input_folder)\n",
        "# tensors[0]\n"
      ]
    },
    {
      "cell_type": "code",
      "execution_count": null,
      "metadata": {
        "colab": {
          "base_uri": "https://localhost:8080/"
        },
        "id": "i3skQmT0czqP",
        "outputId": "2169ff3c-72be-4508-9506-e13bbb51093f"
      },
      "outputs": [
        {
          "output_type": "stream",
          "name": "stdout",
          "text": [
            "Форма тензоров: (14190, 32, 32, 3)\n",
            "Форма меток (целевых значений): (14190,)\n"
          ]
        }
      ],
      "source": [
        "# Вывод размера (формы) массива тензоров\n",
        "print('Форма тензоров:', tensors.shape)\n",
        "# Вывод размера (формы) массива меток (целевых значений)\n",
        "print('Форма меток (целевых значений):', targets.shape)"
      ]
    },
    {
      "cell_type": "code",
      "execution_count": null,
      "metadata": {
        "colab": {
          "base_uri": "https://localhost:8080/",
          "height": 367
        },
        "id": "XRXTtoOKdECI",
        "outputId": "eac3b71d-28c3-48fe-c0aa-d3be2881b7b7"
      },
      "outputs": [
        {
          "output_type": "display_data",
          "data": {
            "text/plain": [
              "<Figure size 1600x400 with 12 Axes>"
            ],
            "image/png": "[encoded data removed]"
          },
          "metadata": {}
        }
      ],
      "source": [
        "# Функция для отображения изображений из файлов с использованием OpenCV\n",
        "# Параметры:\n",
        "# - img_path: Путь к файлу изображения\n",
        "# - ax: Объект для отображения изображения (область на графике)\n",
        "def display_images(img_path, ax):\n",
        "    # Загрузка изображения из указанного пути\n",
        "    img = cv2.imread(input_folder + img_path)\n",
        "\n",
        "    # Отображение изображения, преобразовав его из формата BGR в RGB\n",
        "    ax.imshow(cv2.cvtColor(img, cv2.COLOR_BGR2RGB))\n",
        "\n",
        "# Создание графического окна с определенными размерами\n",
        "fig = plt.figure(figsize=(16, 4))\n",
        "\n",
        "# Цикл для отображения 12 изображений\n",
        "for i in range(12):\n",
        "    # Создание области для каждого изображения внутри графического окна\n",
        "    ax = fig.add_subplot(2, 6, i + 1, xticks=[], yticks=[], title=letters[i * 50])\n",
        "\n",
        "    # Вызов функции для отображения изображения с указанным именем файла и заданной областью (ax)\n",
        "    display_images(image_names[i * 50], ax)"
      ]
    },
    {
      "cell_type": "code",
      "execution_count": null,
      "metadata": {
        "colab": {
          "base_uri": "https://localhost:8080/",
          "height": 681
        },
        "id": "eccsqbKSdne-",
        "outputId": "4d33318d-bc8e-4c84-ff29-49ec721691ef"
      },
      "outputs": [
        {
          "output_type": "display_data",
          "data": {
            "text/plain": [
              "<Figure size 1400x800 with 1 Axes>"
            ],
            "image/png": "[encoded data removed]"
          },
          "metadata": {}
        }
      ],
      "source": [
        "# Создание графика countplot\n",
        "sns.set(style=\"darkgrid\")\n",
        "ax = sns.countplot(x=targets)\n",
        "\n",
        "# Отображение графика\n",
        "plt.show()"
      ]
    },
    {
      "cell_type": "code",
      "execution_count": null,
      "metadata": {
        "id": "htCaopw9dtoU"
      },
      "outputs": [],
      "source": [
        "# Классы идеально сбалансированы, что очень важно для классификационной модели.\n",
        "# Если классы несбалансированы, то модель будет пытаться максимизировать точность\n",
        "# для большинства классов, оставляя без внимания другие классы, что приведет к менее точным прогнозам для меньшинств."
      ]
    },
    {
      "cell_type": "code",
      "execution_count": null,
      "metadata": {
        "id": "m0nKikWRvl-g"
      },
      "outputs": [],
      "source": [
        "# Нормализация\n",
        "# Для уменьшения влияния перепадов освещенности мы проводим нормализацию.\n",
        "X = tensors.astype(\"float32\")/255\n",
        "# Кроме того, CNN быстрее сходится на данных [0...1], чем на [0...255]. Преобразуем входные данные к типу float, а затем разделим на 255 (максимальная яркость для каждого цвета)."
      ]
    },
    {
      "cell_type": "code",
      "execution_count": null,
      "metadata": {
        "colab": {
          "base_uri": "https://localhost:8080/",
          "height": 681
        },
        "id": "7lrawJzWvtOd",
        "outputId": "a24a9c80-2ebb-4a1f-9eaf-f6e005fe77a3"
      },
      "outputs": [
        {
          "output_type": "display_data",
          "data": {
            "text/plain": [
              "<Figure size 1400x800 with 1 Axes>"
            ],
            "image/png": "[encoded data removed]"
          },
          "metadata": {}
        }
      ],
      "source": [
        "arr = X[2]\n",
        "arr_ = np.squeeze(arr)\n",
        "plt.imshow(arr_)\n",
        "plt.show()"
      ]
    },
    {
      "cell_type": "code",
      "execution_count": null,
      "metadata": {
        "colab": {
          "base_uri": "https://localhost:8080/"
        },
        "id": "iOg3NqZavwsr",
        "outputId": "32853d19-da4f-443b-c660-7408f22b154e"
      },
      "outputs": [
        {
          "output_type": "execute_result",
          "data": {
            "text/plain": [
              "1"
            ]
          },
          "metadata": {},
          "execution_count": 35
        }
      ],
      "source": [
        "targets[0]"
      ]
    },
    {
      "cell_type": "code",
      "execution_count": null,
      "metadata": {
        "id": "bkmURolRvzod"
      },
      "outputs": [],
      "source": [
        "y = targets\n",
        "\n",
        "img_rows, img_cols = 32, 32 # потому что наши картинки имеют размер 32 на 32 пикселя\n",
        "num_classes = 33 # потому что в русинском алфавите 33 буквы\n",
        "\n",
        "y = keras.utils.to_categorical(y-1, num_classes) # targets-1, потому что наш список начинается с 1, а не с 0, как ожидает keras"
      ]
    },
    {
      "cell_type": "code",
      "execution_count": null,
      "metadata": {
        "colab": {
          "base_uri": "https://localhost:8080/"
        },
        "id": "oQQA1ng73OYB",
        "outputId": "12ea6081-1c84-489d-ec88-3954efebe4c1"
      },
      "outputs": [
        {
          "output_type": "stream",
          "name": "stdout",
          "text": [
            "(14190, 32, 32, 3)\n",
            "(14190, 33)\n"
          ]
        }
      ],
      "source": [
        "print(X.shape)\n",
        "print(y.shape)"
      ]
    },
    {
      "cell_type": "code",
      "execution_count": null,
      "metadata": {
        "id": "np7h33OY3YVn"
      },
      "outputs": [],
      "source": [
        "def captch_ex(file_name):\n",
        "    img = cv2.imread(file_name)\n",
        "    img_final = cv2.imread(file_name)\n",
        "    img2gray = cv2.cvtColor(img, cv2.COLOR_BGR2GRAY)\n",
        "    ret, mask = cv2.threshold(img2gray, 180, 255, cv2.THRESH_BINARY)\n",
        "    image_final = cv2.bitwise_and(img2gray, img2gray, mask=mask)\n",
        "    ret, new_img = cv2.threshold(image_final, 180, 255, cv2.THRESH_BINARY)  # для черного текста использовать cv2.THRESH_BINARY_INV\n",
        "    '''\n",
        "            line  8 to 12  : Remove noisy portion\n",
        "    '''\n",
        "    kernel = cv2.getStructuringElement(cv2.MORPH_CROSS, (3,\n",
        "                                                         3))  # для манипуляции ориентацией расширения, большое значение x означает большее горизонтальное расширение, большое значение y означает большее вертикальное расширение\n",
        "    dilated = cv2.dilate(new_img, kernel, iterations=9)  # расширяем, чем больше итераций, тем больше расширение\n",
        "    # for cv2.x.x\n",
        "\n",
        "    contours, hierarchy = cv2.findContours(new_img, cv2.RETR_EXTERNAL, cv2.CHAIN_APPROX_NONE)   # findContours возвращает 3 переменные для получения контуров\n",
        "    for contour in contours:\n",
        "        #  получаем ограничивающий прямоугольник контура\n",
        "        [x, y, w, h] = cv2.boundingRect(contour)\n",
        "\n",
        "        # Не рисуем маленькие контуры, которые не являются текстом\n",
        "        if w < 35 and h < 35:\n",
        "            continue\n",
        "\n",
        "        # рисуем прямоугольник вокруг контура на исходном изображении\n",
        "        cv2.rectangle(img, (x, y), (x + w, y + h), (255, 0, 255), 2)\n",
        "\n",
        "        '''\n",
        "        #you can crop image and send to OCR  , false detected will return no text :)\n",
        "        cropped = img_final[y :y +  h , x : x + w]\n",
        "\n",
        "        s = file_name + '/crop_' + str(index) + '.png'\n",
        "        cv2.imwrite(s , cropped)\n",
        "        index = index + 1\n",
        "\n",
        "        '''\n",
        "    # записываем исходное изображение с добавленными контурами на диск\n",
        "    cv2.imshow('captcha_result', img)\n",
        "    cv2.waitKey()"
      ]
    },
    {
      "cell_type": "code",
      "execution_count": null,
      "metadata": {
        "id": "Ke0iZ8gl3Z7B",
        "colab": {
          "base_uri": "https://localhost:8080/",
          "height": 49
        },
        "outputId": "7493cf20-cb5a-4150-b6b6-7e7954b67dbd"
      },
      "outputs": [
        {
          "output_type": "display_data",
          "data": {
            "text/plain": [
              "<PIL.Image.Image image mode=RGB size=32x32>"
            ],
            "image/png": "[encoded data removed]"
          },
          "metadata": {}
        }
      ],
      "source": [
        "file_name = 'drive/MyDrive/archive/all_letters_image/all_letters_image/04_100.png'\n",
        "# captch_ex(file_name)"
      ]
    },
    {
      "cell_type": "code",
      "execution_count": null,
      "metadata": {
        "colab": {
          "base_uri": "https://localhost:8080/"
        },
        "id": "IFutMioy33eQ",
        "outputId": "5b4c971a-c665-439d-d556-6fd6f220c33e"
      },
      "outputs": [
        {
          "output_type": "stream",
          "name": "stdout",
          "text": [
            "Grayscaled Tensor shape: (14190, 32, 32)\n"
          ]
        }
      ],
      "source": [
        "# Тензоры с градацией серого\n",
        "X_grey = np.dot(X[...,:3], [0.299, 0.587, 0.114])\n",
        "# X_grey = tf.expand_dims(X_grey, axis=3)\n",
        "print ('Grayscaled Tensor shape:', X_grey.shape)"
      ]
    },
    {
      "cell_type": "code",
      "execution_count": null,
      "metadata": {
        "colab": {
          "base_uri": "https://localhost:8080/",
          "height": 698
        },
        "id": "B8plGytP355m",
        "outputId": "6635b6c1-b050-4671-95a5-827f6676356b"
      },
      "outputs": [
        {
          "output_type": "execute_result",
          "data": {
            "text/plain": [
              "<matplotlib.image.AxesImage at 0x7b4315eaa0e0>"
            ]
          },
          "metadata": {},
          "execution_count": 41
        },
        {
          "output_type": "display_data",
          "data": {
            "text/plain": [
              "<Figure size 1400x800 with 1 Axes>"
            ],
            "image/png": "[encoded data removed]"
          },
          "metadata": {}
        }
      ],
      "source": [
        "plt.imshow(X_grey[3], cmap=plt.get_cmap(\"gray\"))"
      ]
    },
    {
      "cell_type": "code",
      "execution_count": null,
      "metadata": {
        "id": "wvQIw2hK3-9k"
      },
      "outputs": [],
      "source": [
        "# Разделение набора данных на обучающую и тестовую выборки\n",
        "# X: признаки/входные данные\n",
        "# y: метки/целевые значения\n",
        "\n",
        "# Разделение X и y на обучающую и тестовую выборки с размером тестовой выборки 10%\n",
        "# random_state=1 гарантирует воспроизводимость результатов\n",
        "X_train_whole, X_test, y_train_whole, y_test = train_test_split(X, y, test_size=0.1, random_state=1)\n",
        "\n",
        "# Дальнейшее разделение обучающей выборки на обучающую и проверочную выборки\n",
        "# X_train_whole: полный набор признаков обучающей выборки\n",
        "# y_train_whole: полный набор меток обучающей выборки\n",
        "\n",
        "# Разделение X_train_whole и y_train_whole на обучающую и проверочную выборки с размером проверочной выборки 10%\n",
        "# random_state=1 гарантирует воспроизводимость результатов\n",
        "X_train, X_val, y_train, y_val = train_test_split(X_train_whole, y_train_whole, test_size=0.1, random_state=1)"
      ]
    },
    {
      "cell_type": "code",
      "execution_count": null,
      "metadata": {
        "id": "MRl5ueKy4kOw"
      },
      "outputs": [],
      "source": [
        "# Создание генератора данных для аугментации изображений\n",
        "datagen = ImageDataGenerator(\n",
        "    featurewise_center=False,  # установить среднее значение входных данных равным 0 по всему набору данных\n",
        "    samplewise_center=False,  # установить среднее значение каждого отдельного образца/изображения равным 0\n",
        "    featurewise_std_normalization=False,  # нормализовать входные данные путем деления на стандартное отклонение набора данных\n",
        "    samplewise_std_normalization=False,  # нормализовать каждый вход путем деления на его стандартное отклонение\n",
        "    zca_whitening=False,  # применить ZCA-отбеливание\n",
        "    rotation_range=10,  # случайное вращение изображений в заданном диапазоне (градусы, от 0 до 180)\n",
        "    zoom_range=0.1,  # случайное изменение масштаба изображения\n",
        "    width_shift_range=0.1,  # случайное смещение изображений по горизонтали (доля от общей ширины)\n",
        "    height_shift_range=0.1,  # случайное смещение изображений по вертикали (доля от общей высоты)\n",
        "    horizontal_flip=False,  # случайное отражение изображений по горизонтали\n",
        "    vertical_flip=False)  # случайное отражение изображений по вертикали\n",
        "\n",
        "# Подготовка генератора к обучающему набору данных\n",
        "datagen.fit(X_train)"
      ]
    },
    {
      "cell_type": "code",
      "execution_count": null,
      "metadata": {
        "id": "way1577P4oEc"
      },
      "outputs": [],
      "source": [
        "#Определение архитектуры модели\n",
        "\n",
        "deep_RU_model = Sequential()\n",
        "#Добавление первого слоя свертки\n",
        "#filters: количество фильтров (ядер)\n",
        "#kernel_size: размер ядра свертки\n",
        "#padding: режим заполнения ('Same' - добавление нулевых значений по краям изображения)\n",
        "#activation: функция активации ('relu' - выпрямительная функция)\n",
        "#input_shape: размерность входных данных (img_rows, img_cols, 3) - 3 канала (RGB)\n",
        "deep_RU_model.add(Conv2D(filters = 32, kernel_size = (5,5),padding = 'Same',\n",
        "                 activation ='relu', input_shape = (img_rows,img_cols,3)))\n",
        "deep_RU_model.add(Conv2D(filters = 32, kernel_size = (5,5),padding = 'Same',\n",
        "                 activation ='relu'))\n",
        "deep_RU_model.add(MaxPooling2D(pool_size=(2,2)))\n",
        "deep_RU_model.add(Dropout(0.25))\n",
        "\n",
        "\n",
        "deep_RU_model.add(Conv2D(filters = 64, kernel_size = (3,3),padding = 'Same',\n",
        "                 activation ='relu'))\n",
        "deep_RU_model.add(Conv2D(filters = 64, kernel_size = (3,3),padding = 'Same',\n",
        "                 activation ='relu'))\n",
        "deep_RU_model.add(MaxPooling2D(pool_size=(2,2), strides=(2,2)))\n",
        "deep_RU_model.add(Dropout(0.25))\n",
        "\n",
        "#Выравнивание данных перед подачей на полносвязные слои\n",
        "deep_RU_model.add(Flatten())\n",
        "#Добавление первого полносвязного слоя\n",
        "deep_RU_model.add(Dense(256, activation = \"relu\"))\n",
        "#Добавление слоя Dropout\n",
        "deep_RU_model.add(Dropout(0.5))\n",
        "#Добавление последнего полносвязного слоя с функцией активации softmax для многоклассовой классификации\n",
        "deep_RU_model.add(Dense(33, activation = \"softmax\"))"
      ]
    },
    {
      "cell_type": "code",
      "execution_count": null,
      "metadata": {
        "id": "Tty3ypG14qTj"
      },
      "outputs": [],
      "source": [
        "#Определение оптимизатора\n",
        "optimizer = RMSprop(learning_rate=0.001, rho=0.9, epsilon=1e-08)\n",
        "\n",
        "#Создание оптимизатора RMSprop с параметрами:\n",
        "#learning_rate: скорость обучения (шаг градиентного спуска)\n",
        "#rho: параметр альфа в формуле оптимизации\n",
        "#epsilon: значение для стабильности численных вычислений"
      ]
    },
    {
      "cell_type": "code",
      "execution_count": null,
      "metadata": {
        "id": "vPtPgoI64wQa"
      },
      "outputs": [],
      "source": [
        "deep_RU_model.compile(loss=\"categorical_crossentropy\", optimizer=optimizer, metrics=[\"accuracy\"])\n",
        "\n",
        "# Компиляция модели с параметрами:\n",
        "# loss: функция потерь (\"categorical_crossentropy\" - категориальная перекрестная энтропия для многоклассовой классификации)\n",
        "# optimizer: оптимизатор, ранее определенный (RMSprop)\n",
        "# metrics: список метрик для оценки производительности модели (в данном случае указана только точность)"
      ]
    },
    {
      "cell_type": "code",
      "execution_count": null,
      "metadata": {
        "id": "hb5cTZX25HGw"
      },
      "outputs": [],
      "source": [
        "# Создание объекта learning_rate_reduction класса ReduceLROnPlateau\n",
        "learning_rate_reduction = ReduceLROnPlateau(monitor='val_acc',\n",
        "                                            patience=3,\n",
        "                                            verbose=1,\n",
        "                                            factor=0.5,\n",
        "                                            min_lr=0.00001)\n",
        "# monitor: метрика для отслеживания (в данном случае 'val_acc' - точность на валидационных данных)\n",
        "# patience: количество эпох без улучшений, после которого скорость обучения будет уменьшена\n",
        "# verbose: уровень подробности вывода информации (1 для вывода сообщений)\n",
        "# factor: коэффициент, на который будет уменьшаться скорость обучения\n",
        "# min_lr: минимальное значение скорости обучения, после которого обучение прекращается"
      ]
    },
    {
      "cell_type": "code",
      "execution_count": null,
      "metadata": {
        "id": "GzweDFHf5JB9"
      },
      "outputs": [],
      "source": [
        "# Создание объекта es класса EarlyStopping\n",
        "es = EarlyStopping(monitor='val_accuracy', mode='max', verbose=1, patience=50)\n",
        "# monitor: метрика для отслеживания (в данном случае 'val_accuracy' - точность на валидационных данных)\n",
        "# mode: режим ('max' - максимизация метрики)\n",
        "# verbose: уровень подробности вывода информации (1 для вывода сообщений)\n",
        "# patience: количество эпох без улучшений, после которого обучение будет остановлено\n",
        "\n",
        "# Создание объекта mc класса ModelCheckpoint\n",
        "mc = ModelCheckpoint('best_model.h5', monitor='val_accuracy', mode='max', verbose=1, save_best_only=True)\n",
        "# 'best_model.h5': имя файла, в котором будет сохранена модель с лучшей точностью на валидационных данных\n",
        "# monitor: метрика для отслеживания (в данном случае 'val_accuracy' - точность на валидационных данных)\n",
        "# mode: режим ('max' - максимизация метрики)\n",
        "# verbose: уровень подробности вывода информации (1 для вывода сообщений)\n",
        "# save_best_only: флаг, указывающий, сохранять только модель с лучшей точностью"
      ]
    },
    {
      "cell_type": "code",
      "execution_count": null,
      "metadata": {
        "colab": {
          "base_uri": "https://localhost:8080/"
        },
        "id": "GV60XduN5K9m",
        "outputId": "b00e6362-5d82-4eb3-9ed9-391c72ef4eb4"
      },
      "outputs": [
        {
          "output_type": "stream",
          "name": "stdout",
          "text": [
            "Epoch 1/139\n",
            "128/128 [==============================] - ETA: 0s - loss: 3.4984 - accuracy: 0.0298"
          ]
        },
        {
          "output_type": "stream",
          "name": "stderr",
          "text": [
            "WARNING:tensorflow:Learning rate reduction is conditioned on metric `val_acc` which is not available. Available metrics are: loss,accuracy,val_loss,val_accuracy,lr\n"
          ]
        },
        {
          "output_type": "stream",
          "name": "stdout",
          "text": [
            "\n",
            "Epoch 1: val_accuracy improved from -inf to 0.04773, saving model to best_model.h5\n",
            "128/128 [==============================] - 124s 959ms/step - loss: 3.4984 - accuracy: 0.0298 - val_loss: 3.4937 - val_accuracy: 0.0477 - lr: 0.0010\n"
          ]
        },
        {
          "output_type": "stream",
          "name": "stderr",
          "text": [
            "/usr/local/lib/python3.10/dist-packages/keras/src/engine/training.py:3079: UserWarning: You are saving your model as an HDF5 file via `model.save()`. This file format is considered legacy. We recommend using instead the native Keras format, e.g. `model.save('my_model.keras')`.\n",
            "  saving_api.save_model(\n"
          ]
        },
        {
          "output_type": "stream",
          "name": "stdout",
          "text": [
            "Epoch 2/139\n",
            "128/128 [==============================] - ETA: 0s - loss: 3.4790 - accuracy: 0.0379"
          ]
        },
        {
          "output_type": "stream",
          "name": "stderr",
          "text": [
            "WARNING:tensorflow:Learning rate reduction is conditioned on metric `val_acc` which is not available. Available metrics are: loss,accuracy,val_loss,val_accuracy,lr\n"
          ]
        },
        {
          "output_type": "stream",
          "name": "stdout",
          "text": [
            "\n",
            "Epoch 2: val_accuracy improved from 0.04773 to 0.05869, saving model to best_model.h5\n",
            "128/128 [==============================] - 112s 875ms/step - loss: 3.4790 - accuracy: 0.0379 - val_loss: 3.4218 - val_accuracy: 0.0587 - lr: 0.0010\n",
            "Epoch 3/139\n",
            "128/128 [==============================] - ETA: 0s - loss: 3.4222 - accuracy: 0.0504"
          ]
        },
        {
          "output_type": "stream",
          "name": "stderr",
          "text": [
            "WARNING:tensorflow:Learning rate reduction is conditioned on metric `val_acc` which is not available. Available metrics are: loss,accuracy,val_loss,val_accuracy,lr\n"
          ]
        },
        {
          "output_type": "stream",
          "name": "stdout",
          "text": [
            "\n",
            "Epoch 3: val_accuracy did not improve from 0.05869\n",
            "128/128 [==============================] - 120s 934ms/step - loss: 3.4222 - accuracy: 0.0504 - val_loss: 3.4169 - val_accuracy: 0.0509 - lr: 0.0010\n",
            "Epoch 4/139\n",
            "128/128 [==============================] - ETA: 0s - loss: 3.3839 - accuracy: 0.0536"
          ]
        },
        {
          "output_type": "stream",
          "name": "stderr",
          "text": [
            "WARNING:tensorflow:Learning rate reduction is conditioned on metric `val_acc` which is not available. Available metrics are: loss,accuracy,val_loss,val_accuracy,lr\n"
          ]
        },
        {
          "output_type": "stream",
          "name": "stdout",
          "text": [
            "\n",
            "Epoch 4: val_accuracy did not improve from 0.05869\n",
            "128/128 [==============================] - 112s 874ms/step - loss: 3.3839 - accuracy: 0.0536 - val_loss: 3.4077 - val_accuracy: 0.0509 - lr: 0.0010\n",
            "Epoch 5/139\n",
            "128/128 [==============================] - ETA: 0s - loss: 3.3585 - accuracy: 0.0626"
          ]
        },
        {
          "output_type": "stream",
          "name": "stderr",
          "text": [
            "WARNING:tensorflow:Learning rate reduction is conditioned on metric `val_acc` which is not available. Available metrics are: loss,accuracy,val_loss,val_accuracy,lr\n"
          ]
        },
        {
          "output_type": "stream",
          "name": "stdout",
          "text": [
            "\n",
            "Epoch 5: val_accuracy improved from 0.05869 to 0.07433, saving model to best_model.h5\n",
            "128/128 [==============================] - 113s 875ms/step - loss: 3.3585 - accuracy: 0.0626 - val_loss: 3.2727 - val_accuracy: 0.0743 - lr: 0.0010\n",
            "Epoch 6/139\n",
            "128/128 [==============================] - ETA: 0s - loss: 3.3236 - accuracy: 0.0698"
          ]
        },
        {
          "output_type": "stream",
          "name": "stderr",
          "text": [
            "WARNING:tensorflow:Learning rate reduction is conditioned on metric `val_acc` which is not available. Available metrics are: loss,accuracy,val_loss,val_accuracy,lr\n"
          ]
        },
        {
          "output_type": "stream",
          "name": "stdout",
          "text": [
            "\n",
            "Epoch 6: val_accuracy improved from 0.07433 to 0.08529, saving model to best_model.h5\n",
            "128/128 [==============================] - 113s 884ms/step - loss: 3.3236 - accuracy: 0.0698 - val_loss: 3.2442 - val_accuracy: 0.0853 - lr: 0.0010\n",
            "Epoch 7/139\n",
            "128/128 [==============================] - ETA: 0s - loss: 3.2884 - accuracy: 0.0741"
          ]
        },
        {
          "output_type": "stream",
          "name": "stderr",
          "text": [
            "WARNING:tensorflow:Learning rate reduction is conditioned on metric `val_acc` which is not available. Available metrics are: loss,accuracy,val_loss,val_accuracy,lr\n"
          ]
        },
        {
          "output_type": "stream",
          "name": "stdout",
          "text": [
            "\n",
            "Epoch 7: val_accuracy improved from 0.08529 to 0.10250, saving model to best_model.h5\n",
            "128/128 [==============================] - 119s 929ms/step - loss: 3.2884 - accuracy: 0.0741 - val_loss: 3.1778 - val_accuracy: 0.1025 - lr: 0.0010\n",
            "Epoch 8/139\n",
            "128/128 [==============================] - ETA: 0s - loss: 3.2323 - accuracy: 0.0937"
          ]
        },
        {
          "output_type": "stream",
          "name": "stderr",
          "text": [
            "WARNING:tensorflow:Learning rate reduction is conditioned on metric `val_acc` which is not available. Available metrics are: loss,accuracy,val_loss,val_accuracy,lr\n"
          ]
        },
        {
          "output_type": "stream",
          "name": "stdout",
          "text": [
            "\n",
            "Epoch 8: val_accuracy improved from 0.10250 to 0.11894, saving model to best_model.h5\n",
            "128/128 [==============================] - 113s 880ms/step - loss: 3.2323 - accuracy: 0.0937 - val_loss: 3.1121 - val_accuracy: 0.1189 - lr: 0.0010\n",
            "Epoch 9/139\n",
            "128/128 [==============================] - ETA: 0s - loss: 3.1577 - accuracy: 0.1141"
          ]
        },
        {
          "output_type": "stream",
          "name": "stderr",
          "text": [
            "WARNING:tensorflow:Learning rate reduction is conditioned on metric `val_acc` which is not available. Available metrics are: loss,accuracy,val_loss,val_accuracy,lr\n"
          ]
        },
        {
          "output_type": "stream",
          "name": "stdout",
          "text": [
            "\n",
            "Epoch 9: val_accuracy improved from 0.11894 to 0.15649, saving model to best_model.h5\n",
            "128/128 [==============================] - 110s 862ms/step - loss: 3.1577 - accuracy: 0.1141 - val_loss: 3.0320 - val_accuracy: 0.1565 - lr: 0.0010\n",
            "Epoch 10/139\n",
            "128/128 [==============================] - ETA: 0s - loss: 2.9850 - accuracy: 0.1555"
          ]
        },
        {
          "output_type": "stream",
          "name": "stderr",
          "text": [
            "WARNING:tensorflow:Learning rate reduction is conditioned on metric `val_acc` which is not available. Available metrics are: loss,accuracy,val_loss,val_accuracy,lr\n"
          ]
        },
        {
          "output_type": "stream",
          "name": "stdout",
          "text": [
            "\n",
            "Epoch 10: val_accuracy improved from 0.15649 to 0.33412, saving model to best_model.h5\n",
            "128/128 [==============================] - 110s 863ms/step - loss: 2.9850 - accuracy: 0.1555 - val_loss: 2.5200 - val_accuracy: 0.3341 - lr: 0.0010\n",
            "Epoch 11/139\n",
            "128/128 [==============================] - ETA: 0s - loss: 2.7520 - accuracy: 0.2202"
          ]
        },
        {
          "output_type": "stream",
          "name": "stderr",
          "text": [
            "WARNING:tensorflow:Learning rate reduction is conditioned on metric `val_acc` which is not available. Available metrics are: loss,accuracy,val_loss,val_accuracy,lr\n"
          ]
        },
        {
          "output_type": "stream",
          "name": "stdout",
          "text": [
            "\n",
            "Epoch 11: val_accuracy improved from 0.33412 to 0.39437, saving model to best_model.h5\n",
            "128/128 [==============================] - 110s 863ms/step - loss: 2.7520 - accuracy: 0.2202 - val_loss: 2.1840 - val_accuracy: 0.3944 - lr: 0.0010\n",
            "Epoch 12/139\n",
            "128/128 [==============================] - ETA: 0s - loss: 2.5191 - accuracy: 0.2773"
          ]
        },
        {
          "output_type": "stream",
          "name": "stderr",
          "text": [
            "WARNING:tensorflow:Learning rate reduction is conditioned on metric `val_acc` which is not available. Available metrics are: loss,accuracy,val_loss,val_accuracy,lr\n"
          ]
        },
        {
          "output_type": "stream",
          "name": "stdout",
          "text": [
            "\n",
            "Epoch 12: val_accuracy improved from 0.39437 to 0.51721, saving model to best_model.h5\n",
            "128/128 [==============================] - 111s 870ms/step - loss: 2.5191 - accuracy: 0.2773 - val_loss: 1.8821 - val_accuracy: 0.5172 - lr: 0.0010\n",
            "Epoch 13/139\n",
            "128/128 [==============================] - ETA: 0s - loss: 2.2710 - accuracy: 0.3425"
          ]
        },
        {
          "output_type": "stream",
          "name": "stderr",
          "text": [
            "WARNING:tensorflow:Learning rate reduction is conditioned on metric `val_acc` which is not available. Available metrics are: loss,accuracy,val_loss,val_accuracy,lr\n"
          ]
        },
        {
          "output_type": "stream",
          "name": "stdout",
          "text": [
            "\n",
            "Epoch 13: val_accuracy did not improve from 0.51721\n",
            "128/128 [==============================] - 113s 875ms/step - loss: 2.2710 - accuracy: 0.3425 - val_loss: 2.0812 - val_accuracy: 0.3951 - lr: 0.0010\n",
            "Epoch 14/139\n",
            "128/128 [==============================] - ETA: 0s - loss: 2.0798 - accuracy: 0.4013"
          ]
        },
        {
          "output_type": "stream",
          "name": "stderr",
          "text": [
            "WARNING:tensorflow:Learning rate reduction is conditioned on metric `val_acc` which is not available. Available metrics are: loss,accuracy,val_loss,val_accuracy,lr\n"
          ]
        },
        {
          "output_type": "stream",
          "name": "stdout",
          "text": [
            "\n",
            "Epoch 14: val_accuracy improved from 0.51721 to 0.69562, saving model to best_model.h5\n",
            "128/128 [==============================] - 112s 875ms/step - loss: 2.0798 - accuracy: 0.4013 - val_loss: 1.1487 - val_accuracy: 0.6956 - lr: 0.0010\n",
            "Epoch 15/139\n",
            "128/128 [==============================] - ETA: 0s - loss: 1.8268 - accuracy: 0.4676"
          ]
        },
        {
          "output_type": "stream",
          "name": "stderr",
          "text": [
            "WARNING:tensorflow:Learning rate reduction is conditioned on metric `val_acc` which is not available. Available metrics are: loss,accuracy,val_loss,val_accuracy,lr\n"
          ]
        },
        {
          "output_type": "stream",
          "name": "stdout",
          "text": [
            "\n",
            "Epoch 15: val_accuracy improved from 0.69562 to 0.73083, saving model to best_model.h5\n",
            "128/128 [==============================] - 114s 891ms/step - loss: 1.8268 - accuracy: 0.4676 - val_loss: 0.9991 - val_accuracy: 0.7308 - lr: 0.0010\n",
            "Epoch 16/139\n",
            "128/128 [==============================] - ETA: 0s - loss: 1.6560 - accuracy: 0.5194"
          ]
        },
        {
          "output_type": "stream",
          "name": "stderr",
          "text": [
            "WARNING:tensorflow:Learning rate reduction is conditioned on metric `val_acc` which is not available. Available metrics are: loss,accuracy,val_loss,val_accuracy,lr\n"
          ]
        },
        {
          "output_type": "stream",
          "name": "stdout",
          "text": [
            "\n",
            "Epoch 16: val_accuracy improved from 0.73083 to 0.73552, saving model to best_model.h5\n",
            "128/128 [==============================] - 111s 866ms/step - loss: 1.6560 - accuracy: 0.5194 - val_loss: 0.9965 - val_accuracy: 0.7355 - lr: 0.0010\n",
            "Epoch 17/139\n",
            "128/128 [==============================] - ETA: 0s - loss: 1.4806 - accuracy: 0.5696"
          ]
        },
        {
          "output_type": "stream",
          "name": "stderr",
          "text": [
            "WARNING:tensorflow:Learning rate reduction is conditioned on metric `val_acc` which is not available. Available metrics are: loss,accuracy,val_loss,val_accuracy,lr\n"
          ]
        },
        {
          "output_type": "stream",
          "name": "stdout",
          "text": [
            "\n",
            "Epoch 17: val_accuracy improved from 0.73552 to 0.80203, saving model to best_model.h5\n",
            "128/128 [==============================] - 110s 863ms/step - loss: 1.4806 - accuracy: 0.5696 - val_loss: 0.7762 - val_accuracy: 0.8020 - lr: 0.0010\n",
            "Epoch 18/139\n",
            "128/128 [==============================] - ETA: 0s - loss: 1.3401 - accuracy: 0.6058"
          ]
        },
        {
          "output_type": "stream",
          "name": "stderr",
          "text": [
            "WARNING:tensorflow:Learning rate reduction is conditioned on metric `val_acc` which is not available. Available metrics are: loss,accuracy,val_loss,val_accuracy,lr\n"
          ]
        },
        {
          "output_type": "stream",
          "name": "stdout",
          "text": [
            "\n",
            "Epoch 18: val_accuracy improved from 0.80203 to 0.81299, saving model to best_model.h5\n",
            "128/128 [==============================] - 115s 896ms/step - loss: 1.3401 - accuracy: 0.6058 - val_loss: 0.6372 - val_accuracy: 0.8130 - lr: 0.0010\n",
            "Epoch 19/139\n",
            "128/128 [==============================] - ETA: 0s - loss: 1.2356 - accuracy: 0.6429"
          ]
        },
        {
          "output_type": "stream",
          "name": "stderr",
          "text": [
            "WARNING:tensorflow:Learning rate reduction is conditioned on metric `val_acc` which is not available. Available metrics are: loss,accuracy,val_loss,val_accuracy,lr\n"
          ]
        },
        {
          "output_type": "stream",
          "name": "stdout",
          "text": [
            "\n",
            "Epoch 19: val_accuracy did not improve from 0.81299\n",
            "128/128 [==============================] - 111s 868ms/step - loss: 1.2356 - accuracy: 0.6429 - val_loss: 0.7175 - val_accuracy: 0.7934 - lr: 0.0010\n",
            "Epoch 20/139\n",
            "128/128 [==============================] - ETA: 0s - loss: 1.1281 - accuracy: 0.6673"
          ]
        },
        {
          "output_type": "stream",
          "name": "stderr",
          "text": [
            "WARNING:tensorflow:Learning rate reduction is conditioned on metric `val_acc` which is not available. Available metrics are: loss,accuracy,val_loss,val_accuracy,lr\n"
          ]
        },
        {
          "output_type": "stream",
          "name": "stdout",
          "text": [
            "\n",
            "Epoch 20: val_accuracy improved from 0.81299 to 0.82551, saving model to best_model.h5\n",
            "128/128 [==============================] - 115s 897ms/step - loss: 1.1281 - accuracy: 0.6673 - val_loss: 0.5957 - val_accuracy: 0.8255 - lr: 0.0010\n",
            "Epoch 21/139\n",
            "128/128 [==============================] - ETA: 0s - loss: 1.0645 - accuracy: 0.6835"
          ]
        },
        {
          "output_type": "stream",
          "name": "stderr",
          "text": [
            "WARNING:tensorflow:Learning rate reduction is conditioned on metric `val_acc` which is not available. Available metrics are: loss,accuracy,val_loss,val_accuracy,lr\n"
          ]
        },
        {
          "output_type": "stream",
          "name": "stdout",
          "text": [
            "\n",
            "Epoch 21: val_accuracy improved from 0.82551 to 0.85211, saving model to best_model.h5\n",
            "128/128 [==============================] - 113s 880ms/step - loss: 1.0645 - accuracy: 0.6835 - val_loss: 0.5173 - val_accuracy: 0.8521 - lr: 0.0010\n",
            "Epoch 22/139\n",
            "128/128 [==============================] - ETA: 0s - loss: 1.0051 - accuracy: 0.7043"
          ]
        },
        {
          "output_type": "stream",
          "name": "stderr",
          "text": [
            "WARNING:tensorflow:Learning rate reduction is conditioned on metric `val_acc` which is not available. Available metrics are: loss,accuracy,val_loss,val_accuracy,lr\n"
          ]
        },
        {
          "output_type": "stream",
          "name": "stdout",
          "text": [
            "\n",
            "Epoch 22: val_accuracy did not improve from 0.85211\n",
            "128/128 [==============================] - 119s 931ms/step - loss: 1.0051 - accuracy: 0.7043 - val_loss: 0.5356 - val_accuracy: 0.8443 - lr: 0.0010\n",
            "Epoch 23/139\n",
            "128/128 [==============================] - ETA: 0s - loss: 0.9510 - accuracy: 0.7177"
          ]
        },
        {
          "output_type": "stream",
          "name": "stderr",
          "text": [
            "WARNING:tensorflow:Learning rate reduction is conditioned on metric `val_acc` which is not available. Available metrics are: loss,accuracy,val_loss,val_accuracy,lr\n"
          ]
        },
        {
          "output_type": "stream",
          "name": "stdout",
          "text": [
            "\n",
            "Epoch 23: val_accuracy improved from 0.85211 to 0.88185, saving model to best_model.h5\n",
            "128/128 [==============================] - 111s 869ms/step - loss: 0.9510 - accuracy: 0.7177 - val_loss: 0.3938 - val_accuracy: 0.8818 - lr: 0.0010\n",
            "Epoch 24/139\n",
            "128/128 [==============================] - ETA: 0s - loss: 0.9038 - accuracy: 0.7299"
          ]
        },
        {
          "output_type": "stream",
          "name": "stderr",
          "text": [
            "WARNING:tensorflow:Learning rate reduction is conditioned on metric `val_acc` which is not available. Available metrics are: loss,accuracy,val_loss,val_accuracy,lr\n"
          ]
        },
        {
          "output_type": "stream",
          "name": "stdout",
          "text": [
            "\n",
            "Epoch 24: val_accuracy improved from 0.88185 to 0.88498, saving model to best_model.h5\n",
            "128/128 [==============================] - 110s 862ms/step - loss: 0.9038 - accuracy: 0.7299 - val_loss: 0.4403 - val_accuracy: 0.8850 - lr: 0.0010\n",
            "Epoch 25/139\n",
            "128/128 [==============================] - ETA: 0s - loss: 0.8433 - accuracy: 0.7514"
          ]
        },
        {
          "output_type": "stream",
          "name": "stderr",
          "text": [
            "WARNING:tensorflow:Learning rate reduction is conditioned on metric `val_acc` which is not available. Available metrics are: loss,accuracy,val_loss,val_accuracy,lr\n"
          ]
        },
        {
          "output_type": "stream",
          "name": "stdout",
          "text": [
            "\n",
            "Epoch 25: val_accuracy did not improve from 0.88498\n",
            "128/128 [==============================] - 111s 866ms/step - loss: 0.8433 - accuracy: 0.7514 - val_loss: 0.5068 - val_accuracy: 0.8529 - lr: 0.0010\n",
            "Epoch 26/139\n",
            "128/128 [==============================] - ETA: 0s - loss: 0.7997 - accuracy: 0.7616"
          ]
        },
        {
          "output_type": "stream",
          "name": "stderr",
          "text": [
            "WARNING:tensorflow:Learning rate reduction is conditioned on metric `val_acc` which is not available. Available metrics are: loss,accuracy,val_loss,val_accuracy,lr\n"
          ]
        },
        {
          "output_type": "stream",
          "name": "stdout",
          "text": [
            "\n",
            "Epoch 26: val_accuracy improved from 0.88498 to 0.91080, saving model to best_model.h5\n",
            "128/128 [==============================] - 111s 865ms/step - loss: 0.7997 - accuracy: 0.7616 - val_loss: 0.3258 - val_accuracy: 0.9108 - lr: 0.0010\n",
            "Epoch 27/139\n",
            "128/128 [==============================] - ETA: 0s - loss: 0.7841 - accuracy: 0.7645"
          ]
        },
        {
          "output_type": "stream",
          "name": "stderr",
          "text": [
            "WARNING:tensorflow:Learning rate reduction is conditioned on metric `val_acc` which is not available. Available metrics are: loss,accuracy,val_loss,val_accuracy,lr\n"
          ]
        },
        {
          "output_type": "stream",
          "name": "stdout",
          "text": [
            "\n",
            "Epoch 27: val_accuracy did not improve from 0.91080\n",
            "128/128 [==============================] - 113s 876ms/step - loss: 0.7841 - accuracy: 0.7645 - val_loss: 0.4020 - val_accuracy: 0.8858 - lr: 0.0010\n",
            "Epoch 28/139\n",
            "128/128 [==============================] - ETA: 0s - loss: 0.7409 - accuracy: 0.7807"
          ]
        },
        {
          "output_type": "stream",
          "name": "stderr",
          "text": [
            "WARNING:tensorflow:Learning rate reduction is conditioned on metric `val_acc` which is not available. Available metrics are: loss,accuracy,val_loss,val_accuracy,lr\n"
          ]
        },
        {
          "output_type": "stream",
          "name": "stdout",
          "text": [
            "\n",
            "Epoch 28: val_accuracy did not improve from 0.91080\n",
            "128/128 [==============================] - 110s 863ms/step - loss: 0.7409 - accuracy: 0.7807 - val_loss: 0.3448 - val_accuracy: 0.8998 - lr: 0.0010\n",
            "Epoch 29/139\n",
            "128/128 [==============================] - ETA: 0s - loss: 0.7119 - accuracy: 0.7844"
          ]
        },
        {
          "output_type": "stream",
          "name": "stderr",
          "text": [
            "WARNING:tensorflow:Learning rate reduction is conditioned on metric `val_acc` which is not available. Available metrics are: loss,accuracy,val_loss,val_accuracy,lr\n"
          ]
        },
        {
          "output_type": "stream",
          "name": "stdout",
          "text": [
            "\n",
            "Epoch 29: val_accuracy did not improve from 0.91080\n",
            "128/128 [==============================] - 111s 864ms/step - loss: 0.7119 - accuracy: 0.7844 - val_loss: 0.3270 - val_accuracy: 0.9038 - lr: 0.0010\n",
            "Epoch 30/139\n",
            "128/128 [==============================] - ETA: 0s - loss: 0.6937 - accuracy: 0.7914"
          ]
        },
        {
          "output_type": "stream",
          "name": "stderr",
          "text": [
            "WARNING:tensorflow:Learning rate reduction is conditioned on metric `val_acc` which is not available. Available metrics are: loss,accuracy,val_loss,val_accuracy,lr\n"
          ]
        },
        {
          "output_type": "stream",
          "name": "stdout",
          "text": [
            "\n",
            "Epoch 30: val_accuracy did not improve from 0.91080\n",
            "128/128 [==============================] - 111s 865ms/step - loss: 0.6937 - accuracy: 0.7914 - val_loss: 0.3425 - val_accuracy: 0.9030 - lr: 0.0010\n",
            "Epoch 31/139\n",
            "128/128 [==============================] - ETA: 0s - loss: 0.6590 - accuracy: 0.8011"
          ]
        },
        {
          "output_type": "stream",
          "name": "stderr",
          "text": [
            "WARNING:tensorflow:Learning rate reduction is conditioned on metric `val_acc` which is not available. Available metrics are: loss,accuracy,val_loss,val_accuracy,lr\n"
          ]
        },
        {
          "output_type": "stream",
          "name": "stdout",
          "text": [
            "\n",
            "Epoch 31: val_accuracy improved from 0.91080 to 0.91158, saving model to best_model.h5\n",
            "128/128 [==============================] - 113s 882ms/step - loss: 0.6590 - accuracy: 0.8011 - val_loss: 0.2969 - val_accuracy: 0.9116 - lr: 0.0010\n",
            "Epoch 32/139\n",
            "128/128 [==============================] - ETA: 0s - loss: 0.6365 - accuracy: 0.8089"
          ]
        },
        {
          "output_type": "stream",
          "name": "stderr",
          "text": [
            "WARNING:tensorflow:Learning rate reduction is conditioned on metric `val_acc` which is not available. Available metrics are: loss,accuracy,val_loss,val_accuracy,lr\n"
          ]
        },
        {
          "output_type": "stream",
          "name": "stdout",
          "text": [
            "\n",
            "Epoch 32: val_accuracy did not improve from 0.91158\n",
            "128/128 [==============================] - 111s 864ms/step - loss: 0.6365 - accuracy: 0.8089 - val_loss: 0.3091 - val_accuracy: 0.9061 - lr: 0.0010\n",
            "Epoch 33/139\n",
            "128/128 [==============================] - ETA: 0s - loss: 0.6306 - accuracy: 0.8088"
          ]
        },
        {
          "output_type": "stream",
          "name": "stderr",
          "text": [
            "WARNING:tensorflow:Learning rate reduction is conditioned on metric `val_acc` which is not available. Available metrics are: loss,accuracy,val_loss,val_accuracy,lr\n"
          ]
        },
        {
          "output_type": "stream",
          "name": "stdout",
          "text": [
            "\n",
            "Epoch 33: val_accuracy did not improve from 0.91158\n",
            "128/128 [==============================] - 110s 861ms/step - loss: 0.6306 - accuracy: 0.8088 - val_loss: 0.3261 - val_accuracy: 0.8975 - lr: 0.0010\n",
            "Epoch 34/139\n",
            "128/128 [==============================] - ETA: 0s - loss: 0.6127 - accuracy: 0.8175"
          ]
        },
        {
          "output_type": "stream",
          "name": "stderr",
          "text": [
            "WARNING:tensorflow:Learning rate reduction is conditioned on metric `val_acc` which is not available. Available metrics are: loss,accuracy,val_loss,val_accuracy,lr\n"
          ]
        },
        {
          "output_type": "stream",
          "name": "stdout",
          "text": [
            "\n",
            "Epoch 34: val_accuracy did not improve from 0.91158\n",
            "128/128 [==============================] - 111s 866ms/step - loss: 0.6127 - accuracy: 0.8175 - val_loss: 0.3136 - val_accuracy: 0.8975 - lr: 0.0010\n",
            "Epoch 35/139\n",
            "128/128 [==============================] - ETA: 0s - loss: 0.5926 - accuracy: 0.8226"
          ]
        },
        {
          "output_type": "stream",
          "name": "stderr",
          "text": [
            "WARNING:tensorflow:Learning rate reduction is conditioned on metric `val_acc` which is not available. Available metrics are: loss,accuracy,val_loss,val_accuracy,lr\n"
          ]
        },
        {
          "output_type": "stream",
          "name": "stdout",
          "text": [
            "\n",
            "Epoch 35: val_accuracy improved from 0.91158 to 0.92645, saving model to best_model.h5\n",
            "128/128 [==============================] - 111s 865ms/step - loss: 0.5926 - accuracy: 0.8226 - val_loss: 0.2345 - val_accuracy: 0.9264 - lr: 0.0010\n",
            "Epoch 36/139\n",
            "128/128 [==============================] - ETA: 0s - loss: 0.5940 - accuracy: 0.8202"
          ]
        },
        {
          "output_type": "stream",
          "name": "stderr",
          "text": [
            "WARNING:tensorflow:Learning rate reduction is conditioned on metric `val_acc` which is not available. Available metrics are: loss,accuracy,val_loss,val_accuracy,lr\n"
          ]
        },
        {
          "output_type": "stream",
          "name": "stdout",
          "text": [
            "\n",
            "Epoch 36: val_accuracy did not improve from 0.92645\n",
            "128/128 [==============================] - 110s 860ms/step - loss: 0.5940 - accuracy: 0.8202 - val_loss: 0.2390 - val_accuracy: 0.9218 - lr: 0.0010\n",
            "Epoch 37/139\n",
            "128/128 [==============================] - ETA: 0s - loss: 0.5736 - accuracy: 0.8281"
          ]
        },
        {
          "output_type": "stream",
          "name": "stderr",
          "text": [
            "WARNING:tensorflow:Learning rate reduction is conditioned on metric `val_acc` which is not available. Available metrics are: loss,accuracy,val_loss,val_accuracy,lr\n"
          ]
        },
        {
          "output_type": "stream",
          "name": "stdout",
          "text": [
            "\n",
            "Epoch 37: val_accuracy improved from 0.92645 to 0.93271, saving model to best_model.h5\n",
            "128/128 [==============================] - 113s 884ms/step - loss: 0.5736 - accuracy: 0.8281 - val_loss: 0.2210 - val_accuracy: 0.9327 - lr: 0.0010\n",
            "Epoch 38/139\n",
            "128/128 [==============================] - ETA: 0s - loss: 0.5516 - accuracy: 0.8370"
          ]
        },
        {
          "output_type": "stream",
          "name": "stderr",
          "text": [
            "WARNING:tensorflow:Learning rate reduction is conditioned on metric `val_acc` which is not available. Available metrics are: loss,accuracy,val_loss,val_accuracy,lr\n"
          ]
        },
        {
          "output_type": "stream",
          "name": "stdout",
          "text": [
            "\n",
            "Epoch 38: val_accuracy did not improve from 0.93271\n",
            "128/128 [==============================] - 110s 863ms/step - loss: 0.5516 - accuracy: 0.8370 - val_loss: 0.2394 - val_accuracy: 0.9288 - lr: 0.0010\n",
            "Epoch 39/139\n",
            "128/128 [==============================] - ETA: 0s - loss: 0.5427 - accuracy: 0.8360"
          ]
        },
        {
          "output_type": "stream",
          "name": "stderr",
          "text": [
            "WARNING:tensorflow:Learning rate reduction is conditioned on metric `val_acc` which is not available. Available metrics are: loss,accuracy,val_loss,val_accuracy,lr\n"
          ]
        },
        {
          "output_type": "stream",
          "name": "stdout",
          "text": [
            "\n",
            "Epoch 39: val_accuracy did not improve from 0.93271\n",
            "128/128 [==============================] - 111s 866ms/step - loss: 0.5427 - accuracy: 0.8360 - val_loss: 0.2266 - val_accuracy: 0.9288 - lr: 0.0010\n",
            "Epoch 40/139\n",
            "128/128 [==============================] - ETA: 0s - loss: 0.5236 - accuracy: 0.8423"
          ]
        },
        {
          "output_type": "stream",
          "name": "stderr",
          "text": [
            "WARNING:tensorflow:Learning rate reduction is conditioned on metric `val_acc` which is not available. Available metrics are: loss,accuracy,val_loss,val_accuracy,lr\n"
          ]
        },
        {
          "output_type": "stream",
          "name": "stdout",
          "text": [
            "\n",
            "Epoch 40: val_accuracy did not improve from 0.93271\n",
            "128/128 [==============================] - 115s 893ms/step - loss: 0.5236 - accuracy: 0.8423 - val_loss: 0.3439 - val_accuracy: 0.8983 - lr: 0.0010\n",
            "Epoch 41/139\n",
            "128/128 [==============================] - ETA: 0s - loss: 0.5184 - accuracy: 0.8430"
          ]
        },
        {
          "output_type": "stream",
          "name": "stderr",
          "text": [
            "WARNING:tensorflow:Learning rate reduction is conditioned on metric `val_acc` which is not available. Available metrics are: loss,accuracy,val_loss,val_accuracy,lr\n"
          ]
        },
        {
          "output_type": "stream",
          "name": "stdout",
          "text": [
            "\n",
            "Epoch 41: val_accuracy did not improve from 0.93271\n",
            "128/128 [==============================] - 111s 867ms/step - loss: 0.5184 - accuracy: 0.8430 - val_loss: 0.2246 - val_accuracy: 0.9296 - lr: 0.0010\n",
            "Epoch 42/139\n",
            "128/128 [==============================] - ETA: 0s - loss: 0.5172 - accuracy: 0.8431"
          ]
        },
        {
          "output_type": "stream",
          "name": "stderr",
          "text": [
            "WARNING:tensorflow:Learning rate reduction is conditioned on metric `val_acc` which is not available. Available metrics are: loss,accuracy,val_loss,val_accuracy,lr\n"
          ]
        },
        {
          "output_type": "stream",
          "name": "stdout",
          "text": [
            "\n",
            "Epoch 42: val_accuracy improved from 0.93271 to 0.93740, saving model to best_model.h5\n",
            "128/128 [==============================] - 110s 864ms/step - loss: 0.5172 - accuracy: 0.8431 - val_loss: 0.2061 - val_accuracy: 0.9374 - lr: 0.0010\n",
            "Epoch 43/139\n",
            "128/128 [==============================] - ETA: 0s - loss: 0.5065 - accuracy: 0.8490"
          ]
        },
        {
          "output_type": "stream",
          "name": "stderr",
          "text": [
            "WARNING:tensorflow:Learning rate reduction is conditioned on metric `val_acc` which is not available. Available metrics are: loss,accuracy,val_loss,val_accuracy,lr\n"
          ]
        },
        {
          "output_type": "stream",
          "name": "stdout",
          "text": [
            "\n",
            "Epoch 43: val_accuracy did not improve from 0.93740\n",
            "128/128 [==============================] - 109s 854ms/step - loss: 0.5065 - accuracy: 0.8490 - val_loss: 0.2499 - val_accuracy: 0.9210 - lr: 0.0010\n",
            "Epoch 44/139\n",
            "128/128 [==============================] - ETA: 0s - loss: 0.4995 - accuracy: 0.8510"
          ]
        },
        {
          "output_type": "stream",
          "name": "stderr",
          "text": [
            "WARNING:tensorflow:Learning rate reduction is conditioned on metric `val_acc` which is not available. Available metrics are: loss,accuracy,val_loss,val_accuracy,lr\n"
          ]
        },
        {
          "output_type": "stream",
          "name": "stdout",
          "text": [
            "\n",
            "Epoch 44: val_accuracy did not improve from 0.93740\n",
            "128/128 [==============================] - 109s 855ms/step - loss: 0.4995 - accuracy: 0.8510 - val_loss: 0.2328 - val_accuracy: 0.9241 - lr: 0.0010\n",
            "Epoch 45/139\n",
            "128/128 [==============================] - ETA: 0s - loss: 0.4791 - accuracy: 0.8517"
          ]
        },
        {
          "output_type": "stream",
          "name": "stderr",
          "text": [
            "WARNING:tensorflow:Learning rate reduction is conditioned on metric `val_acc` which is not available. Available metrics are: loss,accuracy,val_loss,val_accuracy,lr\n"
          ]
        },
        {
          "output_type": "stream",
          "name": "stdout",
          "text": [
            "\n",
            "Epoch 45: val_accuracy did not improve from 0.93740\n",
            "128/128 [==============================] - 109s 853ms/step - loss: 0.4791 - accuracy: 0.8517 - val_loss: 0.2044 - val_accuracy: 0.9366 - lr: 0.0010\n",
            "Epoch 46/139\n",
            "128/128 [==============================] - ETA: 0s - loss: 0.4740 - accuracy: 0.8575"
          ]
        },
        {
          "output_type": "stream",
          "name": "stderr",
          "text": [
            "WARNING:tensorflow:Learning rate reduction is conditioned on metric `val_acc` which is not available. Available metrics are: loss,accuracy,val_loss,val_accuracy,lr\n"
          ]
        },
        {
          "output_type": "stream",
          "name": "stdout",
          "text": [
            "\n",
            "Epoch 46: val_accuracy did not improve from 0.93740\n",
            "128/128 [==============================] - 109s 853ms/step - loss: 0.4740 - accuracy: 0.8575 - val_loss: 0.2085 - val_accuracy: 0.9366 - lr: 0.0010\n",
            "Epoch 47/139\n",
            "128/128 [==============================] - ETA: 0s - loss: 0.4702 - accuracy: 0.8618"
          ]
        },
        {
          "output_type": "stream",
          "name": "stderr",
          "text": [
            "WARNING:tensorflow:Learning rate reduction is conditioned on metric `val_acc` which is not available. Available metrics are: loss,accuracy,val_loss,val_accuracy,lr\n"
          ]
        },
        {
          "output_type": "stream",
          "name": "stdout",
          "text": [
            "\n",
            "Epoch 47: val_accuracy did not improve from 0.93740\n",
            "128/128 [==============================] - 109s 855ms/step - loss: 0.4702 - accuracy: 0.8618 - val_loss: 0.1927 - val_accuracy: 0.9327 - lr: 0.0010\n",
            "Epoch 48/139\n",
            "128/128 [==============================] - ETA: 0s - loss: 0.4815 - accuracy: 0.8591"
          ]
        },
        {
          "output_type": "stream",
          "name": "stderr",
          "text": [
            "WARNING:tensorflow:Learning rate reduction is conditioned on metric `val_acc` which is not available. Available metrics are: loss,accuracy,val_loss,val_accuracy,lr\n"
          ]
        },
        {
          "output_type": "stream",
          "name": "stdout",
          "text": [
            "\n",
            "Epoch 48: val_accuracy did not improve from 0.93740\n",
            "128/128 [==============================] - 112s 873ms/step - loss: 0.4815 - accuracy: 0.8591 - val_loss: 0.2123 - val_accuracy: 0.9351 - lr: 0.0010\n",
            "Epoch 49/139\n",
            "128/128 [==============================] - ETA: 0s - loss: 0.4683 - accuracy: 0.8614"
          ]
        },
        {
          "output_type": "stream",
          "name": "stderr",
          "text": [
            "WARNING:tensorflow:Learning rate reduction is conditioned on metric `val_acc` which is not available. Available metrics are: loss,accuracy,val_loss,val_accuracy,lr\n"
          ]
        },
        {
          "output_type": "stream",
          "name": "stdout",
          "text": [
            "\n",
            "Epoch 49: val_accuracy improved from 0.93740 to 0.94131, saving model to best_model.h5\n",
            "128/128 [==============================] - 109s 855ms/step - loss: 0.4683 - accuracy: 0.8614 - val_loss: 0.2032 - val_accuracy: 0.9413 - lr: 0.0010\n",
            "Epoch 50/139\n",
            "128/128 [==============================] - ETA: 0s - loss: 0.4488 - accuracy: 0.8659"
          ]
        },
        {
          "output_type": "stream",
          "name": "stderr",
          "text": [
            "WARNING:tensorflow:Learning rate reduction is conditioned on metric `val_acc` which is not available. Available metrics are: loss,accuracy,val_loss,val_accuracy,lr\n"
          ]
        },
        {
          "output_type": "stream",
          "name": "stdout",
          "text": [
            "\n",
            "Epoch 50: val_accuracy improved from 0.94131 to 0.94992, saving model to best_model.h5\n",
            "128/128 [==============================] - 109s 853ms/step - loss: 0.4488 - accuracy: 0.8659 - val_loss: 0.1740 - val_accuracy: 0.9499 - lr: 0.0010\n",
            "Epoch 51/139\n",
            "128/128 [==============================] - ETA: 0s - loss: 0.4600 - accuracy: 0.8625"
          ]
        },
        {
          "output_type": "stream",
          "name": "stderr",
          "text": [
            "WARNING:tensorflow:Learning rate reduction is conditioned on metric `val_acc` which is not available. Available metrics are: loss,accuracy,val_loss,val_accuracy,lr\n"
          ]
        },
        {
          "output_type": "stream",
          "name": "stdout",
          "text": [
            "\n",
            "Epoch 51: val_accuracy did not improve from 0.94992\n",
            "128/128 [==============================] - 109s 853ms/step - loss: 0.4600 - accuracy: 0.8625 - val_loss: 0.2029 - val_accuracy: 0.9421 - lr: 0.0010\n",
            "Epoch 52/139\n",
            "128/128 [==============================] - ETA: 0s - loss: 0.4538 - accuracy: 0.8685"
          ]
        },
        {
          "output_type": "stream",
          "name": "stderr",
          "text": [
            "WARNING:tensorflow:Learning rate reduction is conditioned on metric `val_acc` which is not available. Available metrics are: loss,accuracy,val_loss,val_accuracy,lr\n"
          ]
        },
        {
          "output_type": "stream",
          "name": "stdout",
          "text": [
            "\n",
            "Epoch 52: val_accuracy did not improve from 0.94992\n",
            "128/128 [==============================] - 112s 874ms/step - loss: 0.4538 - accuracy: 0.8685 - val_loss: 0.1949 - val_accuracy: 0.9429 - lr: 0.0010\n",
            "Epoch 53/139\n",
            "128/128 [==============================] - ETA: 0s - loss: 0.4458 - accuracy: 0.8604"
          ]
        },
        {
          "output_type": "stream",
          "name": "stderr",
          "text": [
            "WARNING:tensorflow:Learning rate reduction is conditioned on metric `val_acc` which is not available. Available metrics are: loss,accuracy,val_loss,val_accuracy,lr\n"
          ]
        },
        {
          "output_type": "stream",
          "name": "stdout",
          "text": [
            "\n",
            "Epoch 53: val_accuracy did not improve from 0.94992\n",
            "128/128 [==============================] - 109s 853ms/step - loss: 0.4458 - accuracy: 0.8604 - val_loss: 0.2063 - val_accuracy: 0.9335 - lr: 0.0010\n",
            "Epoch 54/139\n",
            "128/128 [==============================] - ETA: 0s - loss: 0.4429 - accuracy: 0.8679"
          ]
        },
        {
          "output_type": "stream",
          "name": "stderr",
          "text": [
            "WARNING:tensorflow:Learning rate reduction is conditioned on metric `val_acc` which is not available. Available metrics are: loss,accuracy,val_loss,val_accuracy,lr\n"
          ]
        },
        {
          "output_type": "stream",
          "name": "stdout",
          "text": [
            "\n",
            "Epoch 54: val_accuracy did not improve from 0.94992\n",
            "128/128 [==============================] - 109s 854ms/step - loss: 0.4429 - accuracy: 0.8679 - val_loss: 0.1821 - val_accuracy: 0.9476 - lr: 0.0010\n",
            "Epoch 55/139\n",
            "128/128 [==============================] - ETA: 0s - loss: 0.4434 - accuracy: 0.8695"
          ]
        },
        {
          "output_type": "stream",
          "name": "stderr",
          "text": [
            "WARNING:tensorflow:Learning rate reduction is conditioned on metric `val_acc` which is not available. Available metrics are: loss,accuracy,val_loss,val_accuracy,lr\n"
          ]
        },
        {
          "output_type": "stream",
          "name": "stdout",
          "text": [
            "\n",
            "Epoch 55: val_accuracy did not improve from 0.94992\n",
            "128/128 [==============================] - 112s 876ms/step - loss: 0.4434 - accuracy: 0.8695 - val_loss: 0.2177 - val_accuracy: 0.9421 - lr: 0.0010\n",
            "Epoch 56/139\n",
            "128/128 [==============================] - ETA: 0s - loss: 0.4234 - accuracy: 0.8733"
          ]
        },
        {
          "output_type": "stream",
          "name": "stderr",
          "text": [
            "WARNING:tensorflow:Learning rate reduction is conditioned on metric `val_acc` which is not available. Available metrics are: loss,accuracy,val_loss,val_accuracy,lr\n"
          ]
        },
        {
          "output_type": "stream",
          "name": "stdout",
          "text": [
            "\n",
            "Epoch 56: val_accuracy improved from 0.94992 to 0.95383, saving model to best_model.h5\n",
            "128/128 [==============================] - 110s 860ms/step - loss: 0.4234 - accuracy: 0.8733 - val_loss: 0.1646 - val_accuracy: 0.9538 - lr: 0.0010\n",
            "Epoch 57/139\n",
            "128/128 [==============================] - ETA: 0s - loss: 0.4440 - accuracy: 0.8687"
          ]
        },
        {
          "output_type": "stream",
          "name": "stderr",
          "text": [
            "WARNING:tensorflow:Learning rate reduction is conditioned on metric `val_acc` which is not available. Available metrics are: loss,accuracy,val_loss,val_accuracy,lr\n"
          ]
        },
        {
          "output_type": "stream",
          "name": "stdout",
          "text": [
            "\n",
            "Epoch 57: val_accuracy did not improve from 0.95383\n",
            "128/128 [==============================] - 110s 860ms/step - loss: 0.4440 - accuracy: 0.8687 - val_loss: 0.1722 - val_accuracy: 0.9452 - lr: 0.0010\n",
            "Epoch 58/139\n",
            "128/128 [==============================] - ETA: 0s - loss: 0.4303 - accuracy: 0.8754"
          ]
        },
        {
          "output_type": "stream",
          "name": "stderr",
          "text": [
            "WARNING:tensorflow:Learning rate reduction is conditioned on metric `val_acc` which is not available. Available metrics are: loss,accuracy,val_loss,val_accuracy,lr\n"
          ]
        },
        {
          "output_type": "stream",
          "name": "stdout",
          "text": [
            "\n",
            "Epoch 58: val_accuracy did not improve from 0.95383\n",
            "128/128 [==============================] - 110s 861ms/step - loss: 0.4303 - accuracy: 0.8754 - val_loss: 0.2052 - val_accuracy: 0.9397 - lr: 0.0010\n",
            "Epoch 59/139\n",
            "128/128 [==============================] - ETA: 0s - loss: 0.4305 - accuracy: 0.8705"
          ]
        },
        {
          "output_type": "stream",
          "name": "stderr",
          "text": [
            "WARNING:tensorflow:Learning rate reduction is conditioned on metric `val_acc` which is not available. Available metrics are: loss,accuracy,val_loss,val_accuracy,lr\n"
          ]
        },
        {
          "output_type": "stream",
          "name": "stdout",
          "text": [
            "\n",
            "Epoch 59: val_accuracy did not improve from 0.95383\n",
            "128/128 [==============================] - 112s 871ms/step - loss: 0.4305 - accuracy: 0.8705 - val_loss: 0.1842 - val_accuracy: 0.9437 - lr: 0.0010\n",
            "Epoch 60/139\n",
            "128/128 [==============================] - ETA: 0s - loss: 0.4181 - accuracy: 0.8778"
          ]
        },
        {
          "output_type": "stream",
          "name": "stderr",
          "text": [
            "WARNING:tensorflow:Learning rate reduction is conditioned on metric `val_acc` which is not available. Available metrics are: loss,accuracy,val_loss,val_accuracy,lr\n"
          ]
        },
        {
          "output_type": "stream",
          "name": "stdout",
          "text": [
            "\n",
            "Epoch 60: val_accuracy did not improve from 0.95383\n",
            "128/128 [==============================] - 113s 876ms/step - loss: 0.4181 - accuracy: 0.8778 - val_loss: 0.1807 - val_accuracy: 0.9491 - lr: 0.0010\n",
            "Epoch 61/139\n",
            "128/128 [==============================] - ETA: 0s - loss: 0.4302 - accuracy: 0.8752"
          ]
        },
        {
          "output_type": "stream",
          "name": "stderr",
          "text": [
            "WARNING:tensorflow:Learning rate reduction is conditioned on metric `val_acc` which is not available. Available metrics are: loss,accuracy,val_loss,val_accuracy,lr\n"
          ]
        },
        {
          "output_type": "stream",
          "name": "stdout",
          "text": [
            "\n",
            "Epoch 61: val_accuracy did not improve from 0.95383\n",
            "128/128 [==============================] - 110s 862ms/step - loss: 0.4302 - accuracy: 0.8752 - val_loss: 0.1852 - val_accuracy: 0.9437 - lr: 0.0010\n",
            "Epoch 62/139\n",
            "128/128 [==============================] - ETA: 0s - loss: 0.4252 - accuracy: 0.8752"
          ]
        },
        {
          "output_type": "stream",
          "name": "stderr",
          "text": [
            "WARNING:tensorflow:Learning rate reduction is conditioned on metric `val_acc` which is not available. Available metrics are: loss,accuracy,val_loss,val_accuracy,lr\n"
          ]
        },
        {
          "output_type": "stream",
          "name": "stdout",
          "text": [
            "\n",
            "Epoch 62: val_accuracy did not improve from 0.95383\n",
            "128/128 [==============================] - 111s 864ms/step - loss: 0.4252 - accuracy: 0.8752 - val_loss: 0.1871 - val_accuracy: 0.9390 - lr: 0.0010\n",
            "Epoch 63/139\n",
            "128/128 [==============================] - ETA: 0s - loss: 0.4082 - accuracy: 0.8784"
          ]
        },
        {
          "output_type": "stream",
          "name": "stderr",
          "text": [
            "WARNING:tensorflow:Learning rate reduction is conditioned on metric `val_acc` which is not available. Available metrics are: loss,accuracy,val_loss,val_accuracy,lr\n"
          ]
        },
        {
          "output_type": "stream",
          "name": "stdout",
          "text": [
            "\n",
            "Epoch 63: val_accuracy did not improve from 0.95383\n",
            "128/128 [==============================] - 110s 861ms/step - loss: 0.4082 - accuracy: 0.8784 - val_loss: 0.2128 - val_accuracy: 0.9366 - lr: 0.0010\n",
            "Epoch 64/139\n",
            "128/128 [==============================] - ETA: 0s - loss: 0.4219 - accuracy: 0.8831"
          ]
        },
        {
          "output_type": "stream",
          "name": "stderr",
          "text": [
            "WARNING:tensorflow:Learning rate reduction is conditioned on metric `val_acc` which is not available. Available metrics are: loss,accuracy,val_loss,val_accuracy,lr\n"
          ]
        },
        {
          "output_type": "stream",
          "name": "stdout",
          "text": [
            "\n",
            "Epoch 64: val_accuracy did not improve from 0.95383\n",
            "128/128 [==============================] - 110s 860ms/step - loss: 0.4219 - accuracy: 0.8831 - val_loss: 0.1920 - val_accuracy: 0.9444 - lr: 0.0010\n",
            "Epoch 65/139\n",
            "128/128 [==============================] - ETA: 0s - loss: 0.4191 - accuracy: 0.8779"
          ]
        },
        {
          "output_type": "stream",
          "name": "stderr",
          "text": [
            "WARNING:tensorflow:Learning rate reduction is conditioned on metric `val_acc` which is not available. Available metrics are: loss,accuracy,val_loss,val_accuracy,lr\n"
          ]
        },
        {
          "output_type": "stream",
          "name": "stdout",
          "text": [
            "\n",
            "Epoch 65: val_accuracy did not improve from 0.95383\n",
            "128/128 [==============================] - 110s 861ms/step - loss: 0.4191 - accuracy: 0.8779 - val_loss: 0.1912 - val_accuracy: 0.9397 - lr: 0.0010\n",
            "Epoch 66/139\n",
            "128/128 [==============================] - ETA: 0s - loss: 0.4280 - accuracy: 0.8745"
          ]
        },
        {
          "output_type": "stream",
          "name": "stderr",
          "text": [
            "WARNING:tensorflow:Learning rate reduction is conditioned on metric `val_acc` which is not available. Available metrics are: loss,accuracy,val_loss,val_accuracy,lr\n"
          ]
        },
        {
          "output_type": "stream",
          "name": "stdout",
          "text": [
            "\n",
            "Epoch 66: val_accuracy did not improve from 0.95383\n",
            "128/128 [==============================] - 112s 874ms/step - loss: 0.4280 - accuracy: 0.8745 - val_loss: 0.2304 - val_accuracy: 0.9264 - lr: 0.0010\n",
            "Epoch 67/139\n",
            "128/128 [==============================] - ETA: 0s - loss: 0.4181 - accuracy: 0.8796"
          ]
        },
        {
          "output_type": "stream",
          "name": "stderr",
          "text": [
            "WARNING:tensorflow:Learning rate reduction is conditioned on metric `val_acc` which is not available. Available metrics are: loss,accuracy,val_loss,val_accuracy,lr\n"
          ]
        },
        {
          "output_type": "stream",
          "name": "stdout",
          "text": [
            "\n",
            "Epoch 67: val_accuracy did not improve from 0.95383\n",
            "128/128 [==============================] - 111s 863ms/step - loss: 0.4181 - accuracy: 0.8796 - val_loss: 0.1837 - val_accuracy: 0.9460 - lr: 0.0010\n",
            "Epoch 68/139\n",
            "128/128 [==============================] - ETA: 0s - loss: 0.4154 - accuracy: 0.8835"
          ]
        },
        {
          "output_type": "stream",
          "name": "stderr",
          "text": [
            "WARNING:tensorflow:Learning rate reduction is conditioned on metric `val_acc` which is not available. Available metrics are: loss,accuracy,val_loss,val_accuracy,lr\n"
          ]
        },
        {
          "output_type": "stream",
          "name": "stdout",
          "text": [
            "\n",
            "Epoch 68: val_accuracy did not improve from 0.95383\n",
            "128/128 [==============================] - 110s 863ms/step - loss: 0.4154 - accuracy: 0.8835 - val_loss: 0.1812 - val_accuracy: 0.9437 - lr: 0.0010\n",
            "Epoch 69/139\n",
            "128/128 [==============================] - ETA: 0s - loss: 0.4145 - accuracy: 0.8820"
          ]
        },
        {
          "output_type": "stream",
          "name": "stderr",
          "text": [
            "WARNING:tensorflow:Learning rate reduction is conditioned on metric `val_acc` which is not available. Available metrics are: loss,accuracy,val_loss,val_accuracy,lr\n"
          ]
        },
        {
          "output_type": "stream",
          "name": "stdout",
          "text": [
            "\n",
            "Epoch 69: val_accuracy did not improve from 0.95383\n",
            "128/128 [==============================] - 113s 875ms/step - loss: 0.4145 - accuracy: 0.8820 - val_loss: 0.2073 - val_accuracy: 0.9358 - lr: 0.0010\n",
            "Epoch 70/139\n",
            "128/128 [==============================] - ETA: 0s - loss: 0.4053 - accuracy: 0.8833"
          ]
        },
        {
          "output_type": "stream",
          "name": "stderr",
          "text": [
            "WARNING:tensorflow:Learning rate reduction is conditioned on metric `val_acc` which is not available. Available metrics are: loss,accuracy,val_loss,val_accuracy,lr\n"
          ]
        },
        {
          "output_type": "stream",
          "name": "stdout",
          "text": [
            "\n",
            "Epoch 70: val_accuracy did not improve from 0.95383\n",
            "128/128 [==============================] - 110s 863ms/step - loss: 0.4053 - accuracy: 0.8833 - val_loss: 0.1657 - val_accuracy: 0.9460 - lr: 0.0010\n",
            "Epoch 71/139\n",
            "128/128 [==============================] - ETA: 0s - loss: 0.3887 - accuracy: 0.8866"
          ]
        },
        {
          "output_type": "stream",
          "name": "stderr",
          "text": [
            "WARNING:tensorflow:Learning rate reduction is conditioned on metric `val_acc` which is not available. Available metrics are: loss,accuracy,val_loss,val_accuracy,lr\n"
          ]
        },
        {
          "output_type": "stream",
          "name": "stdout",
          "text": [
            "\n",
            "Epoch 71: val_accuracy did not improve from 0.95383\n",
            "128/128 [==============================] - 110s 863ms/step - loss: 0.3887 - accuracy: 0.8866 - val_loss: 0.1773 - val_accuracy: 0.9515 - lr: 0.0010\n",
            "Epoch 72/139\n",
            "128/128 [==============================] - ETA: 0s - loss: 0.4132 - accuracy: 0.8823"
          ]
        },
        {
          "output_type": "stream",
          "name": "stderr",
          "text": [
            "WARNING:tensorflow:Learning rate reduction is conditioned on metric `val_acc` which is not available. Available metrics are: loss,accuracy,val_loss,val_accuracy,lr\n"
          ]
        },
        {
          "output_type": "stream",
          "name": "stdout",
          "text": [
            "\n",
            "Epoch 72: val_accuracy did not improve from 0.95383\n",
            "128/128 [==============================] - 113s 880ms/step - loss: 0.4132 - accuracy: 0.8823 - val_loss: 0.1772 - val_accuracy: 0.9452 - lr: 0.0010\n",
            "Epoch 73/139\n",
            "128/128 [==============================] - ETA: 0s - loss: 0.4024 - accuracy: 0.8840"
          ]
        },
        {
          "output_type": "stream",
          "name": "stderr",
          "text": [
            "WARNING:tensorflow:Learning rate reduction is conditioned on metric `val_acc` which is not available. Available metrics are: loss,accuracy,val_loss,val_accuracy,lr\n"
          ]
        },
        {
          "output_type": "stream",
          "name": "stdout",
          "text": [
            "\n",
            "Epoch 73: val_accuracy did not improve from 0.95383\n",
            "128/128 [==============================] - 111s 864ms/step - loss: 0.4024 - accuracy: 0.8840 - val_loss: 0.1594 - val_accuracy: 0.9491 - lr: 0.0010\n",
            "Epoch 74/139\n",
            "128/128 [==============================] - ETA: 0s - loss: 0.4277 - accuracy: 0.8787"
          ]
        },
        {
          "output_type": "stream",
          "name": "stderr",
          "text": [
            "WARNING:tensorflow:Learning rate reduction is conditioned on metric `val_acc` which is not available. Available metrics are: loss,accuracy,val_loss,val_accuracy,lr\n"
          ]
        },
        {
          "output_type": "stream",
          "name": "stdout",
          "text": [
            "\n",
            "Epoch 74: val_accuracy did not improve from 0.95383\n",
            "128/128 [==============================] - 114s 891ms/step - loss: 0.4277 - accuracy: 0.8787 - val_loss: 0.1503 - val_accuracy: 0.9531 - lr: 0.0010\n",
            "Epoch 75/139\n",
            "128/128 [==============================] - ETA: 0s - loss: 0.3918 - accuracy: 0.8897"
          ]
        },
        {
          "output_type": "stream",
          "name": "stderr",
          "text": [
            "WARNING:tensorflow:Learning rate reduction is conditioned on metric `val_acc` which is not available. Available metrics are: loss,accuracy,val_loss,val_accuracy,lr\n"
          ]
        },
        {
          "output_type": "stream",
          "name": "stdout",
          "text": [
            "\n",
            "Epoch 75: val_accuracy did not improve from 0.95383\n",
            "128/128 [==============================] - 111s 865ms/step - loss: 0.3918 - accuracy: 0.8897 - val_loss: 0.1570 - val_accuracy: 0.9538 - lr: 0.0010\n",
            "Epoch 76/139\n",
            "128/128 [==============================] - ETA: 0s - loss: 0.4088 - accuracy: 0.8821"
          ]
        },
        {
          "output_type": "stream",
          "name": "stderr",
          "text": [
            "WARNING:tensorflow:Learning rate reduction is conditioned on metric `val_acc` which is not available. Available metrics are: loss,accuracy,val_loss,val_accuracy,lr\n"
          ]
        },
        {
          "output_type": "stream",
          "name": "stdout",
          "text": [
            "\n",
            "Epoch 76: val_accuracy did not improve from 0.95383\n",
            "128/128 [==============================] - 112s 874ms/step - loss: 0.4088 - accuracy: 0.8821 - val_loss: 0.2206 - val_accuracy: 0.9358 - lr: 0.0010\n",
            "Epoch 77/139\n",
            "128/128 [==============================] - ETA: 0s - loss: 0.4081 - accuracy: 0.8804"
          ]
        },
        {
          "output_type": "stream",
          "name": "stderr",
          "text": [
            "WARNING:tensorflow:Learning rate reduction is conditioned on metric `val_acc` which is not available. Available metrics are: loss,accuracy,val_loss,val_accuracy,lr\n"
          ]
        },
        {
          "output_type": "stream",
          "name": "stdout",
          "text": [
            "\n",
            "Epoch 77: val_accuracy did not improve from 0.95383\n",
            "128/128 [==============================] - 110s 863ms/step - loss: 0.4081 - accuracy: 0.8804 - val_loss: 0.1573 - val_accuracy: 0.9538 - lr: 0.0010\n",
            "Epoch 78/139\n",
            "128/128 [==============================] - ETA: 0s - loss: 0.4180 - accuracy: 0.8814"
          ]
        },
        {
          "output_type": "stream",
          "name": "stderr",
          "text": [
            "WARNING:tensorflow:Learning rate reduction is conditioned on metric `val_acc` which is not available. Available metrics are: loss,accuracy,val_loss,val_accuracy,lr\n"
          ]
        },
        {
          "output_type": "stream",
          "name": "stdout",
          "text": [
            "\n",
            "Epoch 78: val_accuracy did not improve from 0.95383\n",
            "128/128 [==============================] - 113s 882ms/step - loss: 0.4180 - accuracy: 0.8814 - val_loss: 0.1704 - val_accuracy: 0.9491 - lr: 0.0010\n",
            "Epoch 79/139\n",
            "128/128 [==============================] - ETA: 0s - loss: 0.4049 - accuracy: 0.8848"
          ]
        },
        {
          "output_type": "stream",
          "name": "stderr",
          "text": [
            "WARNING:tensorflow:Learning rate reduction is conditioned on metric `val_acc` which is not available. Available metrics are: loss,accuracy,val_loss,val_accuracy,lr\n"
          ]
        },
        {
          "output_type": "stream",
          "name": "stdout",
          "text": [
            "\n",
            "Epoch 79: val_accuracy did not improve from 0.95383\n",
            "128/128 [==============================] - 111s 861ms/step - loss: 0.4049 - accuracy: 0.8848 - val_loss: 0.1788 - val_accuracy: 0.9452 - lr: 0.0010\n",
            "Epoch 80/139\n",
            "128/128 [==============================] - ETA: 0s - loss: 0.4101 - accuracy: 0.8850"
          ]
        },
        {
          "output_type": "stream",
          "name": "stderr",
          "text": [
            "WARNING:tensorflow:Learning rate reduction is conditioned on metric `val_acc` which is not available. Available metrics are: loss,accuracy,val_loss,val_accuracy,lr\n"
          ]
        },
        {
          "output_type": "stream",
          "name": "stdout",
          "text": [
            "\n",
            "Epoch 80: val_accuracy did not improve from 0.95383\n",
            "128/128 [==============================] - 111s 866ms/step - loss: 0.4101 - accuracy: 0.8850 - val_loss: 0.1842 - val_accuracy: 0.9429 - lr: 0.0010\n",
            "Epoch 81/139\n",
            "128/128 [==============================] - ETA: 0s - loss: 0.4079 - accuracy: 0.8870"
          ]
        },
        {
          "output_type": "stream",
          "name": "stderr",
          "text": [
            "WARNING:tensorflow:Learning rate reduction is conditioned on metric `val_acc` which is not available. Available metrics are: loss,accuracy,val_loss,val_accuracy,lr\n"
          ]
        },
        {
          "output_type": "stream",
          "name": "stdout",
          "text": [
            "\n",
            "Epoch 81: val_accuracy did not improve from 0.95383\n",
            "128/128 [==============================] - 111s 866ms/step - loss: 0.4079 - accuracy: 0.8870 - val_loss: 0.1874 - val_accuracy: 0.9468 - lr: 0.0010\n",
            "Epoch 82/139\n",
            "128/128 [==============================] - ETA: 0s - loss: 0.3979 - accuracy: 0.8850"
          ]
        },
        {
          "output_type": "stream",
          "name": "stderr",
          "text": [
            "WARNING:tensorflow:Learning rate reduction is conditioned on metric `val_acc` which is not available. Available metrics are: loss,accuracy,val_loss,val_accuracy,lr\n"
          ]
        },
        {
          "output_type": "stream",
          "name": "stdout",
          "text": [
            "\n",
            "Epoch 82: val_accuracy did not improve from 0.95383\n",
            "128/128 [==============================] - 111s 866ms/step - loss: 0.3979 - accuracy: 0.8850 - val_loss: 0.1904 - val_accuracy: 0.9429 - lr: 0.0010\n",
            "Epoch 83/139\n",
            "128/128 [==============================] - ETA: 0s - loss: 0.4180 - accuracy: 0.8825"
          ]
        },
        {
          "output_type": "stream",
          "name": "stderr",
          "text": [
            "WARNING:tensorflow:Learning rate reduction is conditioned on metric `val_acc` which is not available. Available metrics are: loss,accuracy,val_loss,val_accuracy,lr\n"
          ]
        },
        {
          "output_type": "stream",
          "name": "stdout",
          "text": [
            "\n",
            "Epoch 83: val_accuracy did not improve from 0.95383\n",
            "128/128 [==============================] - 110s 860ms/step - loss: 0.4180 - accuracy: 0.8825 - val_loss: 0.1603 - val_accuracy: 0.9531 - lr: 0.0010\n",
            "Epoch 84/139\n",
            "128/128 [==============================] - ETA: 0s - loss: 0.4151 - accuracy: 0.8870"
          ]
        },
        {
          "output_type": "stream",
          "name": "stderr",
          "text": [
            "WARNING:tensorflow:Learning rate reduction is conditioned on metric `val_acc` which is not available. Available metrics are: loss,accuracy,val_loss,val_accuracy,lr\n"
          ]
        },
        {
          "output_type": "stream",
          "name": "stdout",
          "text": [
            "\n",
            "Epoch 84: val_accuracy did not improve from 0.95383\n",
            "128/128 [==============================] - 110s 858ms/step - loss: 0.4151 - accuracy: 0.8870 - val_loss: 0.1740 - val_accuracy: 0.9531 - lr: 0.0010\n",
            "Epoch 85/139\n",
            "128/128 [==============================] - ETA: 0s - loss: 0.3990 - accuracy: 0.8845"
          ]
        },
        {
          "output_type": "stream",
          "name": "stderr",
          "text": [
            "WARNING:tensorflow:Learning rate reduction is conditioned on metric `val_acc` which is not available. Available metrics are: loss,accuracy,val_loss,val_accuracy,lr\n"
          ]
        },
        {
          "output_type": "stream",
          "name": "stdout",
          "text": [
            "\n",
            "Epoch 85: val_accuracy improved from 0.95383 to 0.95696, saving model to best_model.h5\n",
            "128/128 [==============================] - 111s 866ms/step - loss: 0.3990 - accuracy: 0.8845 - val_loss: 0.1555 - val_accuracy: 0.9570 - lr: 0.0010\n",
            "Epoch 86/139\n",
            "128/128 [==============================] - ETA: 0s - loss: 0.3959 - accuracy: 0.8860"
          ]
        },
        {
          "output_type": "stream",
          "name": "stderr",
          "text": [
            "WARNING:tensorflow:Learning rate reduction is conditioned on metric `val_acc` which is not available. Available metrics are: loss,accuracy,val_loss,val_accuracy,lr\n"
          ]
        },
        {
          "output_type": "stream",
          "name": "stdout",
          "text": [
            "\n",
            "Epoch 86: val_accuracy did not improve from 0.95696\n",
            "128/128 [==============================] - 110s 861ms/step - loss: 0.3959 - accuracy: 0.8860 - val_loss: 0.1799 - val_accuracy: 0.9452 - lr: 0.0010\n",
            "Epoch 87/139\n",
            "128/128 [==============================] - ETA: 0s - loss: 0.4038 - accuracy: 0.8887"
          ]
        },
        {
          "output_type": "stream",
          "name": "stderr",
          "text": [
            "WARNING:tensorflow:Learning rate reduction is conditioned on metric `val_acc` which is not available. Available metrics are: loss,accuracy,val_loss,val_accuracy,lr\n"
          ]
        },
        {
          "output_type": "stream",
          "name": "stdout",
          "text": [
            "\n",
            "Epoch 87: val_accuracy did not improve from 0.95696\n",
            "128/128 [==============================] - 110s 861ms/step - loss: 0.4038 - accuracy: 0.8887 - val_loss: 0.1507 - val_accuracy: 0.9538 - lr: 0.0010\n",
            "Epoch 88/139\n",
            "128/128 [==============================] - ETA: 0s - loss: 0.3959 - accuracy: 0.8873"
          ]
        },
        {
          "output_type": "stream",
          "name": "stderr",
          "text": [
            "WARNING:tensorflow:Learning rate reduction is conditioned on metric `val_acc` which is not available. Available metrics are: loss,accuracy,val_loss,val_accuracy,lr\n"
          ]
        },
        {
          "output_type": "stream",
          "name": "stdout",
          "text": [
            "\n",
            "Epoch 88: val_accuracy did not improve from 0.95696\n",
            "128/128 [==============================] - 110s 863ms/step - loss: 0.3959 - accuracy: 0.8873 - val_loss: 0.1502 - val_accuracy: 0.9538 - lr: 0.0010\n",
            "Epoch 89/139\n",
            "128/128 [==============================] - ETA: 0s - loss: 0.3930 - accuracy: 0.8877"
          ]
        },
        {
          "output_type": "stream",
          "name": "stderr",
          "text": [
            "WARNING:tensorflow:Learning rate reduction is conditioned on metric `val_acc` which is not available. Available metrics are: loss,accuracy,val_loss,val_accuracy,lr\n"
          ]
        },
        {
          "output_type": "stream",
          "name": "stdout",
          "text": [
            "\n",
            "Epoch 89: val_accuracy did not improve from 0.95696\n",
            "128/128 [==============================] - 111s 865ms/step - loss: 0.3930 - accuracy: 0.8877 - val_loss: 0.1635 - val_accuracy: 0.9554 - lr: 0.0010\n",
            "Epoch 90/139\n",
            "128/128 [==============================] - ETA: 0s - loss: 0.3978 - accuracy: 0.8881"
          ]
        },
        {
          "output_type": "stream",
          "name": "stderr",
          "text": [
            "WARNING:tensorflow:Learning rate reduction is conditioned on metric `val_acc` which is not available. Available metrics are: loss,accuracy,val_loss,val_accuracy,lr\n"
          ]
        },
        {
          "output_type": "stream",
          "name": "stdout",
          "text": [
            "\n",
            "Epoch 90: val_accuracy did not improve from 0.95696\n",
            "128/128 [==============================] - 110s 861ms/step - loss: 0.3978 - accuracy: 0.8881 - val_loss: 0.1894 - val_accuracy: 0.9507 - lr: 0.0010\n",
            "Epoch 91/139\n",
            "128/128 [==============================] - ETA: 0s - loss: 0.4194 - accuracy: 0.8858"
          ]
        },
        {
          "output_type": "stream",
          "name": "stderr",
          "text": [
            "WARNING:tensorflow:Learning rate reduction is conditioned on metric `val_acc` which is not available. Available metrics are: loss,accuracy,val_loss,val_accuracy,lr\n"
          ]
        },
        {
          "output_type": "stream",
          "name": "stdout",
          "text": [
            "\n",
            "Epoch 91: val_accuracy did not improve from 0.95696\n",
            "128/128 [==============================] - 110s 859ms/step - loss: 0.4194 - accuracy: 0.8858 - val_loss: 0.4756 - val_accuracy: 0.8779 - lr: 0.0010\n",
            "Epoch 92/139\n",
            "128/128 [==============================] - ETA: 0s - loss: 0.3905 - accuracy: 0.8925"
          ]
        },
        {
          "output_type": "stream",
          "name": "stderr",
          "text": [
            "WARNING:tensorflow:Learning rate reduction is conditioned on metric `val_acc` which is not available. Available metrics are: loss,accuracy,val_loss,val_accuracy,lr\n"
          ]
        },
        {
          "output_type": "stream",
          "name": "stdout",
          "text": [
            "\n",
            "Epoch 92: val_accuracy did not improve from 0.95696\n",
            "128/128 [==============================] - 110s 861ms/step - loss: 0.3905 - accuracy: 0.8925 - val_loss: 0.1584 - val_accuracy: 0.9554 - lr: 0.0010\n",
            "Epoch 93/139\n",
            "128/128 [==============================] - ETA: 0s - loss: 0.4079 - accuracy: 0.8894"
          ]
        },
        {
          "output_type": "stream",
          "name": "stderr",
          "text": [
            "WARNING:tensorflow:Learning rate reduction is conditioned on metric `val_acc` which is not available. Available metrics are: loss,accuracy,val_loss,val_accuracy,lr\n"
          ]
        },
        {
          "output_type": "stream",
          "name": "stdout",
          "text": [
            "\n",
            "Epoch 93: val_accuracy did not improve from 0.95696\n",
            "128/128 [==============================] - 114s 889ms/step - loss: 0.4079 - accuracy: 0.8894 - val_loss: 0.3027 - val_accuracy: 0.9092 - lr: 0.0010\n",
            "Epoch 94/139\n",
            "128/128 [==============================] - ETA: 0s - loss: 0.4179 - accuracy: 0.8810"
          ]
        },
        {
          "output_type": "stream",
          "name": "stderr",
          "text": [
            "WARNING:tensorflow:Learning rate reduction is conditioned on metric `val_acc` which is not available. Available metrics are: loss,accuracy,val_loss,val_accuracy,lr\n"
          ]
        },
        {
          "output_type": "stream",
          "name": "stdout",
          "text": [
            "\n",
            "Epoch 94: val_accuracy did not improve from 0.95696\n",
            "128/128 [==============================] - 110s 860ms/step - loss: 0.4179 - accuracy: 0.8810 - val_loss: 0.2144 - val_accuracy: 0.9351 - lr: 0.0010\n",
            "Epoch 95/139\n",
            "128/128 [==============================] - ETA: 0s - loss: 0.4169 - accuracy: 0.8891"
          ]
        },
        {
          "output_type": "stream",
          "name": "stderr",
          "text": [
            "WARNING:tensorflow:Learning rate reduction is conditioned on metric `val_acc` which is not available. Available metrics are: loss,accuracy,val_loss,val_accuracy,lr\n"
          ]
        },
        {
          "output_type": "stream",
          "name": "stdout",
          "text": [
            "\n",
            "Epoch 95: val_accuracy did not improve from 0.95696\n",
            "128/128 [==============================] - 110s 860ms/step - loss: 0.4169 - accuracy: 0.8891 - val_loss: 0.1734 - val_accuracy: 0.9515 - lr: 0.0010\n",
            "Epoch 96/139\n",
            "128/128 [==============================] - ETA: 0s - loss: 0.4040 - accuracy: 0.8900"
          ]
        },
        {
          "output_type": "stream",
          "name": "stderr",
          "text": [
            "WARNING:tensorflow:Learning rate reduction is conditioned on metric `val_acc` which is not available. Available metrics are: loss,accuracy,val_loss,val_accuracy,lr\n"
          ]
        },
        {
          "output_type": "stream",
          "name": "stdout",
          "text": [
            "\n",
            "Epoch 96: val_accuracy did not improve from 0.95696\n",
            "128/128 [==============================] - 112s 868ms/step - loss: 0.4040 - accuracy: 0.8900 - val_loss: 0.1532 - val_accuracy: 0.9546 - lr: 0.0010\n",
            "Epoch 97/139\n",
            "128/128 [==============================] - ETA: 0s - loss: 0.4086 - accuracy: 0.8906"
          ]
        },
        {
          "output_type": "stream",
          "name": "stderr",
          "text": [
            "WARNING:tensorflow:Learning rate reduction is conditioned on metric `val_acc` which is not available. Available metrics are: loss,accuracy,val_loss,val_accuracy,lr\n"
          ]
        },
        {
          "output_type": "stream",
          "name": "stdout",
          "text": [
            "\n",
            "Epoch 97: val_accuracy did not improve from 0.95696\n",
            "128/128 [==============================] - 111s 865ms/step - loss: 0.4086 - accuracy: 0.8906 - val_loss: 0.1833 - val_accuracy: 0.9499 - lr: 0.0010\n",
            "Epoch 98/139\n",
            "128/128 [==============================] - ETA: 0s - loss: 0.4169 - accuracy: 0.8835"
          ]
        },
        {
          "output_type": "stream",
          "name": "stderr",
          "text": [
            "WARNING:tensorflow:Learning rate reduction is conditioned on metric `val_acc` which is not available. Available metrics are: loss,accuracy,val_loss,val_accuracy,lr\n"
          ]
        },
        {
          "output_type": "stream",
          "name": "stdout",
          "text": [
            "\n",
            "Epoch 98: val_accuracy did not improve from 0.95696\n",
            "128/128 [==============================] - 111s 866ms/step - loss: 0.4169 - accuracy: 0.8835 - val_loss: 0.1517 - val_accuracy: 0.9554 - lr: 0.0010\n",
            "Epoch 99/139\n",
            "128/128 [==============================] - ETA: 0s - loss: 0.4097 - accuracy: 0.8885"
          ]
        },
        {
          "output_type": "stream",
          "name": "stderr",
          "text": [
            "WARNING:tensorflow:Learning rate reduction is conditioned on metric `val_acc` which is not available. Available metrics are: loss,accuracy,val_loss,val_accuracy,lr\n"
          ]
        },
        {
          "output_type": "stream",
          "name": "stdout",
          "text": [
            "\n",
            "Epoch 99: val_accuracy did not improve from 0.95696\n",
            "128/128 [==============================] - 111s 868ms/step - loss: 0.4097 - accuracy: 0.8885 - val_loss: 0.1792 - val_accuracy: 0.9499 - lr: 0.0010\n",
            "Epoch 100/139\n",
            "128/128 [==============================] - ETA: 0s - loss: 0.3888 - accuracy: 0.8887"
          ]
        },
        {
          "output_type": "stream",
          "name": "stderr",
          "text": [
            "WARNING:tensorflow:Learning rate reduction is conditioned on metric `val_acc` which is not available. Available metrics are: loss,accuracy,val_loss,val_accuracy,lr\n"
          ]
        },
        {
          "output_type": "stream",
          "name": "stdout",
          "text": [
            "\n",
            "Epoch 100: val_accuracy did not improve from 0.95696\n",
            "128/128 [==============================] - 112s 870ms/step - loss: 0.3888 - accuracy: 0.8887 - val_loss: 0.1501 - val_accuracy: 0.9538 - lr: 0.0010\n",
            "Epoch 101/139\n",
            "128/128 [==============================] - ETA: 0s - loss: 0.4194 - accuracy: 0.8880"
          ]
        },
        {
          "output_type": "stream",
          "name": "stderr",
          "text": [
            "WARNING:tensorflow:Learning rate reduction is conditioned on metric `val_acc` which is not available. Available metrics are: loss,accuracy,val_loss,val_accuracy,lr\n"
          ]
        },
        {
          "output_type": "stream",
          "name": "stdout",
          "text": [
            "\n",
            "Epoch 101: val_accuracy did not improve from 0.95696\n",
            "128/128 [==============================] - 110s 862ms/step - loss: 0.4194 - accuracy: 0.8880 - val_loss: 0.1621 - val_accuracy: 0.9515 - lr: 0.0010\n",
            "Epoch 102/139\n",
            "128/128 [==============================] - ETA: 0s - loss: 0.3941 - accuracy: 0.8938"
          ]
        },
        {
          "output_type": "stream",
          "name": "stderr",
          "text": [
            "WARNING:tensorflow:Learning rate reduction is conditioned on metric `val_acc` which is not available. Available metrics are: loss,accuracy,val_loss,val_accuracy,lr\n"
          ]
        },
        {
          "output_type": "stream",
          "name": "stdout",
          "text": [
            "\n",
            "Epoch 102: val_accuracy did not improve from 0.95696\n",
            "128/128 [==============================] - 110s 859ms/step - loss: 0.3941 - accuracy: 0.8938 - val_loss: 0.1381 - val_accuracy: 0.9507 - lr: 0.0010\n",
            "Epoch 103/139\n",
            "128/128 [==============================] - ETA: 0s - loss: 0.4038 - accuracy: 0.8895"
          ]
        },
        {
          "output_type": "stream",
          "name": "stderr",
          "text": [
            "WARNING:tensorflow:Learning rate reduction is conditioned on metric `val_acc` which is not available. Available metrics are: loss,accuracy,val_loss,val_accuracy,lr\n"
          ]
        },
        {
          "output_type": "stream",
          "name": "stdout",
          "text": [
            "\n",
            "Epoch 103: val_accuracy did not improve from 0.95696\n",
            "128/128 [==============================] - 112s 872ms/step - loss: 0.4038 - accuracy: 0.8895 - val_loss: 0.2577 - val_accuracy: 0.9249 - lr: 0.0010\n",
            "Epoch 104/139\n",
            "128/128 [==============================] - ETA: 0s - loss: 0.4195 - accuracy: 0.8858"
          ]
        },
        {
          "output_type": "stream",
          "name": "stderr",
          "text": [
            "WARNING:tensorflow:Learning rate reduction is conditioned on metric `val_acc` which is not available. Available metrics are: loss,accuracy,val_loss,val_accuracy,lr\n"
          ]
        },
        {
          "output_type": "stream",
          "name": "stdout",
          "text": [
            "\n",
            "Epoch 104: val_accuracy did not improve from 0.95696\n",
            "128/128 [==============================] - 109s 851ms/step - loss: 0.4195 - accuracy: 0.8858 - val_loss: 0.2181 - val_accuracy: 0.9351 - lr: 0.0010\n",
            "Epoch 105/139\n",
            "128/128 [==============================] - ETA: 0s - loss: 0.3986 - accuracy: 0.8928"
          ]
        },
        {
          "output_type": "stream",
          "name": "stderr",
          "text": [
            "WARNING:tensorflow:Learning rate reduction is conditioned on metric `val_acc` which is not available. Available metrics are: loss,accuracy,val_loss,val_accuracy,lr\n"
          ]
        },
        {
          "output_type": "stream",
          "name": "stdout",
          "text": [
            "\n",
            "Epoch 105: val_accuracy did not improve from 0.95696\n",
            "128/128 [==============================] - 110s 859ms/step - loss: 0.3986 - accuracy: 0.8928 - val_loss: 0.2191 - val_accuracy: 0.9452 - lr: 0.0010\n",
            "Epoch 106/139\n",
            "128/128 [==============================] - ETA: 0s - loss: 0.3988 - accuracy: 0.8899"
          ]
        },
        {
          "output_type": "stream",
          "name": "stderr",
          "text": [
            "WARNING:tensorflow:Learning rate reduction is conditioned on metric `val_acc` which is not available. Available metrics are: loss,accuracy,val_loss,val_accuracy,lr\n"
          ]
        },
        {
          "output_type": "stream",
          "name": "stdout",
          "text": [
            "\n",
            "Epoch 106: val_accuracy improved from 0.95696 to 0.96401, saving model to best_model.h5\n",
            "128/128 [==============================] - 110s 862ms/step - loss: 0.3988 - accuracy: 0.8899 - val_loss: 0.1271 - val_accuracy: 0.9640 - lr: 0.0010\n",
            "Epoch 107/139\n",
            "128/128 [==============================] - ETA: 0s - loss: 0.4046 - accuracy: 0.8912"
          ]
        },
        {
          "output_type": "stream",
          "name": "stderr",
          "text": [
            "WARNING:tensorflow:Learning rate reduction is conditioned on metric `val_acc` which is not available. Available metrics are: loss,accuracy,val_loss,val_accuracy,lr\n"
          ]
        },
        {
          "output_type": "stream",
          "name": "stdout",
          "text": [
            "\n",
            "Epoch 107: val_accuracy did not improve from 0.96401\n",
            "128/128 [==============================] - 112s 874ms/step - loss: 0.4046 - accuracy: 0.8912 - val_loss: 0.1673 - val_accuracy: 0.9531 - lr: 0.0010\n",
            "Epoch 108/139\n",
            "128/128 [==============================] - ETA: 0s - loss: 0.4039 - accuracy: 0.8904"
          ]
        },
        {
          "output_type": "stream",
          "name": "stderr",
          "text": [
            "WARNING:tensorflow:Learning rate reduction is conditioned on metric `val_acc` which is not available. Available metrics are: loss,accuracy,val_loss,val_accuracy,lr\n"
          ]
        },
        {
          "output_type": "stream",
          "name": "stdout",
          "text": [
            "\n",
            "Epoch 108: val_accuracy did not improve from 0.96401\n",
            "128/128 [==============================] - 112s 872ms/step - loss: 0.4039 - accuracy: 0.8904 - val_loss: 0.1675 - val_accuracy: 0.9577 - lr: 0.0010\n",
            "Epoch 109/139\n",
            "128/128 [==============================] - ETA: 0s - loss: 0.4076 - accuracy: 0.8905"
          ]
        },
        {
          "output_type": "stream",
          "name": "stderr",
          "text": [
            "WARNING:tensorflow:Learning rate reduction is conditioned on metric `val_acc` which is not available. Available metrics are: loss,accuracy,val_loss,val_accuracy,lr\n"
          ]
        },
        {
          "output_type": "stream",
          "name": "stdout",
          "text": [
            "\n",
            "Epoch 109: val_accuracy did not improve from 0.96401\n",
            "128/128 [==============================] - 116s 907ms/step - loss: 0.4076 - accuracy: 0.8905 - val_loss: 0.1927 - val_accuracy: 0.9515 - lr: 0.0010\n",
            "Epoch 110/139\n",
            "128/128 [==============================] - ETA: 0s - loss: 0.4076 - accuracy: 0.8905"
          ]
        },
        {
          "output_type": "stream",
          "name": "stderr",
          "text": [
            "WARNING:tensorflow:Learning rate reduction is conditioned on metric `val_acc` which is not available. Available metrics are: loss,accuracy,val_loss,val_accuracy,lr\n"
          ]
        },
        {
          "output_type": "stream",
          "name": "stdout",
          "text": [
            "\n",
            "Epoch 110: val_accuracy did not improve from 0.96401\n",
            "128/128 [==============================] - 111s 865ms/step - loss: 0.4076 - accuracy: 0.8905 - val_loss: 0.1608 - val_accuracy: 0.9437 - lr: 0.0010\n",
            "Epoch 111/139\n",
            "128/128 [==============================] - ETA: 0s - loss: 0.4108 - accuracy: 0.8891"
          ]
        },
        {
          "output_type": "stream",
          "name": "stderr",
          "text": [
            "WARNING:tensorflow:Learning rate reduction is conditioned on metric `val_acc` which is not available. Available metrics are: loss,accuracy,val_loss,val_accuracy,lr\n"
          ]
        },
        {
          "output_type": "stream",
          "name": "stdout",
          "text": [
            "\n",
            "Epoch 111: val_accuracy did not improve from 0.96401\n",
            "128/128 [==============================] - 111s 867ms/step - loss: 0.4108 - accuracy: 0.8891 - val_loss: 0.1349 - val_accuracy: 0.9609 - lr: 0.0010\n",
            "Epoch 112/139\n",
            "128/128 [==============================] - ETA: 0s - loss: 0.3856 - accuracy: 0.8975"
          ]
        },
        {
          "output_type": "stream",
          "name": "stderr",
          "text": [
            "WARNING:tensorflow:Learning rate reduction is conditioned on metric `val_acc` which is not available. Available metrics are: loss,accuracy,val_loss,val_accuracy,lr\n"
          ]
        },
        {
          "output_type": "stream",
          "name": "stdout",
          "text": [
            "\n",
            "Epoch 112: val_accuracy did not improve from 0.96401\n",
            "128/128 [==============================] - 112s 874ms/step - loss: 0.3856 - accuracy: 0.8975 - val_loss: 0.1947 - val_accuracy: 0.9507 - lr: 0.0010\n",
            "Epoch 113/139\n",
            "128/128 [==============================] - ETA: 0s - loss: 0.4054 - accuracy: 0.8937"
          ]
        },
        {
          "output_type": "stream",
          "name": "stderr",
          "text": [
            "WARNING:tensorflow:Learning rate reduction is conditioned on metric `val_acc` which is not available. Available metrics are: loss,accuracy,val_loss,val_accuracy,lr\n"
          ]
        },
        {
          "output_type": "stream",
          "name": "stdout",
          "text": [
            "\n",
            "Epoch 113: val_accuracy did not improve from 0.96401\n",
            "128/128 [==============================] - 111s 866ms/step - loss: 0.4054 - accuracy: 0.8937 - val_loss: 0.1414 - val_accuracy: 0.9609 - lr: 0.0010\n",
            "Epoch 114/139\n",
            "128/128 [==============================] - ETA: 0s - loss: 0.4135 - accuracy: 0.8934"
          ]
        },
        {
          "output_type": "stream",
          "name": "stderr",
          "text": [
            "WARNING:tensorflow:Learning rate reduction is conditioned on metric `val_acc` which is not available. Available metrics are: loss,accuracy,val_loss,val_accuracy,lr\n"
          ]
        },
        {
          "output_type": "stream",
          "name": "stdout",
          "text": [
            "\n",
            "Epoch 114: val_accuracy did not improve from 0.96401\n",
            "128/128 [==============================] - 112s 868ms/step - loss: 0.4135 - accuracy: 0.8934 - val_loss: 0.1650 - val_accuracy: 0.9523 - lr: 0.0010\n",
            "Epoch 115/139\n",
            "128/128 [==============================] - ETA: 0s - loss: 0.4334 - accuracy: 0.8880"
          ]
        },
        {
          "output_type": "stream",
          "name": "stderr",
          "text": [
            "WARNING:tensorflow:Learning rate reduction is conditioned on metric `val_acc` which is not available. Available metrics are: loss,accuracy,val_loss,val_accuracy,lr\n"
          ]
        },
        {
          "output_type": "stream",
          "name": "stdout",
          "text": [
            "\n",
            "Epoch 115: val_accuracy did not improve from 0.96401\n",
            "128/128 [==============================] - 110s 862ms/step - loss: 0.4334 - accuracy: 0.8880 - val_loss: 0.1833 - val_accuracy: 0.9468 - lr: 0.0010\n",
            "Epoch 116/139\n",
            "128/128 [==============================] - ETA: 0s - loss: 0.4343 - accuracy: 0.8850"
          ]
        },
        {
          "output_type": "stream",
          "name": "stderr",
          "text": [
            "WARNING:tensorflow:Learning rate reduction is conditioned on metric `val_acc` which is not available. Available metrics are: loss,accuracy,val_loss,val_accuracy,lr\n"
          ]
        },
        {
          "output_type": "stream",
          "name": "stdout",
          "text": [
            "\n",
            "Epoch 116: val_accuracy did not improve from 0.96401\n",
            "128/128 [==============================] - 111s 867ms/step - loss: 0.4343 - accuracy: 0.8850 - val_loss: 0.1605 - val_accuracy: 0.9531 - lr: 0.0010\n",
            "Epoch 117/139\n",
            "128/128 [==============================] - ETA: 0s - loss: 0.3943 - accuracy: 0.8973"
          ]
        },
        {
          "output_type": "stream",
          "name": "stderr",
          "text": [
            "WARNING:tensorflow:Learning rate reduction is conditioned on metric `val_acc` which is not available. Available metrics are: loss,accuracy,val_loss,val_accuracy,lr\n"
          ]
        },
        {
          "output_type": "stream",
          "name": "stdout",
          "text": [
            "\n",
            "Epoch 117: val_accuracy did not improve from 0.96401\n",
            "128/128 [==============================] - 113s 879ms/step - loss: 0.3943 - accuracy: 0.8973 - val_loss: 0.1611 - val_accuracy: 0.9523 - lr: 0.0010\n",
            "Epoch 118/139\n",
            "128/128 [==============================] - ETA: 0s - loss: 0.4181 - accuracy: 0.8899"
          ]
        },
        {
          "output_type": "stream",
          "name": "stderr",
          "text": [
            "WARNING:tensorflow:Learning rate reduction is conditioned on metric `val_acc` which is not available. Available metrics are: loss,accuracy,val_loss,val_accuracy,lr\n"
          ]
        },
        {
          "output_type": "stream",
          "name": "stdout",
          "text": [
            "\n",
            "Epoch 118: val_accuracy did not improve from 0.96401\n",
            "128/128 [==============================] - 113s 884ms/step - loss: 0.4181 - accuracy: 0.8899 - val_loss: 0.1580 - val_accuracy: 0.9585 - lr: 0.0010\n",
            "Epoch 119/139\n",
            "128/128 [==============================] - ETA: 0s - loss: 0.3909 - accuracy: 0.8947"
          ]
        },
        {
          "output_type": "stream",
          "name": "stderr",
          "text": [
            "WARNING:tensorflow:Learning rate reduction is conditioned on metric `val_acc` which is not available. Available metrics are: loss,accuracy,val_loss,val_accuracy,lr\n"
          ]
        },
        {
          "output_type": "stream",
          "name": "stdout",
          "text": [
            "\n",
            "Epoch 119: val_accuracy did not improve from 0.96401\n",
            "128/128 [==============================] - 111s 868ms/step - loss: 0.3909 - accuracy: 0.8947 - val_loss: 0.1415 - val_accuracy: 0.9531 - lr: 0.0010\n",
            "Epoch 120/139\n",
            "128/128 [==============================] - ETA: 0s - loss: 0.3913 - accuracy: 0.8934"
          ]
        },
        {
          "output_type": "stream",
          "name": "stderr",
          "text": [
            "WARNING:tensorflow:Learning rate reduction is conditioned on metric `val_acc` which is not available. Available metrics are: loss,accuracy,val_loss,val_accuracy,lr\n"
          ]
        },
        {
          "output_type": "stream",
          "name": "stdout",
          "text": [
            "\n",
            "Epoch 120: val_accuracy did not improve from 0.96401\n",
            "128/128 [==============================] - 111s 865ms/step - loss: 0.3913 - accuracy: 0.8934 - val_loss: 0.1575 - val_accuracy: 0.9562 - lr: 0.0010\n",
            "Epoch 121/139\n",
            "128/128 [==============================] - ETA: 0s - loss: 0.4172 - accuracy: 0.8937"
          ]
        },
        {
          "output_type": "stream",
          "name": "stderr",
          "text": [
            "WARNING:tensorflow:Learning rate reduction is conditioned on metric `val_acc` which is not available. Available metrics are: loss,accuracy,val_loss,val_accuracy,lr\n"
          ]
        },
        {
          "output_type": "stream",
          "name": "stdout",
          "text": [
            "\n",
            "Epoch 121: val_accuracy did not improve from 0.96401\n",
            "128/128 [==============================] - 113s 879ms/step - loss: 0.4172 - accuracy: 0.8937 - val_loss: 0.1685 - val_accuracy: 0.9538 - lr: 0.0010\n",
            "Epoch 122/139\n",
            "128/128 [==============================] - ETA: 0s - loss: 0.3997 - accuracy: 0.8912"
          ]
        },
        {
          "output_type": "stream",
          "name": "stderr",
          "text": [
            "WARNING:tensorflow:Learning rate reduction is conditioned on metric `val_acc` which is not available. Available metrics are: loss,accuracy,val_loss,val_accuracy,lr\n"
          ]
        },
        {
          "output_type": "stream",
          "name": "stdout",
          "text": [
            "\n",
            "Epoch 122: val_accuracy did not improve from 0.96401\n",
            "128/128 [==============================] - 110s 862ms/step - loss: 0.3997 - accuracy: 0.8912 - val_loss: 0.1940 - val_accuracy: 0.9499 - lr: 0.0010\n",
            "Epoch 123/139\n",
            "128/128 [==============================] - ETA: 0s - loss: 0.4093 - accuracy: 0.8885"
          ]
        },
        {
          "output_type": "stream",
          "name": "stderr",
          "text": [
            "WARNING:tensorflow:Learning rate reduction is conditioned on metric `val_acc` which is not available. Available metrics are: loss,accuracy,val_loss,val_accuracy,lr\n"
          ]
        },
        {
          "output_type": "stream",
          "name": "stdout",
          "text": [
            "\n",
            "Epoch 123: val_accuracy did not improve from 0.96401\n",
            "128/128 [==============================] - 113s 879ms/step - loss: 0.4093 - accuracy: 0.8885 - val_loss: 0.2097 - val_accuracy: 0.9405 - lr: 0.0010\n",
            "Epoch 124/139\n",
            "128/128 [==============================] - ETA: 0s - loss: 0.4186 - accuracy: 0.8885"
          ]
        },
        {
          "output_type": "stream",
          "name": "stderr",
          "text": [
            "WARNING:tensorflow:Learning rate reduction is conditioned on metric `val_acc` which is not available. Available metrics are: loss,accuracy,val_loss,val_accuracy,lr\n"
          ]
        },
        {
          "output_type": "stream",
          "name": "stdout",
          "text": [
            "\n",
            "Epoch 124: val_accuracy did not improve from 0.96401\n",
            "128/128 [==============================] - 111s 866ms/step - loss: 0.4186 - accuracy: 0.8885 - val_loss: 0.2767 - val_accuracy: 0.9460 - lr: 0.0010\n",
            "Epoch 125/139\n",
            "128/128 [==============================] - ETA: 0s - loss: 0.4131 - accuracy: 0.8873"
          ]
        },
        {
          "output_type": "stream",
          "name": "stderr",
          "text": [
            "WARNING:tensorflow:Learning rate reduction is conditioned on metric `val_acc` which is not available. Available metrics are: loss,accuracy,val_loss,val_accuracy,lr\n"
          ]
        },
        {
          "output_type": "stream",
          "name": "stdout",
          "text": [
            "\n",
            "Epoch 125: val_accuracy did not improve from 0.96401\n",
            "128/128 [==============================] - 112s 874ms/step - loss: 0.4131 - accuracy: 0.8873 - val_loss: 0.2068 - val_accuracy: 0.9421 - lr: 0.0010\n",
            "Epoch 126/139\n",
            "128/128 [==============================] - ETA: 0s - loss: 0.4001 - accuracy: 0.8938"
          ]
        },
        {
          "output_type": "stream",
          "name": "stderr",
          "text": [
            "WARNING:tensorflow:Learning rate reduction is conditioned on metric `val_acc` which is not available. Available metrics are: loss,accuracy,val_loss,val_accuracy,lr\n"
          ]
        },
        {
          "output_type": "stream",
          "name": "stdout",
          "text": [
            "\n",
            "Epoch 126: val_accuracy did not improve from 0.96401\n",
            "128/128 [==============================] - 110s 862ms/step - loss: 0.4001 - accuracy: 0.8938 - val_loss: 0.1622 - val_accuracy: 0.9554 - lr: 0.0010\n",
            "Epoch 127/139\n",
            "128/128 [==============================] - ETA: 0s - loss: 0.4146 - accuracy: 0.8934"
          ]
        },
        {
          "output_type": "stream",
          "name": "stderr",
          "text": [
            "WARNING:tensorflow:Learning rate reduction is conditioned on metric `val_acc` which is not available. Available metrics are: loss,accuracy,val_loss,val_accuracy,lr\n"
          ]
        },
        {
          "output_type": "stream",
          "name": "stdout",
          "text": [
            "\n",
            "Epoch 127: val_accuracy did not improve from 0.96401\n",
            "128/128 [==============================] - 113s 881ms/step - loss: 0.4146 - accuracy: 0.8934 - val_loss: 0.1739 - val_accuracy: 0.9499 - lr: 0.0010\n",
            "Epoch 128/139\n",
            "128/128 [==============================] - ETA: 0s - loss: 0.4264 - accuracy: 0.8863"
          ]
        },
        {
          "output_type": "stream",
          "name": "stderr",
          "text": [
            "WARNING:tensorflow:Learning rate reduction is conditioned on metric `val_acc` which is not available. Available metrics are: loss,accuracy,val_loss,val_accuracy,lr\n"
          ]
        },
        {
          "output_type": "stream",
          "name": "stdout",
          "text": [
            "\n",
            "Epoch 128: val_accuracy did not improve from 0.96401\n",
            "128/128 [==============================] - 110s 863ms/step - loss: 0.4264 - accuracy: 0.8863 - val_loss: 0.1633 - val_accuracy: 0.9562 - lr: 0.0010\n",
            "Epoch 129/139\n",
            "128/128 [==============================] - ETA: 0s - loss: 0.4162 - accuracy: 0.8879"
          ]
        },
        {
          "output_type": "stream",
          "name": "stderr",
          "text": [
            "WARNING:tensorflow:Learning rate reduction is conditioned on metric `val_acc` which is not available. Available metrics are: loss,accuracy,val_loss,val_accuracy,lr\n"
          ]
        },
        {
          "output_type": "stream",
          "name": "stdout",
          "text": [
            "\n",
            "Epoch 129: val_accuracy did not improve from 0.96401\n",
            "128/128 [==============================] - 111s 869ms/step - loss: 0.4162 - accuracy: 0.8879 - val_loss: 0.1783 - val_accuracy: 0.9523 - lr: 0.0010\n",
            "Epoch 130/139\n",
            "128/128 [==============================] - ETA: 0s - loss: 0.4123 - accuracy: 0.8936"
          ]
        },
        {
          "output_type": "stream",
          "name": "stderr",
          "text": [
            "WARNING:tensorflow:Learning rate reduction is conditioned on metric `val_acc` which is not available. Available metrics are: loss,accuracy,val_loss,val_accuracy,lr\n"
          ]
        },
        {
          "output_type": "stream",
          "name": "stdout",
          "text": [
            "\n",
            "Epoch 130: val_accuracy did not improve from 0.96401\n",
            "128/128 [==============================] - 112s 870ms/step - loss: 0.4123 - accuracy: 0.8936 - val_loss: 0.1355 - val_accuracy: 0.9617 - lr: 0.0010\n",
            "Epoch 131/139\n",
            "128/128 [==============================] - ETA: 0s - loss: 0.3980 - accuracy: 0.8958"
          ]
        },
        {
          "output_type": "stream",
          "name": "stderr",
          "text": [
            "WARNING:tensorflow:Learning rate reduction is conditioned on metric `val_acc` which is not available. Available metrics are: loss,accuracy,val_loss,val_accuracy,lr\n"
          ]
        },
        {
          "output_type": "stream",
          "name": "stdout",
          "text": [
            "\n",
            "Epoch 131: val_accuracy did not improve from 0.96401\n",
            "128/128 [==============================] - 112s 874ms/step - loss: 0.3980 - accuracy: 0.8958 - val_loss: 0.2262 - val_accuracy: 0.9437 - lr: 0.0010\n",
            "Epoch 132/139\n",
            "128/128 [==============================] - ETA: 0s - loss: 0.4190 - accuracy: 0.8922"
          ]
        },
        {
          "output_type": "stream",
          "name": "stderr",
          "text": [
            "WARNING:tensorflow:Learning rate reduction is conditioned on metric `val_acc` which is not available. Available metrics are: loss,accuracy,val_loss,val_accuracy,lr\n"
          ]
        },
        {
          "output_type": "stream",
          "name": "stdout",
          "text": [
            "\n",
            "Epoch 132: val_accuracy did not improve from 0.96401\n",
            "128/128 [==============================] - 114s 890ms/step - loss: 0.4190 - accuracy: 0.8922 - val_loss: 0.1551 - val_accuracy: 0.9546 - lr: 0.0010\n",
            "Epoch 133/139\n",
            "128/128 [==============================] - ETA: 0s - loss: 0.4137 - accuracy: 0.8921"
          ]
        },
        {
          "output_type": "stream",
          "name": "stderr",
          "text": [
            "WARNING:tensorflow:Learning rate reduction is conditioned on metric `val_acc` which is not available. Available metrics are: loss,accuracy,val_loss,val_accuracy,lr\n"
          ]
        },
        {
          "output_type": "stream",
          "name": "stdout",
          "text": [
            "\n",
            "Epoch 133: val_accuracy did not improve from 0.96401\n",
            "128/128 [==============================] - 111s 866ms/step - loss: 0.4137 - accuracy: 0.8921 - val_loss: 0.1526 - val_accuracy: 0.9562 - lr: 0.0010\n",
            "Epoch 134/139\n",
            "128/128 [==============================] - ETA: 0s - loss: 0.4166 - accuracy: 0.8893"
          ]
        },
        {
          "output_type": "stream",
          "name": "stderr",
          "text": [
            "WARNING:tensorflow:Learning rate reduction is conditioned on metric `val_acc` which is not available. Available metrics are: loss,accuracy,val_loss,val_accuracy,lr\n"
          ]
        },
        {
          "output_type": "stream",
          "name": "stdout",
          "text": [
            "\n",
            "Epoch 134: val_accuracy did not improve from 0.96401\n",
            "128/128 [==============================] - 111s 866ms/step - loss: 0.4166 - accuracy: 0.8893 - val_loss: 0.2052 - val_accuracy: 0.9460 - lr: 0.0010\n",
            "Epoch 135/139\n",
            "128/128 [==============================] - ETA: 0s - loss: 0.4103 - accuracy: 0.8911"
          ]
        },
        {
          "output_type": "stream",
          "name": "stderr",
          "text": [
            "WARNING:tensorflow:Learning rate reduction is conditioned on metric `val_acc` which is not available. Available metrics are: loss,accuracy,val_loss,val_accuracy,lr\n"
          ]
        },
        {
          "output_type": "stream",
          "name": "stdout",
          "text": [
            "\n",
            "Epoch 135: val_accuracy did not improve from 0.96401\n",
            "128/128 [==============================] - 111s 868ms/step - loss: 0.4103 - accuracy: 0.8911 - val_loss: 0.2067 - val_accuracy: 0.9390 - lr: 0.0010\n",
            "Epoch 136/139\n",
            "128/128 [==============================] - ETA: 0s - loss: 0.4156 - accuracy: 0.8907"
          ]
        },
        {
          "output_type": "stream",
          "name": "stderr",
          "text": [
            "WARNING:tensorflow:Learning rate reduction is conditioned on metric `val_acc` which is not available. Available metrics are: loss,accuracy,val_loss,val_accuracy,lr\n"
          ]
        },
        {
          "output_type": "stream",
          "name": "stdout",
          "text": [
            "\n",
            "Epoch 136: val_accuracy did not improve from 0.96401\n",
            "128/128 [==============================] - 111s 866ms/step - loss: 0.4156 - accuracy: 0.8907 - val_loss: 0.2009 - val_accuracy: 0.9507 - lr: 0.0010\n",
            "Epoch 137/139\n",
            "128/128 [==============================] - ETA: 0s - loss: 0.4045 - accuracy: 0.8912"
          ]
        },
        {
          "output_type": "stream",
          "name": "stderr",
          "text": [
            "WARNING:tensorflow:Learning rate reduction is conditioned on metric `val_acc` which is not available. Available metrics are: loss,accuracy,val_loss,val_accuracy,lr\n"
          ]
        },
        {
          "output_type": "stream",
          "name": "stdout",
          "text": [
            "\n",
            "Epoch 137: val_accuracy did not improve from 0.96401\n",
            "128/128 [==============================] - 111s 864ms/step - loss: 0.4045 - accuracy: 0.8912 - val_loss: 0.1776 - val_accuracy: 0.9538 - lr: 0.0010\n",
            "Epoch 138/139\n",
            "128/128 [==============================] - ETA: 0s - loss: 0.3859 - accuracy: 0.8984"
          ]
        },
        {
          "output_type": "stream",
          "name": "stderr",
          "text": [
            "WARNING:tensorflow:Learning rate reduction is conditioned on metric `val_acc` which is not available. Available metrics are: loss,accuracy,val_loss,val_accuracy,lr\n"
          ]
        },
        {
          "output_type": "stream",
          "name": "stdout",
          "text": [
            "\n",
            "Epoch 138: val_accuracy did not improve from 0.96401\n",
            "128/128 [==============================] - 113s 875ms/step - loss: 0.3859 - accuracy: 0.8984 - val_loss: 0.1611 - val_accuracy: 0.9554 - lr: 0.0010\n",
            "Epoch 139/139\n",
            "128/128 [==============================] - ETA: 0s - loss: 0.4145 - accuracy: 0.8941"
          ]
        },
        {
          "output_type": "stream",
          "name": "stderr",
          "text": [
            "WARNING:tensorflow:Learning rate reduction is conditioned on metric `val_acc` which is not available. Available metrics are: loss,accuracy,val_loss,val_accuracy,lr\n"
          ]
        },
        {
          "output_type": "stream",
          "name": "stdout",
          "text": [
            "\n",
            "Epoch 139: val_accuracy did not improve from 0.96401\n",
            "128/128 [==============================] - 111s 866ms/step - loss: 0.4145 - accuracy: 0.8941 - val_loss: 0.1407 - val_accuracy: 0.9538 - lr: 0.0010\n"
          ]
        }
      ],
      "source": [
        "history = deep_RU_model.fit(datagen.flow(X_train,y_train, batch_size=90), validation_data = (X_val, y_val),\n",
        "                            epochs=139, callbacks=[learning_rate_reduction, es, mc])\n",
        "# datagen.flow(X_train, y_train, batch_size=90): генератор данных для обучения модели, созданный с использованием данных X_train и y_train\n",
        "# X_train: входные данные для обучения\n",
        "# y_train: целевые данные для обучения\n",
        "# batch_size: размер пакета данных, на котором будут обновляться веса модели\n",
        "# validation_data=(X_val, y_val): данные для проверки производительности модели на каждой эпохе обучения\n",
        "# X_val: входные данные для проверки\n",
        "# y_val: целевые данные для проверки\n",
        "# epochs: количество эпох обучения\n",
        "# callbacks=[learning_rate_reduction, es, mc]: список колбэков, которые будут выполняться на различных этапах обучения\n",
        "# learning_rate_reduction: уменьшение скорости обучения при отсутствии улучшений\n",
        "# es: ранняя остановка обучения при отсутствии улучшений\n",
        "# mc: сохранение модели с лучшей точностью на валидационных данных"
      ]
    },
    {
      "cell_type": "code",
      "execution_count": null,
      "metadata": {
        "colab": {
          "base_uri": "https://localhost:8080/"
        },
        "id": "e7c48M555T-K",
        "outputId": "1623cff1-2c18-4dd7-e636-7fbc34069199"
      },
      "outputs": [
        {
          "output_type": "stream",
          "name": "stdout",
          "text": [
            "Train: 0.986, Valid: 0.964\n"
          ]
        }
      ],
      "source": [
        "saved_model = load_model('best_model.h5')\n",
        "\n",
        "#Оценка производительности модели\n",
        "_, train_acc = saved_model.evaluate(X_train, y_train, verbose=0)\n",
        "_, valid_acc = saved_model.evaluate(X_val, y_val, verbose=0)\n",
        "\n",
        "print('Train: %.3f, Valid: %.3f' % (train_acc, valid_acc))"
      ]
    },
    {
      "cell_type": "code",
      "execution_count": null,
      "metadata": {
        "colab": {
          "base_uri": "https://localhost:8080/",
          "height": 681
        },
        "id": "0iuhPwAf53sN",
        "outputId": "f5aa2a62-16aa-4724-f1d2-cbafe592eadf"
      },
      "outputs": [
        {
          "output_type": "display_data",
          "data": {
            "text/plain": [
              "<Figure size 1400x800 with 2 Axes>"
            ],
            "image/png": "[encoded data removed]"
          },
          "metadata": {}
        }
      ],
      "source": [
        "fig, ax = plt.subplots(2, 1)\n",
        "\n",
        "ax[0].plot(history.history['loss'], color='b', label=\"Training loss\")  # График потерь на обучающем наборе данных\n",
        "ax[0].plot(history.history['val_loss'], color='r', label=\"Validation loss\", axes=ax[0])  # График потерь на валидационном наборе данных\n",
        "legend = ax[0].legend(loc='best', shadow=True)  # Легенда для графика потерь\n",
        "\n",
        "ax[1].plot(history.history['accuracy'], color='b', label=\"Training accuracy\")  # График точности на обучающем наборе данных\n",
        "ax[1].plot(history.history['val_accuracy'], color='r', label=\"Validation accuracy\")  # График точности на валидационном наборе данных\n",
        "legend = ax[1].legend(loc='best', shadow=True)  # Легенда для графика точности\n",
        "\n",
        "# Создание графиков потерь и точности\n",
        "# Параметры:\n",
        "# history.history['loss']: значения функции потерь на обучающем наборе данных\n",
        "# history.history['val_loss']: значения функции потерь на валидационном наборе данных\n",
        "# history.history['accuracy']: значения точности на обучающем наборе данных\n",
        "# history.history['val_accuracy']: значения точности на валидационном наборе данных\n",
        "\n",
        "# Легенда и тени для каждого графика\n",
        "# ax[0]: первый подграфик для графика потерь\n",
        "# ax[1]: второй подграфик для графика точности"
      ]
    },
    {
      "cell_type": "code",
      "execution_count": null,
      "metadata": {
        "colab": {
          "base_uri": "https://localhost:8080/"
        },
        "id": "yEzq5BO68bFH",
        "outputId": "c732591f-43c7-4f12-d9bc-502473da1809"
      },
      "outputs": [
        {
          "output_type": "stream",
          "name": "stdout",
          "text": [
            "Test: 0.952\n"
          ]
        }
      ],
      "source": [
        "_, test_acc = saved_model.evaluate(X_test, y_test, verbose=0)\n",
        "print('Test: %.3f' % (test_acc))"
      ]
    },
    {
      "cell_type": "code",
      "execution_count": null,
      "metadata": {
        "id": "Gb5pyZ2P8dJH",
        "colab": {
          "base_uri": "https://localhost:8080/",
          "height": 722
        },
        "outputId": "6291a4c3-987b-4ddb-aa5c-21ac49deeeac"
      },
      "outputs": [
        {
          "output_type": "stream",
          "name": "stdout",
          "text": [
            "45/45 [==============================] - 3s 68ms/step\n"
          ]
        },
        {
          "output_type": "execute_result",
          "data": {
            "text/plain": [
              "<Axes: >"
            ]
          },
          "metadata": {},
          "execution_count": 53
        },
        {
          "output_type": "display_data",
          "data": {
            "text/plain": [
              "<Figure size 1400x800 with 2 Axes>"
            ],
            "image/png": "[encoded data removed]"
          },
          "metadata": {}
        }
      ],
      "source": [
        "y_pred = deep_RU_model.predict(X_test)# Получение предсказаний модели для тестовых данных X_test\n",
        "y_pred = np.argmax(y_pred, axis=1)# Преобразование предсказаний в индексы с наибольшим значением (классы)\n",
        "y_test = np.argmax(y_test, axis=1)# Преобразование истинных меток y_test в индексы с наибольшим значением (классы)\n",
        "confusion_mtx = confusion_matrix(y_test, y_pred)# Вычисление матрицы ошибок между истинными метками y_test и предсказанными метками y_pred\n",
        "sns.heatmap(confusion_mtx, annot=True, fmt='d')\n",
        "# Параметры:\n",
        "# confusion_mtx: матрица ошибок\n",
        "# annot=True: отображение значений в клетках тепловой карты\n",
        "# fmt='d': формат чисел в клетках - десятичное целое число"
      ]
    },
    {
      "cell_type": "code",
      "source": [
        "# Преобразование меток из формата one-hot в исходный формат меток\n",
        "Y_true = y_test\n",
        "# Предсказание значений на тестовом наборе данных с помощью сохраненной модели\n",
        "Y_pred = saved_model.predict(X_test)\n",
        "# Преобразование предсказанных значений из формата one-hot в исходный формат меток\n",
        "Y_pred_classes = np.argmax(Y_pred, axis=1)\n",
        "# Вычисление ошибок путем сравнения предсказанных меток с истинными метками\n",
        "errors = (Y_pred_classes - Y_true != 0)\n",
        "# Получение предсказанных меток для ошибочных предсказаний\n",
        "Y_pred_classes_errors = Y_pred_classes[errors]\n",
        "# Получение предсказанных значений для ошибочных предсказаний\n",
        "Y_pred_errors = Y_pred[errors]\n",
        "# Получение истинных меток для ошибочных предсказаний\n",
        "Y_true_errors = Y_true[errors]\n",
        "# Получение изображений, соответствующих ошибочным предсказаниям\n",
        "X_val_errors = X_test[errors]\n",
        "\n",
        "def display_errors(errors_index, img_errors, pred_errors, obs_errors):\n",
        "    \"\"\"Функция отображает 9 изображений с предсказанными и истинными метками\"\"\"\n",
        "    n = 0\n",
        "    nrows = 3\n",
        "    ncols = 3\n",
        "    fig, ax = plt.subplots(nrows, ncols, sharex=True, sharey=True)\n",
        "    fig.suptitle(\"Отображение топ-9 ошибок\", fontsize=16)\n",
        "    for row in range(nrows):\n",
        "        for col in range(ncols):\n",
        "            error = errors_index[n]\n",
        "            ax[row, col].imshow((img_errors[error]))\n",
        "            ax[row, col].set_title(\"Предсказанная метка: {}\\nИстинная метка: {}\".format(pred_errors[error], obs_errors[error]))\n",
        "            n += 1\n",
        "\n",
        "# Вероятности неправильно предсказанных символов\n",
        "Y_pred_errors_prob = np.max(Y_pred_errors, axis=1)\n",
        "# Предсказанные вероятности истинных значений в ошибочном наборе\n",
        "true_prob_errors = np.diagonal(np.take(Y_pred_errors, Y_true_errors, axis=1))\n",
        "# Разница между вероятностью предсказанной метки и истинной меткой\n",
        "delta_pred_true_errors = Y_pred_errors_prob - true_prob_errors\n",
        "# Сортированный список ошибок по возрастанию разницы вероятностей\n",
        "sorted_delta_errors = np.argsort(delta_pred_true_errors)\n",
        "# Топ-9 ошибок\n",
        "most_important_errors = sorted_delta_errors[-9:]\n",
        "# Отображение топ-9 ошибок\n",
        "display_errors(most_important_errors, X_val_errors, Y_pred_classes_errors, Y_true_errors)\n"
      ],
      "metadata": {
        "colab": {
          "base_uri": "https://localhost:8080/",
          "height": 778
        },
        "id": "LsoE9wjY29Xx",
        "outputId": "0b2bf02f-6449-42f9-c693-a51677019360"
      },
      "execution_count": null,
      "outputs": [
        {
          "output_type": "stream",
          "name": "stdout",
          "text": [
            "45/45 [==============================] - 3s 66ms/step\n"
          ]
        },
        {
          "output_type": "display_data",
          "data": {
            "text/plain": [
              "<Figure size 1400x800 with 9 Axes>"
            ],
            "image/png": "[encoded data removed]"
          },
          "metadata": {}
        }
      ]
    },
    {
      "cell_type": "markdown",
      "source": [
        "В процессе обработки данных мы сместили порядок букв на 1, чтобы он начинался с 0. Новый порядок выглядит следующим образом:\n",
        "\n",
        "а=>0, б=>1, в=>2, г=>3, д=>4, е=>5, ё=>6, ж=>7\n",
        "\n",
        "з=>8, и=>9, й=>10, к=>11, л=>12, м=>13, н=>14\n",
        "\n",
        "о=>15, п=>16, р=>17, с=>18, т=>19, у=>20, ф=>21\n",
        "\n",
        "х=>22, ц=>23, ч=>24, ш=>25, щ=>26, ъ=>27, ы=>28\n",
        "\n",
        "ь=>29, э=>30, ю=>31, я=>32\n",
        "\n",
        "Большинство ошибок, особенно во втором ряду, легко может быть сделано человеком таким же образом."
      ],
      "metadata": {
        "id": "3qyhLykf4KoI"
      }
    }
  ],
  "metadata": {
    "colab": {
      "provenance": [],
      "mount_file_id": "1g4kRP-9lLFRwx7O_hionyhGmCFn6ZIOl",
      "authorship_tag": "ABX9TyNxpEveyNQ5RcQJB8A1yfgh",
      "include_colab_link": true
    },
    "kernelspec": {
      "display_name": "Python 3",
      "name": "python3"
    },
    "language_info": {
      "name": "python"
    }
  },
  "nbformat": 4,
  "nbformat_minor": 0
}