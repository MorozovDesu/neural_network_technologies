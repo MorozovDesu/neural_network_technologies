{
  "cells": [
    {
      "cell_type": "markdown",
      "metadata": {
        "id": "view-in-github",
        "colab_type": "text"
      },
      "source": [
        "<a href=\"https://colab.research.google.com/github/MorozovDesu/neural_network_technologies/blob/main/%22%D0%9D%D0%B5%D0%B9%D1%80%D0%BE%D1%81%D0%B5%D1%82%D0%B5%D0%B2%D1%8B%D0%B5_%D1%82%D0%B5%D1%85%D0%BD%D0%BE%D0%BB%D0%BE%D0%B3%D0%B8%D0%B8_1_%D0%9B%D0%B0%D0%B1%D0%B0_ipynb%22.ipynb\" target=\"_parent\"><img src=\"https://colab.research.google.com/assets/colab-badge.svg\" alt=\"Open In Colab\"/></a>"
      ]
    },
    {
      "cell_type": "markdown",
      "source": [
        "# Задание\n",
        "---\n",
        "ВАРИАНТ РАБОТЫ имеет вид: ZPN, где\n",
        "\n",
        "Z=1-6 – вид закона распределения генерируемых признаков\n",
        "\n",
        "1.     Биномиальное\n",
        "\n",
        "2.     Геометрическое\n",
        "\n",
        "3.     Гипергеометрическое\n",
        "\n",
        "4.     Пуассона\n",
        "\n",
        "5.     Равномерное\n",
        "\n",
        "6.     Нормальное\n",
        "\n",
        "P=2,3 – число признаков\n",
        "\n",
        "N=3,4,5 – число классов\n",
        "\n",
        "ПОРЯДОК ВЫПОЛНЕНИЯ РАБОТЫ\n",
        "\n",
        "1.     Сгенерировать случайные числа по указанному закону распределения. Из них создается матрица из M строк (наблюдений) и P столбцов (признаков). Сгенерированные строки должны принадлежать одному из N классов за счет прибавления к сгенерированным числам положительной или отрицательной добавки (функция)\n",
        "2.     Все признаки   должны быть числовыми и нормализованными (находиться в диапазоне [0,1]). Дополнительно создается классификационный признак.\n",
        "\n",
        "3.     Разделить данные варианта на  обучающую и тестирующую выборки.\n",
        "\n",
        "4.     Персептрон. Так как персептрон способен делить объекты только на два класса, то организуем работу итерационно:\n",
        "\n",
        "        4.1.  Создать персептрон для отделения 1 класса от всех остальных. Протестировать персептрон по обучающей и тестирующей выборкам и определить процент правильно классифицированных объектов 1 класса.\n",
        "\n",
        "        4.2.  Создать персептрон для отделения 2 класса от оставшихся. Протестировать персептрон по обучающей и тестирующей выборкам и определить процент правильно классифицированных объектов 2 класса\n",
        "\n",
        "        4.3.  Продолжить, пока не будут разделены все объекты\n",
        "\n",
        "        4.4.  Построить графики разделяющей поверхности и визуальное представление результатов тестирования\n",
        "\n",
        "5.     Сеть Кохонена (Kohonen). Вероятностная нейронная сеть (PNN).  Сеть с прямым распрост­ра­нением сигнала и обрат­ным распространением ошибки (MLP). Осуществить кластеризацию с помощью конкурирующей сети (слой Кохонена), а затем классификацию с помощью двух трехслойных сетей: вероятностной нейронной сети (PNN) и сети с прямым распрост­ра­нением сигнала и обрат­ным распространением ошибки (MLP). Для каждого вида сети выполнить следующие этапы:\n",
        "\n",
        "     5.1 Создание сети\n",
        "\n",
        "     5.2 Обучение сети на обучающей выборке\n",
        "\n",
        "     5.3 Протестировать сеть отдельно по обучающей и по тестирующей выборке\n",
        "\n",
        "     5.4 Построить визуальное представление результатов тестирования\n",
        "\n",
        "     5.5 Оценить качество классификации в виде матриц\n",
        "\n",
        "     5.6 Выдать число итераций обучения\n",
        "\n",
        "6.     Оформить результаты в виде таблицы\n"
      ],
      "metadata": {
        "id": "vd64BnotPZ_1"
      }
    },
    {
      "cell_type": "code",
      "source": [
        "import numpy as np\n",
        "from sklearn.preprocessing import MinMaxScaler\n",
        "import matplotlib.pyplot as plt\n",
        "from sklearn.linear_model import Perceptron\n",
        "from sklearn.metrics import accuracy_score\n",
        "from sklearn.metrics import confusion_matrix\n",
        "import pandas as pd\n",
        "import plotly.express as px\n",
        "import plotly.graph_objects as go"
      ],
      "metadata": {
        "id": "xhQXyRq5VeSa"
      },
      "execution_count": 142,
      "outputs": []
    },
    {
      "cell_type": "code",
      "execution_count": 143,
      "metadata": {
        "id": "v5KSzP9VAuIy",
        "colab": {
          "base_uri": "https://localhost:8080/"
        },
        "outputId": "d5a3cc9f-d123-4288-c987-f2baa30e2583"
      },
      "outputs": [
        {
          "output_type": "stream",
          "name": "stdout",
          "text": [
            "[[63, 62], [65, 67], [61, 62], [61, 63], [64, 64], [64, 62], [62, 63], [63, 64], [66, 62], [63, 59], [63, 58], [61, 64], [61, 61], [66, 60], [65, 62], [61, 64], [65, 62], [64, 62], [63, 63], [65, 62], [60, 63], [62, 62], [65, 61], [66, 62], [63, 63], [63, 60], [63, 66], [63, 64], [63, 62], [61, 62], [61, 61], [63, 66], [63, 66], [63, 69], [61, 64], [61, 65], [62, 65], [67, 60], [64, 64], [64, 64], [64, 63], [63, 62], [66, 63], [63, 62], [62, 65], [65, 64], [63, 62], [62, 65], [64, 63], [63, 63], [62, 66], [62, 61], [66, 63], [63, 62], [60, 64], [67, 62], [63, 64], [63, 62], [61, 62], [62, 64], [63, 60], [62, 67], [64, 62], [67, 64], [63, 62], [61, 63], [62, 64], [63, 61], [64, 64], [64, 61], [63, 62], [64, 64], [63, 63], [63, 62], [62, 65], [63, 63], [63, 60], [63, 61], [66, 63], [66, 65], [62, 65], [64, 64], [66, 64], [63, 61], [61, 62], [60, 63], [61, 62], [62, 63], [62, 66], [65, 64], [62, 62], [62, 63], [63, 63], [65, 63], [65, 60], [61, 63], [61, 61], [62, 63], [62, 62], [61, 63], [76, 75], [77, 75], [77, 77], [75, 79], [77, 76], [80, 74], [77, 77], [78, 80], [77, 76], [78, 77], [77, 77], [75, 78], [74, 76], [75, 77], [81, 75], [78, 76], [77, 77], [76, 77], [74, 75], [77, 77], [77, 75], [77, 80], [77, 79], [76, 76], [79, 78], [76, 74], [77, 75], [76, 75], [77, 76], [79, 77], [77, 78], [77, 78], [76, 75], [77, 75], [77, 76], [77, 77], [75, 74], [77, 74], [77, 75], [77, 77], [76, 78], [76, 77], [76, 76], [80, 76], [77, 75], [77, 76], [77, 75], [75, 77], [77, 75], [76, 76], [76, 78], [76, 77], [78, 76], [76, 78], [79, 77], [77, 76], [77, 77], [77, 77], [77, 77], [78, 76], [79, 76], [81, 75], [76, 74], [76, 79], [75, 77], [76, 79], [77, 77], [77, 75], [77, 79], [78, 77], [74, 77], [77, 76], [76, 78], [77, 76], [78, 76], [76, 77], [75, 76], [74, 78], [77, 76], [79, 76], [78, 77], [77, 76], [76, 75], [77, 75], [76, 77], [76, 75], [76, 76], [75, 75], [75, 74], [76, 75], [78, 77], [79, 78], [78, 75], [78, 78], [76, 75], [74, 76], [77, 76], [76, 77], [75, 79], [77, 79], [19, 19], [18, 17], [19, 18], [18, 18], [19, 20], [16, 17], [17, 14], [15, 19], [16, 18], [19, 19], [18, 14], [18, 18], [16, 19], [18, 16], [17, 17], [19, 18], [19, 18], [17, 18], [18, 17], [18, 16], [19, 17], [16, 18], [16, 18], [17, 17], [19, 20], [20, 18], [16, 17], [19, 17], [19, 16], [20, 18], [18, 19], [18, 17], [17, 19], [18, 17], [15, 18], [17, 18], [20, 19], [19, 19], [17, 17], [18, 17], [19, 17], [18, 20], [19, 20], [16, 18], [18, 18], [17, 17], [19, 17], [17, 18], [19, 18], [15, 19], [19, 19], [17, 19], [17, 17], [15, 17], [19, 18], [20, 17], [20, 16], [18, 19], [17, 18], [15, 18], [17, 18], [19, 17], [20, 19], [20, 20], [15, 18], [18, 18], [19, 18], [20, 16], [17, 18], [19, 15], [18, 16], [17, 20], [18, 18], [18, 17], [18, 18], [18, 18], [18, 17], [19, 19], [18, 17], [14, 16], [18, 19], [17, 18], [19, 16], [18, 19], [19, 19], [18, 19], [19, 18], [19, 19], [16, 17], [18, 19], [19, 16], [19, 17], [18, 18], [17, 20], [17, 19], [18, 20], [19, 17], [17, 17], [14, 17], [19, 18], [70, 69], [70, 69], [70, 71], [69, 68], [70, 68], [68, 69], [69, 69], [70, 69], [70, 71], [71, 71], [69, 69], [71, 71], [71, 70], [70, 69], [69, 71], [69, 69], [69, 69], [70, 71], [68, 69], [70, 70], [69, 70], [69, 70], [70, 70], [70, 72], [70, 69], [72, 70], [68, 70], [71, 70], [72, 69], [71, 70], [69, 71], [70, 69], [71, 68], [70, 70], [69, 71], [68, 69], [70, 70], [70, 70], [70, 69], [68, 69], [68, 70], [68, 70], [68, 70], [68, 70], [69, 70], [69, 69], [71, 70], [70, 71], [69, 69], [69, 69], [69, 70], [69, 70], [70, 71], [70, 70], [69, 71], [69, 69], [69, 71], [69, 71], [71, 70], [71, 69], [70, 71], [69, 70], [71, 68], [70, 69], [69, 69], [69, 70], [68, 71], [70, 70], [69, 69], [69, 70], [70, 70], [70, 68], [69, 70], [69, 69], [71, 69], [69, 70], [69, 69], [69, 69], [70, 71], [69, 69], [70, 69], [69, 70], [69, 70], [69, 70], [70, 72], [70, 72], [70, 69], [71, 68], [70, 68], [70, 71], [68, 71], [68, 69], [68, 71], [70, 70], [70, 70], [69, 69], [71, 69], [71, 70], [71, 69], [69, 70], [48, 49], [50, 50], [48, 52], [49, 49], [49, 49], [51, 47], [49, 48], [50, 47], [48, 49], [51, 52], [49, 52], [50, 49], [48, 49], [50, 49], [50, 48], [50, 47], [49, 49], [49, 50], [52, 48], [50, 48], [52, 47], [47, 48], [47, 47], [49, 50], [51, 50], [49, 48], [49, 52], [50, 47], [49, 49], [50, 52], [48, 50], [52, 50], [48, 52], [53, 50], [48, 48], [49, 50], [48, 44], [51, 49], [51, 53], [50, 50], [51, 47], [45, 51], [45, 50], [50, 49], [46, 48], [48, 49], [49, 47], [48, 50], [50, 47], [47, 48], [49, 49], [49, 48], [48, 46], [48, 48], [50, 47], [49, 47], [47, 49], [52, 51], [52, 49], [50, 52], [49, 52], [50, 49], [47, 46], [48, 52], [47, 50], [49, 51], [50, 50], [50, 50], [50, 49], [51, 50], [49, 52], [50, 50], [51, 53], [45, 49], [48, 52], [47, 51], [51, 50], [50, 52], [49, 46], [51, 49], [47, 47], [50, 50], [48, 47], [48, 49], [51, 49], [48, 47], [48, 50], [48, 49], [48, 47], [53, 48], [49, 48], [49, 52], [48, 49], [48, 50], [50, 50], [51, 48], [50, 53], [48, 50], [49, 50], [49, 51]]\n",
            "[0 0 0 0 0 0 0 0 0 0 0 0 0 0 0 0 0 0 0 0 0 0 0 0 0 0 0 0 0 0 0 0 0 0 0 0 0\n",
            " 0 0 0 0 0 0 0 0 0 0 0 0 0 0 0 0 0 0 0 0 0 0 0 0 0 0 0 0 0 0 0 0 0 0 0 0 0\n",
            " 0 0 0 0 0 0 0 0 0 0 0 0 0 0 0 0 0 0 0 0 0 0 0 0 0 0 1 1 1 1 1 1 1 1 1 1 1\n",
            " 1 1 1 1 1 1 1 1 1 1 1 1 1 1 1 1 1 1 1 1 1 1 1 1 1 1 1 1 1 1 1 1 1 1 1 1 1\n",
            " 1 1 1 1 1 1 1 1 1 1 1 1 1 1 1 1 1 1 1 1 1 1 1 1 1 1 1 1 1 1 1 1 1 1 1 1 1\n",
            " 1 1 1 1 1 1 1 1 1 1 1 1 1 1 1 2 2 2 2 2 2 2 2 2 2 2 2 2 2 2 2 2 2 2 2 2 2\n",
            " 2 2 2 2 2 2 2 2 2 2 2 2 2 2 2 2 2 2 2 2 2 2 2 2 2 2 2 2 2 2 2 2 2 2 2 2 2\n",
            " 2 2 2 2 2 2 2 2 2 2 2 2 2 2 2 2 2 2 2 2 2 2 2 2 2 2 2 2 2 2 2 2 2 2 2 2 2\n",
            " 2 2 2 2 3 3 3 3 3 3 3 3 3 3 3 3 3 3 3 3 3 3 3 3 3 3 3 3 3 3 3 3 3 3 3 3 3\n",
            " 3 3 3 3 3 3 3 3 3 3 3 3 3 3 3 3 3 3 3 3 3 3 3 3 3 3 3 3 3 3 3 3 3 3 3 3 3\n",
            " 3 3 3 3 3 3 3 3 3 3 3 3 3 3 3 3 3 3 3 3 3 3 3 3 3 3 3 3 3 3 4 4 4 4 4 4 4\n",
            " 4 4 4 4 4 4 4 4 4 4 4 4 4 4 4 4 4 4 4 4 4 4 4 4 4 4 4 4 4 4 4 4 4 4 4 4 4\n",
            " 4 4 4 4 4 4 4 4 4 4 4 4 4 4 4 4 4 4 4 4 4 4 4 4 4 4 4 4 4 4 4 4 4 4 4 4 4\n",
            " 4 4 4 4 4 4 4 4 4 4 4 4 4 4 4 4 4 4 4]\n"
          ]
        }
      ],
      "source": [
        "import numpy as np\n",
        "\n",
        "# Указываем параметры\n",
        "Z = 1  # Выбираем гипергеометричское распределение\n",
        "P = 2  # Число признаков\n",
        "N = 5  # Число классов\n",
        "\n",
        "count = 10\n",
        "M = 100  # Число наблюдений\n",
        "data = []\n",
        "for i in range(N):\n",
        "\n",
        "    ngood = np.random.randint(70, 100)\n",
        "    nbad = 100 - ngood\n",
        "    nsample = np.random.randint(1, 100)\n",
        "\n",
        "    c = np.random.hypergeometric(ngood=ngood, nbad=nbad, nsample=nsample, size=(M, P)) + count\n",
        "    count += 1\n",
        "\n",
        "    data.append(c)\n",
        "\n",
        "# Собираем признаки из всех классов\n",
        "x = np.concatenate([c[:, 0] for c in data])  # Признаки по оси X\n",
        "y = np.concatenate([c[:, 1] for c in data])  # Признаки по оси Y\n",
        "\n",
        "xy = [[x[i], y[i]] for i in range(len(x))]\n",
        "\n",
        "# Создаем список Y, присваивая каждому классу уникальное значение\n",
        "# Y будет представлять классификационный признак,\n",
        "# который указывает на принадлежность каждой точки данных к одному из 5 классов.\n",
        "Y = []\n",
        "for i in range(N):\n",
        "    Y.extend([i] * M)\n",
        "\n",
        "# Преобразуем список Y в массив numpy\n",
        "Y = np.array(Y)\n",
        "\n",
        "# Выводим данные и метки классов\n",
        "print(xy)\n",
        "print(Y)\n"
      ]
    },
    {
      "cell_type": "code",
      "source": [
        "# Создаем DataFrame\n",
        "res_df = pd.DataFrame(xy)\n",
        "# Создаем двумерный рассеянный график\n",
        "plt.scatter(x, y, c=Y)\n",
        "# Показываем график\n",
        "plt.show()"
      ],
      "metadata": {
        "colab": {
          "base_uri": "https://localhost:8080/",
          "height": 430
        },
        "id": "XHvuNUPFPqED",
        "outputId": "ef2b8083-2c12-4c3f-84cc-650aa0f28b96"
      },
      "execution_count": 144,
      "outputs": [
        {
          "output_type": "display_data",
          "data": {
            "text/plain": [
              "<Figure size 640x480 with 1 Axes>"
            ],
            "image/png": "[encoded data removed]"
          },
          "metadata": {}
        }
      ]
    },
    {
      "cell_type": "code",
      "source": [
        "# import numpy as np\n",
        "# import pandas as pd\n",
        "# import matplotlib.pyplot as plt\n",
        "# from scipy.stats import hypergeom\n",
        "\n",
        "# def genGeo():\n",
        "#     ngood1 = 50\n",
        "#     nbad1 = 50\n",
        "#     nsample1 = 20\n",
        "\n",
        "#     ngood2 = 40\n",
        "#     nbad2 = 60\n",
        "#     nsample2 = 20\n",
        "\n",
        "#     g1 = hypergeom.rvs(ngood1 + nbad1, ngood1, nsample1, size=(400, 1)) + 40\n",
        "#     g2 = hypergeom.rvs(ngood2 + nbad2, ngood2, nsample2, size=(400, 1)) + 30\n",
        "#     g3 = hypergeom.rvs(ngood2 + nbad2, ngood2, nsample2, size=(400, 1)) + 20\n",
        "#     g4 = hypergeom.rvs(ngood2 + nbad2, ngood2, nsample2, size=(400, 1)) + 10\n",
        "#     g5 = hypergeom.rvs(ngood2 + nbad2, ngood2, nsample2, size=(400, 1))\n",
        "#     g = np.r_[g1[:, :], g2[:, :] , g3[:, :], g4[:, :], g5[:, :]]\n",
        "#     return g\n",
        "\n",
        "\n",
        "# data = genGeo()\n",
        "\n",
        "# # Разделяем данные на два массива признаков x и y\n",
        "# x = data[:, 0]\n",
        "# y = data[:, 1]\n",
        "\n",
        "# # Создаем список Y, присваивая каждому классу уникальное значение\n",
        "# # Y будет представлять классификационный признак,\n",
        "# # который указывает на принадлежность каждой точки данных к одному из 5 классов.\n",
        "# N = 5  # Количество классов\n",
        "# M = len(x) // N  # Количество точек данных в каждом классе\n",
        "\n",
        "# Y = np.array([i for i in range(N) for _ in range(M)])  # Создаем список Y\n",
        "\n",
        "# # Теперь у вас есть массивы x, y и Y, которые вы можете использовать далее.\n",
        "\n",
        "\n",
        "# # res_df = pd.DataFrame(data, columns=['Значения'])\n",
        "\n",
        "# # plt.scatter(res_df.index, res_df['Значения'], alpha=0.5)\n",
        "# # plt.xlabel('Индекс')\n",
        "# # plt.ylabel('Значения')\n",
        "# # plt.title('Рассеянная диаграмма сгенерированных данных')\n",
        "# # plt.grid(True)\n",
        "\n",
        "# # plt.show()"
      ],
      "metadata": {
        "id": "Y3uv6dQ8MmD_"
      },
      "execution_count": 145,
      "outputs": []
    },
    {
      "cell_type": "code",
      "source": [
        "# # Собираем признаки из всех классов\n",
        "# x = np.concatenate([c[:, 0] for c in data])  # Признаки по оси X\n",
        "# y = np.concatenate([c[:, 1] for c in data])  # Признаки по оси Y\n",
        "\n",
        "# xy = [[x[i], y[i]] for i in range(len(x))]\n"
      ],
      "metadata": {
        "id": "lZdyjTnP7e9V"
      },
      "execution_count": 146,
      "outputs": []
    },
    {
      "cell_type": "code",
      "source": [
        "# Y = []\n",
        "# for i in range(5):\n",
        "#     Y.extend([i] * 400)\n",
        "\n",
        "# # Преобразуем список Y в массив numpy\n",
        "# Y = np.array(Y)\n",
        "# print(Y)"
      ],
      "metadata": {
        "id": "DrL0n57r7eQk"
      },
      "execution_count": 147,
      "outputs": []
    },
    {
      "cell_type": "code",
      "source": [
        "from sklearn.preprocessing import MinMaxScaler\n",
        "scaler = MinMaxScaler((0, 1))\n",
        "scaler.fit(res_df)\n",
        "standart_df = scaler.transform(res_df)\n",
        "print(type(standart_df))\n",
        "print(standart_df)"
      ],
      "metadata": {
        "colab": {
          "base_uri": "https://localhost:8080/"
        },
        "id": "9pUpv_Ptwtiv",
        "outputId": "80dcd26d-cd6c-4bed-d50c-e55fbc6da8b5"
      },
      "execution_count": 148,
      "outputs": [
        {
          "output_type": "stream",
          "name": "stdout",
          "text": [
            "<class 'numpy.ndarray'>\n",
            "[[0.73134328 0.72727273]\n",
            " [0.76119403 0.8030303 ]\n",
            " [0.70149254 0.72727273]\n",
            " [0.70149254 0.74242424]\n",
            " [0.74626866 0.75757576]\n",
            " [0.74626866 0.72727273]\n",
            " [0.71641791 0.74242424]\n",
            " [0.73134328 0.75757576]\n",
            " [0.7761194  0.72727273]\n",
            " [0.73134328 0.68181818]\n",
            " [0.73134328 0.66666667]\n",
            " [0.70149254 0.75757576]\n",
            " [0.70149254 0.71212121]\n",
            " [0.7761194  0.6969697 ]\n",
            " [0.76119403 0.72727273]\n",
            " [0.70149254 0.75757576]\n",
            " [0.76119403 0.72727273]\n",
            " [0.74626866 0.72727273]\n",
            " [0.73134328 0.74242424]\n",
            " [0.76119403 0.72727273]\n",
            " [0.68656716 0.74242424]\n",
            " [0.71641791 0.72727273]\n",
            " [0.76119403 0.71212121]\n",
            " [0.7761194  0.72727273]\n",
            " [0.73134328 0.74242424]\n",
            " [0.73134328 0.6969697 ]\n",
            " [0.73134328 0.78787879]\n",
            " [0.73134328 0.75757576]\n",
            " [0.73134328 0.72727273]\n",
            " [0.70149254 0.72727273]\n",
            " [0.70149254 0.71212121]\n",
            " [0.73134328 0.78787879]\n",
            " [0.73134328 0.78787879]\n",
            " [0.73134328 0.83333333]\n",
            " [0.70149254 0.75757576]\n",
            " [0.70149254 0.77272727]\n",
            " [0.71641791 0.77272727]\n",
            " [0.79104478 0.6969697 ]\n",
            " [0.74626866 0.75757576]\n",
            " [0.74626866 0.75757576]\n",
            " [0.74626866 0.74242424]\n",
            " [0.73134328 0.72727273]\n",
            " [0.7761194  0.74242424]\n",
            " [0.73134328 0.72727273]\n",
            " [0.71641791 0.77272727]\n",
            " [0.76119403 0.75757576]\n",
            " [0.73134328 0.72727273]\n",
            " [0.71641791 0.77272727]\n",
            " [0.74626866 0.74242424]\n",
            " [0.73134328 0.74242424]\n",
            " [0.71641791 0.78787879]\n",
            " [0.71641791 0.71212121]\n",
            " [0.7761194  0.74242424]\n",
            " [0.73134328 0.72727273]\n",
            " [0.68656716 0.75757576]\n",
            " [0.79104478 0.72727273]\n",
            " [0.73134328 0.75757576]\n",
            " [0.73134328 0.72727273]\n",
            " [0.70149254 0.72727273]\n",
            " [0.71641791 0.75757576]\n",
            " [0.73134328 0.6969697 ]\n",
            " [0.71641791 0.8030303 ]\n",
            " [0.74626866 0.72727273]\n",
            " [0.79104478 0.75757576]\n",
            " [0.73134328 0.72727273]\n",
            " [0.70149254 0.74242424]\n",
            " [0.71641791 0.75757576]\n",
            " [0.73134328 0.71212121]\n",
            " [0.74626866 0.75757576]\n",
            " [0.74626866 0.71212121]\n",
            " [0.73134328 0.72727273]\n",
            " [0.74626866 0.75757576]\n",
            " [0.73134328 0.74242424]\n",
            " [0.73134328 0.72727273]\n",
            " [0.71641791 0.77272727]\n",
            " [0.73134328 0.74242424]\n",
            " [0.73134328 0.6969697 ]\n",
            " [0.73134328 0.71212121]\n",
            " [0.7761194  0.74242424]\n",
            " [0.7761194  0.77272727]\n",
            " [0.71641791 0.77272727]\n",
            " [0.74626866 0.75757576]\n",
            " [0.7761194  0.75757576]\n",
            " [0.73134328 0.71212121]\n",
            " [0.70149254 0.72727273]\n",
            " [0.68656716 0.74242424]\n",
            " [0.70149254 0.72727273]\n",
            " [0.71641791 0.74242424]\n",
            " [0.71641791 0.78787879]\n",
            " [0.76119403 0.75757576]\n",
            " [0.71641791 0.72727273]\n",
            " [0.71641791 0.74242424]\n",
            " [0.73134328 0.74242424]\n",
            " [0.76119403 0.74242424]\n",
            " [0.76119403 0.6969697 ]\n",
            " [0.70149254 0.74242424]\n",
            " [0.70149254 0.71212121]\n",
            " [0.71641791 0.74242424]\n",
            " [0.71641791 0.72727273]\n",
            " [0.70149254 0.74242424]\n",
            " [0.92537313 0.92424242]\n",
            " [0.94029851 0.92424242]\n",
            " [0.94029851 0.95454545]\n",
            " [0.91044776 0.98484848]\n",
            " [0.94029851 0.93939394]\n",
            " [0.98507463 0.90909091]\n",
            " [0.94029851 0.95454545]\n",
            " [0.95522388 1.        ]\n",
            " [0.94029851 0.93939394]\n",
            " [0.95522388 0.95454545]\n",
            " [0.94029851 0.95454545]\n",
            " [0.91044776 0.96969697]\n",
            " [0.89552239 0.93939394]\n",
            " [0.91044776 0.95454545]\n",
            " [1.         0.92424242]\n",
            " [0.95522388 0.93939394]\n",
            " [0.94029851 0.95454545]\n",
            " [0.92537313 0.95454545]\n",
            " [0.89552239 0.92424242]\n",
            " [0.94029851 0.95454545]\n",
            " [0.94029851 0.92424242]\n",
            " [0.94029851 1.        ]\n",
            " [0.94029851 0.98484848]\n",
            " [0.92537313 0.93939394]\n",
            " [0.97014925 0.96969697]\n",
            " [0.92537313 0.90909091]\n",
            " [0.94029851 0.92424242]\n",
            " [0.92537313 0.92424242]\n",
            " [0.94029851 0.93939394]\n",
            " [0.97014925 0.95454545]\n",
            " [0.94029851 0.96969697]\n",
            " [0.94029851 0.96969697]\n",
            " [0.92537313 0.92424242]\n",
            " [0.94029851 0.92424242]\n",
            " [0.94029851 0.93939394]\n",
            " [0.94029851 0.95454545]\n",
            " [0.91044776 0.90909091]\n",
            " [0.94029851 0.90909091]\n",
            " [0.94029851 0.92424242]\n",
            " [0.94029851 0.95454545]\n",
            " [0.92537313 0.96969697]\n",
            " [0.92537313 0.95454545]\n",
            " [0.92537313 0.93939394]\n",
            " [0.98507463 0.93939394]\n",
            " [0.94029851 0.92424242]\n",
            " [0.94029851 0.93939394]\n",
            " [0.94029851 0.92424242]\n",
            " [0.91044776 0.95454545]\n",
            " [0.94029851 0.92424242]\n",
            " [0.92537313 0.93939394]\n",
            " [0.92537313 0.96969697]\n",
            " [0.92537313 0.95454545]\n",
            " [0.95522388 0.93939394]\n",
            " [0.92537313 0.96969697]\n",
            " [0.97014925 0.95454545]\n",
            " [0.94029851 0.93939394]\n",
            " [0.94029851 0.95454545]\n",
            " [0.94029851 0.95454545]\n",
            " [0.94029851 0.95454545]\n",
            " [0.95522388 0.93939394]\n",
            " [0.97014925 0.93939394]\n",
            " [1.         0.92424242]\n",
            " [0.92537313 0.90909091]\n",
            " [0.92537313 0.98484848]\n",
            " [0.91044776 0.95454545]\n",
            " [0.92537313 0.98484848]\n",
            " [0.94029851 0.95454545]\n",
            " [0.94029851 0.92424242]\n",
            " [0.94029851 0.98484848]\n",
            " [0.95522388 0.95454545]\n",
            " [0.89552239 0.95454545]\n",
            " [0.94029851 0.93939394]\n",
            " [0.92537313 0.96969697]\n",
            " [0.94029851 0.93939394]\n",
            " [0.95522388 0.93939394]\n",
            " [0.92537313 0.95454545]\n",
            " [0.91044776 0.93939394]\n",
            " [0.89552239 0.96969697]\n",
            " [0.94029851 0.93939394]\n",
            " [0.97014925 0.93939394]\n",
            " [0.95522388 0.95454545]\n",
            " [0.94029851 0.93939394]\n",
            " [0.92537313 0.92424242]\n",
            " [0.94029851 0.92424242]\n",
            " [0.92537313 0.95454545]\n",
            " [0.92537313 0.92424242]\n",
            " [0.92537313 0.93939394]\n",
            " [0.91044776 0.92424242]\n",
            " [0.91044776 0.90909091]\n",
            " [0.92537313 0.92424242]\n",
            " [0.95522388 0.95454545]\n",
            " [0.97014925 0.96969697]\n",
            " [0.95522388 0.92424242]\n",
            " [0.95522388 0.96969697]\n",
            " [0.92537313 0.92424242]\n",
            " [0.89552239 0.93939394]\n",
            " [0.94029851 0.93939394]\n",
            " [0.92537313 0.95454545]\n",
            " [0.91044776 0.98484848]\n",
            " [0.94029851 0.98484848]\n",
            " [0.07462687 0.07575758]\n",
            " [0.05970149 0.04545455]\n",
            " [0.07462687 0.06060606]\n",
            " [0.05970149 0.06060606]\n",
            " [0.07462687 0.09090909]\n",
            " [0.02985075 0.04545455]\n",
            " [0.04477612 0.        ]\n",
            " [0.01492537 0.07575758]\n",
            " [0.02985075 0.06060606]\n",
            " [0.07462687 0.07575758]\n",
            " [0.05970149 0.        ]\n",
            " [0.05970149 0.06060606]\n",
            " [0.02985075 0.07575758]\n",
            " [0.05970149 0.03030303]\n",
            " [0.04477612 0.04545455]\n",
            " [0.07462687 0.06060606]\n",
            " [0.07462687 0.06060606]\n",
            " [0.04477612 0.06060606]\n",
            " [0.05970149 0.04545455]\n",
            " [0.05970149 0.03030303]\n",
            " [0.07462687 0.04545455]\n",
            " [0.02985075 0.06060606]\n",
            " [0.02985075 0.06060606]\n",
            " [0.04477612 0.04545455]\n",
            " [0.07462687 0.09090909]\n",
            " [0.08955224 0.06060606]\n",
            " [0.02985075 0.04545455]\n",
            " [0.07462687 0.04545455]\n",
            " [0.07462687 0.03030303]\n",
            " [0.08955224 0.06060606]\n",
            " [0.05970149 0.07575758]\n",
            " [0.05970149 0.04545455]\n",
            " [0.04477612 0.07575758]\n",
            " [0.05970149 0.04545455]\n",
            " [0.01492537 0.06060606]\n",
            " [0.04477612 0.06060606]\n",
            " [0.08955224 0.07575758]\n",
            " [0.07462687 0.07575758]\n",
            " [0.04477612 0.04545455]\n",
            " [0.05970149 0.04545455]\n",
            " [0.07462687 0.04545455]\n",
            " [0.05970149 0.09090909]\n",
            " [0.07462687 0.09090909]\n",
            " [0.02985075 0.06060606]\n",
            " [0.05970149 0.06060606]\n",
            " [0.04477612 0.04545455]\n",
            " [0.07462687 0.04545455]\n",
            " [0.04477612 0.06060606]\n",
            " [0.07462687 0.06060606]\n",
            " [0.01492537 0.07575758]\n",
            " [0.07462687 0.07575758]\n",
            " [0.04477612 0.07575758]\n",
            " [0.04477612 0.04545455]\n",
            " [0.01492537 0.04545455]\n",
            " [0.07462687 0.06060606]\n",
            " [0.08955224 0.04545455]\n",
            " [0.08955224 0.03030303]\n",
            " [0.05970149 0.07575758]\n",
            " [0.04477612 0.06060606]\n",
            " [0.01492537 0.06060606]\n",
            " [0.04477612 0.06060606]\n",
            " [0.07462687 0.04545455]\n",
            " [0.08955224 0.07575758]\n",
            " [0.08955224 0.09090909]\n",
            " [0.01492537 0.06060606]\n",
            " [0.05970149 0.06060606]\n",
            " [0.07462687 0.06060606]\n",
            " [0.08955224 0.03030303]\n",
            " [0.04477612 0.06060606]\n",
            " [0.07462687 0.01515152]\n",
            " [0.05970149 0.03030303]\n",
            " [0.04477612 0.09090909]\n",
            " [0.05970149 0.06060606]\n",
            " [0.05970149 0.04545455]\n",
            " [0.05970149 0.06060606]\n",
            " [0.05970149 0.06060606]\n",
            " [0.05970149 0.04545455]\n",
            " [0.07462687 0.07575758]\n",
            " [0.05970149 0.04545455]\n",
            " [0.         0.03030303]\n",
            " [0.05970149 0.07575758]\n",
            " [0.04477612 0.06060606]\n",
            " [0.07462687 0.03030303]\n",
            " [0.05970149 0.07575758]\n",
            " [0.07462687 0.07575758]\n",
            " [0.05970149 0.07575758]\n",
            " [0.07462687 0.06060606]\n",
            " [0.07462687 0.07575758]\n",
            " [0.02985075 0.04545455]\n",
            " [0.05970149 0.07575758]\n",
            " [0.07462687 0.03030303]\n",
            " [0.07462687 0.04545455]\n",
            " [0.05970149 0.06060606]\n",
            " [0.04477612 0.09090909]\n",
            " [0.04477612 0.07575758]\n",
            " [0.05970149 0.09090909]\n",
            " [0.07462687 0.04545455]\n",
            " [0.04477612 0.04545455]\n",
            " [0.         0.04545455]\n",
            " [0.07462687 0.06060606]\n",
            " [0.8358209  0.83333333]\n",
            " [0.8358209  0.83333333]\n",
            " [0.8358209  0.86363636]\n",
            " [0.82089552 0.81818182]\n",
            " [0.8358209  0.81818182]\n",
            " [0.80597015 0.83333333]\n",
            " [0.82089552 0.83333333]\n",
            " [0.8358209  0.83333333]\n",
            " [0.8358209  0.86363636]\n",
            " [0.85074627 0.86363636]\n",
            " [0.82089552 0.83333333]\n",
            " [0.85074627 0.86363636]\n",
            " [0.85074627 0.84848485]\n",
            " [0.8358209  0.83333333]\n",
            " [0.82089552 0.86363636]\n",
            " [0.82089552 0.83333333]\n",
            " [0.82089552 0.83333333]\n",
            " [0.8358209  0.86363636]\n",
            " [0.80597015 0.83333333]\n",
            " [0.8358209  0.84848485]\n",
            " [0.82089552 0.84848485]\n",
            " [0.82089552 0.84848485]\n",
            " [0.8358209  0.84848485]\n",
            " [0.8358209  0.87878788]\n",
            " [0.8358209  0.83333333]\n",
            " [0.86567164 0.84848485]\n",
            " [0.80597015 0.84848485]\n",
            " [0.85074627 0.84848485]\n",
            " [0.86567164 0.83333333]\n",
            " [0.85074627 0.84848485]\n",
            " [0.82089552 0.86363636]\n",
            " [0.8358209  0.83333333]\n",
            " [0.85074627 0.81818182]\n",
            " [0.8358209  0.84848485]\n",
            " [0.82089552 0.86363636]\n",
            " [0.80597015 0.83333333]\n",
            " [0.8358209  0.84848485]\n",
            " [0.8358209  0.84848485]\n",
            " [0.8358209  0.83333333]\n",
            " [0.80597015 0.83333333]\n",
            " [0.80597015 0.84848485]\n",
            " [0.80597015 0.84848485]\n",
            " [0.80597015 0.84848485]\n",
            " [0.80597015 0.84848485]\n",
            " [0.82089552 0.84848485]\n",
            " [0.82089552 0.83333333]\n",
            " [0.85074627 0.84848485]\n",
            " [0.8358209  0.86363636]\n",
            " [0.82089552 0.83333333]\n",
            " [0.82089552 0.83333333]\n",
            " [0.82089552 0.84848485]\n",
            " [0.82089552 0.84848485]\n",
            " [0.8358209  0.86363636]\n",
            " [0.8358209  0.84848485]\n",
            " [0.82089552 0.86363636]\n",
            " [0.82089552 0.83333333]\n",
            " [0.82089552 0.86363636]\n",
            " [0.82089552 0.86363636]\n",
            " [0.85074627 0.84848485]\n",
            " [0.85074627 0.83333333]\n",
            " [0.8358209  0.86363636]\n",
            " [0.82089552 0.84848485]\n",
            " [0.85074627 0.81818182]\n",
            " [0.8358209  0.83333333]\n",
            " [0.82089552 0.83333333]\n",
            " [0.82089552 0.84848485]\n",
            " [0.80597015 0.86363636]\n",
            " [0.8358209  0.84848485]\n",
            " [0.82089552 0.83333333]\n",
            " [0.82089552 0.84848485]\n",
            " [0.8358209  0.84848485]\n",
            " [0.8358209  0.81818182]\n",
            " [0.82089552 0.84848485]\n",
            " [0.82089552 0.83333333]\n",
            " [0.85074627 0.83333333]\n",
            " [0.82089552 0.84848485]\n",
            " [0.82089552 0.83333333]\n",
            " [0.82089552 0.83333333]\n",
            " [0.8358209  0.86363636]\n",
            " [0.82089552 0.83333333]\n",
            " [0.8358209  0.83333333]\n",
            " [0.82089552 0.84848485]\n",
            " [0.82089552 0.84848485]\n",
            " [0.82089552 0.84848485]\n",
            " [0.8358209  0.87878788]\n",
            " [0.8358209  0.87878788]\n",
            " [0.8358209  0.83333333]\n",
            " [0.85074627 0.81818182]\n",
            " [0.8358209  0.81818182]\n",
            " [0.8358209  0.86363636]\n",
            " [0.80597015 0.86363636]\n",
            " [0.80597015 0.83333333]\n",
            " [0.80597015 0.86363636]\n",
            " [0.8358209  0.84848485]\n",
            " [0.8358209  0.84848485]\n",
            " [0.82089552 0.83333333]\n",
            " [0.85074627 0.83333333]\n",
            " [0.85074627 0.84848485]\n",
            " [0.85074627 0.83333333]\n",
            " [0.82089552 0.84848485]\n",
            " [0.50746269 0.53030303]\n",
            " [0.53731343 0.54545455]\n",
            " [0.50746269 0.57575758]\n",
            " [0.52238806 0.53030303]\n",
            " [0.52238806 0.53030303]\n",
            " [0.55223881 0.5       ]\n",
            " [0.52238806 0.51515152]\n",
            " [0.53731343 0.5       ]\n",
            " [0.50746269 0.53030303]\n",
            " [0.55223881 0.57575758]\n",
            " [0.52238806 0.57575758]\n",
            " [0.53731343 0.53030303]\n",
            " [0.50746269 0.53030303]\n",
            " [0.53731343 0.53030303]\n",
            " [0.53731343 0.51515152]\n",
            " [0.53731343 0.5       ]\n",
            " [0.52238806 0.53030303]\n",
            " [0.52238806 0.54545455]\n",
            " [0.56716418 0.51515152]\n",
            " [0.53731343 0.51515152]\n",
            " [0.56716418 0.5       ]\n",
            " [0.49253731 0.51515152]\n",
            " [0.49253731 0.5       ]\n",
            " [0.52238806 0.54545455]\n",
            " [0.55223881 0.54545455]\n",
            " [0.52238806 0.51515152]\n",
            " [0.52238806 0.57575758]\n",
            " [0.53731343 0.5       ]\n",
            " [0.52238806 0.53030303]\n",
            " [0.53731343 0.57575758]\n",
            " [0.50746269 0.54545455]\n",
            " [0.56716418 0.54545455]\n",
            " [0.50746269 0.57575758]\n",
            " [0.58208955 0.54545455]\n",
            " [0.50746269 0.51515152]\n",
            " [0.52238806 0.54545455]\n",
            " [0.50746269 0.45454545]\n",
            " [0.55223881 0.53030303]\n",
            " [0.55223881 0.59090909]\n",
            " [0.53731343 0.54545455]\n",
            " [0.55223881 0.5       ]\n",
            " [0.46268657 0.56060606]\n",
            " [0.46268657 0.54545455]\n",
            " [0.53731343 0.53030303]\n",
            " [0.47761194 0.51515152]\n",
            " [0.50746269 0.53030303]\n",
            " [0.52238806 0.5       ]\n",
            " [0.50746269 0.54545455]\n",
            " [0.53731343 0.5       ]\n",
            " [0.49253731 0.51515152]\n",
            " [0.52238806 0.53030303]\n",
            " [0.52238806 0.51515152]\n",
            " [0.50746269 0.48484848]\n",
            " [0.50746269 0.51515152]\n",
            " [0.53731343 0.5       ]\n",
            " [0.52238806 0.5       ]\n",
            " [0.49253731 0.53030303]\n",
            " [0.56716418 0.56060606]\n",
            " [0.56716418 0.53030303]\n",
            " [0.53731343 0.57575758]\n",
            " [0.52238806 0.57575758]\n",
            " [0.53731343 0.53030303]\n",
            " [0.49253731 0.48484848]\n",
            " [0.50746269 0.57575758]\n",
            " [0.49253731 0.54545455]\n",
            " [0.52238806 0.56060606]\n",
            " [0.53731343 0.54545455]\n",
            " [0.53731343 0.54545455]\n",
            " [0.53731343 0.53030303]\n",
            " [0.55223881 0.54545455]\n",
            " [0.52238806 0.57575758]\n",
            " [0.53731343 0.54545455]\n",
            " [0.55223881 0.59090909]\n",
            " [0.46268657 0.53030303]\n",
            " [0.50746269 0.57575758]\n",
            " [0.49253731 0.56060606]\n",
            " [0.55223881 0.54545455]\n",
            " [0.53731343 0.57575758]\n",
            " [0.52238806 0.48484848]\n",
            " [0.55223881 0.53030303]\n",
            " [0.49253731 0.5       ]\n",
            " [0.53731343 0.54545455]\n",
            " [0.50746269 0.5       ]\n",
            " [0.50746269 0.53030303]\n",
            " [0.55223881 0.53030303]\n",
            " [0.50746269 0.5       ]\n",
            " [0.50746269 0.54545455]\n",
            " [0.50746269 0.53030303]\n",
            " [0.50746269 0.5       ]\n",
            " [0.58208955 0.51515152]\n",
            " [0.52238806 0.51515152]\n",
            " [0.52238806 0.57575758]\n",
            " [0.50746269 0.53030303]\n",
            " [0.50746269 0.54545455]\n",
            " [0.53731343 0.54545455]\n",
            " [0.55223881 0.51515152]\n",
            " [0.53731343 0.59090909]\n",
            " [0.50746269 0.54545455]\n",
            " [0.52238806 0.54545455]\n",
            " [0.52238806 0.56060606]]\n"
          ]
        }
      ]
    },
    {
      "cell_type": "code",
      "source": [
        "# Импортируем класс KMeans из библиотеки scikit-learn для кластеризации данных.\n",
        "from sklearn.cluster import KMeans\n",
        "\n",
        "# Создаем объект KMeans с параметрами:\n",
        "# - n_clusters=5 указывает, что мы хотим разделить данные на 5 кластера.\n",
        "# - random_state=0 используется для установки начального состояния генератора случайных чисел и обеспечения воспроизводимости результатов.\n",
        "kmeans = KMeans(n_clusters=5,n_init=10, random_state=0)\n",
        "\n",
        "# Обучаем модель K-Means на стандартизированных данных `standart_df`.\n",
        "kmeans.fit(standart_df)"
      ],
      "metadata": {
        "colab": {
          "base_uri": "https://localhost:8080/",
          "height": 74
        },
        "id": "3iF_sVRoG3if",
        "outputId": "88eb4a30-9493-45f8-ec8e-dbf4edd51de2"
      },
      "execution_count": 149,
      "outputs": [
        {
          "output_type": "execute_result",
          "data": {
            "text/plain": [
              "KMeans(n_clusters=5, n_init=10, random_state=0)"
            ],
            "text/html": [
              "<style>#sk-container-id-8 {color: black;background-color: white;}#sk-container-id-8 pre{padding: 0;}#sk-container-id-8 div.sk-toggleable {background-color: white;}#sk-container-id-8 label.sk-toggleable__label {cursor: pointer;display: block;width: 100%;margin-bottom: 0;padding: 0.3em;box-sizing: border-box;text-align: center;}#sk-container-id-8 label.sk-toggleable__label-arrow:before {content: \"▸\";float: left;margin-right: 0.25em;color: #696969;}#sk-container-id-8 label.sk-toggleable__label-arrow:hover:before {color: black;}#sk-container-id-8 div.sk-estimator:hover label.sk-toggleable__label-arrow:before {color: black;}#sk-container-id-8 div.sk-toggleable__content {max-height: 0;max-width: 0;overflow: hidden;text-align: left;background-color: #f0f8ff;}#sk-container-id-8 div.sk-toggleable__content pre {margin: 0.2em;color: black;border-radius: 0.25em;background-color: #f0f8ff;}#sk-container-id-8 input.sk-toggleable__control:checked~div.sk-toggleable__content {max-height: 200px;max-width: 100%;overflow: auto;}#sk-container-id-8 input.sk-toggleable__control:checked~label.sk-toggleable__label-arrow:before {content: \"▾\";}#sk-container-id-8 div.sk-estimator input.sk-toggleable__control:checked~label.sk-toggleable__label {background-color: #d4ebff;}#sk-container-id-8 div.sk-label input.sk-toggleable__control:checked~label.sk-toggleable__label {background-color: #d4ebff;}#sk-container-id-8 input.sk-hidden--visually {border: 0;clip: rect(1px 1px 1px 1px);clip: rect(1px, 1px, 1px, 1px);height: 1px;margin: -1px;overflow: hidden;padding: 0;position: absolute;width: 1px;}#sk-container-id-8 div.sk-estimator {font-family: monospace;background-color: #f0f8ff;border: 1px dotted black;border-radius: 0.25em;box-sizing: border-box;margin-bottom: 0.5em;}#sk-container-id-8 div.sk-estimator:hover {background-color: #d4ebff;}#sk-container-id-8 div.sk-parallel-item::after {content: \"\";width: 100%;border-bottom: 1px solid gray;flex-grow: 1;}#sk-container-id-8 div.sk-label:hover label.sk-toggleable__label {background-color: #d4ebff;}#sk-container-id-8 div.sk-serial::before {content: \"\";position: absolute;border-left: 1px solid gray;box-sizing: border-box;top: 0;bottom: 0;left: 50%;z-index: 0;}#sk-container-id-8 div.sk-serial {display: flex;flex-direction: column;align-items: center;background-color: white;padding-right: 0.2em;padding-left: 0.2em;position: relative;}#sk-container-id-8 div.sk-item {position: relative;z-index: 1;}#sk-container-id-8 div.sk-parallel {display: flex;align-items: stretch;justify-content: center;background-color: white;position: relative;}#sk-container-id-8 div.sk-item::before, #sk-container-id-8 div.sk-parallel-item::before {content: \"\";position: absolute;border-left: 1px solid gray;box-sizing: border-box;top: 0;bottom: 0;left: 50%;z-index: -1;}#sk-container-id-8 div.sk-parallel-item {display: flex;flex-direction: column;z-index: 1;position: relative;background-color: white;}#sk-container-id-8 div.sk-parallel-item:first-child::after {align-self: flex-end;width: 50%;}#sk-container-id-8 div.sk-parallel-item:last-child::after {align-self: flex-start;width: 50%;}#sk-container-id-8 div.sk-parallel-item:only-child::after {width: 0;}#sk-container-id-8 div.sk-dashed-wrapped {border: 1px dashed gray;margin: 0 0.4em 0.5em 0.4em;box-sizing: border-box;padding-bottom: 0.4em;background-color: white;}#sk-container-id-8 div.sk-label label {font-family: monospace;font-weight: bold;display: inline-block;line-height: 1.2em;}#sk-container-id-8 div.sk-label-container {text-align: center;}#sk-container-id-8 div.sk-container {/* jupyter's `normalize.less` sets `[hidden] { display: none; }` but bootstrap.min.css set `[hidden] { display: none !important; }` so we also need the `!important` here to be able to override the default hidden behavior on the sphinx rendered scikit-learn.org. See: https://github.com/scikit-learn/scikit-learn/issues/21755 */display: inline-block !important;position: relative;}#sk-container-id-8 div.sk-text-repr-fallback {display: none;}</style><div id=\"sk-container-id-8\" class=\"sk-top-container\"><div class=\"sk-text-repr-fallback\"><pre>KMeans(n_clusters=5, n_init=10, random_state=0)</pre><b>In a Jupyter environment, please rerun this cell to show the HTML representation or trust the notebook. <br />On GitHub, the HTML representation is unable to render, please try loading this page with nbviewer.org.</b></div><div class=\"sk-container\" hidden><div class=\"sk-item\"><div class=\"sk-estimator sk-toggleable\"><input class=\"sk-toggleable__control sk-hidden--visually\" id=\"sk-estimator-id-8\" type=\"checkbox\" checked><label for=\"sk-estimator-id-8\" class=\"sk-toggleable__label sk-toggleable__label-arrow\">KMeans</label><div class=\"sk-toggleable__content\"><pre>KMeans(n_clusters=5, n_init=10, random_state=0)</pre></div></div></div></div></div>"
            ]
          },
          "metadata": {},
          "execution_count": 149
        }
      ]
    },
    {
      "cell_type": "code",
      "execution_count": 150,
      "metadata": {
        "colab": {
          "base_uri": "https://localhost:8080/"
        },
        "id": "S9GeNSF186lD",
        "outputId": "9adba2e6-1258-4f99-c804-9695f2bce73e"
      },
      "outputs": [
        {
          "output_type": "stream",
          "name": "stdout",
          "text": [
            "          0         1\n",
            "0  0.936866  0.946061\n",
            "1  0.057313  0.057727\n",
            "2  0.524776  0.534242\n",
            "3  0.732388  0.740909\n",
            "4  0.829403  0.844848\n",
            "----------------------------------------------------------------------------------\n",
            "матрица ошибок\n",
            "[[  0   0   0 100   0]\n",
            " [100   0   0   0   0]\n",
            " [  0 100   0   0   0]\n",
            " [  0   0   0   0 100]\n",
            " [  0   0 100   0   0]]\n"
          ]
        }
      ],
      "source": [
        "# Создаем DataFrame `df_cluster_centers` для хранения координат центров кластеров.\n",
        "df_cluster_centers = pd.DataFrame(kmeans.cluster_centers_)\n",
        "\n",
        "# Выводим DataFrame `df_cluster_centers`, который содержит координаты центров кластеров.\n",
        "print(df_cluster_centers)\n",
        "print(\"----------------------------------------------------------------------------------\")\n",
        "print(\"матрица ошибок\")\n",
        "# Выводим матрицу ошибок, которая показывает, как точки данных распределены по кластерам\n",
        "# и сравнивает это с истинными метками классов.\n",
        "# `Y` содержит истинные метки классов, а `kmeans.labels_` содержит предсказанные метки кластеров.\n",
        "confusion_mat = confusion_matrix(Y, kmeans.labels_)\n",
        "print(confusion_mat)"
      ]
    },
    {
      "cell_type": "code",
      "execution_count": 151,
      "metadata": {
        "id": "KcduiLkD9CKu"
      },
      "outputs": [],
      "source": [
        "# import matplotlib.pyplot as plt\n",
        "# from sklearn.cluster import KMeans\n",
        "\n",
        "# # Ваш код для создания объекта KMeans и кластеризации данных\n",
        "\n",
        "# # Создаем двумерный рассеянный график\n",
        "# plt.scatter(res_df[0], res_df[1], c=kmeans.labels_)\n",
        "\n",
        "# # Показываем график точек данных\n",
        "\n",
        "# # Добавляем точки для центров кластеров внутри кластеров\n",
        "# for cluster_center in df_cluster_centers:\n",
        "#     cluster_points = res_df[kmeans.labels_ == cluster_center]\n",
        "#     center_x, center_y = cluster_points.mean(axis=0)\n",
        "#     plt.scatter(center_x, center_y, c='red', marker='x')\n",
        "\n",
        "# # Показываем график\n",
        "# plt.show()\n"
      ]
    },
    {
      "cell_type": "code",
      "source": [
        "from sklearn.model_selection import train_test_split\n",
        "\n",
        "X_train, X_test, y_train, y_test = train_test_split(standart_df, kmeans.labels_, test_size=0.5, random_state=42)\n",
        "\n",
        "# X_train - обучающие признаки\n",
        "# X_test - тестовые признаки\n",
        "# y_train - метки обучающих данных\n",
        "# y_test - метки тестовых данных"
      ],
      "metadata": {
        "id": "p_J6-XKiZO06"
      },
      "execution_count": 152,
      "outputs": []
    },
    {
      "cell_type": "code",
      "source": [
        "print(\"Форма X_train:\", X_train.shape)\n",
        "print(\"Форма X_test:\", X_test.shape)\n",
        "assert len(X_train) + len(X_test) == len(standart_df), \"Выборки пересекаются или неправильно разделены.\"\n",
        "print(\"----------------------------------------------------------------------------------\")\n",
        "print(\"Форма y_train:\", y_train.shape)\n",
        "print(\"Форма y_test:\", y_test.shape)\n",
        "assert len(y_train) + len(y_test) == len(standart_df), \"Выборки пересекаются или неправильно разделены.\"\n",
        "print(\"----------------------------------------------------------------------------------\")\n",
        "# Вывести первые несколько объектов данных (первые 5, например)\n",
        "print(\"Первые 5 объектов X_train:\")\n",
        "print(X_train[:5])\n",
        "\n",
        "print(\"Первые 5 объектов y_train:\")\n",
        "print(y_train[:5])\n",
        "\n",
        "print(\"Первые 5 объектов X_test:\")\n",
        "print(X_test[:5])\n",
        "\n",
        "print(\"Первые 5 объектов y_test:\")\n",
        "print(y_test[:5])"
      ],
      "metadata": {
        "colab": {
          "base_uri": "https://localhost:8080/"
        },
        "id": "xihVCT07jes3",
        "outputId": "4d5f9d78-3a5e-4a87-f366-2730edc81fb7"
      },
      "execution_count": 153,
      "outputs": [
        {
          "output_type": "stream",
          "name": "stdout",
          "text": [
            "Форма X_train: (250, 2)\n",
            "Форма X_test: (250, 2)\n",
            "----------------------------------------------------------------------------------\n",
            "Форма y_train: (250,)\n",
            "Форма y_test: (250,)\n",
            "----------------------------------------------------------------------------------\n",
            "Первые 5 объектов X_train:\n",
            "[[0.55223881 0.54545455]\n",
            " [0.07462687 0.04545455]\n",
            " [0.50746269 0.57575758]\n",
            " [0.91044776 0.98484848]\n",
            " [0.04477612 0.04545455]]\n",
            "Первые 5 объектов y_train:\n",
            "[2 1 2 0 1]\n",
            "Первые 5 объектов X_test:\n",
            "[[0.82089552 0.84848485]\n",
            " [0.73134328 0.72727273]\n",
            " [0.85074627 0.83333333]\n",
            " [0.94029851 0.93939394]\n",
            " [0.94029851 0.93939394]]\n",
            "Первые 5 объектов y_test:\n",
            "[4 3 4 0 0]\n"
          ]
        }
      ]
    },
    {
      "cell_type": "markdown",
      "source": [
        "# Персептрон"
      ],
      "metadata": {
        "id": "mCgj2Gcsa_PT"
      }
    },
    {
      "cell_type": "code",
      "source": [
        "class Perceptron:\n",
        "    def __init__(self, learning_rate=0.01, n_iters=1000):\n",
        "        self.lr = learning_rate\n",
        "        self.n_iters = n_iters\n",
        "        self.activation_func = self._unit_step_func\n",
        "        self.weights = None\n",
        "        self.bias = None\n",
        "\n",
        "    def fit(self, X, y):\n",
        "        n_samples, n_features = X.shape\n",
        "        self.weights = np.zeros(n_features) #    2    np.zeros(n_features)\n",
        "        self.bias = 0\n",
        "\n",
        "        for _ in range(self.n_iters):\n",
        "            for idx, x_i in enumerate(X):\n",
        "                linear_output = np.dot(x_i, self.weights) + self.bias # тут ошибка\n",
        "                y_predicted = self.activation_func(linear_output)\n",
        "                update = self.lr * (y[idx] - y_predicted)\n",
        "                self.weights += update * x_i\n",
        "                self.bias += update\n",
        "\n",
        "    def predict(self, X):\n",
        "        linear_output = np.dot(X, self.weights) + self.bias\n",
        "        y_predicted = self.activation_func(linear_output)\n",
        "        return y_predicted\n",
        "    #функция активации\n",
        "    def _unit_step_func(self, x):\n",
        "        return np.where(x >= 0, 1, 0)\n"
      ],
      "metadata": {
        "id": "PvMSlpeSlt2o"
      },
      "execution_count": 154,
      "outputs": []
    },
    {
      "cell_type": "code",
      "source": [
        "# Создайте экземпляр класса Perceptron\n",
        "perceptron = Perceptron(learning_rate=0.05, n_iters=5000)\n",
        "\n",
        "# Обучите персептрон на обучающих данных\n",
        "perceptron.fit(X_train, y_train)\n",
        "\n",
        "# Выполните предсказания на трансформированных данных X_test\n",
        "predictions = perceptron.predict(X_test)\n",
        "\n",
        "# Определите процент правильно классифицированных объектов\n",
        "correct_classifications = np.sum(predictions == y_test)\n",
        "total_objects = len(y_test)\n",
        "accuracy = correct_classifications / total_objects * 100\n",
        "\n",
        "print(f\"Процент правильно классифицированных объектов: {accuracy}%\")\n"
      ],
      "metadata": {
        "id": "CpBCVfl5a-rx",
        "colab": {
          "base_uri": "https://localhost:8080/"
        },
        "outputId": "d474a7b4-2340-42ba-a829-2a28d2e6c586"
      },
      "execution_count": 155,
      "outputs": [
        {
          "output_type": "stream",
          "name": "stdout",
          "text": [
            "Процент правильно классифицированных объектов: 16.400000000000002%\n"
          ]
        }
      ]
    },
    {
      "cell_type": "code",
      "source": [
        "#отделяем первый класс от других  в обучающей выборке\n",
        "y_train1 = [[] for _ in range(len(y_train))]#создаем массив для отделения из Y_train 1 класса\n",
        "for _ in range(len(y_train)):\n",
        "    if y_train[_] == 0:\n",
        "        y_train1[_] = 1\n",
        "    else:\n",
        "        y_train1[_] = 0\n",
        "Y_train1 = np.array(y_train1)\n",
        "Y_train1 = Y_train1.reshape((len(y_train), 1))\n",
        "\n",
        "#отделяем первый класс от других  в тестирующей выборке\n",
        "Y_test1 = [[] for _ in range(len(y_test))]#создаем массив для отделения из Y_train 1 класса\n",
        "for _ in range(len(y_test)):\n",
        "    if y_test[_] == 0:\n",
        "        Y_test1[_] = 1\n",
        "    else:\n",
        "        Y_test1[_] = 0\n",
        "y_test1 = np.array(Y_test1)\n",
        "y_test1 = y_test1.reshape((len(y_test), 1))\n",
        "\n",
        "\n",
        "dfff = pd.DataFrame(X_train)"
      ],
      "metadata": {
        "id": "ZZPDwkdWpdLq"
      },
      "execution_count": 156,
      "outputs": []
    },
    {
      "cell_type": "code",
      "source": [
        "print(dfff)"
      ],
      "metadata": {
        "colab": {
          "base_uri": "https://localhost:8080/"
        },
        "id": "oPUZcTd4-mYZ",
        "outputId": "449ef45c-ae18-4c09-e1e2-b47083dd1b73"
      },
      "execution_count": 157,
      "outputs": [
        {
          "output_type": "stream",
          "name": "stdout",
          "text": [
            "            0         1\n",
            "0    0.552239  0.545455\n",
            "1    0.074627  0.045455\n",
            "2    0.507463  0.575758\n",
            "3    0.910448  0.984848\n",
            "4    0.044776  0.045455\n",
            "..        ...       ...\n",
            "245  0.940299  0.954545\n",
            "246  0.059701  0.030303\n",
            "247  0.820896  0.833333\n",
            "248  0.522388  0.545455\n",
            "249  0.940299  0.954545\n",
            "\n",
            "[250 rows x 2 columns]\n"
          ]
        }
      ]
    },
    {
      "cell_type": "code",
      "source": [
        "import plotly.graph_objects as go\n",
        "\n",
        "fig = go.Figure(data=[\n",
        "    go.Scatter(\n",
        "        x=dfff[0], y=dfff[1], mode='markers', marker=dict(size=6, color=y_train1)\n",
        "    )\n",
        "])\n",
        "\n",
        "fig.update_layout(xaxis_title='Feature 0', yaxis_title='Feature 1')\n",
        "fig.show()\n"
      ],
      "metadata": {
        "id": "ZQWkEV8gpdDd",
        "colab": {
          "base_uri": "https://localhost:8080/",
          "height": 542
        },
        "outputId": "1451f47c-f35a-4a43-8968-e6d5b5f09a5b"
      },
      "execution_count": 158,
      "outputs": [
        {
          "output_type": "display_data",
          "data": {
            "text/html": [
              "<html>\n",
              "<head><meta charset=\"utf-8\" /></head>\n",
              "<body>\n",
              "    <div>            <script src=\"https://cdnjs.cloudflare.com/ajax/libs/mathjax/2.7.5/MathJax.js?config=TeX-AMS-MML_SVG\"></script><script type=\"text/javascript\">if (window.MathJax && window.MathJax.Hub && window.MathJax.Hub.Config) {window.MathJax.Hub.Config({SVG: {font: \"STIX-Web\"}});}</script>                <script type=\"text/javascript\">window.PlotlyConfig = {MathJaxConfig: 'local'};</script>\n",
              "        <script charset=\"utf-8\" src=\"https://cdn.plot.ly/plotly-2.24.1.min.js\"></script>                <div id=\"025ac225-6c38-4105-aad4-babf26412a42\" class=\"plotly-graph-div\" style=\"height:525px; width:100%;\"></div>            <script type=\"text/javascript\">                                    window.PLOTLYENV=window.PLOTLYENV || {};                                    if (document.getElementById(\"025ac225-6c38-4105-aad4-babf26412a42\")) {                    Plotly.newPlot(                        \"025ac225-6c38-4105-aad4-babf26412a42\",                        [{\"marker\":{\"color\":[0,0,0,1,0,0,1,0,1,0,0,1,0,0,1,0,0,0,0,1,1,0,0,0,0,0,0,0,0,1,0,0,0,0,1,0,0,0,0,0,0,0,0,0,1,1,0,0,0,0,0,0,0,1,1,1,0,0,1,1,0,0,0,0,1,0,0,1,0,0,1,0,0,0,0,0,0,0,1,0,1,0,0,0,1,1,0,0,0,0,0,0,0,0,1,0,0,0,0,0,0,0,0,0,0,1,0,0,0,1,0,0,0,0,0,0,0,0,0,0,0,0,0,0,0,1,0,1,0,1,1,0,0,0,0,0,0,0,1,0,0,0,0,0,0,0,0,0,0,0,0,0,0,0,0,0,0,0,0,0,1,0,0,0,1,0,0,1,0,0,0,0,0,0,0,0,0,0,0,0,0,0,0,0,0,0,0,0,0,0,0,0,0,1,0,0,1,0,0,0,0,0,0,0,0,1,0,1,0,1,1,0,0,0,0,0,0,0,0,1,0,0,1,0,0,0,0,0,0,1,1,1,0,0,0,0,0,0,0,0,1,0,0,1,0,1,0,0,0,1],\"size\":6},\"mode\":\"markers\",\"x\":[0.5522388059701493,0.07462686567164178,0.5074626865671641,0.9104477611940298,0.04477611940298509,0.5223880597014925,0.9402985074626866,0.8059701492537314,0.9104477611940298,0.5074626865671641,0.07462686567164178,0.9253731343283582,0.8208955223880599,0.7014925373134329,0.9850746268656716,0.05970149253731344,0.46268656716417905,0.7164179104477613,0.5373134328358209,0.9402985074626866,0.9402985074626866,0.07462686567164178,0.07462686567164178,0.8059701492537314,0.0,0.8208955223880599,0.835820895522388,0.8208955223880599,0.07462686567164178,0.9253731343283582,0.835820895522388,0.04477611940298509,0.5671641791044777,0.05970149253731344,0.9701492537313434,0.5671641791044777,0.05970149253731344,0.47761194029850745,0.8208955223880599,0.07462686567164178,0.8208955223880599,0.04477611940298509,0.8507462686567164,0.8059701492537314,0.8955223880597016,0.9701492537313434,0.835820895522388,0.5074626865671641,0.5074626865671641,0.5373134328358209,0.49253731343283585,0.05970149253731344,0.8507462686567164,0.9104477611940298,0.9104477611940298,0.9253731343283582,0.04477611940298509,0.04477611940298509,0.955223880597015,0.9402985074626866,0.8208955223880599,0.07462686567164178,0.5074626865671641,0.8507462686567164,0.9253731343283582,0.05970149253731344,0.5373134328358209,0.955223880597015,0.835820895522388,0.8656716417910448,0.9402985074626866,0.5074626865671641,0.7164179104477613,0.5223880597014925,0.7014925373134329,0.05970149253731344,0.6865671641791045,0.07462686567164178,0.9253731343283582,0.8208955223880599,0.955223880597015,0.7014925373134329,0.7014925373134329,0.7313432835820894,0.8955223880597016,0.9253731343283582,0.8507462686567164,0.8059701492537314,0.02985074626865672,0.7014925373134329,0.7164179104477613,0.07462686567164178,0.5522388059701493,0.835820895522388,0.9402985074626866,0.7313432835820894,0.5223880597014925,0.49253731343283585,0.04477611940298509,0.07462686567164178,0.07462686567164178,0.5074626865671641,0.7462686567164178,0.08955223880597013,0.5373134328358209,0.9253731343283582,0.02985074626865672,0.5373134328358209,0.05970149253731344,0.9402985074626866,0.7164179104477613,0.05970149253731344,0.07462686567164178,0.7164179104477613,0.7164179104477613,0.7313432835820894,0.08955223880597013,0.8507462686567164,0.07462686567164178,0.5223880597014925,0.7313432835820894,0.5522388059701493,0.05970149253731344,0.04477611940298509,0.02985074626865672,0.9253731343283582,0.5223880597014925,0.9402985074626866,0.7462686567164178,0.9402985074626866,0.9402985074626866,0.5522388059701493,0.7761194029850746,0.8059701492537314,0.5074626865671641,0.7313432835820894,0.835820895522388,0.7611940298507462,0.9402985074626866,0.7462686567164178,0.8208955223880599,0.5373134328358209,0.5223880597014925,0.07462686567164178,0.0,0.5074626865671641,0.5074626865671641,0.835820895522388,0.08955223880597013,0.014925373134328374,0.02985074626865672,0.05970149253731344,0.5671641791044777,0.04477611940298509,0.5074626865671641,0.5074626865671641,0.8208955223880599,0.8208955223880599,0.07462686567164178,0.05970149253731344,1.0,0.7313432835820894,0.04477611940298509,0.5373134328358209,0.955223880597015,0.8507462686567164,0.014925373134328374,0.9850746268656716,0.7313432835820894,0.835820895522388,0.7611940298507462,0.46268656716417905,0.5074626865671641,0.7313432835820894,0.5373134328358209,0.7164179104477613,0.02985074626865672,0.7014925373134329,0.08955223880597013,0.5373134328358209,0.8059701492537314,0.7164179104477613,0.8059701492537314,0.46268656716417905,0.7761194029850746,0.8208955223880599,0.014925373134328374,0.05970149253731344,0.7761194029850746,0.8208955223880599,0.7164179104477613,0.8507462686567164,0.05970149253731344,0.9402985074626866,0.8656716417910448,0.5074626865671641,0.9402985074626866,0.8208955223880599,0.49253731343283585,0.835820895522388,0.02985074626865672,0.6865671641791045,0.835820895522388,0.7164179104477613,0.49253731343283585,0.955223880597015,0.5074626865671641,0.9253731343283582,0.5373134328358209,0.9104477611940298,0.955223880597015,0.7014925373134329,0.7462686567164178,0.8208955223880599,0.04477611940298509,0.04477611940298509,0.7164179104477613,0.835820895522388,0.5373134328358209,0.9701492537313434,0.05970149253731344,0.5373134328358209,0.9701492537313434,0.835820895522388,0.04477611940298509,0.5373134328358209,0.8059701492537314,0.05970149253731344,0.835820895522388,0.9253731343283582,0.9402985074626866,0.9253731343283582,0.8507462686567164,0.7014925373134329,0.8208955223880599,0.7164179104477613,0.5671641791044777,0.8208955223880599,0.04477611940298509,0.5373134328358209,0.9402985074626866,0.5223880597014925,0.6865671641791045,0.9104477611940298,0.7462686567164178,0.9402985074626866,0.05970149253731344,0.8208955223880599,0.5223880597014925,0.9402985074626866],\"y\":[0.5454545454545454,0.04545454545454544,0.5757575757575757,0.9848484848484849,0.04545454545454544,0.5303030303030303,0.9242424242424243,0.8636363636363635,0.9545454545454546,0.5454545454545454,0.07575757575757577,0.9393939393939394,0.8333333333333333,0.7121212121212122,0.9393939393939394,0.04545454545454544,0.5454545454545454,0.7424242424242424,0.5,0.9848484848484849,0.9242424242424243,0.06060606060606058,0.04545454545454544,0.8333333333333333,0.04545454545454544,0.8484848484848484,0.8333333333333333,0.8333333333333333,0.07575757575757577,0.9090909090909092,0.8636363636363635,0.04545454545454544,0.5151515151515151,0.030303030303030304,0.9545454545454546,0.5,0.07575757575757577,0.5151515151515151,0.8333333333333333,0.04545454545454544,0.8333333333333333,0.07575757575757577,0.8333333333333333,0.8484848484848484,0.9393939393939394,0.9393939393939394,0.8333333333333333,0.5757575757575757,0.5303030303030303,0.5454545454545454,0.5,0.04545454545454544,0.8636363636363635,0.9545454545454546,0.9090909090909092,0.9545454545454546,0.06060606060606058,0.07575757575757577,0.9393939393939394,0.9242424242424243,0.8333333333333333,0.09090909090909091,0.5757575757575757,0.8484848484848484,0.9242424242424243,0.07575757575757577,0.5303030303030303,1.0,0.8484848484848484,0.8484848484848484,0.9242424242424243,0.48484848484848486,0.7727272727272727,0.5757575757575757,0.7424242424242424,0.07575757575757577,0.7424242424242424,0.09090909090909091,0.9393939393939394,0.8484848484848484,0.9393939393939394,0.7121212121212122,0.7727272727272727,0.7272727272727273,0.9545454545454546,0.9393939393939394,0.8333333333333333,0.8484848484848484,0.06060606060606058,0.7424242424242424,0.7121212121212122,0.04545454545454544,0.5303030303030303,0.8636363636363635,0.9393939393939394,0.7272727272727273,0.5454545454545454,0.5151515151515151,0.0,0.030303030303030304,0.06060606060606058,0.5303030303030303,0.7575757575757576,0.030303030303030304,0.5,0.9242424242424243,0.04545454545454544,0.5757575757575757,0.030303030303030304,0.9393939393939394,0.7272727272727273,0.06060606060606058,0.06060606060606058,0.803030303030303,0.7727272727272727,0.7878787878787878,0.030303030303030304,0.8484848484848484,0.07575757575757577,0.5,0.7575757575757576,0.5454545454545454,0.07575757575757577,0.06060606060606058,0.04545454545454544,0.9090909090909092,0.5151515151515151,0.9242424242424243,0.7272727272727273,0.9545454545454546,0.9393939393939394,0.5454545454545454,0.7272727272727273,0.8484848484848484,0.5757575757575757,0.7272727272727273,0.8333333333333333,0.7272727272727273,0.9545454545454546,0.7424242424242424,0.8333333333333333,0.5303030303030303,0.5303030303030303,0.06060606060606058,0.030303030303030304,0.5151515151515151,0.5454545454545454,0.8484848484848484,0.07575757575757577,0.07575757575757577,0.07575757575757577,0.09090909090909091,0.5606060606060606,0.07575757575757577,0.5,0.5454545454545454,0.8181818181818181,0.8484848484848484,0.015151515151515166,0.04545454545454544,0.9242424242424243,0.7272727272727273,0.06060606060606058,0.5454545454545454,0.9545454545454546,0.8636363636363635,0.06060606060606058,0.9090909090909092,0.7272727272727273,0.8636363636363635,0.803030303030303,0.5606060606060606,0.5,0.7424242424242424,0.5151515151515151,0.7727272727272727,0.04545454545454544,0.7575757575757576,0.09090909090909091,0.5,0.8636363636363635,0.7424242424242424,0.8333333333333333,0.5303030303030303,0.7424242424242424,0.8333333333333333,0.06060606060606058,0.09090909090909091,0.696969696969697,0.8333333333333333,0.7878787878787878,0.8181818181818181,0.04545454545454544,0.9545454545454546,0.8333333333333333,0.5303030303030303,0.9393939393939394,0.8333333333333333,0.5,0.8484848484848484,0.06060606060606058,0.7575757575757576,0.8333333333333333,0.7878787878787878,0.5303030303030303,0.9393939393939394,0.5303030303030303,0.9242424242424243,0.5909090909090909,0.9242424242424243,0.9545454545454546,0.7272727272727273,0.7424242424242424,0.8484848484848484,0.06060606060606058,0.04545454545454544,0.7272727272727273,0.8333333333333333,0.5757575757575757,0.9393939393939394,0.04545454545454544,0.5303030303030303,0.9696969696969697,0.8787878787878787,0.09090909090909091,0.5303030303030303,0.8484848484848484,0.07575757575757577,0.8636363636363635,0.9393939393939394,0.9696969696969697,0.9545454545454546,0.8333333333333333,0.7424242424242424,0.8484848484848484,0.7424242424242424,0.5303030303030303,0.8636363636363635,0.04545454545454544,0.5454545454545454,1.0,0.5606060606060606,0.7424242424242424,0.9090909090909092,0.7575757575757576,0.9545454545454546,0.030303030303030304,0.8333333333333333,0.5454545454545454,0.9545454545454546],\"type\":\"scatter\"}],                        {\"template\":{\"data\":{\"histogram2dcontour\":[{\"type\":\"histogram2dcontour\",\"colorbar\":{\"outlinewidth\":0,\"ticks\":\"\"},\"colorscale\":[[0.0,\"#0d0887\"],[0.1111111111111111,\"#46039f\"],[0.2222222222222222,\"#7201a8\"],[0.3333333333333333,\"#9c179e\"],[0.4444444444444444,\"#bd3786\"],[0.5555555555555556,\"#d8576b\"],[0.6666666666666666,\"#ed7953\"],[0.7777777777777778,\"#fb9f3a\"],[0.8888888888888888,\"#fdca26\"],[1.0,\"#f0f921\"]]}],\"choropleth\":[{\"type\":\"choropleth\",\"colorbar\":{\"outlinewidth\":0,\"ticks\":\"\"}}],\"histogram2d\":[{\"type\":\"histogram2d\",\"colorbar\":{\"outlinewidth\":0,\"ticks\":\"\"},\"colorscale\":[[0.0,\"#0d0887\"],[0.1111111111111111,\"#46039f\"],[0.2222222222222222,\"#7201a8\"],[0.3333333333333333,\"#9c179e\"],[0.4444444444444444,\"#bd3786\"],[0.5555555555555556,\"#d8576b\"],[0.6666666666666666,\"#ed7953\"],[0.7777777777777778,\"#fb9f3a\"],[0.8888888888888888,\"#fdca26\"],[1.0,\"#f0f921\"]]}],\"heatmap\":[{\"type\":\"heatmap\",\"colorbar\":{\"outlinewidth\":0,\"ticks\":\"\"},\"colorscale\":[[0.0,\"#0d0887\"],[0.1111111111111111,\"#46039f\"],[0.2222222222222222,\"#7201a8\"],[0.3333333333333333,\"#9c179e\"],[0.4444444444444444,\"#bd3786\"],[0.5555555555555556,\"#d8576b\"],[0.6666666666666666,\"#ed7953\"],[0.7777777777777778,\"#fb9f3a\"],[0.8888888888888888,\"#fdca26\"],[1.0,\"#f0f921\"]]}],\"heatmapgl\":[{\"type\":\"heatmapgl\",\"colorbar\":{\"outlinewidth\":0,\"ticks\":\"\"},\"colorscale\":[[0.0,\"#0d0887\"],[0.1111111111111111,\"#46039f\"],[0.2222222222222222,\"#7201a8\"],[0.3333333333333333,\"#9c179e\"],[0.4444444444444444,\"#bd3786\"],[0.5555555555555556,\"#d8576b\"],[0.6666666666666666,\"#ed7953\"],[0.7777777777777778,\"#fb9f3a\"],[0.8888888888888888,\"#fdca26\"],[1.0,\"#f0f921\"]]}],\"contourcarpet\":[{\"type\":\"contourcarpet\",\"colorbar\":{\"outlinewidth\":0,\"ticks\":\"\"}}],\"contour\":[{\"type\":\"contour\",\"colorbar\":{\"outlinewidth\":0,\"ticks\":\"\"},\"colorscale\":[[0.0,\"#0d0887\"],[0.1111111111111111,\"#46039f\"],[0.2222222222222222,\"#7201a8\"],[0.3333333333333333,\"#9c179e\"],[0.4444444444444444,\"#bd3786\"],[0.5555555555555556,\"#d8576b\"],[0.6666666666666666,\"#ed7953\"],[0.7777777777777778,\"#fb9f3a\"],[0.8888888888888888,\"#fdca26\"],[1.0,\"#f0f921\"]]}],\"surface\":[{\"type\":\"surface\",\"colorbar\":{\"outlinewidth\":0,\"ticks\":\"\"},\"colorscale\":[[0.0,\"#0d0887\"],[0.1111111111111111,\"#46039f\"],[0.2222222222222222,\"#7201a8\"],[0.3333333333333333,\"#9c179e\"],[0.4444444444444444,\"#bd3786\"],[0.5555555555555556,\"#d8576b\"],[0.6666666666666666,\"#ed7953\"],[0.7777777777777778,\"#fb9f3a\"],[0.8888888888888888,\"#fdca26\"],[1.0,\"#f0f921\"]]}],\"mesh3d\":[{\"type\":\"mesh3d\",\"colorbar\":{\"outlinewidth\":0,\"ticks\":\"\"}}],\"scatter\":[{\"fillpattern\":{\"fillmode\":\"overlay\",\"size\":10,\"solidity\":0.2},\"type\":\"scatter\"}],\"parcoords\":[{\"type\":\"parcoords\",\"line\":{\"colorbar\":{\"outlinewidth\":0,\"ticks\":\"\"}}}],\"scatterpolargl\":[{\"type\":\"scatterpolargl\",\"marker\":{\"colorbar\":{\"outlinewidth\":0,\"ticks\":\"\"}}}],\"bar\":[{\"error_x\":{\"color\":\"#2a3f5f\"},\"error_y\":{\"color\":\"#2a3f5f\"},\"marker\":{\"line\":{\"color\":\"#E5ECF6\",\"width\":0.5},\"pattern\":{\"fillmode\":\"overlay\",\"size\":10,\"solidity\":0.2}},\"type\":\"bar\"}],\"scattergeo\":[{\"type\":\"scattergeo\",\"marker\":{\"colorbar\":{\"outlinewidth\":0,\"ticks\":\"\"}}}],\"scatterpolar\":[{\"type\":\"scatterpolar\",\"marker\":{\"colorbar\":{\"outlinewidth\":0,\"ticks\":\"\"}}}],\"histogram\":[{\"marker\":{\"pattern\":{\"fillmode\":\"overlay\",\"size\":10,\"solidity\":0.2}},\"type\":\"histogram\"}],\"scattergl\":[{\"type\":\"scattergl\",\"marker\":{\"colorbar\":{\"outlinewidth\":0,\"ticks\":\"\"}}}],\"scatter3d\":[{\"type\":\"scatter3d\",\"line\":{\"colorbar\":{\"outlinewidth\":0,\"ticks\":\"\"}},\"marker\":{\"colorbar\":{\"outlinewidth\":0,\"ticks\":\"\"}}}],\"scattermapbox\":[{\"type\":\"scattermapbox\",\"marker\":{\"colorbar\":{\"outlinewidth\":0,\"ticks\":\"\"}}}],\"scatterternary\":[{\"type\":\"scatterternary\",\"marker\":{\"colorbar\":{\"outlinewidth\":0,\"ticks\":\"\"}}}],\"scattercarpet\":[{\"type\":\"scattercarpet\",\"marker\":{\"colorbar\":{\"outlinewidth\":0,\"ticks\":\"\"}}}],\"carpet\":[{\"aaxis\":{\"endlinecolor\":\"#2a3f5f\",\"gridcolor\":\"white\",\"linecolor\":\"white\",\"minorgridcolor\":\"white\",\"startlinecolor\":\"#2a3f5f\"},\"baxis\":{\"endlinecolor\":\"#2a3f5f\",\"gridcolor\":\"white\",\"linecolor\":\"white\",\"minorgridcolor\":\"white\",\"startlinecolor\":\"#2a3f5f\"},\"type\":\"carpet\"}],\"table\":[{\"cells\":{\"fill\":{\"color\":\"#EBF0F8\"},\"line\":{\"color\":\"white\"}},\"header\":{\"fill\":{\"color\":\"#C8D4E3\"},\"line\":{\"color\":\"white\"}},\"type\":\"table\"}],\"barpolar\":[{\"marker\":{\"line\":{\"color\":\"#E5ECF6\",\"width\":0.5},\"pattern\":{\"fillmode\":\"overlay\",\"size\":10,\"solidity\":0.2}},\"type\":\"barpolar\"}],\"pie\":[{\"automargin\":true,\"type\":\"pie\"}]},\"layout\":{\"autotypenumbers\":\"strict\",\"colorway\":[\"#636efa\",\"#EF553B\",\"#00cc96\",\"#ab63fa\",\"#FFA15A\",\"#19d3f3\",\"#FF6692\",\"#B6E880\",\"#FF97FF\",\"#FECB52\"],\"font\":{\"color\":\"#2a3f5f\"},\"hovermode\":\"closest\",\"hoverlabel\":{\"align\":\"left\"},\"paper_bgcolor\":\"white\",\"plot_bgcolor\":\"#E5ECF6\",\"polar\":{\"bgcolor\":\"#E5ECF6\",\"angularaxis\":{\"gridcolor\":\"white\",\"linecolor\":\"white\",\"ticks\":\"\"},\"radialaxis\":{\"gridcolor\":\"white\",\"linecolor\":\"white\",\"ticks\":\"\"}},\"ternary\":{\"bgcolor\":\"#E5ECF6\",\"aaxis\":{\"gridcolor\":\"white\",\"linecolor\":\"white\",\"ticks\":\"\"},\"baxis\":{\"gridcolor\":\"white\",\"linecolor\":\"white\",\"ticks\":\"\"},\"caxis\":{\"gridcolor\":\"white\",\"linecolor\":\"white\",\"ticks\":\"\"}},\"coloraxis\":{\"colorbar\":{\"outlinewidth\":0,\"ticks\":\"\"}},\"colorscale\":{\"sequential\":[[0.0,\"#0d0887\"],[0.1111111111111111,\"#46039f\"],[0.2222222222222222,\"#7201a8\"],[0.3333333333333333,\"#9c179e\"],[0.4444444444444444,\"#bd3786\"],[0.5555555555555556,\"#d8576b\"],[0.6666666666666666,\"#ed7953\"],[0.7777777777777778,\"#fb9f3a\"],[0.8888888888888888,\"#fdca26\"],[1.0,\"#f0f921\"]],\"sequentialminus\":[[0.0,\"#0d0887\"],[0.1111111111111111,\"#46039f\"],[0.2222222222222222,\"#7201a8\"],[0.3333333333333333,\"#9c179e\"],[0.4444444444444444,\"#bd3786\"],[0.5555555555555556,\"#d8576b\"],[0.6666666666666666,\"#ed7953\"],[0.7777777777777778,\"#fb9f3a\"],[0.8888888888888888,\"#fdca26\"],[1.0,\"#f0f921\"]],\"diverging\":[[0,\"#8e0152\"],[0.1,\"#c51b7d\"],[0.2,\"#de77ae\"],[0.3,\"#f1b6da\"],[0.4,\"#fde0ef\"],[0.5,\"#f7f7f7\"],[0.6,\"#e6f5d0\"],[0.7,\"#b8e186\"],[0.8,\"#7fbc41\"],[0.9,\"#4d9221\"],[1,\"#276419\"]]},\"xaxis\":{\"gridcolor\":\"white\",\"linecolor\":\"white\",\"ticks\":\"\",\"title\":{\"standoff\":15},\"zerolinecolor\":\"white\",\"automargin\":true,\"zerolinewidth\":2},\"yaxis\":{\"gridcolor\":\"white\",\"linecolor\":\"white\",\"ticks\":\"\",\"title\":{\"standoff\":15},\"zerolinecolor\":\"white\",\"automargin\":true,\"zerolinewidth\":2},\"scene\":{\"xaxis\":{\"backgroundcolor\":\"#E5ECF6\",\"gridcolor\":\"white\",\"linecolor\":\"white\",\"showbackground\":true,\"ticks\":\"\",\"zerolinecolor\":\"white\",\"gridwidth\":2},\"yaxis\":{\"backgroundcolor\":\"#E5ECF6\",\"gridcolor\":\"white\",\"linecolor\":\"white\",\"showbackground\":true,\"ticks\":\"\",\"zerolinecolor\":\"white\",\"gridwidth\":2},\"zaxis\":{\"backgroundcolor\":\"#E5ECF6\",\"gridcolor\":\"white\",\"linecolor\":\"white\",\"showbackground\":true,\"ticks\":\"\",\"zerolinecolor\":\"white\",\"gridwidth\":2}},\"shapedefaults\":{\"line\":{\"color\":\"#2a3f5f\"}},\"annotationdefaults\":{\"arrowcolor\":\"#2a3f5f\",\"arrowhead\":0,\"arrowwidth\":1},\"geo\":{\"bgcolor\":\"white\",\"landcolor\":\"#E5ECF6\",\"subunitcolor\":\"white\",\"showland\":true,\"showlakes\":true,\"lakecolor\":\"white\"},\"title\":{\"x\":0.05},\"mapbox\":{\"style\":\"light\"}}},\"xaxis\":{\"title\":{\"text\":\"Feature 0\"}},\"yaxis\":{\"title\":{\"text\":\"Feature 1\"}}},                        {\"responsive\": true}                    ).then(function(){\n",
              "                            \n",
              "var gd = document.getElementById('025ac225-6c38-4105-aad4-babf26412a42');\n",
              "var x = new MutationObserver(function (mutations, observer) {{\n",
              "        var display = window.getComputedStyle(gd).display;\n",
              "        if (!display || display === 'none') {{\n",
              "            console.log([gd, 'removed!']);\n",
              "            Plotly.purge(gd);\n",
              "            observer.disconnect();\n",
              "        }}\n",
              "}});\n",
              "\n",
              "// Listen for the removal of the full notebook cells\n",
              "var notebookContainer = gd.closest('#notebook-container');\n",
              "if (notebookContainer) {{\n",
              "    x.observe(notebookContainer, {childList: true});\n",
              "}}\n",
              "\n",
              "// Listen for the clearing of the current output cell\n",
              "var outputEl = gd.closest('.output');\n",
              "if (outputEl) {{\n",
              "    x.observe(outputEl, {childList: true});\n",
              "}}\n",
              "\n",
              "                        })                };                            </script>        </div>\n",
              "</body>\n",
              "</html>"
            ]
          },
          "metadata": {}
        }
      ]
    },
    {
      "cell_type": "code",
      "source": [
        "per = Perceptron(n_iters=1000)\n",
        "\n",
        "per.fit(X_train, y_train1)\n",
        "perTrain1 = per.predict(X_train)\n",
        "\n",
        "x0_1 = np.amin(X_train[:, 0])\n",
        "x0_2 = np.amax(X_train[:, 0])\n",
        "\n",
        "x1_1 = np.amin(X_train[:, 1])\n",
        "x1_2 = np.amax(X_train[:, 1])\n",
        "\n",
        "x = [x0_1, x0_2]\n",
        "y = [x1_1, x1_2]\n",
        "\n",
        "# Пересчет коэффициентов разделяющей прямой для двух признаков\n",
        "slope = -per.weights[0] / per.weights[1]\n",
        "intercept = -per.bias / per.weights[1]\n",
        "\n",
        "# Вычисление точек для разделяющей прямой\n",
        "x_line = np.array([x0_1, x0_2])\n",
        "y_line = slope * x_line + intercept\n",
        "\n",
        "# Построение двумерного рассеянного графика\n",
        "plt.scatter(X_train[:, 0], X_train[:, 1], c=perTrain1, cmap='viridis')\n",
        "plt.xlabel('Feature 0')\n",
        "plt.ylabel('Feature 1')\n",
        "\n",
        "# Построение разделяющей прямой\n",
        "plt.plot(x_line, y_line, color='red')\n",
        "plt.show()\n",
        "\n",
        "# Матрица различий\n",
        "distinctions = confusion_matrix(y_train1, perTrain1)\n",
        "print(distinctions)\n"
      ],
      "metadata": {
        "id": "4aT48qnLpc1w",
        "colab": {
          "base_uri": "https://localhost:8080/",
          "height": 485
        },
        "outputId": "63eda5e2-ae3a-4748-8df2-285b87ac7f70"
      },
      "execution_count": 159,
      "outputs": [
        {
          "output_type": "display_data",
          "data": {
            "text/plain": [
              "<Figure size 640x480 with 1 Axes>"
            ],
            "image/png": "[encoded data removed]"
          },
          "metadata": {}
        },
        {
          "output_type": "stream",
          "name": "stdout",
          "text": [
            "[[201   0]\n",
            " [  0  49]]\n"
          ]
        }
      ]
    },
    {
      "cell_type": "code",
      "source": [
        "perTest = per.predict(X_test)\n",
        "\n",
        "x0_1 = np.amin(X_train[:, 0])\n",
        "x0_2 = np.amax(X_train[:, 0])\n",
        "\n",
        "x1_1 = np.amin(X_train[:, 1])\n",
        "x1_2 = np.amax(X_train[:, 1])\n",
        "\n",
        "x = [x0_1, x0_2]\n",
        "y = [x1_1, x1_2]\n",
        "\n",
        "# Пересчет коэффициентов разделяющей прямой для двух признаков\n",
        "slope = -per.weights[0] / per.weights[1]\n",
        "intercept = -per.bias / per.weights[1]\n",
        "\n",
        "# Вычисление точек для разделяющей прямой\n",
        "x_line = np.array([x0_1, x0_2])\n",
        "y_line = slope * x_line + intercept\n",
        "\n",
        "# Построение двумерного рассеянного графика\n",
        "plt.scatter(X_train[:, 0], X_train[:, 1], c=perTrain1, cmap='viridis')\n",
        "plt.xlabel('Feature 0')\n",
        "plt.ylabel('Feature 1')\n",
        "\n",
        "# Построение разделяющей прямой\n",
        "plt.plot(x_line, y_line, color='red')\n",
        "plt.show()\n",
        "\n",
        "# Матрица различий\n",
        "distinctions = confusion_matrix(y_test1, perTest)\n",
        "print(distinctions)"
      ],
      "metadata": {
        "colab": {
          "base_uri": "https://localhost:8080/",
          "height": 485
        },
        "id": "jS2m1OjU6qQO",
        "outputId": "ab68d429-bc2b-454f-c02d-ffd8a86cd419"
      },
      "execution_count": 160,
      "outputs": [
        {
          "output_type": "display_data",
          "data": {
            "text/plain": [
              "<Figure size 640x480 with 1 Axes>"
            ],
            "image/png": "[encoded data removed]"
          },
          "metadata": {}
        },
        {
          "output_type": "stream",
          "name": "stdout",
          "text": [
            "[[199   0]\n",
            " [  0  51]]\n"
          ]
        }
      ]
    },
    {
      "cell_type": "markdown",
      "source": [
        "#убираем 1й класс из обучающей выборки"
      ],
      "metadata": {
        "id": "RAtSdu1jGgt_"
      }
    },
    {
      "cell_type": "code",
      "source": [
        "#убираем 1 класс из обучающей выборки\n",
        "y_train2 = np.delete(y_train, np.where(y_train == [0]), axis=0)\n",
        "X_train2 = np.delete(X_train, np.where(y_train == [0]), axis=0)\n",
        "print(len(y_train2))\n",
        "print(len(X_train2))\n",
        "print(y_train2)\n",
        "for _ in range(len(y_train2)):\n",
        "    if y_train2[_] == 1:\n",
        "        y_train2[_] = 1\n",
        "    else:\n",
        "        y_train2[_] = 0\n",
        "print(y_train2)\n",
        "\n",
        "#убираем 1 класс из тестовой выборки\n",
        "y_test2 = np.delete(y_test, np.where(y_test == [0]), axis=0)\n",
        "X_test2 = np.delete(X_test, np.where(y_test == [0]), axis=0)\n",
        "print(len(y_train2))\n",
        "print(len(X_train2))\n",
        "\n",
        "for _ in range(len(y_test2)):\n",
        "    if y_test2[_] == 1:\n",
        "        y_test2[_] = 1\n",
        "    else:\n",
        "        y_test2[_] = 0"
      ],
      "metadata": {
        "colab": {
          "base_uri": "https://localhost:8080/"
        },
        "id": "kbDjBG-R8VLT",
        "outputId": "877410a7-555e-48f6-83ce-59b5a664131f"
      },
      "execution_count": 161,
      "outputs": [
        {
          "output_type": "stream",
          "name": "stdout",
          "text": [
            "201\n",
            "201\n",
            "[2 1 2 1 2 4 2 1 4 3 1 2 3 2 1 1 4 1 4 4 4 1 4 1 2 1 2 1 2 4 1 4 1 4 4 4 2\n",
            " 2 2 2 1 4 1 1 4 1 2 4 1 2 4 4 2 3 2 3 1 3 1 4 3 3 3 4 4 1 3 3 1 2 4 3 2 2\n",
            " 1 1 1 2 3 1 2 1 2 1 3 1 1 3 3 3 1 4 1 2 3 2 1 1 1 2 3 2 3 4 2 3 4 3 3 4 2\n",
            " 2 1 1 2 2 4 1 1 1 1 2 1 2 2 4 4 1 1 3 1 2 4 1 3 4 3 2 2 3 2 3 1 3 1 2 4 3\n",
            " 4 2 3 4 1 1 3 4 3 4 1 4 2 4 2 4 1 3 4 3 2 2 2 3 3 4 1 1 3 4 2 1 2 4 1 2 4\n",
            " 1 4 4 3 4 3 2 4 1 2 2 3 3 1 4 2]\n",
            "[0 1 0 1 0 0 0 1 0 0 1 0 0 0 1 1 0 1 0 0 0 1 0 1 0 1 0 1 0 0 1 0 1 0 0 0 0\n",
            " 0 0 0 1 0 1 1 0 1 0 0 1 0 0 0 0 0 0 0 1 0 1 0 0 0 0 0 0 1 0 0 1 0 0 0 0 0\n",
            " 1 1 1 0 0 1 0 1 0 1 0 1 1 0 0 0 1 0 1 0 0 0 1 1 1 0 0 0 0 0 0 0 0 0 0 0 0\n",
            " 0 1 1 0 0 0 1 1 1 1 0 1 0 0 0 0 1 1 0 1 0 0 1 0 0 0 0 0 0 0 0 1 0 1 0 0 0\n",
            " 0 0 0 0 1 1 0 0 0 0 1 0 0 0 0 0 1 0 0 0 0 0 0 0 0 0 1 1 0 0 0 1 0 0 1 0 0\n",
            " 1 0 0 0 0 0 0 0 1 0 0 0 0 1 0 0]\n",
            "201\n",
            "201\n"
          ]
        }
      ]
    },
    {
      "cell_type": "code",
      "source": [
        "per2 = Perceptron(n_iters=1000)\n",
        "\n",
        "per2.fit(X_train2, y_train2)\n",
        "perTrain2 = per2.predict(X_train2)\n",
        "\n",
        "x0_1 = np.amin(X_train2[:, 0])\n",
        "x0_2 = np.amax(X_train2[:, 0])\n",
        "\n",
        "x1_1 = np.amin(X_train2[:, 1])\n",
        "x1_2 = np.amax(X_train2[:, 1])\n",
        "\n",
        "x = [x0_1, x0_2]\n",
        "y = [x1_1, x1_2]\n",
        "\n",
        "# Пересчет коэффициентов разделяющей прямой для двух признаков\n",
        "slope = -per2.weights[0] / per2.weights[1]\n",
        "intercept = -per2.bias / per2.weights[1]\n",
        "\n",
        "# Вычисление точек для разделяющей прямой\n",
        "x_line = np.array([x0_1, x0_2])\n",
        "y_line = slope * x_line + intercept\n",
        "\n",
        "# Построение двумерного рассеянного графика\n",
        "plt.scatter(X_train2[:, 0], X_train2[:, 1], c=perTrain2, cmap='viridis')\n",
        "plt.xlabel('Feature 0')\n",
        "plt.ylabel('Feature 1')\n",
        "\n",
        "# Построение разделяющей прямой\n",
        "plt.plot(x_line, y_line, color='red')\n",
        "plt.show()\n",
        "\n",
        "# Матрица различий\n",
        "distinctions = confusion_matrix(y_train2, perTrain2)\n",
        "print(distinctions)\n"
      ],
      "metadata": {
        "colab": {
          "base_uri": "https://localhost:8080/",
          "height": 485
        },
        "id": "KPqFkkHy8aQD",
        "outputId": "7b218465-d4c7-4261-f4e8-ab1debd2c7f0"
      },
      "execution_count": 162,
      "outputs": [
        {
          "output_type": "display_data",
          "data": {
            "text/plain": [
              "<Figure size 640x480 with 1 Axes>"
            ],
            "image/png": "[encoded data removed]"
          },
          "metadata": {}
        },
        {
          "output_type": "stream",
          "name": "stdout",
          "text": [
            "[[142   0]\n",
            " [  0  59]]\n"
          ]
        }
      ]
    },
    {
      "cell_type": "code",
      "source": [
        "perTest2 = per2.predict(X_test2)\n",
        "\n",
        "x0_1 = np.amin(X_train2[:, 0])\n",
        "x0_2 = np.amax(X_train2[:, 0])\n",
        "\n",
        "x1_1 = np.amin(X_train2[:, 1])\n",
        "x1_2 = np.amax(X_train2[:, 1])\n",
        "\n",
        "x = [x0_1, x0_2]\n",
        "y = [x1_1, x1_2]\n",
        "\n",
        "# Пересчет коэффициентов разделяющей прямой для двух признаков\n",
        "slope = -per2.weights[0] / per2.weights[1]\n",
        "intercept = -per2.bias / per2.weights[1]\n",
        "\n",
        "# Вычисление точек для разделяющей прямой\n",
        "x_line = np.array([x0_1, x0_2])\n",
        "y_line = slope * x_line + intercept\n",
        "\n",
        "# Построение двумерного рассеянного графика\n",
        "plt.scatter(X_train2[:, 0], X_train2[:, 1], c=perTrain2, cmap='viridis')\n",
        "plt.xlabel('Feature 0')\n",
        "plt.ylabel('Feature 1')\n",
        "\n",
        "# Построение разделяющей прямой\n",
        "plt.plot(x_line, y_line, color='red')\n",
        "plt.show()\n",
        "\n",
        "# Матрица различий\n",
        "distinctions = confusion_matrix(y_test2, perTest2)\n",
        "print(distinctions)"
      ],
      "metadata": {
        "colab": {
          "base_uri": "https://localhost:8080/",
          "height": 485
        },
        "id": "gw5lvuFe8xGv",
        "outputId": "23e3a02e-2675-4c3c-f206-0ee5e86a960c"
      },
      "execution_count": 163,
      "outputs": [
        {
          "output_type": "display_data",
          "data": {
            "text/plain": [
              "<Figure size 640x480 with 1 Axes>"
            ],
            "image/png": "[encoded data removed]"
          },
          "metadata": {}
        },
        {
          "output_type": "stream",
          "name": "stdout",
          "text": [
            "[[158   0]\n",
            " [  0  41]]\n"
          ]
        }
      ]
    },
    {
      "cell_type": "markdown",
      "source": [
        "#Убираем 2й класс из обучающей выборки"
      ],
      "metadata": {
        "id": "MJzUhUV9GdxX"
      }
    },
    {
      "cell_type": "code",
      "source": [
        "#Убираем 2 класс из обучающей выборки\n",
        "indices_to_remove = np.where((y_train == 0) | (y_train == 1))\n",
        "X_train3 = np.delete(X_train, indices_to_remove, axis=0)\n",
        "y_train3 = np.delete(y_train, indices_to_remove, axis=0)\n",
        "print(len(y_train3))\n",
        "print(len(X_train3))\n",
        "print(y_train3)\n",
        "for _ in range(len(y_train3)):\n",
        "    if y_train3[_] == 2:\n",
        "        y_train3[_] = 1\n",
        "    else:\n",
        "        y_train3[_] = 0\n",
        "\n",
        "#убираем 2 класс из тестовой выборки\n",
        "indices_to_remove = np.where((y_test == 0) | (y_test == 1))\n",
        "X_test3 = np.delete(X_test, indices_to_remove, axis=0)\n",
        "y_test3 = np.delete(y_test, indices_to_remove, axis=0)\n",
        "\n",
        "print(len(y_train3))\n",
        "print(len(X_train3))\n",
        "\n",
        "for _ in range(len(y_test3)):\n",
        "    if y_test3[_] == 2:\n",
        "        y_test3[_] = 1\n",
        "    else:\n",
        "        y_test3[_] = 0\n",
        "print(y_train3)"
      ],
      "metadata": {
        "colab": {
          "base_uri": "https://localhost:8080/"
        },
        "id": "4-qzSL-68-m1",
        "outputId": "55f20543-ffea-4be2-d045-c7eb9b9fcc56"
      },
      "execution_count": 164,
      "outputs": [
        {
          "output_type": "stream",
          "name": "stdout",
          "text": [
            "142\n",
            "142\n",
            "[2 2 2 4 2 4 3 2 3 2 4 4 4 4 4 2 2 2 4 4 4 4 4 2 2 2 2 4 4 2 4 2 4 4 2 3 2\n",
            " 3 3 4 3 3 3 4 4 3 3 2 4 3 2 2 2 3 2 2 3 3 3 3 4 2 3 2 2 3 2 3 4 2 3 4 3 3\n",
            " 4 2 2 2 2 4 2 2 2 4 4 3 2 4 3 4 3 2 2 3 2 3 3 2 4 3 4 2 3 4 3 4 3 4 4 2 4\n",
            " 2 4 3 4 3 2 2 2 3 3 4 3 4 2 2 4 2 4 4 4 3 4 3 2 4 2 2 3 3 4 2]\n",
            "142\n",
            "142\n",
            "[1 1 1 0 1 0 0 1 0 1 0 0 0 0 0 1 1 1 0 0 0 0 0 1 1 1 1 0 0 1 0 1 0 0 1 0 1\n",
            " 0 0 0 0 0 0 0 0 0 0 1 0 0 1 1 1 0 1 1 0 0 0 0 0 1 0 1 1 0 1 0 0 1 0 0 0 0\n",
            " 0 1 1 1 1 0 1 1 1 0 0 0 1 0 0 0 0 1 1 0 1 0 0 1 0 0 0 1 0 0 0 0 0 0 0 1 0\n",
            " 1 0 0 0 0 1 1 1 0 0 0 0 0 1 1 0 1 0 0 0 0 0 0 1 0 1 1 0 0 0 1]\n"
          ]
        }
      ]
    },
    {
      "cell_type": "code",
      "source": [
        "per3 = Perceptron(n_iters=1000)\n",
        "\n",
        "per3.fit(X_train3, y_train3)\n",
        "perTrain3 = per3.predict(X_train3)\n",
        "\n",
        "x0_1 = np.amin(X_train3[:, 0])\n",
        "x0_2 = np.amax(X_train3[:, 0])\n",
        "\n",
        "x1_1 = np.amin(X_train3[:, 1])\n",
        "x1_2 = np.amax(X_train3[:, 1])\n",
        "\n",
        "x = [x0_1, x0_2]\n",
        "y = [x1_1, x1_2]\n",
        "\n",
        "# Пересчет коэффициентов разделяющей прямой для двух признаков\n",
        "slope = -per3.weights[0] / per3.weights[1]\n",
        "intercept = -per3.bias / per3.weights[1]\n",
        "\n",
        "# Вычисление точек для разделяющей прямой\n",
        "x_line = np.array([x0_1, x0_2])\n",
        "y_line = slope * x_line + intercept\n",
        "\n",
        "# Построение двумерного рассеянного графика\n",
        "plt.scatter(X_train3[:, 0], X_train3[:, 1], c=perTrain3, cmap='viridis')\n",
        "plt.xlabel('Feature 0')\n",
        "plt.ylabel('Feature 1')\n",
        "\n",
        "# Построение разделяющей прямой\n",
        "plt.plot(x_line, y_line, color='red')\n",
        "plt.show()\n",
        "\n",
        "# Матрица различий\n",
        "distinctions = confusion_matrix(y_train3, perTrain3)\n",
        "print(distinctions)\n"
      ],
      "metadata": {
        "colab": {
          "base_uri": "https://localhost:8080/",
          "height": 490
        },
        "id": "EO6y098r9FZ7",
        "outputId": "b7506178-a926-4f3b-c368-dec19e369d37"
      },
      "execution_count": 165,
      "outputs": [
        {
          "output_type": "display_data",
          "data": {
            "text/plain": [
              "<Figure size 640x480 with 1 Axes>"
            ],
            "image/png": "[encoded data removed]"
          },
          "metadata": {}
        },
        {
          "output_type": "stream",
          "name": "stdout",
          "text": [
            "[[89  0]\n",
            " [ 0 53]]\n"
          ]
        }
      ]
    },
    {
      "cell_type": "code",
      "source": [
        "perTest3 = per3.predict(X_test3)\n",
        "\n",
        "x0_1 = np.amin(X_train3[:, 0])\n",
        "x0_2 = np.amax(X_train3[:, 0])\n",
        "\n",
        "x1_1 = np.amin(X_train3[:, 1])\n",
        "x1_2 = np.amax(X_train3[:, 1])\n",
        "\n",
        "x = [x0_1, x0_2]\n",
        "y = [x1_1, x1_2]\n",
        "\n",
        "# Пересчет коэффициентов разделяющей прямой для двух признаков\n",
        "slope = -per3.weights[0] / per3.weights[1]\n",
        "intercept = -per3.bias / per3.weights[1]\n",
        "\n",
        "# Вычисление точек для разделяющей прямой\n",
        "x_line = np.array([x0_1, x0_2])\n",
        "y_line = slope * x_line + intercept\n",
        "\n",
        "# Построение двумерного рассеянного графика\n",
        "plt.scatter(X_train3[:, 0], X_train3[:, 1], c=perTrain3, cmap='viridis')\n",
        "plt.xlabel('Feature 0')\n",
        "plt.ylabel('Feature 1')\n",
        "\n",
        "# Построение разделяющей прямой\n",
        "plt.plot(x_line, y_line, color='red')\n",
        "plt.show()\n",
        "\n",
        "# Матрица различий\n",
        "distinctions = confusion_matrix(y_test3, perTest3)\n",
        "print(distinctions)"
      ],
      "metadata": {
        "colab": {
          "base_uri": "https://localhost:8080/",
          "height": 490
        },
        "id": "UGtuNk5L9RmJ",
        "outputId": "9bf78cd3-3b3e-4188-c795-3ffe82014b82"
      },
      "execution_count": 166,
      "outputs": [
        {
          "output_type": "display_data",
          "data": {
            "text/plain": [
              "<Figure size 640x480 with 1 Axes>"
            ],
            "image/png": "[encoded data removed]"
          },
          "metadata": {}
        },
        {
          "output_type": "stream",
          "name": "stdout",
          "text": [
            "[[111   0]\n",
            " [  0  47]]\n"
          ]
        }
      ]
    },
    {
      "cell_type": "markdown",
      "source": [
        "#Убираем 3й класс из обучающей выборки"
      ],
      "metadata": {
        "id": "XziR2iZdGaWl"
      }
    },
    {
      "cell_type": "code",
      "source": [
        "#Убираем 3 класс из обучающей выборки\n",
        "indices_to_remove = np.where((y_train == 0) | (y_train == 1))\n",
        "X_train4 = np.delete(X_train, indices_to_remove, axis=0)\n",
        "y_train4 = np.delete(y_train, indices_to_remove, axis=0)\n",
        "print(len(y_train4))\n",
        "print(len(X_train4))\n",
        "print(y_train4)\n",
        "for _ in range(len(y_train4)):\n",
        "    if y_train3[_] == 2:\n",
        "        y_train3[_] = 1\n",
        "    else:\n",
        "        y_train3[_] = 0\n",
        "\n",
        "#убираем 2 класс из тестовой выборки\n",
        "indices_to_remove = np.where((y_test == 0) | (y_test == 1))\n",
        "X_test4 = np.delete(X_test, indices_to_remove, axis=0)\n",
        "y_test4 = np.delete(y_test, indices_to_remove, axis=0)\n",
        "\n",
        "print(len(y_train4))\n",
        "print(len(X_train4))\n",
        "\n",
        "for _ in range(len(y_test4)):\n",
        "    if y_test4[_] == 2:\n",
        "        y_test4[_] = 1\n",
        "    else:\n",
        "        y_test4[_] = 0\n",
        "print(y_train4)"
      ],
      "metadata": {
        "colab": {
          "base_uri": "https://localhost:8080/"
        },
        "id": "Dhe9SVS2EtAn",
        "outputId": "317baf62-ee5f-45c9-8f56-2ab627893f7b"
      },
      "execution_count": 167,
      "outputs": [
        {
          "output_type": "stream",
          "name": "stdout",
          "text": [
            "142\n",
            "142\n",
            "[2 2 2 4 2 4 3 2 3 2 4 4 4 4 4 2 2 2 4 4 4 4 4 2 2 2 2 4 4 2 4 2 4 4 2 3 2\n",
            " 3 3 4 3 3 3 4 4 3 3 2 4 3 2 2 2 3 2 2 3 3 3 3 4 2 3 2 2 3 2 3 4 2 3 4 3 3\n",
            " 4 2 2 2 2 4 2 2 2 4 4 3 2 4 3 4 3 2 2 3 2 3 3 2 4 3 4 2 3 4 3 4 3 4 4 2 4\n",
            " 2 4 3 4 3 2 2 2 3 3 4 3 4 2 2 4 2 4 4 4 3 4 3 2 4 2 2 3 3 4 2]\n",
            "142\n",
            "142\n",
            "[2 2 2 4 2 4 3 2 3 2 4 4 4 4 4 2 2 2 4 4 4 4 4 2 2 2 2 4 4 2 4 2 4 4 2 3 2\n",
            " 3 3 4 3 3 3 4 4 3 3 2 4 3 2 2 2 3 2 2 3 3 3 3 4 2 3 2 2 3 2 3 4 2 3 4 3 3\n",
            " 4 2 2 2 2 4 2 2 2 4 4 3 2 4 3 4 3 2 2 3 2 3 3 2 4 3 4 2 3 4 3 4 3 4 4 2 4\n",
            " 2 4 3 4 3 2 2 2 3 3 4 3 4 2 2 4 2 4 4 4 3 4 3 2 4 2 2 3 3 4 2]\n"
          ]
        }
      ]
    },
    {
      "cell_type": "code",
      "source": [
        "per4 = Perceptron(n_iters=1000)\n",
        "\n",
        "per4.fit(X_train4, y_train4)\n",
        "perTrain4 = per4.predict(X_train4)\n",
        "\n",
        "x0_1 = np.amin(X_train4[:, 0])\n",
        "x0_2 = np.amax(X_train4[:, 0])\n",
        "\n",
        "x1_1 = np.amin(X_train4[:, 1])\n",
        "x1_2 = np.amax(X_train4[:, 1])\n",
        "\n",
        "x = [x0_1, x0_2]\n",
        "y = [x1_1, x1_2]\n",
        "\n",
        "# Пересчет коэффициентов разделяющей прямой для двух признаков\n",
        "slope = -per4.weights[0] / per4.weights[1]\n",
        "intercept = -per4.bias / per4.weights[1]\n",
        "\n",
        "# Вычисление точек для разделяющей прямой\n",
        "x_line = np.array([x0_1, x0_2])\n",
        "y_line = slope * x_line + intercept\n",
        "\n",
        "# Построение двумерного рассеянного графика\n",
        "plt.scatter(X_train4[:, 0], X_train4[:, 1], c=perTrain4, cmap='viridis')\n",
        "plt.xlabel('Feature 0')\n",
        "plt.ylabel('Feature 1')\n",
        "\n",
        "# Построение разделяющей прямой\n",
        "plt.plot(x_line, y_line, color='red')\n",
        "plt.show()\n",
        "\n",
        "# Матрица различий\n",
        "distinctions = confusion_matrix(y_train4, perTrain4)\n",
        "print(distinctions)"
      ],
      "metadata": {
        "colab": {
          "base_uri": "https://localhost:8080/",
          "height": 523
        },
        "id": "iBi3QTqOE787",
        "outputId": "1e2b860d-e3f6-4485-e784-091604e059b7"
      },
      "execution_count": 168,
      "outputs": [
        {
          "output_type": "display_data",
          "data": {
            "text/plain": [
              "<Figure size 640x480 with 1 Axes>"
            ],
            "image/png": "[encoded data removed]"
          },
          "metadata": {}
        },
        {
          "output_type": "stream",
          "name": "stdout",
          "text": [
            "[[ 0  0  0  0]\n",
            " [53  0  0  0]\n",
            " [41  0  0  0]\n",
            " [48  0  0  0]]\n"
          ]
        }
      ]
    },
    {
      "cell_type": "code",
      "source": [
        "perTest4 = per4.predict(X_test4)\n",
        "\n",
        "x0_1 = np.amin(X_train4[:, 0])\n",
        "x0_2 = np.amax(X_train4[:, 0])\n",
        "\n",
        "x1_1 = np.amin(X_train4[:, 1])\n",
        "x1_2 = np.amax(X_train4[:, 1])\n",
        "\n",
        "x = [x0_1, x0_2]\n",
        "y = [x1_1, x1_2]\n",
        "\n",
        "# Пересчет коэффициентов разделяющей прямой для двух признаков\n",
        "slope = -per4.weights[0] / per4.weights[1]\n",
        "intercept = -per4.bias / per4.weights[1]\n",
        "\n",
        "# Вычисление точек для разделяющей прямой\n",
        "x_line = np.array([x0_1, x0_2])\n",
        "y_line = slope * x_line + intercept\n",
        "\n",
        "# Построение двумерного рассеянного графика\n",
        "plt.scatter(X_train4[:, 0], X_train4[:, 1], c=perTrain4, cmap='viridis')\n",
        "plt.xlabel('Feature 0')\n",
        "plt.ylabel('Feature 1')\n",
        "\n",
        "# Построение разделяющей прямой\n",
        "plt.plot(x_line, y_line, color='red')\n",
        "plt.show()\n",
        "\n",
        "# Матрица различий\n",
        "distinctions = confusion_matrix(y_test4, perTest4)\n",
        "print(distinctions)"
      ],
      "metadata": {
        "colab": {
          "base_uri": "https://localhost:8080/",
          "height": 487
        },
        "id": "HYvN38g7F_fL",
        "outputId": "2b79a6e2-9471-48ea-ff06-3e9c46a845ce"
      },
      "execution_count": 169,
      "outputs": [
        {
          "output_type": "display_data",
          "data": {
            "text/plain": [
              "<Figure size 640x480 with 1 Axes>"
            ],
            "image/png": "[encoded data removed]"
          },
          "metadata": {}
        },
        {
          "output_type": "stream",
          "name": "stdout",
          "text": [
            "[[  0 111]\n",
            " [  0  47]]\n"
          ]
        }
      ]
    }
  ],
  "metadata": {
    "colab": {
      "provenance": [],
      "mount_file_id": "1g4kRP-9lLFRwx7O_hionyhGmCFn6ZIOl",
      "authorship_tag": "ABX9TyNKTofHLWkVJ6FxNnaMR3oa",
      "include_colab_link": true
    },
    "kernelspec": {
      "display_name": "Python 3",
      "name": "python3"
    },
    "language_info": {
      "name": "python"
    }
  },
  "nbformat": 4,
  "nbformat_minor": 0
}