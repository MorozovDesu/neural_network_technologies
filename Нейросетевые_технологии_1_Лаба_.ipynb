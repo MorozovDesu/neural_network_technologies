{
  "nbformat": 4,
  "nbformat_minor": 0,
  "metadata": {
    "colab": {
      "provenance": [],
      "mount_file_id": "1g4kRP-9lLFRwx7O_hionyhGmCFn6ZIOl",
      "authorship_tag": "ABX9TyP+/2FfXYfRCINUo7C5tQrs",
      "include_colab_link": true
    },
    "kernelspec": {
      "name": "python3",
      "display_name": "Python 3"
    },
    "language_info": {
      "name": "python"
    }
  },
  "cells": [
    {
      "cell_type": "markdown",
      "metadata": {
        "id": "view-in-github",
        "colab_type": "text"
      },
      "source": [
        "<a href=\"https://colab.research.google.com/github/MorozovDesu/neural_network_technologies/blob/main/%D0%9D%D0%B5%D0%B9%D1%80%D0%BE%D1%81%D0%B5%D1%82%D0%B5%D0%B2%D1%8B%D0%B5_%D1%82%D0%B5%D1%85%D0%BD%D0%BE%D0%BB%D0%BE%D0%B3%D0%B8%D0%B8_1_%D0%9B%D0%B0%D0%B1%D0%B0_.ipynb\" target=\"_parent\"><img src=\"https://colab.research.google.com/assets/colab-badge.svg\" alt=\"Open In Colab\"/></a>"
      ]
    },
    {
      "cell_type": "code",
      "source": [
        "import numpy as np\n",
        "from sklearn.preprocessing import MinMaxScaler\n",
        "import matplotlib.pyplot as plt\n",
        "from sklearn.linear_model import Perceptron\n",
        "from sklearn.metrics import accuracy_score"
      ],
      "metadata": {
        "id": "v5KSzP9VAuIy"
      },
      "execution_count": null,
      "outputs": []
    },
    {
      "cell_type": "code",
      "source": [
        "# Функция для генерации случайных чисел с гипергеометрическим распределением\n",
        "def generate_hypergeometric_matrix(M, P, population_size, success_population_size, sample_size):\n",
        "    random_numbers = np.random.hypergeometric(success_population_size, population_size - success_population_size, sample_size, size=(M, P))\n",
        "    return random_numbers\n",
        "\n",
        "# Параметры гипергеометрического распределения\n",
        "population_size = 1000         # Общий размер популяции\n",
        "success_population_size = 300  # Размер подмножества с успехами в популяции\n",
        "sample_size = 50               # Размер выборки\n",
        "\n",
        "M = 100  # Количество строк (наблюдений)\n",
        "P = 3    # Количество столбцов (признаков)\n",
        "N = 5    # Количество классов\n",
        "\n",
        "# Генерируем матрицу\n",
        "random_matrix = generate_hypergeometric_matrix(M, P, population_size, success_population_size, sample_size)\n",
        "\n",
        "# Создаем массив с метками классов\n",
        "class_labels = np.random.randint(0, N, size=M)\n",
        "\n",
        "# Функция для добавления добавки к числам в зависимости от класса и нормализации\n",
        "def add_noise_and_normalize(data_matrix, class_labels):\n",
        "    modified_matrix = data_matrix.astype(float)              # Преобразуем матрицу к вещественному типу\n",
        "    for i in range(M):\n",
        "        noise = np.random.uniform(-0.5, 0.5, P)              # Генерируем случайный шум для каждой строки\n",
        "        modified_matrix[i] += noise * (class_labels[i] + 1)  # Модифицируем данные в соответствии с классом\n",
        "        # Нормализуем данные к диапазону от 0 до 1\n",
        "        modified_matrix[i] = (modified_matrix[i] - modified_matrix[i].min()) / (modified_matrix[i].max() - modified_matrix[i].min())\n",
        "        # Убеждаемся, что все значения признаков находятся в диапазоне [0, 1]\n",
        "        modified_matrix[i] = np.clip(modified_matrix[i], 0, 1)\n",
        "    # Добавляем классификационный признак\n",
        "    classification_feature = np.array(class_labels).reshape((M, 1))\n",
        "    modified_matrix = np.concatenate((modified_matrix, classification_feature), axis=1)\n",
        "\n",
        "    return modified_matrix\n",
        "\n",
        "# Применяем функцию для добавления добавки и нормализации\n",
        "modified_matrix = add_noise_and_normalize(random_matrix, class_labels)\n",
        "\n",
        "# Выводим матрицу\n",
        "print(modified_matrix)"
      ],
      "metadata": {
        "colab": {
          "base_uri": "https://localhost:8080/"
        },
        "id": "I-vIR5nzyGQr",
        "outputId": "304ae56a-65c2-4dc2-d07f-f6e681efbc95"
      },
      "execution_count": null,
      "outputs": [
        {
          "output_type": "stream",
          "name": "stdout",
          "text": [
            "[[0.         1.         0.85238328 1.        ]\n",
            " [1.         0.72522426 0.         2.        ]\n",
            " [0.         0.4945577  1.         1.        ]\n",
            " [0.         1.         0.05784098 0.        ]\n",
            " [0.27789843 0.         1.         1.        ]\n",
            " [0.         1.         0.54440117 1.        ]\n",
            " [1.         0.         0.07875698 4.        ]\n",
            " [1.         0.88674496 0.         2.        ]\n",
            " [0.         1.         0.28113731 1.        ]\n",
            " [1.         0.65670668 0.         0.        ]\n",
            " [0.19038859 1.         0.         2.        ]\n",
            " [1.         0.         0.98717809 4.        ]\n",
            " [0.01190307 0.         1.         1.        ]\n",
            " [0.         0.27773913 1.         2.        ]\n",
            " [1.         0.         0.70448694 0.        ]\n",
            " [0.         0.68687883 1.         4.        ]\n",
            " [1.         0.14822144 0.         1.        ]\n",
            " [0.87898983 1.         0.         3.        ]\n",
            " [1.         0.67337242 0.         0.        ]\n",
            " [1.         0.         0.68233902 3.        ]\n",
            " [0.         0.37920014 1.         1.        ]\n",
            " [1.         0.60153048 0.         3.        ]\n",
            " [0.         0.51509575 1.         3.        ]\n",
            " [0.         1.         0.63007823 4.        ]\n",
            " [1.         0.07216698 0.         0.        ]\n",
            " [1.         0.         0.31912326 4.        ]\n",
            " [1.         0.         0.36666456 2.        ]\n",
            " [0.         0.70687613 1.         1.        ]\n",
            " [1.         0.         0.52366099 2.        ]\n",
            " [0.18656904 1.         0.         2.        ]\n",
            " [0.87546521 1.         0.         1.        ]\n",
            " [0.         0.38989301 1.         4.        ]\n",
            " [0.         1.         0.94964666 4.        ]\n",
            " [0.         1.         0.70381444 3.        ]\n",
            " [1.         0.         0.84354292 0.        ]\n",
            " [1.         0.         0.63619608 1.        ]\n",
            " [0.59770159 1.         0.         1.        ]\n",
            " [1.         0.30485055 0.         4.        ]\n",
            " [0.         0.59922009 1.         3.        ]\n",
            " [1.         0.14878877 0.         3.        ]\n",
            " [0.10712637 1.         0.         2.        ]\n",
            " [0.76566435 1.         0.         0.        ]\n",
            " [0.97055126 0.         1.         3.        ]\n",
            " [0.00622174 1.         0.         3.        ]\n",
            " [0.         1.         0.46962646 2.        ]\n",
            " [0.26489646 1.         0.         3.        ]\n",
            " [0.8028364  0.         1.         1.        ]\n",
            " [0.         1.         0.8557279  2.        ]\n",
            " [0.         1.         0.62542752 3.        ]\n",
            " [0.         1.         0.57290878 1.        ]\n",
            " [1.         0.         0.66626848 4.        ]\n",
            " [1.         0.         0.24108865 4.        ]\n",
            " [0.34302625 1.         0.         1.        ]\n",
            " [0.         1.         0.35663632 0.        ]\n",
            " [0.87522251 1.         0.         2.        ]\n",
            " [0.         1.         0.8547197  0.        ]\n",
            " [0.         1.         0.98902485 3.        ]\n",
            " [1.         0.         0.63599786 4.        ]\n",
            " [0.85122664 1.         0.         2.        ]\n",
            " [0.         0.35423872 1.         0.        ]\n",
            " [1.         0.54437564 0.         2.        ]\n",
            " [0.         1.         0.73331071 3.        ]\n",
            " [0.49506277 1.         0.         1.        ]\n",
            " [0.03121542 1.         0.         0.        ]\n",
            " [0.         0.58430809 1.         1.        ]\n",
            " [0.         1.         0.56753247 0.        ]\n",
            " [1.         0.         0.72066001 3.        ]\n",
            " [0.72051544 1.         0.         2.        ]\n",
            " [0.84000881 1.         0.         3.        ]\n",
            " [1.         0.         0.93590995 3.        ]\n",
            " [1.         0.83755898 0.         2.        ]\n",
            " [0.         0.26639411 1.         4.        ]\n",
            " [0.         1.         0.89033126 0.        ]\n",
            " [0.         0.56302941 1.         2.        ]\n",
            " [0.         0.15087446 1.         2.        ]\n",
            " [1.         0.51622594 0.         0.        ]\n",
            " [0.06308977 0.         1.         0.        ]\n",
            " [0.84854432 0.         1.         1.        ]\n",
            " [0.         1.         0.45248689 2.        ]\n",
            " [0.         1.         0.84774135 0.        ]\n",
            " [0.         1.         0.71244337 3.        ]\n",
            " [0.73944785 0.         1.         4.        ]\n",
            " [1.         0.60851546 0.         2.        ]\n",
            " [0.93182324 0.         1.         3.        ]\n",
            " [0.21069705 0.         1.         1.        ]\n",
            " [0.134966   0.         1.         2.        ]\n",
            " [1.         0.55419822 0.         2.        ]\n",
            " [0.74993733 1.         0.         2.        ]\n",
            " [1.         0.79460341 0.         0.        ]\n",
            " [1.         0.         0.67345566 3.        ]\n",
            " [1.         0.         0.64243555 0.        ]\n",
            " [0.         0.96271487 1.         1.        ]\n",
            " [1.         0.         0.09801651 4.        ]\n",
            " [0.         1.         0.96776591 1.        ]\n",
            " [0.11002563 0.         1.         1.        ]\n",
            " [0.73635236 1.         0.         2.        ]\n",
            " [1.         0.49482172 0.         3.        ]\n",
            " [0.         1.         0.34143082 3.        ]\n",
            " [0.72309397 0.         1.         2.        ]\n",
            " [0.97273458 0.         1.         0.        ]]\n"
          ]
        }
      ]
    },
    {
      "cell_type": "code",
      "source": [
        "from sklearn.model_selection import train_test_split\n",
        "\n",
        "# Разделяем данные на обучающую и тестовую выборки\n",
        "X_train, X_test, y_train, y_test = train_test_split(modified_matrix[:, :-1], modified_matrix[:, -1], test_size=0.2, random_state=42)\n",
        "\n",
        "# X_train содержит признаки для обучения модели\n",
        "# X_test содержит признаки для тестирования модели\n",
        "# y_train содержит метки классов для обучения модели\n",
        "# y_test содержит метки классов для тестирования модели"
      ],
      "metadata": {
        "id": "N8qce_4Z5fOZ"
      },
      "execution_count": null,
      "outputs": []
    },
    {
      "cell_type": "code",
      "source": [
        "# Создаем перцептрон\n",
        "perceptron = Perceptron()\n",
        "\n",
        "# Обучаем перцептрон\n",
        "perceptron.fit(X_train, y_train)\n",
        "\n",
        "# Предсказываем метки классов для обучающей выборки\n",
        "train_predictions = perceptron.predict(X_train)\n",
        "\n",
        "# Предсказываем метки классов для тестовой выборки\n",
        "test_predictions = perceptron.predict(X_test)\n",
        "\n",
        "# Вычисляем процент правильно классифицированных объектов 1 класса\n",
        "class_1_accuracy = accuracy_score(y_train, train_predictions)\n",
        "\n",
        "# Вычисляем процент правильно классифицированных объектов 2 класса\n",
        "class_2_accuracy = accuracy_score(y_test, test_predictions)"
      ],
      "metadata": {
        "id": "w8Y4FCCl6kVv"
      },
      "execution_count": null,
      "outputs": []
    },
    {
      "cell_type": "code",
      "source": [
        "# Создаем сетку точек для графика разделяющей поверхности\n",
        "x_min, x_max = X_train[:, 0].min() - 1, X_train[:, 0].max() + 1\n",
        "y_min, y_max = X_train[:, 1].min() - 1, X_train[:, 1].max() + 1\n",
        "xx, yy = np.meshgrid(np.arange(x_min, x_max, 0.1), np.arange(y_min, y_max, 0.1))\n",
        "\n",
        "# Добавляем третий признак (константный) к данным\n",
        "X_with_bias = np.c_[X_train, np.ones(X_train.shape[0])]\n",
        "\n",
        "# Предсказываем метки классов для всех точек на сетке\n",
        "Z = perceptron.predict(np.c_[xx.ravel(), yy.ravel(), np.ones(xx.ravel().shape[0])])\n",
        "Z = Z.reshape(xx.shape)\n",
        "\n",
        "# Рисуем график разделяющей поверхности\n",
        "plt.contourf(xx, yy, Z, alpha=0.8)\n",
        "\n",
        "# Рисуем точки обучающей выборки\n",
        "plt.scatter(X_train[:, 0], X_train[:, 1], c=y_train, marker='o', edgecolor='white')\n",
        "\n",
        "# Рисуем точки тестовой выборки\n",
        "plt.scatter(X_test[:, 0], X_test[:, 1], c=y_test, marker='s', edgecolor='black')"
      ],
      "metadata": {
        "colab": {
          "base_uri": "https://localhost:8080/",
          "height": 447
        },
        "id": "rpgWEIfv6r0e",
        "outputId": "44004762-f741-4269-ad21-11ccf9fcf524"
      },
      "execution_count": null,
      "outputs": [
        {
          "output_type": "execute_result",
          "data": {
            "text/plain": [
              "<matplotlib.collections.PathCollection at 0x7b206f03e920>"
            ]
          },
          "metadata": {},
          "execution_count": 28
        },
        {
          "output_type": "display_data",
          "data": {
            "text/plain": [
              "<Figure size 640x480 with 1 Axes>"
            ],
            "image/png": "[encoded data removed]"
          },
          "metadata": {}
        }
      ]
    }
  ]
}